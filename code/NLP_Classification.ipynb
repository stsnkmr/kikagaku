{
 "cells": [
  {
   "cell_type": "markdown",
   "metadata": {},
   "source": [
    "# 文書分類"
   ]
  },
  {
   "cell_type": "markdown",
   "metadata": {},
   "source": [
    "## データセットの読み込み"
   ]
  },
  {
   "cell_type": "code",
   "execution_count": 1,
   "metadata": {},
   "outputs": [],
   "source": [
    "from glob import glob"
   ]
  },
  {
   "cell_type": "code",
   "execution_count": 2,
   "metadata": {},
   "outputs": [],
   "source": [
    "import pandas as pd"
   ]
  },
  {
   "cell_type": "code",
   "execution_count": 3,
   "metadata": {},
   "outputs": [
    {
     "data": {
      "text/plain": [
       "['text/peachy',\n",
       " 'text/topic-news',\n",
       " 'text/sports-watch',\n",
       " 'text/it-life-hack',\n",
       " 'text/smax',\n",
       " 'text/livedoor-homme',\n",
       " 'text/movie-enter',\n",
       " 'text/kaden-channel']"
      ]
     },
     "execution_count": 3,
     "metadata": {},
     "output_type": "execute_result"
    }
   ],
   "source": [
    "directories = glob('text/*')\n",
    "directories"
   ]
  },
  {
   "cell_type": "code",
   "execution_count": 4,
   "metadata": {},
   "outputs": [
    {
     "name": "stdout",
     "output_type": "stream",
     "text": [
      "0\n",
      "text/peachy\n",
      "----------\n",
      "1\n",
      "text/topic-news\n",
      "----------\n",
      "2\n",
      "text/sports-watch\n",
      "----------\n",
      "3\n",
      "text/it-life-hack\n",
      "----------\n",
      "4\n",
      "text/smax\n",
      "----------\n",
      "5\n",
      "text/livedoor-homme\n",
      "----------\n",
      "6\n",
      "text/movie-enter\n",
      "----------\n",
      "7\n",
      "text/kaden-channel\n",
      "----------\n"
     ]
    }
   ],
   "source": [
    "for(i, directory) in enumerate(directories): #enumerate()各要素に連番を振る\n",
    "    print(i)\n",
    "    print(directory)\n",
    "    print('----------')"
   ]
  },
  {
   "cell_type": "code",
   "execution_count": 5,
   "metadata": {},
   "outputs": [],
   "source": [
    "texts, labels = [], []\n",
    "for (i, directory) in enumerate(directories):\n",
    "    #各ディレクトリ内のtxtファイルのパスをすべて取得\n",
    "    filepaths = glob('{}/*.txt'.format(directory))\n",
    "    # テキストを読み込んで、内容をtextに格納、ラベルも併せて格納\n",
    "    for filepath in filepaths:\n",
    "        with open(filepath, encoding='utf-8') as f:#with open ：どうやって開くか\n",
    "            text = ''.join(f.readlines()[2:])  # URL等の先頭２行を除いた各行の文章を連結（join）して格納\n",
    "            texts.append(text)\n",
    "            labels.append(i)"
   ]
  },
  {
   "cell_type": "code",
   "execution_count": 6,
   "metadata": {},
   "outputs": [
    {
     "data": {
      "text/plain": [
       "'実は転活中の女子は多い？！\\u3000会社が求めるビジネススキルを身につけるには？\\n\\u3000総務省の労働力調査では働く女性の約10人に1人が転職を希望しているそうです。確かに、女性のキャリアって、考えれば考えるほど難しいですよね。仕事は続けたいけど、結婚や家庭にだって手を抜きたくない。だからこそ、長期のブランクにもなんら影響はないと自ら自信を持っていえるだけのスキルがあれば——、なんて思ったこと、ありませんか？\\n\\n\\u3000今回はそんな“仕事もプライベートも充実させるためのスキルアップ“を目指す女性が集まるビジネススクールに、お邪魔してきました。このビジネススクールは、沢山の人気講師が集まっているんです。「面接の達人」著者である中谷彰宏先生を始めとして、脳科学の研究をしている黒川伊保子先生など有名な方ばかり。そんな講師陣が自身の経験を踏まえたノウハウを分かりやすく解説してくれます。\\n\\n○講師陣はスクールより有名？\\n\\u3000今回、参加したのは「大前研一のアタッカーズビジネススクール」で開講している「ビジネスモデル創造講座」。講師は、コンサルタント業界では有名な末吉孝生先生です。末吉先生は15年にわたり大手電機メーカー、住宅メーカー、アパレルメーカー等でマーケティング戦略の立案・実行や戦略プロジェクトチームを支援し、広告ベンチャー、ITベンチャー、コンサルティングファーム等の取締役を経て、現在はコンサルティング会社を経営しています。\\n\\n○遊園地で遊んで学ぶ!？\\n\\u3000講座の冒頭では、何を、何のために学ぶのかを明確にしていきます。今日は人気遊園地のマニュアルから、その人気の秘密を探っていきます。遊園地の接客マニュアルは非現実的な空間を作る上でとても大切で、そうして作り上げた空間が大きな利益を生むという理論を説明して頂きました。\\n\\n\\u3000この不景気でも売上げを伸ばしている遊園地の接客マニュアルを分析して “ビジネスを設計する力（ビジネスモデリング）”を養います。実はこれ、企業が事業成長をさせるために必要なスキルなんだそうです。\\n\\u3000\\n\\u3000末吉先生は「遊園地における接客というサービスには形がありませんよね。でも顧客がいかに感動を生むか、という顧客心理を捕らえたマニュアルは非現実的な空間を作る上でとても大切で、そうして作り上げた空間こそが大きな利益を生むことになります。さらに上質なマニュアルは経営者の考えを従業員に浸透させ、モチベーションを高めることができるのです」という理論を講義されていました。\\n\\n\\n講座に参加している受講生の皆さんは、思い思いに意見を発表していきます。先生もその意見に耳を傾け、考え方を整理し、フォローしてくれます。中には実際に遊園地に行って、その感想を発表している生徒さんもいらっしゃいました。\\n\\n○仲間も増えるビジネススクール\\n講座はグループワークが中心で、自然と受講生同士に交流が生まれます。たまたま同じグループだった前田るみ子さんは、見た目は気さくなお姉さんといった感じなのに、聞けばすでに起業をしているとのことでした。\\n\\nさっそく講座の合間に、前田さんに少しお話を伺ってみました。\\n\\n\\n\\n\\n\\n\\n\\n\\n\\n受講生の前田るみ子さん\\n——なぜ起業したのでしょうか？\\n「実は大学卒業後、会社勤めをしていたんですけど、満員電車とか会社勤めが合わなくて6ヶ月で辞めてしまいました。その後、食べることが好きだったのでパン職人を目指したのですが、それはそれで身体がきつくて。で、起業することにしたんですよ。」\\n\\n\\n——結構、気軽に起業したんですね。どのような会社なのですか？\\n「ルイボスティーのネット販売事業ですね。ルイボスティー自体は子供の時から両親に飲まされてきました。そのおかげで健康に育ちましたから、これならお客様にも胸を張ってお勧めできると思いました。たまたま輸入会社にも知り合いがいましたし、比較的スムーズに起業した感じかな」\\n\\n\\n——でも企業経営って大変じゃないですか？\\n「まあ、忙しいといえば忙しいですね。でも今は従業員が2人いますから、長期の海外旅行にも行けるようになりました。それに繁忙期や休日、勤務時間は自分で設定できますからプライベートな時間はけっこう自由に確保できます。ちなみに今日も午後は早めに終わらせて、カフェでおやつと読書をこなしてからここに来ています(笑)。今にして思えば、会社員の時よりもはるかに安定しているような気がしますね。」\\n\\n\\n——経営は上手く言っているようですが、なぜビジネススクールに入ったのですか？\\n「ビジネススクールに入ったのは、私自身が経営のことをほとんど知らないまま起業をしてしまったんですね。でも将来のことを考えると、会社である以上は利益を出して存続させたいですし、将来は実店舗を持ちたいという夢もできましたから、そのためにビジネススキルを磨こうかなと思ったんです」\\n\\n○自分への投資は必要\\n\\u3000今回知り合いになった受講生の方々のお話を聞いていると、やはり自分への投資は大切なのかと思うようになりました。出世したい、バリバリ働きたいというのが目的ではなく、むしろ仕事をずっと続けていたい、やりたい仕事に就きたい、プライベートを大切にしたい、そんな希望を持っている人にこそ、ビジネススキルが必要なのかもしれません。\\n\\n\\u3000起業や社内新規事業に特化した企業コースや、マーケティング力やビジョン構築力スキルを身につけるスキルアップコースがあり、自分の目指す道でコースを選択する事ができます。今こそ、どこの会社でも必要とされる特別な社員を目指して、一歩を踏み出してみませんか？\\n\\n今回のお試しモノ…\\nビジネスモデル創造講座はこちら\\n\\n・大前研一のアタッカーズ・ビジネススクール\\n・ルイボスティー専門店 RTRoom-受講生の前田るみ子さんのお店\\n■ お試し隊が行く！一覧へ\\n'"
      ]
     },
     "execution_count": 6,
     "metadata": {},
     "output_type": "execute_result"
    }
   ],
   "source": [
    "texts[0]"
   ]
  },
  {
   "cell_type": "code",
   "execution_count": 7,
   "metadata": {},
   "outputs": [
    {
     "data": {
      "text/plain": [
       "0"
      ]
     },
     "execution_count": 7,
     "metadata": {},
     "output_type": "execute_result"
    }
   ],
   "source": [
    "labels[0]"
   ]
  },
  {
   "cell_type": "markdown",
   "metadata": {},
   "source": [
    "## 形態素解析 & 名詞の抽出"
   ]
  },
  {
   "cell_type": "code",
   "execution_count": 8,
   "metadata": {},
   "outputs": [],
   "source": [
    "import MeCab\n",
    "mecab = MeCab.Tagger('-Ochasen') # 分かち書き"
   ]
  },
  {
   "cell_type": "code",
   "execution_count": null,
   "metadata": {},
   "outputs": [],
   "source": []
  },
  {
   "cell_type": "code",
   "execution_count": null,
   "metadata": {},
   "outputs": [],
   "source": []
  },
  {
   "cell_type": "code",
   "execution_count": 9,
   "metadata": {},
   "outputs": [],
   "source": [
    "def get_nouns(text):\n",
    "    nouns = []\n",
    "    res = mecab.parse(text)\n",
    "    words = res.split('\\n')[:-2] #EOFと\\nを取り除き\\nのあるところで改行されたリストを作る.\n",
    "    for word in words:\n",
    "        part = word.split('\\t')\n",
    "        if '名詞' in part[3]:\n",
    "            nouns.append(part[0])\n",
    "    return nouns"
   ]
  },
  {
   "cell_type": "code",
   "execution_count": 10,
   "metadata": {},
   "outputs": [],
   "source": [
    "word_collect=[]\n",
    "for text in texts:\n",
    "    nouns = get_nouns(text)\n",
    "    word_collect.append(nouns)"
   ]
  },
  {
   "cell_type": "code",
   "execution_count": 11,
   "metadata": {},
   "outputs": [],
   "source": [
    "from gensim import corpora, matutils"
   ]
  },
  {
   "cell_type": "code",
   "execution_count": 12,
   "metadata": {},
   "outputs": [],
   "source": [
    "dictionary = corpora.Dictionary(word_collect)"
   ]
  },
  {
   "cell_type": "code",
   "execution_count": 13,
   "metadata": {},
   "outputs": [
    {
     "data": {
      "text/plain": [
       "81051"
      ]
     },
     "execution_count": 13,
     "metadata": {},
     "output_type": "execute_result"
    }
   ],
   "source": [
    "len(dictionary)"
   ]
  },
  {
   "cell_type": "code",
   "execution_count": 14,
   "metadata": {},
   "outputs": [],
   "source": [
    "#出現頻度の低い単語を削除\n",
    "dictionary.filter_extremes(no_below=20)"
   ]
  },
  {
   "cell_type": "code",
   "execution_count": 15,
   "metadata": {},
   "outputs": [
    {
     "data": {
      "text/plain": [
       "6697"
      ]
     },
     "execution_count": 15,
     "metadata": {},
     "output_type": "execute_result"
    }
   ],
   "source": [
    "len(dictionary)"
   ]
  },
  {
   "cell_type": "code",
   "execution_count": 16,
   "metadata": {},
   "outputs": [],
   "source": [
    "n_words = len(dictionary)"
   ]
  },
  {
   "cell_type": "code",
   "execution_count": 17,
   "metadata": {},
   "outputs": [],
   "source": [
    "#Bowによるベクトル作成\n",
    "x = []\n",
    "for nouns in word_collect:\n",
    "    bow_id = dictionary.doc2bow(nouns)\n",
    "    bow = matutils.corpus2dense([bow_id], n_words).T[0] #bow_id全単語 入力変数は揃える\n",
    "    x.append(bow)"
   ]
  },
  {
   "cell_type": "markdown",
   "metadata": {},
   "source": [
    "## データの前処理,モデルの構築、モデルの学習と可視化"
   ]
  },
  {
   "cell_type": "code",
   "execution_count": 18,
   "metadata": {},
   "outputs": [],
   "source": [
    "import numpy as np"
   ]
  },
  {
   "cell_type": "code",
   "execution_count": 19,
   "metadata": {},
   "outputs": [],
   "source": [
    "x = np.array(x)\n",
    "t = np.array(labels)"
   ]
  },
  {
   "cell_type": "code",
   "execution_count": 20,
   "metadata": {},
   "outputs": [
    {
     "data": {
      "text/plain": [
       "(6505, 6697)"
      ]
     },
     "execution_count": 20,
     "metadata": {},
     "output_type": "execute_result"
    }
   ],
   "source": [
    "x.shape"
   ]
  },
  {
   "cell_type": "code",
   "execution_count": 21,
   "metadata": {},
   "outputs": [
    {
     "data": {
      "text/plain": [
       "(6505,)"
      ]
     },
     "execution_count": 21,
     "metadata": {},
     "output_type": "execute_result"
    }
   ],
   "source": [
    "t.shape"
   ]
  },
  {
   "cell_type": "markdown",
   "metadata": {},
   "source": [
    " ## 得られたデータセットから、文書分類を行うNNモデルを作成する."
   ]
  },
  {
   "cell_type": "code",
   "execution_count": 22,
   "metadata": {},
   "outputs": [],
   "source": [
    "import os\n",
    "import random\n",
    "\n",
    "def reset_seed(seed=0):\n",
    "\n",
    "    os.environ['PYTHONHASHSEED'] = '0'\n",
    "    random.seed(seed) #　random関数のシードを固定\n",
    "    np.random.seed(seed) #numpyのシードを固定\n",
    "    tf.random.set_seed(seed) #tensorflowのシードを固定"
   ]
  },
  {
   "cell_type": "code",
   "execution_count": 23,
   "metadata": {},
   "outputs": [],
   "source": [
    "# Pythonの挙動を整えるライブラリのインポート\n",
    "from __future__ import absolute_import, division, print_function, unicode_literals\n",
    "\n",
    "# TensorFlow と tf. のインポート\n",
    "import tensorflow as tf\n",
    "from tensorflow import keras\n",
    "\n",
    "from tensorflow.keras import models, layers"
   ]
  },
  {
   "cell_type": "code",
   "execution_count": 24,
   "metadata": {},
   "outputs": [
    {
     "name": "stdout",
     "output_type": "stream",
     "text": [
      "2.0.0\n"
     ]
    }
   ],
   "source": [
    "print(tf.__version__)"
   ]
  },
  {
   "cell_type": "code",
   "execution_count": 25,
   "metadata": {},
   "outputs": [],
   "source": [
    "from sklearn.model_selection import train_test_split\n",
    "\n",
    "train_x, val_x, train_t, val_t = train_test_split(x, t, test_size=0.3, random_state = 0)"
   ]
  },
  {
   "cell_type": "code",
   "execution_count": 26,
   "metadata": {},
   "outputs": [],
   "source": [
    "reset_seed(0)\n",
    "\n",
    "model = models.Sequential()\n",
    "\n",
    "model.add(layers.Dense(200, input_shape=(x.shape[1], ), activation='relu'))\n",
    "model.add(layers.Dense(9, activation='softmax'))\n",
    "\n",
    "optimizer = keras.optimizers.SGD(lr=0.01)\n",
    "\n",
    "model.compile(loss='sparse_categorical_crossentropy', optimizer=optimizer, metrics=['accuracy'])"
   ]
  },
  {
   "cell_type": "code",
   "execution_count": 27,
   "metadata": {},
   "outputs": [
    {
     "name": "stdout",
     "output_type": "stream",
     "text": [
      "Train on 4553 samples, validate on 1952 samples\n",
      "Epoch 1/50\n",
      "4553/4553 [==============================] - 1s 186us/sample - loss: 1.8651 - accuracy: 0.3892 - val_loss: 1.5367 - val_accuracy: 0.6281\n",
      "Epoch 2/50\n",
      "4553/4553 [==============================] - 0s 53us/sample - loss: 1.3482 - accuracy: 0.7358 - val_loss: 1.1917 - val_accuracy: 0.7935\n",
      "Epoch 3/50\n",
      "4553/4553 [==============================] - 0s 53us/sample - loss: 1.0539 - accuracy: 0.8430 - val_loss: 0.9659 - val_accuracy: 0.8545\n",
      "Epoch 4/50\n",
      "4553/4553 [==============================] - 0s 52us/sample - loss: 0.8541 - accuracy: 0.8880 - val_loss: 0.8074 - val_accuracy: 0.8755\n",
      "Epoch 5/50\n",
      "4553/4553 [==============================] - 0s 53us/sample - loss: 0.7120 - accuracy: 0.9049 - val_loss: 0.6938 - val_accuracy: 0.8878\n",
      "Epoch 6/50\n",
      "4553/4553 [==============================] - 0s 53us/sample - loss: 0.6069 - accuracy: 0.9192 - val_loss: 0.6108 - val_accuracy: 0.8940\n",
      "Epoch 7/50\n",
      "4553/4553 [==============================] - 0s 54us/sample - loss: 0.5276 - accuracy: 0.9275 - val_loss: 0.5485 - val_accuracy: 0.9032\n",
      "Epoch 8/50\n",
      "4553/4553 [==============================] - 0s 54us/sample - loss: 0.4662 - accuracy: 0.9350 - val_loss: 0.5002 - val_accuracy: 0.9073\n",
      "Epoch 9/50\n",
      "4553/4553 [==============================] - 0s 53us/sample - loss: 0.4170 - accuracy: 0.9416 - val_loss: 0.4632 - val_accuracy: 0.9088\n",
      "Epoch 10/50\n",
      "4553/4553 [==============================] - 0s 53us/sample - loss: 0.3771 - accuracy: 0.9460 - val_loss: 0.4330 - val_accuracy: 0.9129\n",
      "Epoch 11/50\n",
      "4553/4553 [==============================] - 0s 54us/sample - loss: 0.3442 - accuracy: 0.9495 - val_loss: 0.4066 - val_accuracy: 0.9160\n",
      "Epoch 12/50\n",
      "4553/4553 [==============================] - 0s 54us/sample - loss: 0.3164 - accuracy: 0.9543 - val_loss: 0.3866 - val_accuracy: 0.9170\n",
      "Epoch 13/50\n",
      "4553/4553 [==============================] - 0s 53us/sample - loss: 0.2927 - accuracy: 0.9561 - val_loss: 0.3684 - val_accuracy: 0.9185\n",
      "Epoch 14/50\n",
      "4553/4553 [==============================] - 0s 53us/sample - loss: 0.2722 - accuracy: 0.9587 - val_loss: 0.3538 - val_accuracy: 0.9201\n",
      "Epoch 15/50\n",
      "4553/4553 [==============================] - 0s 53us/sample - loss: 0.2542 - accuracy: 0.9635 - val_loss: 0.3406 - val_accuracy: 0.9211\n",
      "Epoch 16/50\n",
      "4553/4553 [==============================] - 0s 53us/sample - loss: 0.2384 - accuracy: 0.9671 - val_loss: 0.3290 - val_accuracy: 0.9237\n",
      "Epoch 17/50\n",
      "4553/4553 [==============================] - 0s 53us/sample - loss: 0.2244 - accuracy: 0.9690 - val_loss: 0.3190 - val_accuracy: 0.9257\n",
      "Epoch 18/50\n",
      "4553/4553 [==============================] - 0s 52us/sample - loss: 0.2119 - accuracy: 0.9710 - val_loss: 0.3103 - val_accuracy: 0.9278\n",
      "Epoch 19/50\n",
      "4553/4553 [==============================] - 0s 53us/sample - loss: 0.2005 - accuracy: 0.9730 - val_loss: 0.3022 - val_accuracy: 0.9283\n",
      "Epoch 20/50\n",
      "4553/4553 [==============================] - 0s 53us/sample - loss: 0.1903 - accuracy: 0.9752 - val_loss: 0.2954 - val_accuracy: 0.9283\n",
      "Epoch 21/50\n",
      "4553/4553 [==============================] - 0s 53us/sample - loss: 0.1809 - accuracy: 0.9763 - val_loss: 0.2885 - val_accuracy: 0.9293\n",
      "Epoch 22/50\n",
      "4553/4553 [==============================] - 0s 53us/sample - loss: 0.1723 - accuracy: 0.9778 - val_loss: 0.2825 - val_accuracy: 0.9314\n",
      "Epoch 23/50\n",
      "4553/4553 [==============================] - 0s 53us/sample - loss: 0.1645 - accuracy: 0.9789 - val_loss: 0.2773 - val_accuracy: 0.9334\n",
      "Epoch 24/50\n",
      "4553/4553 [==============================] - 0s 54us/sample - loss: 0.1572 - accuracy: 0.9796 - val_loss: 0.2727 - val_accuracy: 0.9339\n",
      "Epoch 25/50\n",
      "4553/4553 [==============================] - 0s 54us/sample - loss: 0.1505 - accuracy: 0.9811 - val_loss: 0.2681 - val_accuracy: 0.9349\n",
      "Epoch 26/50\n",
      "4553/4553 [==============================] - 0s 54us/sample - loss: 0.1443 - accuracy: 0.9822 - val_loss: 0.2644 - val_accuracy: 0.9344\n",
      "Epoch 27/50\n",
      "4553/4553 [==============================] - 0s 53us/sample - loss: 0.1385 - accuracy: 0.9844 - val_loss: 0.2609 - val_accuracy: 0.9360\n",
      "Epoch 28/50\n",
      "4553/4553 [==============================] - 0s 53us/sample - loss: 0.1331 - accuracy: 0.9844 - val_loss: 0.2576 - val_accuracy: 0.9360\n",
      "Epoch 29/50\n",
      "4553/4553 [==============================] - 0s 53us/sample - loss: 0.1281 - accuracy: 0.9855 - val_loss: 0.2544 - val_accuracy: 0.9365\n",
      "Epoch 30/50\n",
      "4553/4553 [==============================] - 0s 53us/sample - loss: 0.1234 - accuracy: 0.9862 - val_loss: 0.2512 - val_accuracy: 0.9370\n",
      "Epoch 31/50\n",
      "4553/4553 [==============================] - 0s 53us/sample - loss: 0.1190 - accuracy: 0.9868 - val_loss: 0.2488 - val_accuracy: 0.9385\n",
      "Epoch 32/50\n",
      "4553/4553 [==============================] - 0s 55us/sample - loss: 0.1149 - accuracy: 0.9879 - val_loss: 0.2461 - val_accuracy: 0.9385\n",
      "Epoch 33/50\n",
      "4553/4553 [==============================] - 0s 54us/sample - loss: 0.1110 - accuracy: 0.9877 - val_loss: 0.2443 - val_accuracy: 0.9380\n",
      "Epoch 34/50\n",
      "4553/4553 [==============================] - 0s 53us/sample - loss: 0.1073 - accuracy: 0.9892 - val_loss: 0.2414 - val_accuracy: 0.9385\n",
      "Epoch 35/50\n",
      "4553/4553 [==============================] - 0s 55us/sample - loss: 0.1038 - accuracy: 0.9899 - val_loss: 0.2393 - val_accuracy: 0.9390\n",
      "Epoch 36/50\n",
      "4553/4553 [==============================] - 0s 55us/sample - loss: 0.1006 - accuracy: 0.9897 - val_loss: 0.2376 - val_accuracy: 0.9390\n",
      "Epoch 37/50\n",
      "4553/4553 [==============================] - 0s 53us/sample - loss: 0.0975 - accuracy: 0.9901 - val_loss: 0.2359 - val_accuracy: 0.9406\n",
      "Epoch 38/50\n",
      "4553/4553 [==============================] - 0s 53us/sample - loss: 0.0945 - accuracy: 0.9901 - val_loss: 0.2342 - val_accuracy: 0.9411\n",
      "Epoch 39/50\n",
      "4553/4553 [==============================] - 0s 52us/sample - loss: 0.0917 - accuracy: 0.9910 - val_loss: 0.2328 - val_accuracy: 0.9411\n",
      "Epoch 40/50\n",
      "4553/4553 [==============================] - 0s 53us/sample - loss: 0.0891 - accuracy: 0.9914 - val_loss: 0.2311 - val_accuracy: 0.9411\n",
      "Epoch 41/50\n",
      "4553/4553 [==============================] - 0s 54us/sample - loss: 0.0865 - accuracy: 0.9919 - val_loss: 0.2301 - val_accuracy: 0.9406\n",
      "Epoch 42/50\n",
      "4553/4553 [==============================] - 0s 54us/sample - loss: 0.0842 - accuracy: 0.9919 - val_loss: 0.2282 - val_accuracy: 0.9426\n",
      "Epoch 43/50\n",
      "4553/4553 [==============================] - 0s 53us/sample - loss: 0.0818 - accuracy: 0.9928 - val_loss: 0.2272 - val_accuracy: 0.9416\n",
      "Epoch 44/50\n",
      "4553/4553 [==============================] - 0s 55us/sample - loss: 0.0797 - accuracy: 0.9928 - val_loss: 0.2259 - val_accuracy: 0.9421\n",
      "Epoch 45/50\n",
      "4553/4553 [==============================] - 0s 54us/sample - loss: 0.0776 - accuracy: 0.9928 - val_loss: 0.2250 - val_accuracy: 0.9416\n",
      "Epoch 46/50\n",
      "4553/4553 [==============================] - 0s 53us/sample - loss: 0.0756 - accuracy: 0.9932 - val_loss: 0.2238 - val_accuracy: 0.9421\n",
      "Epoch 47/50\n",
      "4553/4553 [==============================] - 0s 53us/sample - loss: 0.0737 - accuracy: 0.9934 - val_loss: 0.2230 - val_accuracy: 0.9426\n",
      "Epoch 48/50\n",
      "4553/4553 [==============================] - 0s 54us/sample - loss: 0.0719 - accuracy: 0.9934 - val_loss: 0.2219 - val_accuracy: 0.9426\n",
      "Epoch 49/50\n",
      "4553/4553 [==============================] - 0s 54us/sample - loss: 0.0701 - accuracy: 0.9936 - val_loss: 0.2209 - val_accuracy: 0.9426\n",
      "Epoch 50/50\n",
      "4553/4553 [==============================] - 0s 53us/sample - loss: 0.0684 - accuracy: 0.9936 - val_loss: 0.2200 - val_accuracy: 0.9431\n"
     ]
    }
   ],
   "source": [
    "history = model.fit(train_x, train_t,\n",
    "          batch_size=100,\n",
    "          epochs=50,\n",
    "          verbose=1,\n",
    "          validation_data=(val_x, val_t))"
   ]
  },
  {
   "cell_type": "code",
   "execution_count": 28,
   "metadata": {},
   "outputs": [],
   "source": [
    "import matplotlib.pyplot as plt\n",
    "%matplotlib inline"
   ]
  },
  {
   "cell_type": "code",
   "execution_count": 29,
   "metadata": {},
   "outputs": [
    {
     "data": {
      "text/plain": [
       "<matplotlib.axes._subplots.AxesSubplot at 0x7f615044bef0>"
      ]
     },
     "execution_count": 29,
     "metadata": {},
     "output_type": "execute_result"
    },
    {
     "data": {
      "image/png": "[encoded data removed]",
      "text/plain": [
       "<Figure size 432x288 with 1 Axes>"
      ]
     },
     "metadata": {
      "needs_background": "light"
     },
     "output_type": "display_data"
    }
   ],
   "source": [
    "# 学習結果をPandasのDataFrame型で読み込みます。\n",
    "results = pd.DataFrame(history.history)\n",
    "\n",
    "# accuracy（精度）を表示\n",
    "results[['accuracy', 'val_accuracy']].plot()"
   ]
  }
 ],
 "metadata": {
  "kernelspec": {
   "display_name": "Python 3",
   "language": "python",
   "name": "python3"
  },
  "language_info": {
   "codemirror_mode": {
    "name": "ipython",
    "version": 3
   },
   "file_extension": ".py",
   "mimetype": "text/x-python",
   "name": "python",
   "nbconvert_exporter": "python",
   "pygments_lexer": "ipython3",
   "version": "3.6.9"
  }
 },
 "nbformat": 4,
 "nbformat_minor": 2
}
