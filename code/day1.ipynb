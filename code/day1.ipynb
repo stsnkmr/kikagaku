{
 "cells": [
  {
   "cell_type": "code",
   "execution_count": 16,
   "metadata": {},
   "outputs": [],
   "source": [
    "# Pythonの挙動を整えるライブラリのインポート\n",
    "from __future__ import absolute_import, division, print_function, unicode_literals\n",
    "\n",
    "# TensorFlow と tf.keras のインポート\n",
    "import tensorflow as tf\n",
    "from tensorflow import keras"
   ]
  },
  {
   "cell_type": "code",
   "execution_count": 17,
   "metadata": {},
   "outputs": [
    {
     "data": {
      "text/plain": [
       "[name: \"/device:CPU:0\"\n",
       " device_type: \"CPU\"\n",
       " memory_limit: 268435456\n",
       " locality {\n",
       " }\n",
       " incarnation: 2278847554157562301]"
      ]
     },
     "execution_count": 17,
     "metadata": {},
     "output_type": "execute_result"
    }
   ],
   "source": [
    "from tensorflow.python.client import device_lib\n",
    "device_lib.list_local_devices()"
   ]
  },
  {
   "cell_type": "code",
   "execution_count": 18,
   "metadata": {},
   "outputs": [
    {
     "name": "stdout",
     "output_type": "stream",
     "text": [
      "2.0.0\n",
      "2.2.4-tf\n"
     ]
    }
   ],
   "source": [
    "print(tf.version.VERSION)\n",
    "print(tf.keras.__version__)"
   ]
  },
  {
   "cell_type": "markdown",
   "metadata": {},
   "source": [
    "# Kerasでクラス分類"
   ]
  },
  {
   "cell_type": "markdown",
   "metadata": {},
   "source": [
    "1. データの準備\n",
    "2. モデルを宣言\n",
    "3. モデルの学習"
   ]
  },
  {
   "cell_type": "markdown",
   "metadata": {},
   "source": [
    "### データの読み込み"
   ]
  },
  {
   "cell_type": "code",
   "execution_count": 19,
   "metadata": {},
   "outputs": [],
   "source": [
    "import pandas as pd #表データの取り扱い\n",
    "import numpy as np #数値計算\n",
    "import matplotlib.pyplot as plt #グラフの描画\n",
    "%matplotlib inline"
   ]
  },
  {
   "cell_type": "code",
   "execution_count": 20,
   "metadata": {},
   "outputs": [],
   "source": [
    "# データの読み込み\n",
    "df = pd.read_csv(\"data/wine_class.csv\") #dataFrame"
   ]
  },
  {
   "cell_type": "code",
   "execution_count": 21,
   "metadata": {},
   "outputs": [
    {
     "data": {
      "text/html": [
       "<div>\n",
       "<style scoped>\n",
       "    .dataframe tbody tr th:only-of-type {\n",
       "        vertical-align: middle;\n",
       "    }\n",
       "\n",
       "    .dataframe tbody tr th {\n",
       "        vertical-align: top;\n",
       "    }\n",
       "\n",
       "    .dataframe thead th {\n",
       "        text-align: right;\n",
       "    }\n",
       "</style>\n",
       "<table border=\"1\" class=\"dataframe\">\n",
       "  <thead>\n",
       "    <tr style=\"text-align: right;\">\n",
       "      <th></th>\n",
       "      <th>Class</th>\n",
       "      <th>Alcohol</th>\n",
       "      <th>Ash</th>\n",
       "      <th>Alcalinity of ash</th>\n",
       "      <th>Magnesium</th>\n",
       "      <th>Total phenols</th>\n",
       "      <th>Flavanoids</th>\n",
       "      <th>Nonflavanoid phenols</th>\n",
       "      <th>Color intensity</th>\n",
       "      <th>Hue</th>\n",
       "      <th>Proline</th>\n",
       "    </tr>\n",
       "  </thead>\n",
       "  <tbody>\n",
       "    <tr>\n",
       "      <th>0</th>\n",
       "      <td>1</td>\n",
       "      <td>14.23</td>\n",
       "      <td>2.43</td>\n",
       "      <td>15.6</td>\n",
       "      <td>127</td>\n",
       "      <td>2.80</td>\n",
       "      <td>3.06</td>\n",
       "      <td>0.28</td>\n",
       "      <td>5.64</td>\n",
       "      <td>1.04</td>\n",
       "      <td>1065</td>\n",
       "    </tr>\n",
       "    <tr>\n",
       "      <th>1</th>\n",
       "      <td>1</td>\n",
       "      <td>13.20</td>\n",
       "      <td>2.14</td>\n",
       "      <td>11.2</td>\n",
       "      <td>100</td>\n",
       "      <td>2.65</td>\n",
       "      <td>2.76</td>\n",
       "      <td>0.26</td>\n",
       "      <td>4.38</td>\n",
       "      <td>1.05</td>\n",
       "      <td>1050</td>\n",
       "    </tr>\n",
       "    <tr>\n",
       "      <th>2</th>\n",
       "      <td>1</td>\n",
       "      <td>13.16</td>\n",
       "      <td>2.67</td>\n",
       "      <td>18.6</td>\n",
       "      <td>101</td>\n",
       "      <td>2.80</td>\n",
       "      <td>3.24</td>\n",
       "      <td>0.30</td>\n",
       "      <td>5.68</td>\n",
       "      <td>1.03</td>\n",
       "      <td>1185</td>\n",
       "    </tr>\n",
       "    <tr>\n",
       "      <th>3</th>\n",
       "      <td>1</td>\n",
       "      <td>14.37</td>\n",
       "      <td>2.50</td>\n",
       "      <td>16.8</td>\n",
       "      <td>113</td>\n",
       "      <td>3.85</td>\n",
       "      <td>3.49</td>\n",
       "      <td>0.24</td>\n",
       "      <td>7.80</td>\n",
       "      <td>0.86</td>\n",
       "      <td>1480</td>\n",
       "    </tr>\n",
       "    <tr>\n",
       "      <th>4</th>\n",
       "      <td>1</td>\n",
       "      <td>13.24</td>\n",
       "      <td>2.87</td>\n",
       "      <td>21.0</td>\n",
       "      <td>118</td>\n",
       "      <td>2.80</td>\n",
       "      <td>2.69</td>\n",
       "      <td>0.39</td>\n",
       "      <td>4.32</td>\n",
       "      <td>1.04</td>\n",
       "      <td>735</td>\n",
       "    </tr>\n",
       "    <tr>\n",
       "      <th>5</th>\n",
       "      <td>1</td>\n",
       "      <td>14.20</td>\n",
       "      <td>2.45</td>\n",
       "      <td>15.2</td>\n",
       "      <td>112</td>\n",
       "      <td>3.27</td>\n",
       "      <td>3.39</td>\n",
       "      <td>0.34</td>\n",
       "      <td>6.75</td>\n",
       "      <td>1.05</td>\n",
       "      <td>1450</td>\n",
       "    </tr>\n",
       "    <tr>\n",
       "      <th>6</th>\n",
       "      <td>1</td>\n",
       "      <td>14.39</td>\n",
       "      <td>2.45</td>\n",
       "      <td>14.6</td>\n",
       "      <td>96</td>\n",
       "      <td>2.50</td>\n",
       "      <td>2.52</td>\n",
       "      <td>0.30</td>\n",
       "      <td>5.25</td>\n",
       "      <td>1.02</td>\n",
       "      <td>1290</td>\n",
       "    </tr>\n",
       "    <tr>\n",
       "      <th>7</th>\n",
       "      <td>1</td>\n",
       "      <td>14.06</td>\n",
       "      <td>2.61</td>\n",
       "      <td>17.6</td>\n",
       "      <td>121</td>\n",
       "      <td>2.60</td>\n",
       "      <td>2.51</td>\n",
       "      <td>0.31</td>\n",
       "      <td>5.05</td>\n",
       "      <td>1.06</td>\n",
       "      <td>1295</td>\n",
       "    </tr>\n",
       "    <tr>\n",
       "      <th>8</th>\n",
       "      <td>1</td>\n",
       "      <td>14.83</td>\n",
       "      <td>2.17</td>\n",
       "      <td>14.0</td>\n",
       "      <td>97</td>\n",
       "      <td>2.80</td>\n",
       "      <td>2.98</td>\n",
       "      <td>0.29</td>\n",
       "      <td>5.20</td>\n",
       "      <td>1.08</td>\n",
       "      <td>1045</td>\n",
       "    </tr>\n",
       "    <tr>\n",
       "      <th>9</th>\n",
       "      <td>1</td>\n",
       "      <td>13.86</td>\n",
       "      <td>2.27</td>\n",
       "      <td>16.0</td>\n",
       "      <td>98</td>\n",
       "      <td>2.98</td>\n",
       "      <td>3.15</td>\n",
       "      <td>0.22</td>\n",
       "      <td>7.22</td>\n",
       "      <td>1.01</td>\n",
       "      <td>1045</td>\n",
       "    </tr>\n",
       "  </tbody>\n",
       "</table>\n",
       "</div>"
      ],
      "text/plain": [
       "   Class  Alcohol   Ash  Alcalinity of ash  Magnesium  Total phenols  \\\n",
       "0      1    14.23  2.43               15.6        127           2.80   \n",
       "1      1    13.20  2.14               11.2        100           2.65   \n",
       "2      1    13.16  2.67               18.6        101           2.80   \n",
       "3      1    14.37  2.50               16.8        113           3.85   \n",
       "4      1    13.24  2.87               21.0        118           2.80   \n",
       "5      1    14.20  2.45               15.2        112           3.27   \n",
       "6      1    14.39  2.45               14.6         96           2.50   \n",
       "7      1    14.06  2.61               17.6        121           2.60   \n",
       "8      1    14.83  2.17               14.0         97           2.80   \n",
       "9      1    13.86  2.27               16.0         98           2.98   \n",
       "\n",
       "   Flavanoids  Nonflavanoid phenols  Color intensity   Hue  Proline  \n",
       "0        3.06                  0.28             5.64  1.04     1065  \n",
       "1        2.76                  0.26             4.38  1.05     1050  \n",
       "2        3.24                  0.30             5.68  1.03     1185  \n",
       "3        3.49                  0.24             7.80  0.86     1480  \n",
       "4        2.69                  0.39             4.32  1.04      735  \n",
       "5        3.39                  0.34             6.75  1.05     1450  \n",
       "6        2.52                  0.30             5.25  1.02     1290  \n",
       "7        2.51                  0.31             5.05  1.06     1295  \n",
       "8        2.98                  0.29             5.20  1.08     1045  \n",
       "9        3.15                  0.22             7.22  1.01     1045  "
      ]
     },
     "execution_count": 21,
     "metadata": {},
     "output_type": "execute_result"
    }
   ],
   "source": [
    "df.head(10) #どんなデータが入っているかを確認 \n"
   ]
  },
  {
   "cell_type": "markdown",
   "metadata": {},
   "source": [
    "# 教師データと入力データへの切り分け"
   ]
  },
  {
   "cell_type": "code",
   "execution_count": 22,
   "metadata": {},
   "outputs": [],
   "source": [
    "t = df.iloc[:,0]\n",
    "x = df.iloc[:,1:]"
   ]
  },
  {
   "cell_type": "code",
   "execution_count": 23,
   "metadata": {},
   "outputs": [
    {
     "data": {
      "text/html": [
       "<div>\n",
       "<style scoped>\n",
       "    .dataframe tbody tr th:only-of-type {\n",
       "        vertical-align: middle;\n",
       "    }\n",
       "\n",
       "    .dataframe tbody tr th {\n",
       "        vertical-align: top;\n",
       "    }\n",
       "\n",
       "    .dataframe thead th {\n",
       "        text-align: right;\n",
       "    }\n",
       "</style>\n",
       "<table border=\"1\" class=\"dataframe\">\n",
       "  <thead>\n",
       "    <tr style=\"text-align: right;\">\n",
       "      <th></th>\n",
       "      <th>Alcohol</th>\n",
       "      <th>Ash</th>\n",
       "      <th>Alcalinity of ash</th>\n",
       "      <th>Magnesium</th>\n",
       "      <th>Total phenols</th>\n",
       "      <th>Flavanoids</th>\n",
       "      <th>Nonflavanoid phenols</th>\n",
       "      <th>Color intensity</th>\n",
       "      <th>Hue</th>\n",
       "      <th>Proline</th>\n",
       "    </tr>\n",
       "  </thead>\n",
       "  <tbody>\n",
       "    <tr>\n",
       "      <th>0</th>\n",
       "      <td>14.23</td>\n",
       "      <td>2.43</td>\n",
       "      <td>15.6</td>\n",
       "      <td>127</td>\n",
       "      <td>2.8</td>\n",
       "      <td>3.06</td>\n",
       "      <td>0.28</td>\n",
       "      <td>5.64</td>\n",
       "      <td>1.04</td>\n",
       "      <td>1065</td>\n",
       "    </tr>\n",
       "  </tbody>\n",
       "</table>\n",
       "</div>"
      ],
      "text/plain": [
       "   Alcohol   Ash  Alcalinity of ash  Magnesium  Total phenols  Flavanoids  \\\n",
       "0    14.23  2.43               15.6        127            2.8        3.06   \n",
       "\n",
       "   Nonflavanoid phenols  Color intensity   Hue  Proline  \n",
       "0                  0.28             5.64  1.04     1065  "
      ]
     },
     "execution_count": 23,
     "metadata": {},
     "output_type": "execute_result"
    }
   ],
   "source": [
    "x.head(1)"
   ]
  },
  {
   "cell_type": "code",
   "execution_count": 24,
   "metadata": {},
   "outputs": [
    {
     "data": {
      "text/plain": [
       "(178, 11)"
      ]
     },
     "execution_count": 24,
     "metadata": {},
     "output_type": "execute_result"
    }
   ],
   "source": [
    "df.shape"
   ]
  },
  {
   "cell_type": "code",
   "execution_count": 25,
   "metadata": {},
   "outputs": [
    {
     "data": {
      "text/plain": [
       "(178, 10)"
      ]
     },
     "execution_count": 25,
     "metadata": {},
     "output_type": "execute_result"
    }
   ],
   "source": [
    "x.shape #分割できてるかの確認"
   ]
  },
  {
   "cell_type": "markdown",
   "metadata": {},
   "source": [
    "### Kerasで計算できるデータの形式に変換\n",
    " - 入力変数、教師データがNumpy形式\n",
    " - 分類の場合は、ラベルが0から始まっていること"
   ]
  },
  {
   "cell_type": "code",
   "execution_count": 26,
   "metadata": {},
   "outputs": [
    {
     "data": {
      "text/plain": [
       "pandas.core.frame.DataFrame"
      ]
     },
     "execution_count": 26,
     "metadata": {},
     "output_type": "execute_result"
    }
   ],
   "source": [
    "# データ型の確認\n",
    "type(x) ##>>pandas形式"
   ]
  },
  {
   "cell_type": "markdown",
   "metadata": {},
   "source": [
    "# Numpyにデータ型を変換し、ラベルを0から始める"
   ]
  },
  {
   "cell_type": "code",
   "execution_count": 28,
   "metadata": {},
   "outputs": [
    {
     "data": {
      "text/plain": [
       "array([0, 0, 0, 0, 0, 0, 0, 0, 0, 0, 0, 0, 0, 0, 0, 0, 0, 0, 0, 0, 0, 0,\n",
       "       0, 0, 0, 0, 0, 0, 0, 0, 0, 0, 0, 0, 0, 0, 0, 0, 0, 0, 0, 0, 0, 0,\n",
       "       0, 0, 0, 0, 0, 0, 0, 0, 0, 0, 0, 0, 0, 0, 0, 1, 1, 1, 1, 1, 1, 1,\n",
       "       1, 1, 1, 1, 1, 1, 1, 1, 1, 1, 1, 1, 1, 1, 1, 1, 1, 1, 1, 1, 1, 1,\n",
       "       1, 1, 1, 1, 1, 1, 1, 1, 1, 1, 1, 1, 1, 1, 1, 1, 1, 1, 1, 1, 1, 1,\n",
       "       1, 1, 1, 1, 1, 1, 1, 1, 1, 1, 1, 1, 1, 1, 1, 1, 1, 1, 1, 1, 2, 2,\n",
       "       2, 2, 2, 2, 2, 2, 2, 2, 2, 2, 2, 2, 2, 2, 2, 2, 2, 2, 2, 2, 2, 2,\n",
       "       2, 2, 2, 2, 2, 2, 2, 2, 2, 2, 2, 2, 2, 2, 2, 2, 2, 2, 2, 2, 2, 2,\n",
       "       2, 2])"
      ]
     },
     "execution_count": 28,
     "metadata": {},
     "output_type": "execute_result"
    }
   ],
   "source": [
    "t.values-1"
   ]
  },
  {
   "cell_type": "code",
   "execution_count": 31,
   "metadata": {},
   "outputs": [],
   "source": [
    "x = x.values ##.valuesがなむぱい形式\n",
    "t = t.values-1"
   ]
  },
  {
   "cell_type": "code",
   "execution_count": 36,
   "metadata": {},
   "outputs": [
    {
     "data": {
      "text/plain": [
       "numpy.ndarray"
      ]
     },
     "execution_count": 36,
     "metadata": {},
     "output_type": "execute_result"
    }
   ],
   "source": [
    "type(x)"
   ]
  },
  {
   "cell_type": "code",
   "execution_count": 33,
   "metadata": {},
   "outputs": [
    {
     "data": {
      "text/plain": [
       "numpy.ndarray"
      ]
     },
     "execution_count": 33,
     "metadata": {},
     "output_type": "execute_result"
    }
   ],
   "source": [
    "type(t)"
   ]
  },
  {
   "cell_type": "markdown",
   "metadata": {},
   "source": [
    "### 訓練データとテストデータの分割　（7年分で訓練してコツをつかんで、3年分で通用するかを傾向を探る）"
   ]
  },
  {
   "cell_type": "code",
   "execution_count": 91,
   "metadata": {},
   "outputs": [],
   "source": [
    "from sklearn.model_selection import train_test_split"
   ]
  },
  {
   "cell_type": "code",
   "execution_count": 1,
   "metadata": {},
   "outputs": [
    {
     "ename": "NameError",
     "evalue": "name 'train_test_split' is not defined",
     "output_type": "error",
     "traceback": [
      "\u001b[0;31m---------------------------------------------------------------------------\u001b[0m",
      "\u001b[0;31mNameError\u001b[0m                                 Traceback (most recent call last)",
      "\u001b[0;32m<ipython-input-1-30a19d6d5e08>\u001b[0m in \u001b[0;36m<module>\u001b[0;34m\u001b[0m\n\u001b[1;32m      1\u001b[0m \u001b[0;31m# 訓練データと検証データに切り分け\u001b[0m\u001b[0;34m\u001b[0m\u001b[0;34m\u001b[0m\u001b[0;34m\u001b[0m\u001b[0m\n\u001b[0;32m----> 2\u001b[0;31m \u001b[0mtrain_x\u001b[0m\u001b[0;34m,\u001b[0m \u001b[0mval_x\u001b[0m\u001b[0;34m,\u001b[0m \u001b[0mtrain_t\u001b[0m\u001b[0;34m,\u001b[0m \u001b[0mval_t\u001b[0m \u001b[0;34m=\u001b[0m \u001b[0mtrain_test_split\u001b[0m\u001b[0;34m(\u001b[0m\u001b[0mx\u001b[0m\u001b[0;34m,\u001b[0m \u001b[0mt\u001b[0m\u001b[0;34m,\u001b[0m \u001b[0mtrain_size\u001b[0m\u001b[0;34m=\u001b[0m\u001b[0;36m0.7\u001b[0m\u001b[0;34m,\u001b[0m \u001b[0mrandom_state\u001b[0m\u001b[0;34m=\u001b[0m\u001b[0;36m0\u001b[0m\u001b[0;34m)\u001b[0m\u001b[0;34m\u001b[0m\u001b[0;34m\u001b[0m\u001b[0m\n\u001b[0m",
      "\u001b[0;31mNameError\u001b[0m: name 'train_test_split' is not defined"
     ]
    }
   ],
   "source": [
    "# 訓練データと検証データに切り分け\n",
    "\n",
    "\n",
    "\n",
    "train_x, val_x, train_t, val_t = train_test_split(x, t, train_size=0.7, random_state=0)"
   ]
  },
  {
   "cell_type": "code",
   "execution_count": 93,
   "metadata": {},
   "outputs": [
    {
     "data": {
      "text/plain": [
       "(124, 10)"
      ]
     },
     "execution_count": 93,
     "metadata": {},
     "output_type": "execute_result"
    }
   ],
   "source": [
    "train_x.shape"
   ]
  },
  {
   "cell_type": "markdown",
   "metadata": {},
   "source": [
    "# シードの固定"
   ]
  },
  {
   "cell_type": "code",
   "execution_count": 94,
   "metadata": {},
   "outputs": [],
   "source": [
    "import os\n",
    "import random\n",
    "\n",
    "\n",
    "def reset_seed(seed=0):\n",
    "\n",
    "    os.environ['PYTHONHASHSEED'] = '0'\n",
    "    random.seed(seed) #　random関数のシードを固定\n",
    "    np.random.seed(seed) #numpyのシードを固定\n",
    "    tf.random.set_seed(seed) #tensorflowのシードを固定"
   ]
  },
  {
   "cell_type": "markdown",
   "metadata": {},
   "source": [
    "### ニューラルネットワークのモデルの定義\n",
    "1. keras.Sequential()を用意する。(層を格納するための箱)\n",
    "2. layers.全結合層を箱に追加する。"
   ]
  },
  {
   "cell_type": "code",
   "execution_count": 95,
   "metadata": {},
   "outputs": [],
   "source": [
    "from tensorflow.keras import models,layers #モデルズはモデルを扱う、レイヤーズは層を扱う"
   ]
  },
  {
   "cell_type": "code",
   "execution_count": 98,
   "metadata": {},
   "outputs": [],
   "source": [
    "#シードの固定\n",
    "reset_seed(0)\n",
    "\n",
    "#モデルのインスタンス化(そうを格納するための箱を用意)\n",
    "model = models.Sequential()\n",
    "\n",
    "#モデルの構築\n",
    "model.add(layers.BatchNormalization(input_shape=(10,)))\n",
    "model.add(layers.Dense(5, activation='relu', input_shape=(10,)))\n",
    "# model.add(layers.Dense(5, input_shape=(10,))) #入力層のノードの数\n",
    "#model.add(layers.Dense(5, activation='relu', input_shape=(10,))) でもOK!!\n",
    "# model.add(layers.Activation('relu')) #Activation:活性化\n",
    "model.add(layers.Dense(3))\n",
    "model.add(layers.Activation('softmax')) #確率を出力するためにソフトマックスを扱う. （クラスはreru）\n",
    "# model.add(layers.Dense(3, activation='Softmax'))でもOK!!"
   ]
  },
  {
   "cell_type": "markdown",
   "metadata": {},
   "source": [
    "## モデルのコンパイル(設定)"
   ]
  },
  {
   "cell_type": "code",
   "execution_count": 99,
   "metadata": {},
   "outputs": [],
   "source": [
    "model.compile(optimizer='SGD',\n",
    "               loss='sparse_categorical_crossentropy',\n",
    "               metrics=['accuracy'] #accuracyを表示させるかどうか.\n",
    "             )"
   ]
  },
  {
   "cell_type": "code",
   "execution_count": 100,
   "metadata": {},
   "outputs": [
    {
     "name": "stdout",
     "output_type": "stream",
     "text": [
      "Train on 124 samples, validate on 54 samples\n",
      "Epoch 1/50\n",
      "124/124 [==============================] - 0s 3ms/sample - loss: 1.4536 - accuracy: 0.4274 - val_loss: 8.1839 - val_accuracy: 0.4074\n",
      "Epoch 2/50\n",
      "124/124 [==============================] - 0s 351us/sample - loss: 1.2246 - accuracy: 0.4597 - val_loss: 4.7574 - val_accuracy: 0.4074\n",
      "Epoch 3/50\n",
      "124/124 [==============================] - 0s 343us/sample - loss: 1.0559 - accuracy: 0.5484 - val_loss: 3.0962 - val_accuracy: 0.3889\n",
      "Epoch 4/50\n",
      "124/124 [==============================] - 0s 360us/sample - loss: 0.9178 - accuracy: 0.5645 - val_loss: 2.2497 - val_accuracy: 0.3704\n",
      "Epoch 5/50\n",
      "124/124 [==============================] - 0s 386us/sample - loss: 0.9087 - accuracy: 0.5887 - val_loss: 1.7877 - val_accuracy: 0.3889\n",
      "Epoch 6/50\n",
      "124/124 [==============================] - 0s 344us/sample - loss: 0.8316 - accuracy: 0.6452 - val_loss: 1.4649 - val_accuracy: 0.3704\n",
      "Epoch 7/50\n",
      "124/124 [==============================] - 0s 391us/sample - loss: 0.7547 - accuracy: 0.7177 - val_loss: 1.2811 - val_accuracy: 0.2963\n",
      "Epoch 8/50\n",
      "124/124 [==============================] - 0s 480us/sample - loss: 0.7994 - accuracy: 0.6371 - val_loss: 1.1505 - val_accuracy: 0.3519\n",
      "Epoch 9/50\n",
      "124/124 [==============================] - 0s 338us/sample - loss: 0.6937 - accuracy: 0.7500 - val_loss: 1.0543 - val_accuracy: 0.3889\n",
      "Epoch 10/50\n",
      "124/124 [==============================] - 0s 355us/sample - loss: 0.6375 - accuracy: 0.7984 - val_loss: 1.0010 - val_accuracy: 0.4259\n",
      "Epoch 11/50\n",
      "124/124 [==============================] - 0s 356us/sample - loss: 0.6404 - accuracy: 0.7823 - val_loss: 0.9638 - val_accuracy: 0.5000\n",
      "Epoch 12/50\n",
      "124/124 [==============================] - 0s 335us/sample - loss: 0.6049 - accuracy: 0.8065 - val_loss: 0.9378 - val_accuracy: 0.5556\n",
      "Epoch 13/50\n",
      "124/124 [==============================] - 0s 337us/sample - loss: 0.6704 - accuracy: 0.7581 - val_loss: 0.9137 - val_accuracy: 0.5926\n",
      "Epoch 14/50\n",
      "124/124 [==============================] - 0s 384us/sample - loss: 0.5842 - accuracy: 0.8306 - val_loss: 0.8756 - val_accuracy: 0.6296\n",
      "Epoch 15/50\n",
      "124/124 [==============================] - 0s 360us/sample - loss: 0.5407 - accuracy: 0.8871 - val_loss: 0.8197 - val_accuracy: 0.7407\n",
      "Epoch 16/50\n",
      "124/124 [==============================] - 0s 343us/sample - loss: 0.5323 - accuracy: 0.8548 - val_loss: 0.7663 - val_accuracy: 0.7963\n",
      "Epoch 17/50\n",
      "124/124 [==============================] - 0s 339us/sample - loss: 0.5336 - accuracy: 0.8710 - val_loss: 0.7057 - val_accuracy: 0.8148\n",
      "Epoch 18/50\n",
      "124/124 [==============================] - 0s 350us/sample - loss: 0.5737 - accuracy: 0.8710 - val_loss: 0.6518 - val_accuracy: 0.8889\n",
      "Epoch 19/50\n",
      "124/124 [==============================] - 0s 343us/sample - loss: 0.4980 - accuracy: 0.8952 - val_loss: 0.6054 - val_accuracy: 0.9074\n",
      "Epoch 20/50\n",
      "124/124 [==============================] - 0s 339us/sample - loss: 0.4781 - accuracy: 0.9113 - val_loss: 0.5622 - val_accuracy: 0.9259\n",
      "Epoch 21/50\n",
      "124/124 [==============================] - 0s 351us/sample - loss: 0.4606 - accuracy: 0.9194 - val_loss: 0.5262 - val_accuracy: 0.9259\n",
      "Epoch 22/50\n",
      "124/124 [==============================] - 0s 349us/sample - loss: 0.4771 - accuracy: 0.8952 - val_loss: 0.4973 - val_accuracy: 0.9630\n",
      "Epoch 23/50\n",
      "124/124 [==============================] - 0s 337us/sample - loss: 0.4424 - accuracy: 0.9032 - val_loss: 0.4727 - val_accuracy: 0.9630\n",
      "Epoch 24/50\n",
      "124/124 [==============================] - 0s 350us/sample - loss: 0.4125 - accuracy: 0.9355 - val_loss: 0.4507 - val_accuracy: 0.9630\n",
      "Epoch 25/50\n",
      "124/124 [==============================] - 0s 341us/sample - loss: 0.4446 - accuracy: 0.8952 - val_loss: 0.4325 - val_accuracy: 0.9630\n",
      "Epoch 26/50\n",
      "124/124 [==============================] - 0s 405us/sample - loss: 0.4412 - accuracy: 0.8710 - val_loss: 0.4170 - val_accuracy: 0.9630\n",
      "Epoch 27/50\n",
      "124/124 [==============================] - 0s 416us/sample - loss: 0.4496 - accuracy: 0.9032 - val_loss: 0.4003 - val_accuracy: 0.9630\n",
      "Epoch 28/50\n",
      "124/124 [==============================] - 0s 373us/sample - loss: 0.4285 - accuracy: 0.8790 - val_loss: 0.3852 - val_accuracy: 0.9630\n",
      "Epoch 29/50\n",
      "124/124 [==============================] - 0s 352us/sample - loss: 0.4088 - accuracy: 0.9113 - val_loss: 0.3711 - val_accuracy: 0.9630\n",
      "Epoch 30/50\n",
      "124/124 [==============================] - 0s 345us/sample - loss: 0.4086 - accuracy: 0.9113 - val_loss: 0.3575 - val_accuracy: 0.9630\n",
      "Epoch 31/50\n",
      "124/124 [==============================] - 0s 358us/sample - loss: 0.4747 - accuracy: 0.8952 - val_loss: 0.3468 - val_accuracy: 0.9630\n",
      "Epoch 32/50\n",
      "124/124 [==============================] - 0s 346us/sample - loss: 0.4200 - accuracy: 0.8871 - val_loss: 0.3386 - val_accuracy: 0.9630\n",
      "Epoch 33/50\n",
      "124/124 [==============================] - 0s 353us/sample - loss: 0.4441 - accuracy: 0.8790 - val_loss: 0.3305 - val_accuracy: 0.9815\n",
      "Epoch 34/50\n",
      "124/124 [==============================] - 0s 426us/sample - loss: 0.3664 - accuracy: 0.9274 - val_loss: 0.3214 - val_accuracy: 0.9815\n",
      "Epoch 35/50\n",
      "124/124 [==============================] - 0s 358us/sample - loss: 0.3969 - accuracy: 0.9274 - val_loss: 0.3132 - val_accuracy: 0.9815\n",
      "Epoch 36/50\n",
      "124/124 [==============================] - 0s 342us/sample - loss: 0.3698 - accuracy: 0.9194 - val_loss: 0.3060 - val_accuracy: 0.9815\n",
      "Epoch 37/50\n",
      "124/124 [==============================] - 0s 350us/sample - loss: 0.3972 - accuracy: 0.9113 - val_loss: 0.2992 - val_accuracy: 0.9815\n",
      "Epoch 38/50\n",
      "124/124 [==============================] - 0s 338us/sample - loss: 0.3693 - accuracy: 0.9194 - val_loss: 0.2930 - val_accuracy: 0.9815\n",
      "Epoch 39/50\n",
      "124/124 [==============================] - 0s 338us/sample - loss: 0.3163 - accuracy: 0.9435 - val_loss: 0.2868 - val_accuracy: 0.9815\n",
      "Epoch 40/50\n",
      "124/124 [==============================] - 0s 334us/sample - loss: 0.4184 - accuracy: 0.8871 - val_loss: 0.2820 - val_accuracy: 0.9815\n",
      "Epoch 41/50\n",
      "124/124 [==============================] - 0s 341us/sample - loss: 0.3660 - accuracy: 0.9194 - val_loss: 0.2788 - val_accuracy: 0.9815\n",
      "Epoch 42/50\n",
      "124/124 [==============================] - 0s 356us/sample - loss: 0.3625 - accuracy: 0.9194 - val_loss: 0.2734 - val_accuracy: 0.9815\n",
      "Epoch 43/50\n",
      "124/124 [==============================] - 0s 337us/sample - loss: 0.3746 - accuracy: 0.9032 - val_loss: 0.2696 - val_accuracy: 0.9815\n",
      "Epoch 44/50\n",
      "124/124 [==============================] - 0s 353us/sample - loss: 0.3311 - accuracy: 0.9032 - val_loss: 0.2651 - val_accuracy: 0.9815\n",
      "Epoch 45/50\n",
      "124/124 [==============================] - 0s 346us/sample - loss: 0.3999 - accuracy: 0.8952 - val_loss: 0.2609 - val_accuracy: 0.9815\n",
      "Epoch 46/50\n",
      "124/124 [==============================] - 0s 337us/sample - loss: 0.3178 - accuracy: 0.9274 - val_loss: 0.2558 - val_accuracy: 0.9815\n",
      "Epoch 47/50\n",
      "124/124 [==============================] - 0s 335us/sample - loss: 0.2983 - accuracy: 0.9435 - val_loss: 0.2509 - val_accuracy: 0.9815\n",
      "Epoch 48/50\n",
      "124/124 [==============================] - 0s 340us/sample - loss: 0.3676 - accuracy: 0.9194 - val_loss: 0.2476 - val_accuracy: 0.9815\n",
      "Epoch 49/50\n",
      "124/124 [==============================] - 0s 339us/sample - loss: 0.2929 - accuracy: 0.9274 - val_loss: 0.2429 - val_accuracy: 0.9815\n",
      "Epoch 50/50\n",
      "124/124 [==============================] - 0s 354us/sample - loss: 0.2957 - accuracy: 0.9435 - val_loss: 0.2401 - val_accuracy: 0.9815\n"
     ]
    }
   ],
   "source": [
    "# モデルの学習\n",
    "history = model.fit(train_x, train_t,\n",
    "          batch_size=10,\n",
    "          epochs=50,\n",
    "          verbose=1,#　logを見るかどうか\n",
    "          validation_data=(val_x, val_t))"
   ]
  },
  {
   "cell_type": "code",
   "execution_count": 101,
   "metadata": {},
   "outputs": [],
   "source": [
    "# -lossの値が下がってないからちょっとおかしいかも"
   ]
  },
  {
   "cell_type": "code",
   "execution_count": 102,
   "metadata": {},
   "outputs": [],
   "source": [
    "#学習結果をPandasのDataFrame型で読み込む\n",
    "type(history.history)\n",
    "\n",
    "results = pd.DataFrame(history.history)"
   ]
  },
  {
   "cell_type": "code",
   "execution_count": 103,
   "metadata": {},
   "outputs": [
    {
     "data": {
      "text/html": [
       "<div>\n",
       "<style scoped>\n",
       "    .dataframe tbody tr th:only-of-type {\n",
       "        vertical-align: middle;\n",
       "    }\n",
       "\n",
       "    .dataframe tbody tr th {\n",
       "        vertical-align: top;\n",
       "    }\n",
       "\n",
       "    .dataframe thead th {\n",
       "        text-align: right;\n",
       "    }\n",
       "</style>\n",
       "<table border=\"1\" class=\"dataframe\">\n",
       "  <thead>\n",
       "    <tr style=\"text-align: right;\">\n",
       "      <th></th>\n",
       "      <th>loss</th>\n",
       "      <th>accuracy</th>\n",
       "      <th>val_loss</th>\n",
       "      <th>val_accuracy</th>\n",
       "    </tr>\n",
       "  </thead>\n",
       "  <tbody>\n",
       "    <tr>\n",
       "      <th>0</th>\n",
       "      <td>1.453626</td>\n",
       "      <td>0.427419</td>\n",
       "      <td>8.183857</td>\n",
       "      <td>0.407407</td>\n",
       "    </tr>\n",
       "    <tr>\n",
       "      <th>1</th>\n",
       "      <td>1.224581</td>\n",
       "      <td>0.459677</td>\n",
       "      <td>4.757411</td>\n",
       "      <td>0.407407</td>\n",
       "    </tr>\n",
       "    <tr>\n",
       "      <th>2</th>\n",
       "      <td>1.055917</td>\n",
       "      <td>0.548387</td>\n",
       "      <td>3.096191</td>\n",
       "      <td>0.388889</td>\n",
       "    </tr>\n",
       "    <tr>\n",
       "      <th>3</th>\n",
       "      <td>0.917832</td>\n",
       "      <td>0.564516</td>\n",
       "      <td>2.249741</td>\n",
       "      <td>0.370370</td>\n",
       "    </tr>\n",
       "    <tr>\n",
       "      <th>4</th>\n",
       "      <td>0.908750</td>\n",
       "      <td>0.588710</td>\n",
       "      <td>1.787659</td>\n",
       "      <td>0.388889</td>\n",
       "    </tr>\n",
       "    <tr>\n",
       "      <th>5</th>\n",
       "      <td>0.831598</td>\n",
       "      <td>0.645161</td>\n",
       "      <td>1.464932</td>\n",
       "      <td>0.370370</td>\n",
       "    </tr>\n",
       "    <tr>\n",
       "      <th>6</th>\n",
       "      <td>0.754668</td>\n",
       "      <td>0.717742</td>\n",
       "      <td>1.281094</td>\n",
       "      <td>0.296296</td>\n",
       "    </tr>\n",
       "    <tr>\n",
       "      <th>7</th>\n",
       "      <td>0.799424</td>\n",
       "      <td>0.637097</td>\n",
       "      <td>1.150466</td>\n",
       "      <td>0.351852</td>\n",
       "    </tr>\n",
       "    <tr>\n",
       "      <th>8</th>\n",
       "      <td>0.693721</td>\n",
       "      <td>0.750000</td>\n",
       "      <td>1.054261</td>\n",
       "      <td>0.388889</td>\n",
       "    </tr>\n",
       "    <tr>\n",
       "      <th>9</th>\n",
       "      <td>0.637507</td>\n",
       "      <td>0.798387</td>\n",
       "      <td>1.000988</td>\n",
       "      <td>0.425926</td>\n",
       "    </tr>\n",
       "    <tr>\n",
       "      <th>10</th>\n",
       "      <td>0.640429</td>\n",
       "      <td>0.782258</td>\n",
       "      <td>0.963804</td>\n",
       "      <td>0.500000</td>\n",
       "    </tr>\n",
       "    <tr>\n",
       "      <th>11</th>\n",
       "      <td>0.604908</td>\n",
       "      <td>0.806452</td>\n",
       "      <td>0.937789</td>\n",
       "      <td>0.555556</td>\n",
       "    </tr>\n",
       "    <tr>\n",
       "      <th>12</th>\n",
       "      <td>0.670367</td>\n",
       "      <td>0.758065</td>\n",
       "      <td>0.913681</td>\n",
       "      <td>0.592593</td>\n",
       "    </tr>\n",
       "    <tr>\n",
       "      <th>13</th>\n",
       "      <td>0.584234</td>\n",
       "      <td>0.830645</td>\n",
       "      <td>0.875554</td>\n",
       "      <td>0.629630</td>\n",
       "    </tr>\n",
       "    <tr>\n",
       "      <th>14</th>\n",
       "      <td>0.540657</td>\n",
       "      <td>0.887097</td>\n",
       "      <td>0.819739</td>\n",
       "      <td>0.740741</td>\n",
       "    </tr>\n",
       "    <tr>\n",
       "      <th>15</th>\n",
       "      <td>0.532317</td>\n",
       "      <td>0.854839</td>\n",
       "      <td>0.766268</td>\n",
       "      <td>0.796296</td>\n",
       "    </tr>\n",
       "    <tr>\n",
       "      <th>16</th>\n",
       "      <td>0.533585</td>\n",
       "      <td>0.870968</td>\n",
       "      <td>0.705748</td>\n",
       "      <td>0.814815</td>\n",
       "    </tr>\n",
       "    <tr>\n",
       "      <th>17</th>\n",
       "      <td>0.573679</td>\n",
       "      <td>0.870968</td>\n",
       "      <td>0.651820</td>\n",
       "      <td>0.888889</td>\n",
       "    </tr>\n",
       "    <tr>\n",
       "      <th>18</th>\n",
       "      <td>0.498001</td>\n",
       "      <td>0.895161</td>\n",
       "      <td>0.605432</td>\n",
       "      <td>0.907407</td>\n",
       "    </tr>\n",
       "    <tr>\n",
       "      <th>19</th>\n",
       "      <td>0.478114</td>\n",
       "      <td>0.911290</td>\n",
       "      <td>0.562156</td>\n",
       "      <td>0.925926</td>\n",
       "    </tr>\n",
       "    <tr>\n",
       "      <th>20</th>\n",
       "      <td>0.460573</td>\n",
       "      <td>0.919355</td>\n",
       "      <td>0.526229</td>\n",
       "      <td>0.925926</td>\n",
       "    </tr>\n",
       "    <tr>\n",
       "      <th>21</th>\n",
       "      <td>0.477094</td>\n",
       "      <td>0.895161</td>\n",
       "      <td>0.497347</td>\n",
       "      <td>0.962963</td>\n",
       "    </tr>\n",
       "    <tr>\n",
       "      <th>22</th>\n",
       "      <td>0.442440</td>\n",
       "      <td>0.903226</td>\n",
       "      <td>0.472717</td>\n",
       "      <td>0.962963</td>\n",
       "    </tr>\n",
       "    <tr>\n",
       "      <th>23</th>\n",
       "      <td>0.412539</td>\n",
       "      <td>0.935484</td>\n",
       "      <td>0.450711</td>\n",
       "      <td>0.962963</td>\n",
       "    </tr>\n",
       "    <tr>\n",
       "      <th>24</th>\n",
       "      <td>0.444643</td>\n",
       "      <td>0.895161</td>\n",
       "      <td>0.432460</td>\n",
       "      <td>0.962963</td>\n",
       "    </tr>\n",
       "    <tr>\n",
       "      <th>25</th>\n",
       "      <td>0.441213</td>\n",
       "      <td>0.870968</td>\n",
       "      <td>0.416956</td>\n",
       "      <td>0.962963</td>\n",
       "    </tr>\n",
       "    <tr>\n",
       "      <th>26</th>\n",
       "      <td>0.449606</td>\n",
       "      <td>0.903226</td>\n",
       "      <td>0.400318</td>\n",
       "      <td>0.962963</td>\n",
       "    </tr>\n",
       "    <tr>\n",
       "      <th>27</th>\n",
       "      <td>0.428468</td>\n",
       "      <td>0.879032</td>\n",
       "      <td>0.385209</td>\n",
       "      <td>0.962963</td>\n",
       "    </tr>\n",
       "    <tr>\n",
       "      <th>28</th>\n",
       "      <td>0.408799</td>\n",
       "      <td>0.911290</td>\n",
       "      <td>0.371125</td>\n",
       "      <td>0.962963</td>\n",
       "    </tr>\n",
       "    <tr>\n",
       "      <th>29</th>\n",
       "      <td>0.408576</td>\n",
       "      <td>0.911290</td>\n",
       "      <td>0.357544</td>\n",
       "      <td>0.962963</td>\n",
       "    </tr>\n",
       "    <tr>\n",
       "      <th>30</th>\n",
       "      <td>0.474682</td>\n",
       "      <td>0.895161</td>\n",
       "      <td>0.346767</td>\n",
       "      <td>0.962963</td>\n",
       "    </tr>\n",
       "    <tr>\n",
       "      <th>31</th>\n",
       "      <td>0.420037</td>\n",
       "      <td>0.887097</td>\n",
       "      <td>0.338621</td>\n",
       "      <td>0.962963</td>\n",
       "    </tr>\n",
       "    <tr>\n",
       "      <th>32</th>\n",
       "      <td>0.444135</td>\n",
       "      <td>0.879032</td>\n",
       "      <td>0.330513</td>\n",
       "      <td>0.981481</td>\n",
       "    </tr>\n",
       "    <tr>\n",
       "      <th>33</th>\n",
       "      <td>0.366434</td>\n",
       "      <td>0.927419</td>\n",
       "      <td>0.321356</td>\n",
       "      <td>0.981481</td>\n",
       "    </tr>\n",
       "    <tr>\n",
       "      <th>34</th>\n",
       "      <td>0.396884</td>\n",
       "      <td>0.927419</td>\n",
       "      <td>0.313235</td>\n",
       "      <td>0.981481</td>\n",
       "    </tr>\n",
       "    <tr>\n",
       "      <th>35</th>\n",
       "      <td>0.369755</td>\n",
       "      <td>0.919355</td>\n",
       "      <td>0.305986</td>\n",
       "      <td>0.981481</td>\n",
       "    </tr>\n",
       "    <tr>\n",
       "      <th>36</th>\n",
       "      <td>0.397156</td>\n",
       "      <td>0.911290</td>\n",
       "      <td>0.299189</td>\n",
       "      <td>0.981481</td>\n",
       "    </tr>\n",
       "    <tr>\n",
       "      <th>37</th>\n",
       "      <td>0.369341</td>\n",
       "      <td>0.919355</td>\n",
       "      <td>0.292997</td>\n",
       "      <td>0.981481</td>\n",
       "    </tr>\n",
       "    <tr>\n",
       "      <th>38</th>\n",
       "      <td>0.316287</td>\n",
       "      <td>0.943548</td>\n",
       "      <td>0.286784</td>\n",
       "      <td>0.981481</td>\n",
       "    </tr>\n",
       "    <tr>\n",
       "      <th>39</th>\n",
       "      <td>0.418380</td>\n",
       "      <td>0.887097</td>\n",
       "      <td>0.281998</td>\n",
       "      <td>0.981481</td>\n",
       "    </tr>\n",
       "    <tr>\n",
       "      <th>40</th>\n",
       "      <td>0.365977</td>\n",
       "      <td>0.919355</td>\n",
       "      <td>0.278791</td>\n",
       "      <td>0.981481</td>\n",
       "    </tr>\n",
       "    <tr>\n",
       "      <th>41</th>\n",
       "      <td>0.362453</td>\n",
       "      <td>0.919355</td>\n",
       "      <td>0.273420</td>\n",
       "      <td>0.981481</td>\n",
       "    </tr>\n",
       "    <tr>\n",
       "      <th>42</th>\n",
       "      <td>0.374616</td>\n",
       "      <td>0.903226</td>\n",
       "      <td>0.269575</td>\n",
       "      <td>0.981481</td>\n",
       "    </tr>\n",
       "    <tr>\n",
       "      <th>43</th>\n",
       "      <td>0.331139</td>\n",
       "      <td>0.903226</td>\n",
       "      <td>0.265082</td>\n",
       "      <td>0.981481</td>\n",
       "    </tr>\n",
       "    <tr>\n",
       "      <th>44</th>\n",
       "      <td>0.399925</td>\n",
       "      <td>0.895161</td>\n",
       "      <td>0.260940</td>\n",
       "      <td>0.981481</td>\n",
       "    </tr>\n",
       "    <tr>\n",
       "      <th>45</th>\n",
       "      <td>0.317756</td>\n",
       "      <td>0.927419</td>\n",
       "      <td>0.255821</td>\n",
       "      <td>0.981481</td>\n",
       "    </tr>\n",
       "    <tr>\n",
       "      <th>46</th>\n",
       "      <td>0.298325</td>\n",
       "      <td>0.943548</td>\n",
       "      <td>0.250948</td>\n",
       "      <td>0.981481</td>\n",
       "    </tr>\n",
       "    <tr>\n",
       "      <th>47</th>\n",
       "      <td>0.367554</td>\n",
       "      <td>0.919355</td>\n",
       "      <td>0.247638</td>\n",
       "      <td>0.981481</td>\n",
       "    </tr>\n",
       "    <tr>\n",
       "      <th>48</th>\n",
       "      <td>0.292929</td>\n",
       "      <td>0.927419</td>\n",
       "      <td>0.242866</td>\n",
       "      <td>0.981481</td>\n",
       "    </tr>\n",
       "    <tr>\n",
       "      <th>49</th>\n",
       "      <td>0.295732</td>\n",
       "      <td>0.943548</td>\n",
       "      <td>0.240083</td>\n",
       "      <td>0.981481</td>\n",
       "    </tr>\n",
       "  </tbody>\n",
       "</table>\n",
       "</div>"
      ],
      "text/plain": [
       "        loss  accuracy  val_loss  val_accuracy\n",
       "0   1.453626  0.427419  8.183857      0.407407\n",
       "1   1.224581  0.459677  4.757411      0.407407\n",
       "2   1.055917  0.548387  3.096191      0.388889\n",
       "3   0.917832  0.564516  2.249741      0.370370\n",
       "4   0.908750  0.588710  1.787659      0.388889\n",
       "5   0.831598  0.645161  1.464932      0.370370\n",
       "6   0.754668  0.717742  1.281094      0.296296\n",
       "7   0.799424  0.637097  1.150466      0.351852\n",
       "8   0.693721  0.750000  1.054261      0.388889\n",
       "9   0.637507  0.798387  1.000988      0.425926\n",
       "10  0.640429  0.782258  0.963804      0.500000\n",
       "11  0.604908  0.806452  0.937789      0.555556\n",
       "12  0.670367  0.758065  0.913681      0.592593\n",
       "13  0.584234  0.830645  0.875554      0.629630\n",
       "14  0.540657  0.887097  0.819739      0.740741\n",
       "15  0.532317  0.854839  0.766268      0.796296\n",
       "16  0.533585  0.870968  0.705748      0.814815\n",
       "17  0.573679  0.870968  0.651820      0.888889\n",
       "18  0.498001  0.895161  0.605432      0.907407\n",
       "19  0.478114  0.911290  0.562156      0.925926\n",
       "20  0.460573  0.919355  0.526229      0.925926\n",
       "21  0.477094  0.895161  0.497347      0.962963\n",
       "22  0.442440  0.903226  0.472717      0.962963\n",
       "23  0.412539  0.935484  0.450711      0.962963\n",
       "24  0.444643  0.895161  0.432460      0.962963\n",
       "25  0.441213  0.870968  0.416956      0.962963\n",
       "26  0.449606  0.903226  0.400318      0.962963\n",
       "27  0.428468  0.879032  0.385209      0.962963\n",
       "28  0.408799  0.911290  0.371125      0.962963\n",
       "29  0.408576  0.911290  0.357544      0.962963\n",
       "30  0.474682  0.895161  0.346767      0.962963\n",
       "31  0.420037  0.887097  0.338621      0.962963\n",
       "32  0.444135  0.879032  0.330513      0.981481\n",
       "33  0.366434  0.927419  0.321356      0.981481\n",
       "34  0.396884  0.927419  0.313235      0.981481\n",
       "35  0.369755  0.919355  0.305986      0.981481\n",
       "36  0.397156  0.911290  0.299189      0.981481\n",
       "37  0.369341  0.919355  0.292997      0.981481\n",
       "38  0.316287  0.943548  0.286784      0.981481\n",
       "39  0.418380  0.887097  0.281998      0.981481\n",
       "40  0.365977  0.919355  0.278791      0.981481\n",
       "41  0.362453  0.919355  0.273420      0.981481\n",
       "42  0.374616  0.903226  0.269575      0.981481\n",
       "43  0.331139  0.903226  0.265082      0.981481\n",
       "44  0.399925  0.895161  0.260940      0.981481\n",
       "45  0.317756  0.927419  0.255821      0.981481\n",
       "46  0.298325  0.943548  0.250948      0.981481\n",
       "47  0.367554  0.919355  0.247638      0.981481\n",
       "48  0.292929  0.927419  0.242866      0.981481\n",
       "49  0.295732  0.943548  0.240083      0.981481"
      ]
     },
     "execution_count": 103,
     "metadata": {},
     "output_type": "execute_result"
    }
   ],
   "source": [
    "results"
   ]
  },
  {
   "cell_type": "code",
   "execution_count": 105,
   "metadata": {},
   "outputs": [
    {
     "data": {
      "text/plain": [
       "<matplotlib.axes._subplots.AxesSubplot at 0x7fe60fff0390>"
      ]
     },
     "execution_count": 105,
     "metadata": {},
     "output_type": "execute_result"
    },
    {
     "data": {
      "image/png": "[encoded data removed]",
      "text/plain": [
       "<Figure size 432x288 with 1 Axes>"
      ]
     },
     "metadata": {
      "needs_background": "light"
     },
     "output_type": "display_data"
    }
   ],
   "source": [
    "# accuracy(精度)を表示\n",
    "results[['accuracy', 'val_accuracy']].plot()"
   ]
  },
  {
   "cell_type": "code",
   "execution_count": 106,
   "metadata": {},
   "outputs": [],
   "source": [
    "# 青が訓練データなのにオレンジのほう(検証データ)が結果が良くなるからおかしい"
   ]
  },
  {
   "cell_type": "code",
   "execution_count": 107,
   "metadata": {},
   "outputs": [
    {
     "data": {
      "text/plain": [
       "<matplotlib.axes._subplots.AxesSubplot at 0x7fe60ff63cf8>"
      ]
     },
     "execution_count": 107,
     "metadata": {},
     "output_type": "execute_result"
    },
    {
     "data": {
      "image/png": "[encoded data removed]",
      "text/plain": [
       "<Figure size 432x288 with 1 Axes>"
      ]
     },
     "metadata": {
      "needs_background": "light"
     },
     "output_type": "display_data"
    }
   ],
   "source": [
    "# loss(損失度合い)を表示\n",
    "results[['loss', 'val_loss']].plot()"
   ]
  },
  {
   "cell_type": "code",
   "execution_count": null,
   "metadata": {},
   "outputs": [],
   "source": []
  }
 ],
 "metadata": {
  "kernelspec": {
   "display_name": "Python 3",
   "language": "python",
   "name": "python3"
  },
  "language_info": {
   "codemirror_mode": {
    "name": "ipython",
    "version": 3
   },
   "file_extension": ".py",
   "mimetype": "text/x-python",
   "name": "python",
   "nbconvert_exporter": "python",
   "pygments_lexer": "ipython3",
   "version": "3.7.6"
  }
 },
 "nbformat": 4,
 "nbformat_minor": 4
}
