{
 "cells": [
  {
   "cell_type": "markdown",
   "metadata": {
    "colab_type": "text",
    "id": "GYMW6jKfIdop"
   },
   "source": [
    "# プログラミングのテスト"
   ]
  },
  {
   "cell_type": "markdown",
   "metadata": {
    "colab_type": "text",
    "id": "JG3TZyLdIdoq"
   },
   "source": [
    "## 基礎編\n",
    "\n",
    "### Markdown モードに変更してください。\n",
    "できればショートカットで変更できると望ましいです。"
   ]
  },
  {
   "cell_type": "markdown",
   "metadata": {
    "colab_type": "text",
    "id": "dMcxPTy8Idor"
   },
   "source": [
    "### モジュールを読み込んでください\n",
    "\n",
    "- Numpy: np\n",
    "- Pandas: pd\n",
    "- Matplotlib -> pyplot: plt"
   ]
  },
  {
   "cell_type": "code",
   "execution_count": 0,
   "metadata": {
    "colab": {},
    "colab_type": "code",
    "id": "Np_U9Ip8Idos"
   },
   "outputs": [],
   "source": [
    "import numpy as np  # 数値計算\n",
    "import pandas as pd  # データ操作\n",
    "import matplotlib.pyplot as plt  # 可視化"
   ]
  },
  {
   "cell_type": "markdown",
   "metadata": {
    "colab_type": "text",
    "id": "JWLa0hHKIdov"
   },
   "source": [
    "### Matplotlib をインラインモードに設定してください"
   ]
  },
  {
   "cell_type": "code",
   "execution_count": 0,
   "metadata": {
    "colab": {},
    "colab_type": "code",
    "id": "fwMbrK1cIdow"
   },
   "outputs": [],
   "source": [
    "%matplotlib inline"
   ]
  },
  {
   "cell_type": "markdown",
   "metadata": {
    "colab_type": "text",
    "id": "h3yBzJllIdoy"
   },
   "source": [
    "### 各々のフォルダに下記のファイルをアップロード\n",
    "\n",
    "- sample1.csv\n",
    "- house.csv\n",
    "\n",
    "お手元にダウンロード→アップロード\n",
    "\n",
    "アップロードは GUI でボタンを探してください。"
   ]
  },
  {
   "cell_type": "markdown",
   "metadata": {
    "colab_type": "text",
    "id": "5aLbxjJzIdoy"
   },
   "source": [
    "## 応用編"
   ]
  },
  {
   "cell_type": "markdown",
   "metadata": {
    "colab_type": "text",
    "id": "qkGtOZmpIdoz"
   },
   "source": [
    "### 下記のリストを定義してください\n",
    "\n",
    "- 変数名：numbers\n",
    "- 値： 1, 2, 3"
   ]
  },
  {
   "cell_type": "code",
   "execution_count": 0,
   "metadata": {
    "colab": {},
    "colab_type": "code",
    "id": "nRk1Zsz9Ido0"
   },
   "outputs": [],
   "source": [
    "numbers = [1, 2, 3]"
   ]
  },
  {
   "cell_type": "code",
   "execution_count": 0,
   "metadata": {
    "colab": {},
    "colab_type": "code",
    "id": "-CWZom4rIdo2",
    "outputId": "fbb2bd9d-5da4-4088-8a70-3706a8a6db75"
   },
   "outputs": [
    {
     "data": {
      "text/plain": [
       "[1, 2, 3]"
      ]
     },
     "execution_count": 5,
     "metadata": {
      "tags": []
     },
     "output_type": "execute_result"
    }
   ],
   "source": [
    "numbers"
   ]
  },
  {
   "cell_type": "code",
   "execution_count": 0,
   "metadata": {
    "colab": {},
    "colab_type": "code",
    "id": "BYycFMF-Ido4",
    "outputId": "3b5bbce9-1c25-4120-d79b-d43c2fb51217"
   },
   "outputs": [
    {
     "data": {
      "text/plain": [
       "list"
      ]
     },
     "execution_count": 6,
     "metadata": {
      "tags": []
     },
     "output_type": "execute_result"
    }
   ],
   "source": [
    "type(numbers)"
   ]
  },
  {
   "cell_type": "markdown",
   "metadata": {
    "colab_type": "text",
    "id": "7zU0QPwqIdo6"
   },
   "source": [
    "### リストの足し算を行ってください\n",
    "\n",
    "a = [1, 2, 3]  \n",
    "b = [4, 5, 6]\n",
    "\n",
    "足し算の処理\n",
    "\n",
    "c <- [5, 7, 9]\n",
    "\n",
    "ポイント\n",
    "\n",
    "- どれだけコードが汚くても動くものを書く\n",
    "- 要素の数が増えても対応できるプログラムか？"
   ]
  },
  {
   "cell_type": "code",
   "execution_count": 0,
   "metadata": {
    "colab": {},
    "colab_type": "code",
    "id": "sCs5uj0_Ido7"
   },
   "outputs": [],
   "source": [
    "a = [1, 2, 3]\n",
    "b = [4, 5, 6]"
   ]
  },
  {
   "cell_type": "markdown",
   "metadata": {
    "colab_type": "text",
    "id": "uofGQQefIdo9"
   },
   "source": [
    "単純にリストの足し算をすると、次のようにリストの要素が追加されるだけの計算になってしまいます。"
   ]
  },
  {
   "cell_type": "code",
   "execution_count": 0,
   "metadata": {
    "colab": {},
    "colab_type": "code",
    "id": "LMGdid1eIdo9",
    "outputId": "09b997d9-0cd1-4324-f586-7eea1786201a"
   },
   "outputs": [
    {
     "data": {
      "text/plain": [
       "[1, 2, 3, 4, 5, 6]"
      ]
     },
     "execution_count": 8,
     "metadata": {
      "tags": []
     },
     "output_type": "execute_result"
    }
   ],
   "source": [
    "a + b"
   ]
  },
  {
   "cell_type": "markdown",
   "metadata": {
    "colab_type": "text",
    "id": "DYi9qNxcIdo_"
   },
   "source": [
    "まずは汚くても動くを優先として、各要素ごとの足し算で表現していきましょう。"
   ]
  },
  {
   "cell_type": "code",
   "execution_count": 0,
   "metadata": {
    "colab": {},
    "colab_type": "code",
    "id": "K8PeWcFxIdpA",
    "outputId": "c61d8d5c-f879-4bc4-8848-7f0d3f97dd1d"
   },
   "outputs": [
    {
     "data": {
      "text/plain": [
       "1"
      ]
     },
     "execution_count": 18,
     "metadata": {
      "tags": []
     },
     "output_type": "execute_result"
    }
   ],
   "source": [
    "a[0]"
   ]
  },
  {
   "cell_type": "code",
   "execution_count": 0,
   "metadata": {
    "colab": {},
    "colab_type": "code",
    "id": "CVSRLm6oIdpB"
   },
   "outputs": [],
   "source": [
    "c = [a[0]+b[0], a[1]+b[1], a[2]+b[2]]"
   ]
  },
  {
   "cell_type": "code",
   "execution_count": 0,
   "metadata": {
    "colab": {},
    "colab_type": "code",
    "id": "vLRr9GLTIdpD",
    "outputId": "30603bdb-d6d3-4cf4-a83c-3380d4db21fd"
   },
   "outputs": [
    {
     "data": {
      "text/plain": [
       "[5, 7, 9]"
      ]
     },
     "execution_count": 20,
     "metadata": {
      "tags": []
     },
     "output_type": "execute_result"
    }
   ],
   "source": [
    "c"
   ]
  },
  {
   "cell_type": "markdown",
   "metadata": {
    "colab_type": "text",
    "id": "pQIOQoSkIdpE"
   },
   "source": [
    "次に汎用的な処理が行えるように、`for` を使って繰り返しで記述していきましょう。\n",
    "\n",
    "長さの同じ2つのリストを繰り返す場合は `zip` を使います。\n",
    "まずはリストへの格納は置いておき、`print`で表示しながら確認しましょう。"
   ]
  },
  {
   "cell_type": "code",
   "execution_count": 0,
   "metadata": {
    "colab": {},
    "colab_type": "code",
    "id": "S2UX3TF-IdpF"
   },
   "outputs": [],
   "source": [
    "for (_a, _b) in zip(a, b):\n",
    "    print(_a + _b)"
   ]
  },
  {
   "cell_type": "markdown",
   "metadata": {
    "colab_type": "text",
    "id": "H616O3k7IdpG"
   },
   "source": [
    "つぎに、リストへの格納ですが、このような場合はよく空のリストを定義して、繰り返しの中で計算結果を追加していくということが行われます。"
   ]
  },
  {
   "cell_type": "code",
   "execution_count": 0,
   "metadata": {
    "colab": {},
    "colab_type": "code",
    "id": "84ldj4QYIdpH"
   },
   "outputs": [],
   "source": [
    "c = []  # 空のリスト\n",
    "for (_a, _b) in zip(a, b):\n",
    "    # print(_a + _b)\n",
    "    c.append(_a + _b)  # 追加"
   ]
  },
  {
   "cell_type": "code",
   "execution_count": 0,
   "metadata": {
    "colab": {},
    "colab_type": "code",
    "id": "HDAW5ggBIdpJ",
    "outputId": "d814ca6c-db45-436a-b351-01828de5f94a"
   },
   "outputs": [
    {
     "data": {
      "text/plain": [
       "[5, 7, 9]"
      ]
     },
     "execution_count": 15,
     "metadata": {
      "tags": []
     },
     "output_type": "execute_result"
    }
   ],
   "source": [
    "c"
   ]
  },
  {
   "cell_type": "markdown",
   "metadata": {
    "colab_type": "text",
    "id": "iLRcUdQkIdpL"
   },
   "source": [
    "この空のリストの定義と処理結果の追加は下記のように一行で書くこともでき、このような書き方を好む人もいるため覚えておきましょう。"
   ]
  },
  {
   "cell_type": "code",
   "execution_count": 0,
   "metadata": {
    "colab": {},
    "colab_type": "code",
    "id": "QNGos_vVIdpL"
   },
   "outputs": [],
   "source": [
    "c = [ _a+_b for (_a, _b) in zip(a,b) ]"
   ]
  },
  {
   "cell_type": "code",
   "execution_count": 0,
   "metadata": {
    "colab": {},
    "colab_type": "code",
    "id": "FN87qDOkIdpN",
    "outputId": "a1c26c4a-976e-413c-c0ab-b4c7564f99d3"
   },
   "outputs": [
    {
     "data": {
      "text/plain": [
       "[5, 7, 9]"
      ]
     },
     "execution_count": 17,
     "metadata": {
      "tags": []
     },
     "output_type": "execute_result"
    }
   ],
   "source": [
    "c"
   ]
  },
  {
   "cell_type": "markdown",
   "metadata": {
    "colab_type": "text",
    "id": "PvmTvg2nIdpO"
   },
   "source": [
    "### 偶数と奇数を分けてください\n",
    "\n",
    "numbers = [1, 2, 3, 4, 5, 6, 7, 8, 9, 10]\n",
    "\n",
    "odd <- [1, 3, 5, 7, 9]  \n",
    "even <- [2, 4 ,6, 8, 10]"
   ]
  },
  {
   "cell_type": "code",
   "execution_count": 0,
   "metadata": {
    "colab": {},
    "colab_type": "code",
    "collapsed": true,
    "id": "7FBDz3z_IdpP"
   },
   "outputs": [],
   "source": [
    "numbers = [1, 2, 3, 4, 5, 6, 7, 8, 9, 10]"
   ]
  },
  {
   "cell_type": "code",
   "execution_count": 0,
   "metadata": {
    "colab": {},
    "colab_type": "code",
    "id": "gU7YtuiyIdpR"
   },
   "outputs": [],
   "source": [
    "odd, even = [], []\n",
    "for number in numbers:\n",
    "    if number % 2 == 0:\n",
    "        # 偶数に追加\n",
    "        even.append(number)\n",
    "    else:\n",
    "        # 奇数に追加\n",
    "        odd.append(number)"
   ]
  },
  {
   "cell_type": "code",
   "execution_count": 0,
   "metadata": {
    "colab": {},
    "colab_type": "code",
    "id": "ph0URsUMIdpU",
    "outputId": "02203ca2-eabe-46fc-a920-826b063b67e1"
   },
   "outputs": [
    {
     "data": {
      "text/plain": [
       "[2, 4, 6, 8, 10]"
      ]
     },
     "execution_count": 28,
     "metadata": {
      "tags": []
     },
     "output_type": "execute_result"
    }
   ],
   "source": [
    "even"
   ]
  },
  {
   "cell_type": "code",
   "execution_count": 0,
   "metadata": {
    "colab": {},
    "colab_type": "code",
    "id": "d3d2kKfFIdpX",
    "outputId": "67af97d6-2c9b-4058-e1a0-99aeaf362059"
   },
   "outputs": [
    {
     "data": {
      "text/plain": [
       "[1, 3, 5, 7, 9]"
      ]
     },
     "execution_count": 29,
     "metadata": {
      "tags": []
     },
     "output_type": "execute_result"
    }
   ],
   "source": [
    "odd"
   ]
  },
  {
   "cell_type": "code",
   "execution_count": 0,
   "metadata": {
    "colab": {},
    "colab_type": "code",
    "id": "cqtuQMgSIdpZ",
    "outputId": "a30115a6-4e48-4ff0-97ac-b375711ecea9"
   },
   "outputs": [
    {
     "data": {
      "text/plain": [
       "[1, 2, 3, 4, 5, 6, 7, 8, 9, 10]"
      ]
     },
     "execution_count": 33,
     "metadata": {
      "tags": []
     },
     "output_type": "execute_result"
    }
   ],
   "source": [
    "list(range(1, 11))"
   ]
  },
  {
   "cell_type": "markdown",
   "metadata": {
    "colab_type": "text",
    "id": "7vY1jQGEIdpa"
   },
   "source": [
    "### 関数を作る\n",
    "\n",
    "先ほどの偶数奇数を分ける処理を関数化( calc )してください。\n",
    "\n",
    "numbers = list(range(1, 11))\n",
    "\n",
    "even, odd = calc(numbers)\n",
    "\n",
    "odd <- [1, 3, 5, 7, 9]  \n",
    "even <- [2, 4, 6, 8, 10] \n",
    "\n",
    "#### 発展\n",
    "\n",
    "最小値 n_min から最大値 n_max までの奇数と偶数を分ける関数\n",
    "\n",
    "even, odd = calc(n_min=1, n_max=5)\n",
    "\n",
    "odd <- [1, 3, 5]  \n",
    "even <- [2, 4]\n",
    "\n",
    "また引数を指定しない場合はデフォルトで最小値 1, 最大値 10 に設定してください。\n",
    "\n",
    "even, odd = calc()\n",
    "\n",
    "odd <- [1, 3, 5, 7, 9]  \n",
    "even <- [2, 4, 6, 8, 10] "
   ]
  },
  {
   "cell_type": "code",
   "execution_count": 0,
   "metadata": {
    "colab": {},
    "colab_type": "code",
    "id": "EpvqKaRkIdpb",
    "outputId": "5bed7899-65c0-451c-e03f-076123f9c0d3"
   },
   "outputs": [
    {
     "data": {
      "text/plain": [
       "[1, 2, 3, 4, 5, 6, 7, 8, 9, 10]"
      ]
     },
     "execution_count": 34,
     "metadata": {
      "tags": []
     },
     "output_type": "execute_result"
    }
   ],
   "source": [
    "numbers = list(range(1, 11))\n",
    "numbers"
   ]
  },
  {
   "cell_type": "code",
   "execution_count": 0,
   "metadata": {
    "colab": {},
    "colab_type": "code",
    "collapsed": true,
    "id": "jlNxq_hDIdpc"
   },
   "outputs": [],
   "source": [
    "def calc(numbers):\n",
    "    odd, even = [], []\n",
    "    for number in numbers:\n",
    "        if number % 2 == 0:\n",
    "            # 偶数に追加\n",
    "            even.append(number)\n",
    "        else:\n",
    "            # 奇数に追加\n",
    "            odd.append(number)\n",
    "    return even, odd"
   ]
  },
  {
   "cell_type": "code",
   "execution_count": 0,
   "metadata": {
    "colab": {},
    "colab_type": "code",
    "collapsed": true,
    "id": "y0rRxcacIdpe"
   },
   "outputs": [],
   "source": [
    "even, odd = calc(numbers)"
   ]
  },
  {
   "cell_type": "code",
   "execution_count": 0,
   "metadata": {
    "colab": {},
    "colab_type": "code",
    "id": "ABtfcXCSIdpf",
    "outputId": "dfda9bef-4b59-42ff-8964-bab775a26c56"
   },
   "outputs": [
    {
     "data": {
      "text/plain": [
       "[2, 4, 6, 8, 10]"
      ]
     },
     "execution_count": 37,
     "metadata": {
      "tags": []
     },
     "output_type": "execute_result"
    }
   ],
   "source": [
    "even"
   ]
  },
  {
   "cell_type": "code",
   "execution_count": 0,
   "metadata": {
    "colab": {},
    "colab_type": "code",
    "id": "IJQu0t7vIdph",
    "outputId": "665b4adf-6e7d-44b9-e2ef-ddaff9d1aaa0"
   },
   "outputs": [
    {
     "data": {
      "text/plain": [
       "[1, 3, 5, 7, 9]"
      ]
     },
     "execution_count": 38,
     "metadata": {
      "tags": []
     },
     "output_type": "execute_result"
    }
   ],
   "source": [
    "odd"
   ]
  },
  {
   "cell_type": "code",
   "execution_count": 0,
   "metadata": {
    "colab": {},
    "colab_type": "code",
    "collapsed": true,
    "id": "i0Xvva_nIdpj"
   },
   "outputs": [],
   "source": [
    "def calc(n_min=1, n_max=10):\n",
    "    \n",
    "    # 追加\n",
    "    numbers = list(range(n_min, n_max+1))\n",
    "    \n",
    "    odd, even = [], []\n",
    "    for number in numbers:\n",
    "        if number % 2 == 0:\n",
    "            # 偶数に追加\n",
    "            even.append(number)\n",
    "        else:\n",
    "            # 奇数に追加\n",
    "            odd.append(number)\n",
    "    return even, odd"
   ]
  },
  {
   "cell_type": "code",
   "execution_count": 0,
   "metadata": {
    "colab": {},
    "colab_type": "code",
    "collapsed": true,
    "id": "b8bjE7HwIdpl"
   },
   "outputs": [],
   "source": [
    "# even, odd = calc()\n",
    "even, odd = calc(n_min=10, n_max=20)"
   ]
  },
  {
   "cell_type": "code",
   "execution_count": 0,
   "metadata": {
    "colab": {},
    "colab_type": "code",
    "id": "HTSjzC0vIdpn",
    "outputId": "5315d0fb-d0f6-4fed-dfdb-94e8a8016afb"
   },
   "outputs": [
    {
     "data": {
      "text/plain": [
       "[10, 12, 14, 16, 18, 20]"
      ]
     },
     "execution_count": 44,
     "metadata": {
      "tags": []
     },
     "output_type": "execute_result"
    }
   ],
   "source": [
    "even"
   ]
  },
  {
   "cell_type": "code",
   "execution_count": 0,
   "metadata": {
    "colab": {},
    "colab_type": "code",
    "id": "in45BPvMIdpq",
    "outputId": "8952dadd-9575-4c9d-cdc0-9ea5cdd9176c"
   },
   "outputs": [
    {
     "data": {
      "text/plain": [
       "[11, 13, 15, 17, 19]"
      ]
     },
     "execution_count": 45,
     "metadata": {
      "tags": []
     },
     "output_type": "execute_result"
    }
   ],
   "source": [
    "odd"
   ]
  },
  {
   "cell_type": "markdown",
   "metadata": {
    "colab_type": "text",
    "id": "WS5058f3Idpr"
   },
   "source": [
    "## 発展編"
   ]
  },
  {
   "cell_type": "markdown",
   "metadata": {
    "colab_type": "text",
    "id": "EoDUeXHSIdps"
   },
   "source": [
    "### Pandas の操作\n",
    "\n",
    "- sample1.csv の読み込み -> df (data frame)\n",
    "- データの中を表示\n",
    "- x (<- x1, x2) と y を切り分けてください。\n",
    "- x1, x2, y の列のそれぞれの総和を計算してください -> x1_sum, x2_sum, y_sum"
   ]
  },
  {
   "cell_type": "code",
   "execution_count": 0,
   "metadata": {
    "colab": {},
    "colab_type": "code",
    "id": "rHIuCtuaIdps"
   },
   "outputs": [],
   "source": [
    "# CSVの読み込み\n",
    "df = pd.read_csv('sample1.csv')"
   ]
  },
  {
   "cell_type": "code",
   "execution_count": 0,
   "metadata": {
    "colab": {},
    "colab_type": "code",
    "id": "q1CpNQK7Idpt",
    "outputId": "59f0c18f-1aa6-4b7e-908b-b09590d14b02"
   },
   "outputs": [
    {
     "data": {
      "text/html": [
       "<div>\n",
       "<style>\n",
       "    .dataframe thead tr:only-child th {\n",
       "        text-align: right;\n",
       "    }\n",
       "\n",
       "    .dataframe thead th {\n",
       "        text-align: left;\n",
       "    }\n",
       "\n",
       "    .dataframe tbody tr th {\n",
       "        vertical-align: top;\n",
       "    }\n",
       "</style>\n",
       "<table border=\"1\" class=\"dataframe\">\n",
       "  <thead>\n",
       "    <tr style=\"text-align: right;\">\n",
       "      <th></th>\n",
       "      <th>y</th>\n",
       "      <th>x1</th>\n",
       "      <th>x2</th>\n",
       "    </tr>\n",
       "  </thead>\n",
       "  <tbody>\n",
       "    <tr>\n",
       "      <th>0</th>\n",
       "      <td>1</td>\n",
       "      <td>7</td>\n",
       "      <td>10</td>\n",
       "    </tr>\n",
       "    <tr>\n",
       "      <th>1</th>\n",
       "      <td>2</td>\n",
       "      <td>8</td>\n",
       "      <td>11</td>\n",
       "    </tr>\n",
       "    <tr>\n",
       "      <th>2</th>\n",
       "      <td>3</td>\n",
       "      <td>9</td>\n",
       "      <td>12</td>\n",
       "    </tr>\n",
       "    <tr>\n",
       "      <th>3</th>\n",
       "      <td>4</td>\n",
       "      <td>10</td>\n",
       "      <td>13</td>\n",
       "    </tr>\n",
       "    <tr>\n",
       "      <th>4</th>\n",
       "      <td>5</td>\n",
       "      <td>11</td>\n",
       "      <td>14</td>\n",
       "    </tr>\n",
       "    <tr>\n",
       "      <th>5</th>\n",
       "      <td>6</td>\n",
       "      <td>12</td>\n",
       "      <td>15</td>\n",
       "    </tr>\n",
       "  </tbody>\n",
       "</table>\n",
       "</div>"
      ],
      "text/plain": [
       "   y  x1  x2\n",
       "0  1   7  10\n",
       "1  2   8  11\n",
       "2  3   9  12\n",
       "3  4  10  13\n",
       "4  5  11  14\n",
       "5  6  12  15"
      ]
     },
     "execution_count": 48,
     "metadata": {
      "tags": []
     },
     "output_type": "execute_result"
    }
   ],
   "source": [
    "# データの中を表示\n",
    "df"
   ]
  },
  {
   "cell_type": "code",
   "execution_count": 0,
   "metadata": {
    "colab": {},
    "colab_type": "code",
    "collapsed": true,
    "id": "FLjxiNe7Idpv"
   },
   "outputs": [],
   "source": [
    "# x (<- x1, x2) とyを切り分けてください。\n",
    "# iloc[行, 列]\n",
    "y = df.iloc[:, 0]\n",
    "x = df.iloc[:, 1:]"
   ]
  },
  {
   "cell_type": "code",
   "execution_count": 0,
   "metadata": {
    "colab": {},
    "colab_type": "code",
    "id": "dKTKq9LjIdpx",
    "outputId": "ea1311a1-4db5-46bd-b86e-544b149908af"
   },
   "outputs": [
    {
     "data": {
      "text/html": [
       "<div>\n",
       "<style>\n",
       "    .dataframe thead tr:only-child th {\n",
       "        text-align: right;\n",
       "    }\n",
       "\n",
       "    .dataframe thead th {\n",
       "        text-align: left;\n",
       "    }\n",
       "\n",
       "    .dataframe tbody tr th {\n",
       "        vertical-align: top;\n",
       "    }\n",
       "</style>\n",
       "<table border=\"1\" class=\"dataframe\">\n",
       "  <thead>\n",
       "    <tr style=\"text-align: right;\">\n",
       "      <th></th>\n",
       "      <th>x1</th>\n",
       "      <th>x2</th>\n",
       "    </tr>\n",
       "  </thead>\n",
       "  <tbody>\n",
       "    <tr>\n",
       "      <th>0</th>\n",
       "      <td>7</td>\n",
       "      <td>10</td>\n",
       "    </tr>\n",
       "    <tr>\n",
       "      <th>1</th>\n",
       "      <td>8</td>\n",
       "      <td>11</td>\n",
       "    </tr>\n",
       "    <tr>\n",
       "      <th>2</th>\n",
       "      <td>9</td>\n",
       "      <td>12</td>\n",
       "    </tr>\n",
       "    <tr>\n",
       "      <th>3</th>\n",
       "      <td>10</td>\n",
       "      <td>13</td>\n",
       "    </tr>\n",
       "    <tr>\n",
       "      <th>4</th>\n",
       "      <td>11</td>\n",
       "      <td>14</td>\n",
       "    </tr>\n",
       "    <tr>\n",
       "      <th>5</th>\n",
       "      <td>12</td>\n",
       "      <td>15</td>\n",
       "    </tr>\n",
       "  </tbody>\n",
       "</table>\n",
       "</div>"
      ],
      "text/plain": [
       "   x1  x2\n",
       "0   7  10\n",
       "1   8  11\n",
       "2   9  12\n",
       "3  10  13\n",
       "4  11  14\n",
       "5  12  15"
      ]
     },
     "execution_count": 56,
     "metadata": {
      "tags": []
     },
     "output_type": "execute_result"
    }
   ],
   "source": [
    "x"
   ]
  },
  {
   "cell_type": "code",
   "execution_count": 0,
   "metadata": {
    "colab": {},
    "colab_type": "code",
    "collapsed": true,
    "id": "RbTatqn4Idpz"
   },
   "outputs": [],
   "source": [
    "# x1, x2, yの列のそれぞれの総和を計算してください"
   ]
  },
  {
   "cell_type": "code",
   "execution_count": 0,
   "metadata": {
    "colab": {},
    "colab_type": "code",
    "id": "QKfnniIIIdp0",
    "outputId": "7d5ec914-f950-4bab-dec9-4da0abbfb2ff"
   },
   "outputs": [
    {
     "data": {
      "text/plain": [
       "21"
      ]
     },
     "execution_count": 59,
     "metadata": {
      "tags": []
     },
     "output_type": "execute_result"
    }
   ],
   "source": [
    "df['y'].sum()"
   ]
  },
  {
   "cell_type": "code",
   "execution_count": 0,
   "metadata": {
    "colab": {},
    "colab_type": "code",
    "id": "mmaVM_5HIdp1"
   },
   "outputs": [],
   "source": [
    "x1_sum, x2_sum, y_sum = 0, 0, 0  # 初期化\n",
    "for (i, row) in df.iterrows():\n",
    "    x1, x2, y = row['x1'], row['x2'], row['y']\n",
    "    x1_sum += x1\n",
    "    x2_sum += x2\n",
    "    y_sum += y"
   ]
  },
  {
   "cell_type": "code",
   "execution_count": 0,
   "metadata": {
    "colab": {},
    "colab_type": "code",
    "id": "M2VDDffnIdp3",
    "outputId": "c401abf4-56e2-47db-9213-e748b786686c"
   },
   "outputs": [
    {
     "data": {
      "text/plain": [
       "57"
      ]
     },
     "execution_count": 67,
     "metadata": {
      "tags": []
     },
     "output_type": "execute_result"
    }
   ],
   "source": [
    "x1_sum"
   ]
  },
  {
   "cell_type": "code",
   "execution_count": 0,
   "metadata": {
    "colab": {},
    "colab_type": "code",
    "id": "of5875pwIdp4",
    "outputId": "49871fb9-8ab9-4451-9697-ba78f097e645"
   },
   "outputs": [
    {
     "data": {
      "text/plain": [
       "75"
      ]
     },
     "execution_count": 68,
     "metadata": {
      "tags": []
     },
     "output_type": "execute_result"
    }
   ],
   "source": [
    "x2_sum"
   ]
  },
  {
   "cell_type": "code",
   "execution_count": 0,
   "metadata": {
    "colab": {},
    "colab_type": "code",
    "id": "cALpWQAjIdp6",
    "outputId": "838c1ec9-7a2c-47c1-ce81-404cbd7f9b22"
   },
   "outputs": [
    {
     "data": {
      "text/plain": [
       "21"
      ]
     },
     "execution_count": 69,
     "metadata": {
      "tags": []
     },
     "output_type": "execute_result"
    }
   ],
   "source": [
    "y_sum"
   ]
  }
 ],
 "metadata": {
  "colab": {
   "name": "01_programming.ipynb",
   "provenance": []
  },
  "kernelspec": {
   "display_name": "Python 3",
   "language": "python",
   "name": "python3"
  },
  "language_info": {
   "codemirror_mode": {
    "name": "ipython",
    "version": 3
   },
   "file_extension": ".py",
   "mimetype": "text/x-python",
   "name": "python",
   "nbconvert_exporter": "python",
   "pygments_lexer": "ipython3",
   "version": "3.6.9"
  }
 },
 "nbformat": 4,
 "nbformat_minor": 1
}
