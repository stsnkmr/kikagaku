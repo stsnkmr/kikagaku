{
 "cells": [
  {
   "cell_type": "markdown",
   "metadata": {
    "colab_type": "text",
    "id": "sWBwKA_X10qz"
   },
   "source": [
    "# TensorFlow 入門（回帰）\n",
    "分類と同じく教師あり学習のトピックである回帰についても Keras で実装する方法を学びましょう。\n",
    "基本的には、分類と同じように実装することができます。\n",
    "\n",
    "今回は、予習資料でも使用していた家賃の予測に関する回帰の問題です。  \n",
    "\n",
    "## 一連の流れを確認\n",
    "\n",
    "\n",
    "### 必要なモジュールの読み込み\n",
    "\n",
    "下記の ３ つは解析の最初に読み込んでおくと便利です。\n",
    "\n",
    "- NumPy\n",
    "- Pandas\n",
    "- Matplotlib（インラインモードの設定含む）\n",
    "\n",
    "\n",
    "学習のレイアウトを綺麗にする。"
   ]
  },
  {
   "cell_type": "code",
   "execution_count": 1,
   "metadata": {
    "colab": {},
    "colab_type": "code",
    "id": "xwHOtkL_10q1"
   },
   "outputs": [],
   "source": [
    "import numpy as np\n",
    "import pandas as pd\n",
    "import matplotlib.pyplot as plt\n",
    "%matplotlib inline"
   ]
  },
  {
   "cell_type": "markdown",
   "metadata": {
    "colab_type": "text",
    "id": "c7uueR_410q4"
   },
   "source": [
    "まずは、データを確認していきましょう。"
   ]
  },
  {
   "cell_type": "code",
   "execution_count": 2,
   "metadata": {
    "colab": {},
    "colab_type": "code",
    "id": "vxS5DnPN10q4"
   },
   "outputs": [],
   "source": [
    "# CSVファイルの読み込み\n",
    "df = pd.read_csv('data/housing.csv')"
   ]
  },
  {
   "cell_type": "code",
   "execution_count": 3,
   "metadata": {
    "colab": {
     "base_uri": "https://localhost:8080/",
     "height": 138
    },
    "colab_type": "code",
    "executionInfo": {
     "elapsed": 842,
     "status": "ok",
     "timestamp": 1570775876807,
     "user": {
      "displayName": "佐川史弥",
      "photoUrl": "",
      "userId": "17735252083618003950"
     },
     "user_tz": -540
    },
    "id": "OfZg1fKJ10q6",
    "outputId": "44a96c0e-b8ca-408d-cae0-c988f32a9f71"
   },
   "outputs": [
    {
     "data": {
      "text/html": [
       "<div>\n",
       "<style scoped>\n",
       "    .dataframe tbody tr th:only-of-type {\n",
       "        vertical-align: middle;\n",
       "    }\n",
       "\n",
       "    .dataframe tbody tr th {\n",
       "        vertical-align: top;\n",
       "    }\n",
       "\n",
       "    .dataframe thead th {\n",
       "        text-align: right;\n",
       "    }\n",
       "</style>\n",
       "<table border=\"1\" class=\"dataframe\">\n",
       "  <thead>\n",
       "    <tr style=\"text-align: right;\">\n",
       "      <th></th>\n",
       "      <th>x1</th>\n",
       "      <th>x2</th>\n",
       "      <th>x3</th>\n",
       "      <th>x4</th>\n",
       "      <th>x5</th>\n",
       "      <th>x6</th>\n",
       "      <th>x7</th>\n",
       "      <th>x8</th>\n",
       "      <th>x9</th>\n",
       "      <th>x10</th>\n",
       "      <th>x11</th>\n",
       "      <th>x12</th>\n",
       "      <th>x13</th>\n",
       "      <th>y</th>\n",
       "    </tr>\n",
       "  </thead>\n",
       "  <tbody>\n",
       "    <tr>\n",
       "      <th>0</th>\n",
       "      <td>0.00632</td>\n",
       "      <td>18.0</td>\n",
       "      <td>2.31</td>\n",
       "      <td>0</td>\n",
       "      <td>0.538</td>\n",
       "      <td>6.575</td>\n",
       "      <td>65.2</td>\n",
       "      <td>4.0900</td>\n",
       "      <td>1</td>\n",
       "      <td>296</td>\n",
       "      <td>15.3</td>\n",
       "      <td>396.90</td>\n",
       "      <td>4.98</td>\n",
       "      <td>24.0</td>\n",
       "    </tr>\n",
       "    <tr>\n",
       "      <th>1</th>\n",
       "      <td>0.02731</td>\n",
       "      <td>0.0</td>\n",
       "      <td>7.07</td>\n",
       "      <td>0</td>\n",
       "      <td>0.469</td>\n",
       "      <td>6.421</td>\n",
       "      <td>78.9</td>\n",
       "      <td>4.9671</td>\n",
       "      <td>2</td>\n",
       "      <td>242</td>\n",
       "      <td>17.8</td>\n",
       "      <td>396.90</td>\n",
       "      <td>9.14</td>\n",
       "      <td>21.6</td>\n",
       "    </tr>\n",
       "    <tr>\n",
       "      <th>2</th>\n",
       "      <td>0.02729</td>\n",
       "      <td>0.0</td>\n",
       "      <td>7.07</td>\n",
       "      <td>0</td>\n",
       "      <td>0.469</td>\n",
       "      <td>7.185</td>\n",
       "      <td>61.1</td>\n",
       "      <td>4.9671</td>\n",
       "      <td>2</td>\n",
       "      <td>242</td>\n",
       "      <td>17.8</td>\n",
       "      <td>392.83</td>\n",
       "      <td>4.03</td>\n",
       "      <td>34.7</td>\n",
       "    </tr>\n",
       "  </tbody>\n",
       "</table>\n",
       "</div>"
      ],
      "text/plain": [
       "        x1    x2    x3  x4     x5     x6    x7      x8  x9  x10   x11     x12  \\\n",
       "0  0.00632  18.0  2.31   0  0.538  6.575  65.2  4.0900   1  296  15.3  396.90   \n",
       "1  0.02731   0.0  7.07   0  0.469  6.421  78.9  4.9671   2  242  17.8  396.90   \n",
       "2  0.02729   0.0  7.07   0  0.469  7.185  61.1  4.9671   2  242  17.8  392.83   \n",
       "\n",
       "    x13     y  \n",
       "0  4.98  24.0  \n",
       "1  9.14  21.6  \n",
       "2  4.03  34.7  "
      ]
     },
     "execution_count": 3,
     "metadata": {},
     "output_type": "execute_result"
    }
   ],
   "source": [
    "df.head(3)"
   ]
  },
  {
   "cell_type": "markdown",
   "metadata": {
    "colab_type": "text",
    "id": "uT8vI6JZ10q-"
   },
   "source": [
    "データを確認したところ、今回は入力変数の数が 13 個であることがわかります。\n",
    "\n",
    "## 入力変数と教師データの作成\n",
    "\n",
    "それでは入力変数と教師データを切り分けていきましょう。Keras で使用することも念頭に入れて、Pandas で部分抽出した後に、 `.values` でNumPy に変換しておきましょう。 "
   ]
  },
  {
   "cell_type": "code",
   "execution_count": 4,
   "metadata": {
    "colab": {},
    "colab_type": "code",
    "id": "sb_OLMPk10q_"
   },
   "outputs": [],
   "source": [
    "x = df.iloc[:, :-1].values\n",
    "t = df.iloc[:, -1].values"
   ]
  },
  {
   "cell_type": "code",
   "execution_count": 5,
   "metadata": {
    "colab": {
     "base_uri": "https://localhost:8080/",
     "height": 35
    },
    "colab_type": "code",
    "executionInfo": {
     "elapsed": 1498,
     "status": "ok",
     "timestamp": 1570775884195,
     "user": {
      "displayName": "佐川史弥",
      "photoUrl": "",
      "userId": "17735252083618003950"
     },
     "user_tz": -540
    },
    "id": "8TnW-YBz10rB",
    "outputId": "53816fc8-ba63-456f-d4de-354392ad3f02"
   },
   "outputs": [
    {
     "data": {
      "text/plain": [
       "(506, 13)"
      ]
     },
     "execution_count": 5,
     "metadata": {},
     "output_type": "execute_result"
    }
   ],
   "source": [
    "x.shape"
   ]
  },
  {
   "cell_type": "code",
   "execution_count": 6,
   "metadata": {
    "colab": {
     "base_uri": "https://localhost:8080/",
     "height": 35
    },
    "colab_type": "code",
    "executionInfo": {
     "elapsed": 702,
     "status": "ok",
     "timestamp": 1570775885496,
     "user": {
      "displayName": "佐川史弥",
      "photoUrl": "",
      "userId": "17735252083618003950"
     },
     "user_tz": -540
    },
    "id": "NeJZ3xP010rD",
    "outputId": "b57d01e9-92e3-4d70-a938-d43f14077230"
   },
   "outputs": [
    {
     "data": {
      "text/plain": [
       "(506,)"
      ]
     },
     "execution_count": 6,
     "metadata": {},
     "output_type": "execute_result"
    }
   ],
   "source": [
    "t.shape"
   ]
  },
  {
   "cell_type": "markdown",
   "metadata": {
    "colab_type": "text",
    "id": "Ur2YZHg010rH"
   },
   "source": [
    "こちらで望ましい形式へと変換することができました。\n",
    "\n",
    "### データセットの準備\n",
    "\n",
    "分類の場合でも紹介した方法で、Keras で扱える形式へと変換しましょう。"
   ]
  },
  {
   "cell_type": "markdown",
   "metadata": {
    "colab_type": "text",
    "id": "_XvWy29s10rI"
   },
   "source": [
    "### 訓練データと検証データに分割"
   ]
  },
  {
   "cell_type": "markdown",
   "metadata": {
    "colab_type": "text",
    "id": "dHTrgqMq10rK"
   },
   "source": [
    "訓練データの数は全体の 70% とできるように、`train_size` の引数として 0.7 を格納しておき、全体からランダムに 70% を訓練データ、残りの 30% を検証データとしましょう。\n",
    "ここで、**ランダム**という言葉が出てきた際は**再現性の確保**ができているかに注意しましょう。\n",
    "`train_test_split`でも任意の引数として、`random_state`があるため、しっかり固定しておきましょう。"
   ]
  },
  {
   "cell_type": "code",
   "execution_count": 7,
   "metadata": {
    "colab": {},
    "colab_type": "code",
    "id": "xO557z8_10rL"
   },
   "outputs": [
    {
     "name": "stderr",
     "output_type": "stream",
     "text": [
      "/usr/local/lib/python3.6/dist-packages/sklearn/model_selection/_split.py:2179: FutureWarning: From version 0.21, test_size will always complement train_size unless both are specified.\n",
      "  FutureWarning)\n"
     ]
    }
   ],
   "source": [
    "from sklearn.model_selection import train_test_split\n",
    "\n",
    "train_x, val_x, train_t, val_t = train_test_split(x, t, train_size=0.7, random_state=0)"
   ]
  },
  {
   "cell_type": "code",
   "execution_count": 8,
   "metadata": {
    "colab": {
     "base_uri": "https://localhost:8080/",
     "height": 35
    },
    "colab_type": "code",
    "executionInfo": {
     "elapsed": 1425,
     "status": "ok",
     "timestamp": 1570775907424,
     "user": {
      "displayName": "佐川史弥",
      "photoUrl": "",
      "userId": "17735252083618003950"
     },
     "user_tz": -540
    },
    "id": "8S37B4f710rN",
    "outputId": "2241bbab-88cd-4c28-e297-81141f98156a"
   },
   "outputs": [
    {
     "data": {
      "text/plain": [
       "(354, 13)"
      ]
     },
     "execution_count": 8,
     "metadata": {},
     "output_type": "execute_result"
    }
   ],
   "source": [
    "train_x.shape"
   ]
  },
  {
   "cell_type": "code",
   "execution_count": 9,
   "metadata": {
    "colab": {
     "base_uri": "https://localhost:8080/",
     "height": 35
    },
    "colab_type": "code",
    "executionInfo": {
     "elapsed": 1003,
     "status": "ok",
     "timestamp": 1570775908820,
     "user": {
      "displayName": "佐川史弥",
      "photoUrl": "",
      "userId": "17735252083618003950"
     },
     "user_tz": -540
    },
    "id": "TmNBYQk510rP",
    "outputId": "17f7f6d8-f06d-4668-8291-f440dce0e74d"
   },
   "outputs": [
    {
     "data": {
      "text/plain": [
       "(354, 152)"
      ]
     },
     "execution_count": 9,
     "metadata": {},
     "output_type": "execute_result"
    }
   ],
   "source": [
    "len(train_x), len(val_x)"
   ]
  },
  {
   "cell_type": "markdown",
   "metadata": {
    "colab_type": "text",
    "id": "lRRVT0_c10rR"
   },
   "source": [
    "### ニューラルネットワークのモデルの定義"
   ]
  },
  {
   "cell_type": "code",
   "execution_count": 10,
   "metadata": {
    "colab": {},
    "colab_type": "code",
    "id": "LqcTkqw7IXYY"
   },
   "outputs": [],
   "source": [
    "# Pythonの挙動を整えるライブラリのインポート\n",
    "from __future__ import absolute_import, division, print_function, unicode_literals\n",
    "\n",
    "# TensorFlow と tf.keras のインポート\n",
    "import tensorflow as tf\n",
    "from tensorflow import keras"
   ]
  },
  {
   "cell_type": "code",
   "execution_count": 11,
   "metadata": {
    "colab": {},
    "colab_type": "code",
    "id": "6OdTvK6aIbsp"
   },
   "outputs": [],
   "source": [
    "import os\n",
    "import random\n",
    "\n",
    "def reset_seed(seed=0):\n",
    "    \n",
    "    os.environ['PYTHONHASHSEED'] = '0'\n",
    "    random.seed(seed) #　random関数のシードを固定\n",
    "    np.random.seed(seed) #numpyのシードを固定\n",
    "    tf.random.set_seed(seed) #tensorflowのシードを固定"
   ]
  },
  {
   "cell_type": "code",
   "execution_count": 12,
   "metadata": {
    "colab": {},
    "colab_type": "code",
    "id": "798Qg1oJIgPx"
   },
   "outputs": [],
   "source": [
    "from tensorflow.keras import models,layers\n",
    "\n",
    "#  シードの固定\n",
    "reset_seed(0)\n",
    "\n",
    "# モデルのインスタンス化\n",
    "model = models.Sequential()\n",
    "\n",
    "#モデルの構築\n",
    "model.add(layers.Dense(5, activation='relu', input_shape=(13,)))\n",
    "model.add(layers.Dense(1))\n",
    "\n",
    "#最適化手法の設定\n",
    "optimizer = keras.optimizers.SGD(0.1)\n",
    "\n",
    "#モデルのコンパイル\n",
    "model.compile(loss='mean_squared_error', optimizer=optimizer)"
   ]
  },
  {
   "cell_type": "markdown",
   "metadata": {
    "colab_type": "text",
    "id": "w-6HHJwF10rW"
   },
   "source": [
    "### 学習の実行\n",
    "では、先ほどと同じように学習を実行しましょう。"
   ]
  },
  {
   "cell_type": "code",
   "execution_count": 13,
   "metadata": {
    "colab": {
     "base_uri": "https://localhost:8080/",
     "height": 1000
    },
    "colab_type": "code",
    "executionInfo": {
     "elapsed": 10495,
     "status": "ok",
     "timestamp": 1570775989975,
     "user": {
      "displayName": "佐川史弥",
      "photoUrl": "",
      "userId": "17735252083618003950"
     },
     "user_tz": -540
    },
    "id": "Gxrz2Ggr10rW",
    "outputId": "0010393b-6b13-40c5-faa5-e7f3042af5c0",
    "scrolled": false
   },
   "outputs": [
    {
     "name": "stdout",
     "output_type": "stream",
     "text": [
      "Train on 354 samples, validate on 152 samples\n",
      "Epoch 1/50\n",
      "354/354 [==============================] - 1s 2ms/sample - loss: 427767976281260608.0000 - val_loss: 584053151608616.3750\n",
      "Epoch 2/50\n",
      "354/354 [==============================] - 0s 243us/sample - loss: 45829654181805.9219 - val_loss: 61478491.9474\n",
      "Epoch 3/50\n",
      "354/354 [==============================] - 0s 240us/sample - loss: 4826553.8524 - val_loss: 90.0453\n",
      "Epoch 4/50\n",
      "354/354 [==============================] - 0s 235us/sample - loss: 85.9857 - val_loss: 83.9380\n",
      "Epoch 5/50\n",
      "354/354 [==============================] - 0s 246us/sample - loss: 86.0996 - val_loss: 83.5324\n",
      "Epoch 6/50\n",
      "354/354 [==============================] - 0s 252us/sample - loss: 86.4425 - val_loss: 86.5923\n",
      "Epoch 7/50\n",
      "354/354 [==============================] - 0s 239us/sample - loss: 86.2200 - val_loss: 84.0742\n",
      "Epoch 8/50\n",
      "354/354 [==============================] - 0s 239us/sample - loss: 86.0495 - val_loss: 83.3308\n",
      "Epoch 9/50\n",
      "354/354 [==============================] - 0s 253us/sample - loss: 86.5490 - val_loss: 85.7163\n",
      "Epoch 10/50\n",
      "354/354 [==============================] - 0s 250us/sample - loss: 86.3929 - val_loss: 89.2469\n",
      "Epoch 11/50\n",
      "354/354 [==============================] - 0s 253us/sample - loss: 86.2296 - val_loss: 85.9313\n",
      "Epoch 12/50\n",
      "354/354 [==============================] - 0s 250us/sample - loss: 85.9915 - val_loss: 84.2491\n",
      "Epoch 13/50\n",
      "354/354 [==============================] - 0s 293us/sample - loss: 85.3269 - val_loss: 83.3662\n",
      "Epoch 14/50\n",
      "354/354 [==============================] - 0s 259us/sample - loss: 86.1436 - val_loss: 83.6270\n",
      "Epoch 15/50\n",
      "354/354 [==============================] - 0s 242us/sample - loss: 85.3212 - val_loss: 86.0878\n",
      "Epoch 16/50\n",
      "354/354 [==============================] - 0s 250us/sample - loss: 86.9789 - val_loss: 83.2834\n",
      "Epoch 17/50\n",
      "354/354 [==============================] - 0s 249us/sample - loss: 86.0509 - val_loss: 83.2942\n",
      "Epoch 18/50\n",
      "354/354 [==============================] - 0s 249us/sample - loss: 85.7719 - val_loss: 84.2303\n",
      "Epoch 19/50\n",
      "354/354 [==============================] - 0s 234us/sample - loss: 85.7160 - val_loss: 83.3069\n",
      "Epoch 20/50\n",
      "354/354 [==============================] - 0s 238us/sample - loss: 85.8296 - val_loss: 83.8662\n",
      "Epoch 21/50\n",
      "354/354 [==============================] - 0s 249us/sample - loss: 85.9986 - val_loss: 86.7804\n",
      "Epoch 22/50\n",
      "354/354 [==============================] - 0s 247us/sample - loss: 85.5448 - val_loss: 83.2811\n",
      "Epoch 23/50\n",
      "354/354 [==============================] - 0s 245us/sample - loss: 85.9999 - val_loss: 83.2857\n",
      "Epoch 24/50\n",
      "354/354 [==============================] - 0s 246us/sample - loss: 85.8688 - val_loss: 83.3239\n",
      "Epoch 25/50\n",
      "354/354 [==============================] - 0s 247us/sample - loss: 85.9590 - val_loss: 83.2914\n",
      "Epoch 26/50\n",
      "354/354 [==============================] - 0s 252us/sample - loss: 85.8430 - val_loss: 92.9287\n",
      "Epoch 27/50\n",
      "354/354 [==============================] - 0s 243us/sample - loss: 85.8400 - val_loss: 91.4792\n",
      "Epoch 28/50\n",
      "354/354 [==============================] - 0s 239us/sample - loss: 85.9116 - val_loss: 84.1428\n",
      "Epoch 29/50\n",
      "354/354 [==============================] - 0s 246us/sample - loss: 86.2740 - val_loss: 83.2658\n",
      "Epoch 30/50\n",
      "354/354 [==============================] - 0s 246us/sample - loss: 85.2670 - val_loss: 83.4881\n",
      "Epoch 31/50\n",
      "354/354 [==============================] - 0s 238us/sample - loss: 86.1293 - val_loss: 86.0686\n",
      "Epoch 32/50\n",
      "354/354 [==============================] - 0s 239us/sample - loss: 87.1243 - val_loss: 85.5311\n",
      "Epoch 33/50\n",
      "354/354 [==============================] - 0s 249us/sample - loss: 85.7484 - val_loss: 84.1411\n",
      "Epoch 34/50\n",
      "354/354 [==============================] - 0s 259us/sample - loss: 86.9056 - val_loss: 84.3213\n",
      "Epoch 35/50\n",
      "354/354 [==============================] - 0s 250us/sample - loss: 86.2034 - val_loss: 92.3553\n",
      "Epoch 36/50\n",
      "354/354 [==============================] - 0s 244us/sample - loss: 86.5223 - val_loss: 83.4456\n",
      "Epoch 37/50\n",
      "354/354 [==============================] - 0s 242us/sample - loss: 86.4410 - val_loss: 91.1348\n",
      "Epoch 38/50\n",
      "354/354 [==============================] - 0s 262us/sample - loss: 85.7281 - val_loss: 83.9938\n",
      "Epoch 39/50\n",
      "354/354 [==============================] - 0s 243us/sample - loss: 86.7156 - val_loss: 85.3642\n",
      "Epoch 40/50\n",
      "354/354 [==============================] - 0s 240us/sample - loss: 84.7000 - val_loss: 84.3023\n",
      "Epoch 41/50\n",
      "354/354 [==============================] - 0s 243us/sample - loss: 85.8615 - val_loss: 83.6928\n",
      "Epoch 42/50\n",
      "354/354 [==============================] - 0s 249us/sample - loss: 85.7303 - val_loss: 83.2963\n",
      "Epoch 43/50\n",
      "354/354 [==============================] - 0s 249us/sample - loss: 86.1206 - val_loss: 84.9569\n",
      "Epoch 44/50\n",
      "354/354 [==============================] - 0s 245us/sample - loss: 85.2523 - val_loss: 83.5885\n",
      "Epoch 45/50\n",
      "354/354 [==============================] - 0s 246us/sample - loss: 85.9526 - val_loss: 83.6271\n",
      "Epoch 46/50\n",
      "354/354 [==============================] - 0s 240us/sample - loss: 86.7918 - val_loss: 83.4614\n",
      "Epoch 47/50\n",
      "354/354 [==============================] - 0s 261us/sample - loss: 85.6386 - val_loss: 88.7635\n",
      "Epoch 48/50\n",
      "354/354 [==============================] - 0s 249us/sample - loss: 85.0323 - val_loss: 83.7699\n",
      "Epoch 49/50\n",
      "354/354 [==============================] - 0s 241us/sample - loss: 86.2768 - val_loss: 83.3478\n",
      "Epoch 50/50\n",
      "354/354 [==============================] - 0s 240us/sample - loss: 85.8655 - val_loss: 84.2834\n"
     ]
    }
   ],
   "source": [
    "history = model.fit(train_x, train_t, batch_size=10, epochs=50, verbose=1, validation_data=(val_x, val_t))"
   ]
  },
  {
   "cell_type": "markdown",
   "metadata": {
    "colab_type": "text",
    "id": "RKL0wJlB10rY"
   },
   "source": [
    "### 結果の確認\n",
    "今回は学習の結果を可視化しましょう。"
   ]
  },
  {
   "cell_type": "code",
   "execution_count": 14,
   "metadata": {
    "colab": {},
    "colab_type": "code",
    "id": "XrIA5B7j10rZ"
   },
   "outputs": [],
   "source": [
    "# 学習結果をPandasのDataFrame型で読み込みます。\n",
    "results = pd.DataFrame(history.history)"
   ]
  },
  {
   "cell_type": "code",
   "execution_count": 15,
   "metadata": {
    "colab": {
     "base_uri": "https://localhost:8080/",
     "height": 287
    },
    "colab_type": "code",
    "executionInfo": {
     "elapsed": 1564,
     "status": "ok",
     "timestamp": 1570775995542,
     "user": {
      "displayName": "佐川史弥",
      "photoUrl": "",
      "userId": "17735252083618003950"
     },
     "user_tz": -540
    },
    "id": "C7V9hwyv10ra",
    "outputId": "232cf219-33aa-41ae-e238-dee71886533a"
   },
   "outputs": [
    {
     "data": {
      "text/plain": [
       "(80, 100)"
      ]
     },
     "execution_count": 15,
     "metadata": {},
     "output_type": "execute_result"
    },
    {
     "data": {
      "image/png": "[encoded data removed]",
      "text/plain": [
       "<Figure size 432x288 with 1 Axes>"
      ]
     },
     "metadata": {
      "needs_background": "light"
     },
     "output_type": "display_data"
    }
   ],
   "source": [
    "# loss（損失関数）を表示\n",
    "graph = results[['loss', 'val_loss']].plot()\n",
    "graph.set_xlim([0,40])\n",
    "graph.set_ylim([80,100])"
   ]
  },
  {
   "cell_type": "code",
   "execution_count": 16,
   "metadata": {
    "colab": {
     "base_uri": "https://localhost:8080/",
     "height": 35
    },
    "colab_type": "code",
    "executionInfo": {
     "elapsed": 766,
     "status": "ok",
     "timestamp": 1570776117828,
     "user": {
      "displayName": "佐川史弥",
      "photoUrl": "",
      "userId": "17735252083618003950"
     },
     "user_tz": -540
    },
    "id": "HEOYHBJ6i8qT",
    "outputId": "a95d182f-eb2c-42a7-93d2-01f38d421125"
   },
   "outputs": [
    {
     "data": {
      "text/plain": [
       "9.180599120391136"
      ]
     },
     "execution_count": 16,
     "metadata": {},
     "output_type": "execute_result"
    }
   ],
   "source": [
    "#最終誤差のオリジナルスケールでの表示\n",
    "np.sqrt(results.iloc[-1,1])"
   ]
  },
  {
   "cell_type": "markdown",
   "metadata": {
    "colab_type": "text",
    "collapsed": true,
    "id": "4sUonB4e10rc"
   },
   "source": [
    "## 演習課題\n",
    "\n",
    "上記の結果のように、平均二乗誤差が検証データにおいて84となっており、オリジナルのスケールだと平均で、9.18の誤差が生じていることになり、予測誤差が非常に大きいことがわかります。\n",
    "\n",
    "この原因を考え、対策をうち、平均二乗誤差を小さくできるようなモデルを考えてみましょう。"
   ]
  }
 ],
 "metadata": {
  "accelerator": "GPU",
  "colab": {
   "name": "TF_Regression.ipynb",
   "provenance": []
  },
  "kernelspec": {
   "display_name": "Python 3",
   "language": "python",
   "name": "python3"
  },
  "language_info": {
   "codemirror_mode": {
    "name": "ipython",
    "version": 3
   },
   "file_extension": ".py",
   "mimetype": "text/x-python",
   "name": "python",
   "nbconvert_exporter": "python",
   "pygments_lexer": "ipython3",
   "version": "3.6.9"
  }
 },
 "nbformat": 4,
 "nbformat_minor": 1
}
