{
 "cells": [
  {
   "cell_type": "markdown",
   "metadata": {
    "colab_type": "text",
    "id": "qT8Lk8AB4TK-"
   },
   "source": [
    "# 自然言語処理の基礎"
   ]
  },
  {
   "cell_type": "markdown",
   "metadata": {
    "colab_type": "text",
    "id": "B0x1Y7ld4TK_"
   },
   "source": [
    "## MeCabで形態素解析\n",
    "\n",
    "テキストを扱う際に、「私はキカガクです。」といった文書のまま数値化するのではなく、\n",
    "\n",
    "> 私 / は / キカガク / です / 。\n",
    "\n",
    "のように、単語毎に切り分けることで、特徴を捉えやすくなります。\n",
    "これを行うのが形態素解析です。\n",
    "\n",
    "形態素解析はノウハウがベースとなっており、自前で実装することが非常に難しいですが、**MeCab**と呼ばれる外部モジュールを使用することで非常に簡単に実装することができます。\n",
    "\n"
   ]
  },
  {
   "cell_type": "markdown",
   "metadata": {
    "colab_type": "text",
    "id": "tPvX-jfs4TLA"
   },
   "source": [
    "## MeCabを使ってみよう"
   ]
  },
  {
   "cell_type": "code",
   "execution_count": 1,
   "metadata": {
    "colab": {},
    "colab_type": "code",
    "id": "gJal6_pP4TLB"
   },
   "outputs": [],
   "source": [
    "import MeCab"
   ]
  },
  {
   "cell_type": "code",
   "execution_count": 2,
   "metadata": {
    "colab": {},
    "colab_type": "code",
    "id": "LeXFpAcs4TLE"
   },
   "outputs": [],
   "source": [
    "mecab = MeCab.Tagger('-Ochasen')"
   ]
  },
  {
   "cell_type": "markdown",
   "metadata": {
    "colab_type": "text",
    "id": "ZAbQ0vOB4TLG"
   },
   "source": [
    "こちらを使用して、文章を分ける（parse）すると下記のような結果が得られます。"
   ]
  },
  {
   "cell_type": "code",
   "execution_count": 3,
   "metadata": {
    "colab": {},
    "colab_type": "code",
    "id": "GlE0w7co4TLG"
   },
   "outputs": [],
   "source": [
    "res = mecab.parse('こんにちは、私はキカガクです。')"
   ]
  },
  {
   "cell_type": "code",
   "execution_count": 4,
   "metadata": {
    "colab": {
     "base_uri": "https://localhost:8080/",
     "height": 181
    },
    "colab_type": "code",
    "executionInfo": {
     "elapsed": 1181,
     "status": "ok",
     "timestamp": 1570779228082,
     "user": {
      "displayName": "佐川史弥",
      "photoUrl": "",
      "userId": "17735252083618003950"
     },
     "user_tz": -540
    },
    "id": "csSzA-GJ4TLJ",
    "outputId": "f42868ce-1cd2-4788-b21f-09d266f3079c",
    "scrolled": true
   },
   "outputs": [
    {
     "name": "stdout",
     "output_type": "stream",
     "text": [
      "こんにちは\tコンニチハ\tこんにちは\t感動詞\t\t\n",
      "、\t、\t、\t記号-読点\t\t\n",
      "私\tワタシ\t私\t名詞-代名詞-一般\t\t\n",
      "は\tハ\tは\t助詞-係助詞\t\t\n",
      "キカガク\tキカガク\tキカガク\t名詞-一般\t\t\n",
      "です\tデス\tです\t助動詞\t特殊・デス\t基本形\n",
      "。\t。\t。\t記号-句点\t\t\n",
      "EOS\n",
      "\n"
     ]
    }
   ],
   "source": [
    "print(res)"
   ]
  },
  {
   "cell_type": "markdown",
   "metadata": {
    "colab_type": "text",
    "id": "GUF1saP_4TLM"
   },
   "source": [
    "見た目上はきれいに表示されていますが、parserした結果は下記のように、エスケープシーケンスを多く含むため、実際に取り扱う際には多少工夫が必要となります。"
   ]
  },
  {
   "cell_type": "code",
   "execution_count": 5,
   "metadata": {
    "colab": {
     "base_uri": "https://localhost:8080/",
     "height": 55
    },
    "colab_type": "code",
    "executionInfo": {
     "elapsed": 977,
     "status": "ok",
     "timestamp": 1570779237196,
     "user": {
      "displayName": "佐川史弥",
      "photoUrl": "",
      "userId": "17735252083618003950"
     },
     "user_tz": -540
    },
    "id": "DCIiCqpC4TLM",
    "outputId": "0f0d5b9a-af5c-4cc2-890b-6b64d8fa16ce"
   },
   "outputs": [
    {
     "data": {
      "text/plain": [
       "'こんにちは\\tコンニチハ\\tこんにちは\\t感動詞\\t\\t\\n、\\t、\\t、\\t記号-読点\\t\\t\\n私\\tワタシ\\t私\\t名詞-代名詞-一般\\t\\t\\nは\\tハ\\tは\\t助詞-係助詞\\t\\t\\nキカガク\\tキカガク\\tキカガク\\t名詞-一般\\t\\t\\nです\\tデス\\tです\\t助動詞\\t特殊・デス\\t基本形\\n。\\t。\\t。\\t記号-句点\\t\\t\\nEOS\\n'"
      ]
     },
     "execution_count": 5,
     "metadata": {},
     "output_type": "execute_result"
    }
   ],
   "source": [
    "res"
   ]
  },
  {
   "cell_type": "markdown",
   "metadata": {
    "colab_type": "text",
    "id": "Yx1A4TDn4TLO"
   },
   "source": [
    "こちらのように非常に簡単に形態素解析を行うことができした。"
   ]
  },
  {
   "cell_type": "markdown",
   "metadata": {
    "colab_type": "text",
    "id": "lz57ypg34TLP"
   },
   "source": [
    "## 名詞抽出の練習\n",
    "\n",
    "この後の文書分類では、名詞による影響が大きいため、名詞のみを抽出してリストに格納できるスキルが必要となります。\n",
    "そこで、下記の３つの文章に関して、名詞のみを抽出してリストに格納してください。\n",
    "\n",
    "- キカガクでは、ディープラーニングを含んだ機械学習や人工知能の教育を行っています。\n",
    "- 代表の吉崎は大学院では機械学習・ロボットのシステム制御、画像処理の研究に携わっていました。\n",
    "- 機械学習、システム制御、画像処理ではすべて線形代数とプログラミングが不可欠になります。\n",
    "\n",
    "まずは1つ目の文章でうまくparseできるかを試しましょう。"
   ]
  },
  {
   "cell_type": "code",
   "execution_count": 6,
   "metadata": {
    "colab": {},
    "colab_type": "code",
    "id": "hQjU6WqM4TLQ"
   },
   "outputs": [],
   "source": [
    "text = 'キカガクでは、ディープラーニングを含んだ機械学習や人工知能の教育を行っています。'"
   ]
  },
  {
   "cell_type": "code",
   "execution_count": 7,
   "metadata": {
    "colab": {
     "base_uri": "https://localhost:8080/",
     "height": 435
    },
    "colab_type": "code",
    "executionInfo": {
     "elapsed": 1173,
     "status": "ok",
     "timestamp": 1570779239585,
     "user": {
      "displayName": "佐川史弥",
      "photoUrl": "",
      "userId": "17735252083618003950"
     },
     "user_tz": -540
    },
    "id": "Bcy6AEQI4TLS",
    "outputId": "3c272daf-81a5-429a-ad16-c05e86000bf9"
   },
   "outputs": [
    {
     "name": "stdout",
     "output_type": "stream",
     "text": [
      "キカガク\tキカガク\tキカガク\t名詞-一般\t\t\n",
      "で\tデ\tで\t助詞-格助詞-一般\t\t\n",
      "は\tハ\tは\t助詞-係助詞\t\t\n",
      "、\t、\t、\t記号-読点\t\t\n",
      "ディープラーニング\tディープラーニング\tディープラーニング\t名詞-一般\t\t\n",
      "を\tヲ\tを\t助詞-格助詞-一般\t\t\n",
      "含ん\tフクン\t含む\t動詞-自立\t五段・マ行\t連用タ接続\n",
      "だ\tダ\tだ\t助動詞\t特殊・タ\t基本形\n",
      "機械\tキカイ\t機械\t名詞-一般\t\t\n",
      "学習\tガクシュウ\t学習\t名詞-サ変接続\t\t\n",
      "や\tヤ\tや\t助詞-並立助詞\t\t\n",
      "人工\tジンコウ\t人工\t名詞-一般\t\t\n",
      "知能\tチノウ\t知能\t名詞-一般\t\t\n",
      "の\tノ\tの\t助詞-連体化\t\t\n",
      "教育\tキョウイク\t教育\t名詞-サ変接続\t\t\n",
      "を\tヲ\tを\t助詞-格助詞-一般\t\t\n",
      "行っ\tオコナッ\t行う\t動詞-自立\t五段・ワ行促音便\t連用タ接続\n",
      "て\tテ\tて\t助詞-接続助詞\t\t\n",
      "い\tイ\tいる\t動詞-非自立\t一段\t連用形\n",
      "ます\tマス\tます\t助動詞\t特殊・マス\t基本形\n",
      "。\t。\t。\t記号-句点\t\t\n",
      "EOS\n",
      "\n"
     ]
    }
   ],
   "source": [
    "res = mecab.parse(text)\n",
    "print(res)"
   ]
  },
  {
   "cell_type": "markdown",
   "metadata": {
    "colab_type": "text",
    "id": "Jf4uBhFx4TLU"
   },
   "source": [
    "まず、先程分かち書きしたresを使い、それぞれを改行（\\n）で分けましょう。\n",
    "特定の文字で分けるときは、splitを使います。"
   ]
  },
  {
   "cell_type": "code",
   "execution_count": 8,
   "metadata": {
    "colab": {
     "base_uri": "https://localhost:8080/",
     "height": 435
    },
    "colab_type": "code",
    "executionInfo": {
     "elapsed": 995,
     "status": "ok",
     "timestamp": 1570779243334,
     "user": {
      "displayName": "佐川史弥",
      "photoUrl": "",
      "userId": "17735252083618003950"
     },
     "user_tz": -540
    },
    "id": "0VpKE3qQ4TLU",
    "outputId": "e408008c-56f6-44e1-acaf-ce2ddf08b1fd"
   },
   "outputs": [
    {
     "data": {
      "text/plain": [
       "['キカガク\\tキカガク\\tキカガク\\t名詞-一般\\t\\t',\n",
       " 'で\\tデ\\tで\\t助詞-格助詞-一般\\t\\t',\n",
       " 'は\\tハ\\tは\\t助詞-係助詞\\t\\t',\n",
       " '、\\t、\\t、\\t記号-読点\\t\\t',\n",
       " 'ディープラーニング\\tディープラーニング\\tディープラーニング\\t名詞-一般\\t\\t',\n",
       " 'を\\tヲ\\tを\\t助詞-格助詞-一般\\t\\t',\n",
       " '含ん\\tフクン\\t含む\\t動詞-自立\\t五段・マ行\\t連用タ接続',\n",
       " 'だ\\tダ\\tだ\\t助動詞\\t特殊・タ\\t基本形',\n",
       " '機械\\tキカイ\\t機械\\t名詞-一般\\t\\t',\n",
       " '学習\\tガクシュウ\\t学習\\t名詞-サ変接続\\t\\t',\n",
       " 'や\\tヤ\\tや\\t助詞-並立助詞\\t\\t',\n",
       " '人工\\tジンコウ\\t人工\\t名詞-一般\\t\\t',\n",
       " '知能\\tチノウ\\t知能\\t名詞-一般\\t\\t',\n",
       " 'の\\tノ\\tの\\t助詞-連体化\\t\\t',\n",
       " '教育\\tキョウイク\\t教育\\t名詞-サ変接続\\t\\t',\n",
       " 'を\\tヲ\\tを\\t助詞-格助詞-一般\\t\\t',\n",
       " '行っ\\tオコナッ\\t行う\\t動詞-自立\\t五段・ワ行促音便\\t連用タ接続',\n",
       " 'て\\tテ\\tて\\t助詞-接続助詞\\t\\t',\n",
       " 'い\\tイ\\tいる\\t動詞-非自立\\t一段\\t連用形',\n",
       " 'ます\\tマス\\tます\\t助動詞\\t特殊・マス\\t基本形',\n",
       " '。\\t。\\t。\\t記号-句点\\t\\t',\n",
       " 'EOS',\n",
       " '']"
      ]
     },
     "execution_count": 8,
     "metadata": {},
     "output_type": "execute_result"
    }
   ],
   "source": [
    "res.split('\\n') "
   ]
  },
  {
   "cell_type": "markdown",
   "metadata": {
    "colab_type": "text",
    "id": "H60fZZnn4TLW"
   },
   "source": [
    "最後に２行にEOS(End Of Sentence)と空白が入ってしまっているので、最後２行の前までを使用しましょう。"
   ]
  },
  {
   "cell_type": "code",
   "execution_count": 9,
   "metadata": {
    "colab": {
     "base_uri": "https://localhost:8080/",
     "height": 399
    },
    "colab_type": "code",
    "executionInfo": {
     "elapsed": 995,
     "status": "ok",
     "timestamp": 1570779245992,
     "user": {
      "displayName": "佐川史弥",
      "photoUrl": "",
      "userId": "17735252083618003950"
     },
     "user_tz": -540
    },
    "id": "bYG1CGZp4TLX",
    "outputId": "f350135f-55c6-4bd7-926d-8e56bc1b9fae"
   },
   "outputs": [
    {
     "data": {
      "text/plain": [
       "['キカガク\\tキカガク\\tキカガク\\t名詞-一般\\t\\t',\n",
       " 'で\\tデ\\tで\\t助詞-格助詞-一般\\t\\t',\n",
       " 'は\\tハ\\tは\\t助詞-係助詞\\t\\t',\n",
       " '、\\t、\\t、\\t記号-読点\\t\\t',\n",
       " 'ディープラーニング\\tディープラーニング\\tディープラーニング\\t名詞-一般\\t\\t',\n",
       " 'を\\tヲ\\tを\\t助詞-格助詞-一般\\t\\t',\n",
       " '含ん\\tフクン\\t含む\\t動詞-自立\\t五段・マ行\\t連用タ接続',\n",
       " 'だ\\tダ\\tだ\\t助動詞\\t特殊・タ\\t基本形',\n",
       " '機械\\tキカイ\\t機械\\t名詞-一般\\t\\t',\n",
       " '学習\\tガクシュウ\\t学習\\t名詞-サ変接続\\t\\t',\n",
       " 'や\\tヤ\\tや\\t助詞-並立助詞\\t\\t',\n",
       " '人工\\tジンコウ\\t人工\\t名詞-一般\\t\\t',\n",
       " '知能\\tチノウ\\t知能\\t名詞-一般\\t\\t',\n",
       " 'の\\tノ\\tの\\t助詞-連体化\\t\\t',\n",
       " '教育\\tキョウイク\\t教育\\t名詞-サ変接続\\t\\t',\n",
       " 'を\\tヲ\\tを\\t助詞-格助詞-一般\\t\\t',\n",
       " '行っ\\tオコナッ\\t行う\\t動詞-自立\\t五段・ワ行促音便\\t連用タ接続',\n",
       " 'て\\tテ\\tて\\t助詞-接続助詞\\t\\t',\n",
       " 'い\\tイ\\tいる\\t動詞-非自立\\t一段\\t連用形',\n",
       " 'ます\\tマス\\tます\\t助動詞\\t特殊・マス\\t基本形',\n",
       " '。\\t。\\t。\\t記号-句点\\t\\t']"
      ]
     },
     "execution_count": 9,
     "metadata": {},
     "output_type": "execute_result"
    }
   ],
   "source": [
    "res.split('\\n')[:-2]"
   ]
  },
  {
   "cell_type": "markdown",
   "metadata": {
    "colab_type": "text",
    "id": "N-QNhksp4TLY"
   },
   "source": [
    "次に、一番最初の要素に対して、タブ（\\t）で分けることを考えましょう。"
   ]
  },
  {
   "cell_type": "code",
   "execution_count": 10,
   "metadata": {
    "colab": {
     "base_uri": "https://localhost:8080/",
     "height": 35
    },
    "colab_type": "code",
    "executionInfo": {
     "elapsed": 1426,
     "status": "ok",
     "timestamp": 1570779246926,
     "user": {
      "displayName": "佐川史弥",
      "photoUrl": "",
      "userId": "17735252083618003950"
     },
     "user_tz": -540
    },
    "id": "1E-_qTtf4TLZ",
    "outputId": "325a58dd-1aa1-4397-f50a-da3c2e5231c3"
   },
   "outputs": [
    {
     "data": {
      "text/plain": [
       "'キカガク\\tキカガク\\tキカガク\\t名詞-一般\\t\\t'"
      ]
     },
     "execution_count": 10,
     "metadata": {},
     "output_type": "execute_result"
    }
   ],
   "source": [
    "res.split('\\n')[0] #一番最初の要素が取り出せる"
   ]
  },
  {
   "cell_type": "markdown",
   "metadata": {
    "colab_type": "text",
    "id": "UOoMmaE34TLb"
   },
   "source": [
    "こちらの結果から名詞であるかどうかを判定するためには、左から4番目(要素番号3)の要素にアクセスすればいいので、以下のようになります。"
   ]
  },
  {
   "cell_type": "code",
   "execution_count": 11,
   "metadata": {
    "colab": {
     "base_uri": "https://localhost:8080/",
     "height": 35
    },
    "colab_type": "code",
    "executionInfo": {
     "elapsed": 978,
     "status": "ok",
     "timestamp": 1570779246927,
     "user": {
      "displayName": "佐川史弥",
      "photoUrl": "",
      "userId": "17735252083618003950"
     },
     "user_tz": -540
    },
    "id": "nhtBYAjU4TLb",
    "outputId": "fa2e4dc8-6cf7-44c6-8b78-fe62bd4ab5c9"
   },
   "outputs": [
    {
     "data": {
      "text/plain": [
       "'名詞-一般'"
      ]
     },
     "execution_count": 11,
     "metadata": {},
     "output_type": "execute_result"
    }
   ],
   "source": [
    "res .split('\\n')[0].split('\\t')[3]"
   ]
  },
  {
   "cell_type": "code",
   "execution_count": 12,
   "metadata": {
    "colab": {},
    "colab_type": "code",
    "id": "m9iAa_hb4TLh"
   },
   "outputs": [],
   "source": [
    "#名詞(noun)であるものを格納するリスト\n",
    "nouns = []\n",
    "words = res.split('\\n')[:-2] #EOSと空白部分の削除\n",
    "for word in words:\n",
    "    part = word.split('\\t')\n",
    "    if '名詞' in part[3]:\n",
    "        nouns.append(part[0])"
   ]
  },
  {
   "cell_type": "code",
   "execution_count": 13,
   "metadata": {
    "colab": {
     "base_uri": "https://localhost:8080/",
     "height": 35
    },
    "colab_type": "code",
    "executionInfo": {
     "elapsed": 1334,
     "status": "ok",
     "timestamp": 1570779247704,
     "user": {
      "displayName": "佐川史弥",
      "photoUrl": "",
      "userId": "17735252083618003950"
     },
     "user_tz": -540
    },
    "id": "soDbGC7A4TLi",
    "outputId": "b6d24d42-0c79-4f2c-a6f3-4a75ca0f3186"
   },
   "outputs": [
    {
     "data": {
      "text/plain": [
       "['キカガク', 'ディープラーニング', '機械', '学習', '人工', '知能', '教育']"
      ]
     },
     "execution_count": 13,
     "metadata": {},
     "output_type": "execute_result"
    }
   ],
   "source": [
    "nouns"
   ]
  },
  {
   "cell_type": "markdown",
   "metadata": {
    "colab_type": "text",
    "id": "oY20GldP4TLk"
   },
   "source": [
    "### 演習問題\n",
    "\n",
    "上記の例を参考に例文から名詞のみを抽出しましょう。"
   ]
  },
  {
   "cell_type": "code",
   "execution_count": 14,
   "metadata": {
    "colab": {},
    "colab_type": "code",
    "id": "3gJpUtl94TLl"
   },
   "outputs": [],
   "source": [
    "def get_nouns(text):\n",
    "    nouns = []\n",
    "    res = mecab.parse(text)\n",
    "    words = res.split('\\n')[:-2] #EOSと空白部分の削除\n",
    "    for word in words:\n",
    "        part = word.split('\\t')\n",
    "        if '名詞' in part[3]:\n",
    "            nouns.append(part[0])\n",
    "    return nouns"
   ]
  },
  {
   "cell_type": "code",
   "execution_count": 15,
   "metadata": {
    "colab": {},
    "colab_type": "code",
    "id": "sSdmUJZC4TLn"
   },
   "outputs": [],
   "source": [
    "text1 = 'キカガクでは、ディープラーニングを含んだ機械学習や人工知能の教育を行っています。'\n",
    "text2 = '代表の吉崎は大学院では機械学習・ロボットのシステム制御、画像処理の研究に携わっていました。'\n",
    "text3 = '機械学習、システム制御、画像処理ではすべて線形代数とプログラミングが不可欠になります。'"
   ]
  },
  {
   "cell_type": "code",
   "execution_count": 16,
   "metadata": {
    "colab": {
     "base_uri": "https://localhost:8080/",
     "height": 35
    },
    "colab_type": "code",
    "executionInfo": {
     "elapsed": 824,
     "status": "ok",
     "timestamp": 1570779255840,
     "user": {
      "displayName": "佐川史弥",
      "photoUrl": "",
      "userId": "17735252083618003950"
     },
     "user_tz": -540
    },
    "id": "84rzfvfe4TLp",
    "outputId": "eab5ad6e-534a-4467-c86a-14b357e0f5c2"
   },
   "outputs": [
    {
     "data": {
      "text/plain": [
       "['キカガク', 'ディープラーニング', '機械', '学習', '人工', '知能', '教育']"
      ]
     },
     "execution_count": 16,
     "metadata": {},
     "output_type": "execute_result"
    }
   ],
   "source": [
    "nouns1 = get_nouns(text1)\n",
    "nouns1"
   ]
  },
  {
   "cell_type": "code",
   "execution_count": 17,
   "metadata": {
    "colab": {
     "base_uri": "https://localhost:8080/",
     "height": 35
    },
    "colab_type": "code",
    "executionInfo": {
     "elapsed": 436,
     "status": "ok",
     "timestamp": 1570779256710,
     "user": {
      "displayName": "佐川史弥",
      "photoUrl": "",
      "userId": "17735252083618003950"
     },
     "user_tz": -540
    },
    "id": "VO-77yXO4TLr",
    "outputId": "6d3997de-45f7-4d44-d42d-184113bcc828"
   },
   "outputs": [
    {
     "data": {
      "text/plain": [
       "['代表', '吉崎', '大学院', '機械', '学習', 'ロボット', 'システム', '制御', '画像', '処理', '研究']"
      ]
     },
     "execution_count": 17,
     "metadata": {},
     "output_type": "execute_result"
    }
   ],
   "source": [
    "nouns2 = get_nouns(text2)\n",
    "nouns2"
   ]
  },
  {
   "cell_type": "code",
   "execution_count": 18,
   "metadata": {
    "colab": {
     "base_uri": "https://localhost:8080/",
     "height": 35
    },
    "colab_type": "code",
    "executionInfo": {
     "elapsed": 513,
     "status": "ok",
     "timestamp": 1570779257591,
     "user": {
      "displayName": "佐川史弥",
      "photoUrl": "",
      "userId": "17735252083618003950"
     },
     "user_tz": -540
    },
    "id": "jHR8mycO4TLv",
    "outputId": "dd5e8620-12fa-49c0-ec30-95fb1191f0ab"
   },
   "outputs": [
    {
     "data": {
      "text/plain": [
       "['機械', '学習', 'システム', '制御', '画像', '処理', 'すべて', '線形', '代数', 'プログラミング', '不可欠']"
      ]
     },
     "execution_count": 18,
     "metadata": {},
     "output_type": "execute_result"
    }
   ],
   "source": [
    "nouns3 = get_nouns(text3)\n",
    "nouns3"
   ]
  },
  {
   "cell_type": "markdown",
   "metadata": {
    "colab_type": "text",
    "id": "tLRoKfph4TLx"
   },
   "source": [
    "## 特徴量に変換\n",
    "\n",
    "### 自然言語の特徴量とは？\n",
    "機械学習は入力変数と出力変数に分ける必要があり、そして、入力変数も出力変数も長さは各サンプルごとに一定でなければいけません。\n",
    "そのため、文書によって単語の数が異なり、これを単純に特徴量に採用することはできません。\n",
    "また、そもそも単語はどのように数値化するのでしょうか。\n",
    "\n",
    "### Bag of Words\n",
    "現時点でも、まだこの自然言語処理の特徴量に関しては、議論が活発に行われている最中ですが、一番簡単な特徴量として、Bag of Word（BoW）があります。\n",
    "\n",
    "Bag of Wordsとは、単語の出現によって単語を数値に変換する方法です。\n",
    "\n",
    "一番単純な例は\n",
    "\n",
    "- 単語の出現あり：1\n",
    "- 単語の出現なし：0\n",
    "\n",
    "に変換する方法です。\n",
    "\n",
    "### 例題\n",
    "\n",
    "以下３つの文章をBoWに変換してください。\n",
    "\n",
    "1.  私は電車が好きです。\n",
    "2. 電車より車をよく使います。\n",
    "3. 好きな果物はりんごです。\n",
    "\n",
    "3つの文に出現する単語をすべて羅列します。\n",
    "\n",
    "［ 私　は　電車　が　好き　です　より　車　を　よく　使い　ます　な　果物　りんご ］\n",
    "\n",
    "各文章に対し、羅列した単語を出現数に変換します。\n",
    "\n",
    "1. ［ 1 1 1 1 1 1 0 0 0 0 0 0 0 0 0 ］\n",
    "2. ［ 0 0 1 0 0 0 1 1 1 1 1 1 0 0 0 ］\n",
    "3. ［ 0 1 0 0 1 1 0 0 0 0 0 0 1 1 1 ］"
   ]
  },
  {
   "cell_type": "markdown",
   "metadata": {
    "colab_type": "text",
    "id": "KWx8OSH04TLy"
   },
   "source": [
    "### BoW用に辞書を作る\n",
    "\n",
    "自然言語処理のBoWへの変換などは**gensim**と呼ばれるライブラリで簡単に実装することができます。\n",
    "BoW程度であれば、自前で実装することも可能ですが、自前で実装をするとミスをする可能性が高まるため、極力ライブラリを使うようにしましょう。"
   ]
  },
  {
   "cell_type": "code",
   "execution_count": 21,
   "metadata": {
    "colab": {},
    "colab_type": "code",
    "id": "cKQYs2gw4TLy"
   },
   "outputs": [],
   "source": [
    "from gensim import corpora, matutils"
   ]
  },
  {
   "cell_type": "markdown",
   "metadata": {
    "colab_type": "text",
    "id": "_UMPOISa4TL0"
   },
   "source": [
    "今回抽出した名詞をひとつのリストにまとめておきましょう。"
   ]
  },
  {
   "cell_type": "code",
   "execution_count": 22,
   "metadata": {
    "colab": {
     "base_uri": "https://localhost:8080/",
     "height": 72
    },
    "colab_type": "code",
    "executionInfo": {
     "elapsed": 434,
     "status": "ok",
     "timestamp": 1570779261338,
     "user": {
      "displayName": "佐川史弥",
      "photoUrl": "",
      "userId": "17735252083618003950"
     },
     "user_tz": -540
    },
    "id": "yJveN8a24TL0",
    "outputId": "5e42c1f6-ea9b-4c08-b003-90e41c40a4be"
   },
   "outputs": [
    {
     "data": {
      "text/plain": [
       "[['キカガク', 'ディープラーニング', '機械', '学習', '人工', '知能', '教育'],\n",
       " ['代表', '吉崎', '大学院', '機械', '学習', 'ロボット', 'システム', '制御', '画像', '処理', '研究'],\n",
       " ['機械', '学習', 'システム', '制御', '画像', '処理', 'すべて', '線形', '代数', 'プログラミング', '不可欠']]"
      ]
     },
     "execution_count": 22,
     "metadata": {},
     "output_type": "execute_result"
    }
   ],
   "source": [
    "word_collect = [nouns1, nouns2, nouns3]\n",
    "word_collect"
   ]
  },
  {
   "cell_type": "markdown",
   "metadata": {
    "colab_type": "text",
    "id": "FCfYEfEX4TL2"
   },
   "source": [
    "まずBoWでは、全体としてどのような名詞が使用されているか把握しないといけないため、辞書の作成を行います。\n",
    "この辞書内に含まれる名詞の数がBoWの特徴量の数になります。"
   ]
  },
  {
   "cell_type": "code",
   "execution_count": 23,
   "metadata": {
    "colab": {},
    "colab_type": "code",
    "id": "__VaoGz94TL3"
   },
   "outputs": [],
   "source": [
    "dictionary = corpora.Dictionary(word_collect)"
   ]
  },
  {
   "cell_type": "markdown",
   "metadata": {
    "colab_type": "text",
    "id": "opR9HUG14TL4"
   },
   "source": [
    "作成後にdictionaryを見ても、中身がわかりませんが、`len`で登録された単語数がわかります。"
   ]
  },
  {
   "cell_type": "code",
   "execution_count": 24,
   "metadata": {
    "colab": {
     "base_uri": "https://localhost:8080/",
     "height": 35
    },
    "colab_type": "code",
    "executionInfo": {
     "elapsed": 537,
     "status": "ok",
     "timestamp": 1570779262437,
     "user": {
      "displayName": "佐川史弥",
      "photoUrl": "",
      "userId": "17735252083618003950"
     },
     "user_tz": -540
    },
    "id": "mT0j6iR74TL4",
    "outputId": "5eff7d81-dda4-40ba-e577-b991cf726b7e"
   },
   "outputs": [
    {
     "data": {
      "text/plain": [
       "<gensim.corpora.dictionary.Dictionary at 0x7f8886a5f358>"
      ]
     },
     "execution_count": 24,
     "metadata": {},
     "output_type": "execute_result"
    }
   ],
   "source": [
    "dictionary"
   ]
  },
  {
   "cell_type": "code",
   "execution_count": 25,
   "metadata": {
    "colab": {
     "base_uri": "https://localhost:8080/",
     "height": 35
    },
    "colab_type": "code",
    "executionInfo": {
     "elapsed": 1316,
     "status": "ok",
     "timestamp": 1570779263489,
     "user": {
      "displayName": "佐川史弥",
      "photoUrl": "",
      "userId": "17735252083618003950"
     },
     "user_tz": -540
    },
    "id": "D65Ybf3Z4TL6",
    "outputId": "4e586a92-a5fe-4272-d188-1399896d652b"
   },
   "outputs": [
    {
     "data": {
      "text/plain": [
       "21"
      ]
     },
     "execution_count": 25,
     "metadata": {},
     "output_type": "execute_result"
    }
   ],
   "source": [
    "len(dictionary)"
   ]
  },
  {
   "cell_type": "markdown",
   "metadata": {
    "colab_type": "text",
    "id": "pZKVgPgj4TL7"
   },
   "source": [
    "登録された単語を確認しておきましょう。"
   ]
  },
  {
   "cell_type": "code",
   "execution_count": 26,
   "metadata": {
    "colab": {
     "base_uri": "https://localhost:8080/",
     "height": 399
    },
    "colab_type": "code",
    "executionInfo": {
     "elapsed": 666,
     "status": "ok",
     "timestamp": 1570779431323,
     "user": {
      "displayName": "佐川史弥",
      "photoUrl": "",
      "userId": "17735252083618003950"
     },
     "user_tz": -540
    },
    "id": "PbcfVL_W4TL8",
    "outputId": "a173aa01-0ae3-4a78-eb8e-57fbc5e144b6"
   },
   "outputs": [
    {
     "name": "stdout",
     "output_type": "stream",
     "text": [
      "(0, 'キカガク')\n",
      "(1, 'ディープラーニング')\n",
      "(2, '人工')\n",
      "(3, '学習')\n",
      "(4, '教育')\n",
      "(5, '機械')\n",
      "(6, '知能')\n",
      "(7, 'システム')\n",
      "(8, 'ロボット')\n",
      "(9, '代表')\n",
      "(10, '処理')\n",
      "(11, '制御')\n",
      "(12, '吉崎')\n",
      "(13, '大学院')\n",
      "(14, '画像')\n",
      "(15, '研究')\n",
      "(16, 'すべて')\n",
      "(17, 'プログラミング')\n",
      "(18, '不可欠')\n",
      "(19, '代数')\n",
      "(20, '線形')\n"
     ]
    }
   ],
   "source": [
    "for word in dictionary.items():\n",
    "    print(word)"
   ]
  },
  {
   "cell_type": "markdown",
   "metadata": {
    "colab_type": "text",
    "id": "GvEgvNyw4TL9"
   },
   "source": [
    "今回は重複がないように単語を選択すると17単語あることがわかりました。"
   ]
  },
  {
   "cell_type": "markdown",
   "metadata": {
    "colab_type": "text",
    "id": "FuayM05t4TL-"
   },
   "source": [
    "### BoWに変換する\n",
    "\n",
    "それでは、こちらもgensimの機能を使って、各文書ごとに単語が格納されているwordsをBoWに変換していきましょう。"
   ]
  },
  {
   "cell_type": "code",
   "execution_count": 27,
   "metadata": {
    "colab": {
     "base_uri": "https://localhost:8080/",
     "height": 35
    },
    "colab_type": "code",
    "executionInfo": {
     "elapsed": 1001,
     "status": "ok",
     "timestamp": 1570779264383,
     "user": {
      "displayName": "佐川史弥",
      "photoUrl": "",
      "userId": "17735252083618003950"
     },
     "user_tz": -540
    },
    "id": "j64-eyFd4TL-",
    "outputId": "e984b675-dba1-4250-f28c-c61554feafd7"
   },
   "outputs": [
    {
     "data": {
      "text/plain": [
       "[(0, 1), (1, 1), (2, 1), (3, 1), (4, 1), (5, 1), (6, 1)]"
      ]
     },
     "execution_count": 27,
     "metadata": {},
     "output_type": "execute_result"
    }
   ],
   "source": [
    "bow1_id = dictionary.doc2bow(nouns1)\n",
    "bow1_id"
   ]
  },
  {
   "cell_type": "code",
   "execution_count": 28,
   "metadata": {
    "colab": {
     "base_uri": "https://localhost:8080/",
     "height": 217
    },
    "colab_type": "code",
    "executionInfo": {
     "elapsed": 737,
     "status": "ok",
     "timestamp": 1570779264384,
     "user": {
      "displayName": "佐川史弥",
      "photoUrl": "",
      "userId": "17735252083618003950"
     },
     "user_tz": -540
    },
    "id": "UUAghnHm4TMA",
    "outputId": "a4441aa7-412c-4a4d-b16a-1692bd2eb10a"
   },
   "outputs": [
    {
     "data": {
      "text/plain": [
       "[(3, 1),\n",
       " (5, 1),\n",
       " (7, 1),\n",
       " (8, 1),\n",
       " (9, 1),\n",
       " (10, 1),\n",
       " (11, 1),\n",
       " (12, 1),\n",
       " (13, 1),\n",
       " (14, 1),\n",
       " (15, 1)]"
      ]
     },
     "execution_count": 28,
     "metadata": {},
     "output_type": "execute_result"
    }
   ],
   "source": [
    "bow2_id = dictionary.doc2bow(nouns2)\n",
    "bow2_id"
   ]
  },
  {
   "cell_type": "code",
   "execution_count": 29,
   "metadata": {
    "colab": {
     "base_uri": "https://localhost:8080/",
     "height": 217
    },
    "colab_type": "code",
    "executionInfo": {
     "elapsed": 524,
     "status": "ok",
     "timestamp": 1570779264384,
     "user": {
      "displayName": "佐川史弥",
      "photoUrl": "",
      "userId": "17735252083618003950"
     },
     "user_tz": -540
    },
    "id": "l8t8QQsD4TMC",
    "outputId": "f065f774-e323-40ec-cbbc-aa2b14d2b8d0"
   },
   "outputs": [
    {
     "data": {
      "text/plain": [
       "[(3, 1),\n",
       " (5, 1),\n",
       " (7, 1),\n",
       " (10, 1),\n",
       " (11, 1),\n",
       " (14, 1),\n",
       " (16, 1),\n",
       " (17, 1),\n",
       " (18, 1),\n",
       " (19, 1),\n",
       " (20, 1)]"
      ]
     },
     "execution_count": 29,
     "metadata": {},
     "output_type": "execute_result"
    }
   ],
   "source": [
    "bow3_id = dictionary.doc2bow(nouns3)\n",
    "bow3_id"
   ]
  },
  {
   "cell_type": "markdown",
   "metadata": {
    "colab_type": "text",
    "id": "yyy7wWeU4TME"
   },
   "source": [
    "こちらのように、各インデックス番号に対して、0でない場合にカウントされた数が格納されていることがわかると思います。\n",
    "メモリを節約するために、その要素番号と数のみが返ってくるため、`matutils.corpus2dense`によって、[0,0,1,0,…]のような望ましい形式のBoWに変換します。\n",
    "引数には登録されている全単語数が必要であるため、最初に取得しておきましょう。"
   ]
  },
  {
   "cell_type": "code",
   "execution_count": 30,
   "metadata": {
    "colab": {},
    "colab_type": "code",
    "id": "pwM4AxjS4TME"
   },
   "outputs": [],
   "source": [
    "n_words = len(dictionary)"
   ]
  },
  {
   "cell_type": "code",
   "execution_count": 31,
   "metadata": {
    "colab": {
     "base_uri": "https://localhost:8080/",
     "height": 74
    },
    "colab_type": "code",
    "executionInfo": {
     "elapsed": 1236,
     "status": "ok",
     "timestamp": 1570779265828,
     "user": {
      "displayName": "佐川史弥",
      "photoUrl": "",
      "userId": "17735252083618003950"
     },
     "user_tz": -540
    },
    "id": "VcynIrjl4TMG",
    "outputId": "0c3d02e5-a543-4525-8855-2ad1a344c573"
   },
   "outputs": [],
   "source": [
    "bow = matutils.corpus2dense([bow1_id], n_words)"
   ]
  },
  {
   "cell_type": "code",
   "execution_count": 32,
   "metadata": {
    "colab": {
     "base_uri": "https://localhost:8080/",
     "height": 399
    },
    "colab_type": "code",
    "executionInfo": {
     "elapsed": 1009,
     "status": "ok",
     "timestamp": 1570779265829,
     "user": {
      "displayName": "佐川史弥",
      "photoUrl": "",
      "userId": "17735252083618003950"
     },
     "user_tz": -540
    },
    "id": "BTd9WqIp4TMJ",
    "outputId": "a0f7e531-9221-46e4-e747-5d143763dc7f"
   },
   "outputs": [
    {
     "data": {
      "text/plain": [
       "array([[1.],\n",
       "       [1.],\n",
       "       [1.],\n",
       "       [1.],\n",
       "       [1.],\n",
       "       [1.],\n",
       "       [1.],\n",
       "       [0.],\n",
       "       [0.],\n",
       "       [0.],\n",
       "       [0.],\n",
       "       [0.],\n",
       "       [0.],\n",
       "       [0.],\n",
       "       [0.],\n",
       "       [0.],\n",
       "       [0.],\n",
       "       [0.],\n",
       "       [0.],\n",
       "       [0.],\n",
       "       [0.]], dtype=float32)"
      ]
     },
     "execution_count": 32,
     "metadata": {},
     "output_type": "execute_result"
    }
   ],
   "source": [
    "bow"
   ]
  },
  {
   "cell_type": "code",
   "execution_count": 33,
   "metadata": {
    "colab": {
     "base_uri": "https://localhost:8080/",
     "height": 35
    },
    "colab_type": "code",
    "executionInfo": {
     "elapsed": 981,
     "status": "ok",
     "timestamp": 1570779439156,
     "user": {
      "displayName": "佐川史弥",
      "photoUrl": "",
      "userId": "17735252083618003950"
     },
     "user_tz": -540
    },
    "id": "yotTISez4TML",
    "outputId": "1197a7b4-373d-438f-f19f-07e0d2ffaab9"
   },
   "outputs": [
    {
     "data": {
      "text/plain": [
       "(21, 1)"
      ]
     },
     "execution_count": 33,
     "metadata": {},
     "output_type": "execute_result"
    }
   ],
   "source": [
    "bow.shape"
   ]
  },
  {
   "cell_type": "markdown",
   "metadata": {
    "colab_type": "text",
    "id": "u59QdHn34TMM"
   },
   "source": [
    "こちらのように計算できました。\n",
    "機械学習の入力変数とする場合は、入力ベクトルを横向きで格納することが多いため、転置を使いましょう。"
   ]
  },
  {
   "cell_type": "code",
   "execution_count": 34,
   "metadata": {
    "colab": {
     "base_uri": "https://localhost:8080/",
     "height": 110
    },
    "colab_type": "code",
    "executionInfo": {
     "elapsed": 650,
     "status": "ok",
     "timestamp": 1570779439157,
     "user": {
      "displayName": "佐川史弥",
      "photoUrl": "",
      "userId": "17735252083618003950"
     },
     "user_tz": -540
    },
    "id": "JrNbEeu04TMN",
    "outputId": "6cf3c38b-9836-4a58-c132-ef00442930e6"
   },
   "outputs": [
    {
     "data": {
      "text/plain": [
       "array([[1., 1., 1., 1., 1., 1., 1., 0., 0., 0., 0., 0., 0., 0., 0., 0.,\n",
       "        0., 0., 0., 0., 0.]], dtype=float32)"
      ]
     },
     "execution_count": 34,
     "metadata": {},
     "output_type": "execute_result"
    }
   ],
   "source": [
    "bow = matutils.corpus2dense([bow1_id], n_words).T\n",
    "bow"
   ]
  },
  {
   "cell_type": "code",
   "execution_count": 35,
   "metadata": {
    "colab": {
     "base_uri": "https://localhost:8080/",
     "height": 35
    },
    "colab_type": "code",
    "executionInfo": {
     "elapsed": 1379,
     "status": "ok",
     "timestamp": 1570779440022,
     "user": {
      "displayName": "佐川史弥",
      "photoUrl": "",
      "userId": "17735252083618003950"
     },
     "user_tz": -540
    },
    "id": "Vq0Y39ru4TMO",
    "outputId": "653f1ae4-3dfe-4779-cb4d-6afbb163c983"
   },
   "outputs": [
    {
     "data": {
      "text/plain": [
       "(1, 21)"
      ]
     },
     "execution_count": 35,
     "metadata": {},
     "output_type": "execute_result"
    }
   ],
   "source": [
    "bow.shape"
   ]
  },
  {
   "cell_type": "markdown",
   "metadata": {
    "colab_type": "text",
    "id": "ww4aVk9T4TMQ"
   },
   "source": [
    "また、ベクトル化するため、最初の要素のみ抽出します。"
   ]
  },
  {
   "cell_type": "code",
   "execution_count": 36,
   "metadata": {
    "colab": {
     "base_uri": "https://localhost:8080/",
     "height": 110
    },
    "colab_type": "code",
    "executionInfo": {
     "elapsed": 946,
     "status": "ok",
     "timestamp": 1570779440023,
     "user": {
      "displayName": "佐川史弥",
      "photoUrl": "",
      "userId": "17735252083618003950"
     },
     "user_tz": -540
    },
    "id": "pVJNkcD74TMR",
    "outputId": "3e560704-b8a2-475f-af9b-cebc595942ce"
   },
   "outputs": [
    {
     "data": {
      "text/plain": [
       "array([1., 1., 1., 1., 1., 1., 1., 0., 0., 0., 0., 0., 0., 0., 0., 0., 0.,\n",
       "       0., 0., 0., 0.], dtype=float32)"
      ]
     },
     "execution_count": 36,
     "metadata": {},
     "output_type": "execute_result"
    }
   ],
   "source": [
    "bow = matutils.corpus2dense([bow1_id], n_words).T[0]\n",
    "bow"
   ]
  },
  {
   "cell_type": "code",
   "execution_count": 37,
   "metadata": {
    "colab": {
     "base_uri": "https://localhost:8080/",
     "height": 35
    },
    "colab_type": "code",
    "executionInfo": {
     "elapsed": 772,
     "status": "ok",
     "timestamp": 1570779440025,
     "user": {
      "displayName": "佐川史弥",
      "photoUrl": "",
      "userId": "17735252083618003950"
     },
     "user_tz": -540
    },
    "id": "_Jul8eqx4TMT",
    "outputId": "11d3b3b4-ce36-4d3e-9b84-6c0d47c2c3ea"
   },
   "outputs": [
    {
     "data": {
      "text/plain": [
       "(21,)"
      ]
     },
     "execution_count": 37,
     "metadata": {},
     "output_type": "execute_result"
    }
   ],
   "source": [
    "bow.shape"
   ]
  },
  {
   "cell_type": "markdown",
   "metadata": {
    "colab_type": "text",
    "id": "aUkquAr14TMV"
   },
   "source": [
    "全体に対して適用してみましょう。"
   ]
  },
  {
   "cell_type": "code",
   "execution_count": 38,
   "metadata": {
    "colab": {
     "base_uri": "https://localhost:8080/",
     "height": 74
    },
    "colab_type": "code",
    "executionInfo": {
     "elapsed": 1336,
     "status": "ok",
     "timestamp": 1570779441117,
     "user": {
      "displayName": "佐川史弥",
      "photoUrl": "",
      "userId": "17735252083618003950"
     },
     "user_tz": -540
    },
    "id": "yk44B1MQ4TMV",
    "outputId": "f21ba8f1-32a5-4780-d84a-7b4f948eb868"
   },
   "outputs": [],
   "source": [
    "# BOWによる特徴ベクトルの作成\n",
    "x = []\n",
    "for nouns in word_collect:\n",
    "    bow_id = dictionary.doc2bow(nouns)\n",
    "    bow = matutils.corpus2dense([bow_id], n_words).T[0]\n",
    "    x.append(bow)"
   ]
  },
  {
   "cell_type": "code",
   "execution_count": 39,
   "metadata": {
    "colab": {},
    "colab_type": "code",
    "id": "_ku1qqNj4TMX"
   },
   "outputs": [],
   "source": [
    "import numpy as np"
   ]
  },
  {
   "cell_type": "code",
   "execution_count": 40,
   "metadata": {
    "colab": {},
    "colab_type": "code",
    "id": "rIXelOkE4TMY"
   },
   "outputs": [],
   "source": [
    "x = np.array(x)"
   ]
  },
  {
   "cell_type": "code",
   "execution_count": 41,
   "metadata": {
    "colab": {
     "base_uri": "https://localhost:8080/",
     "height": 126
    },
    "colab_type": "code",
    "executionInfo": {
     "elapsed": 1131,
     "status": "ok",
     "timestamp": 1570779442947,
     "user": {
      "displayName": "佐川史弥",
      "photoUrl": "",
      "userId": "17735252083618003950"
     },
     "user_tz": -540
    },
    "id": "1SeqsgPG4TMc",
    "outputId": "907175c1-9d6d-4c89-e61e-706d6a6c33ed"
   },
   "outputs": [
    {
     "data": {
      "text/plain": [
       "array([[1., 1., 1., 1., 1., 1., 1., 0., 0., 0., 0., 0., 0., 0., 0., 0.,\n",
       "        0., 0., 0., 0., 0.],\n",
       "       [0., 0., 0., 1., 0., 1., 0., 1., 1., 1., 1., 1., 1., 1., 1., 1.,\n",
       "        0., 0., 0., 0., 0.],\n",
       "       [0., 0., 0., 1., 0., 1., 0., 1., 0., 0., 1., 1., 0., 0., 1., 0.,\n",
       "        1., 1., 1., 1., 1.]], dtype=float32)"
      ]
     },
     "execution_count": 41,
     "metadata": {},
     "output_type": "execute_result"
    }
   ],
   "source": [
    "x"
   ]
  },
  {
   "cell_type": "code",
   "execution_count": 42,
   "metadata": {
    "colab": {
     "base_uri": "https://localhost:8080/",
     "height": 35
    },
    "colab_type": "code",
    "executionInfo": {
     "elapsed": 892,
     "status": "ok",
     "timestamp": 1570779442947,
     "user": {
      "displayName": "佐川史弥",
      "photoUrl": "",
      "userId": "17735252083618003950"
     },
     "user_tz": -540
    },
    "id": "XS3h8qS_4TMe",
    "outputId": "9d97c6d1-5ecf-49d7-b10e-3652c3505491"
   },
   "outputs": [
    {
     "data": {
      "text/plain": [
       "(3, 21)"
      ]
     },
     "execution_count": 42,
     "metadata": {},
     "output_type": "execute_result"
    }
   ],
   "source": [
    "x.shape"
   ]
  },
  {
   "cell_type": "markdown",
   "metadata": {
    "colab_type": "text",
    "id": "hoemyqODwGH_"
   },
   "source": [
    "これで無事全データを処理できる形へと変更することが出来ました。"
   ]
  }
 ],
 "metadata": {
  "accelerator": "GPU",
  "colab": {
   "name": "TF_nlp.ipynb",
   "provenance": []
  },
  "kernelspec": {
   "display_name": "Python 3",
   "language": "python",
   "name": "python3"
  },
  "language_info": {
   "codemirror_mode": {
    "name": "ipython",
    "version": 3
   },
   "file_extension": ".py",
   "mimetype": "text/x-python",
   "name": "python",
   "nbconvert_exporter": "python",
   "pygments_lexer": "ipython3",
   "version": "3.6.9"
  }
 },
 "nbformat": 4,
 "nbformat_minor": 1
}
