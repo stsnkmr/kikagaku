{
 "cells": [
  {
   "cell_type": "markdown",
   "metadata": {},
   "source": [
    "# Microsoft Azureのユーザー登録\n",
    "\n",
    "今回、このアカウントを使用するにあたり、企業もしくは個人のユーザー情報の登録が必要となります。\n",
    "\n",
    "[https://www.office.com](https://www.office.com)\n",
    "\n",
    "## 登録手順\n",
    "\n",
    "![change_name](images/regi/01_regi.png)\n",
    "\n",
    "![1](images/regi/02.png)\n",
    "\n",
    "![2](images/regi/03.png)\n",
    "\n",
    "![3](images/regi/04.png)\n",
    "\n",
    "![4](images/regi/05.png)\n",
    "\n",
    "![5](images/regi/06.png)\n",
    "\n",
    "![6](images/regi/07.png)\n",
    "\n",
    "![7](images/regi/08.png)"
   ]
  }
 ],
 "metadata": {
  "kernelspec": {
   "display_name": "Python 3",
   "language": "python",
   "name": "python3"
  },
  "language_info": {
   "codemirror_mode": {
    "name": "ipython",
    "version": 3
   },
   "file_extension": ".py",
   "mimetype": "text/x-python",
   "name": "python",
   "nbconvert_exporter": "python",
   "pygments_lexer": "ipython3",
   "version": "3.6.9"
  }
 },
 "nbformat": 4,
 "nbformat_minor": 2
}
