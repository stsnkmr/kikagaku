{
 "cells": [
  {
   "cell_type": "markdown",
   "metadata": {
    "colab_type": "text",
    "id": "Ry0Il_gHvIwp"
   },
   "source": [
    "# 時系列解析で分類\n",
    "\n",
    "まずは１変数でニューラルネットワークを使用した時系列の分類問題の実装を行ってみましょう。\n",
    "\n",
    "## １変数のNNを使用\n",
    "\n",
    "まずは時系列向けのRecurrent Neural Network（RNN）ではなく、全結合のNeural Networkを使用してみましょう。"
   ]
  },
  {
   "cell_type": "markdown",
   "metadata": {
    "colab_type": "text",
    "id": "0nAUCaxivIwr"
   },
   "source": [
    "### モジュール及びデータの準備"
   ]
  },
  {
   "cell_type": "code",
   "execution_count": 1,
   "metadata": {
    "colab": {},
    "colab_type": "code",
    "id": "EqSL_tBTvIwr"
   },
   "outputs": [],
   "source": [
    "%matplotlib inline\n",
    "import numpy as np\n",
    "import pandas as pd\n",
    "import matplotlib.pyplot as plt"
   ]
  },
  {
   "cell_type": "code",
   "execution_count": 2,
   "metadata": {
    "colab": {},
    "colab_type": "code",
    "id": "d0mnrGuFvIwu"
   },
   "outputs": [],
   "source": [
    "from pandas_datareader.yahoo.daily import YahooDailyReader\n",
    "import datetime"
   ]
  },
  {
   "cell_type": "code",
   "execution_count": 3,
   "metadata": {
    "colab": {},
    "colab_type": "code",
    "id": "elEUAdCSvIww"
   },
   "outputs": [],
   "source": [
    "date_st = datetime.datetime(2015, 1, 1)\n",
    "date_fn = datetime.datetime(2020,1,1)"
   ]
  },
  {
   "cell_type": "code",
   "execution_count": 4,
   "metadata": {
    "colab": {},
    "colab_type": "code",
    "id": "FAzPreDgvIwz"
   },
   "outputs": [],
   "source": [
    "df1 = YahooDailyReader('MSFT', date_st, date_fn).read().reset_index()"
   ]
  },
  {
   "cell_type": "code",
   "execution_count": 5,
   "metadata": {
    "colab": {
     "base_uri": "https://localhost:8080/",
     "height": 138
    },
    "colab_type": "code",
    "executionInfo": {
     "elapsed": 1596,
     "status": "ok",
     "timestamp": 1569053333720,
     "user": {
      "displayName": "佐川史弥",
      "photoUrl": "",
      "userId": "17735252083618003950"
     },
     "user_tz": -540
    },
    "id": "2JhEynvDvIw0",
    "outputId": "0a96ffc0-a31a-4699-9535-5189ba8307d4"
   },
   "outputs": [
    {
     "data": {
      "text/html": [
       "<div>\n",
       "<style scoped>\n",
       "    .dataframe tbody tr th:only-of-type {\n",
       "        vertical-align: middle;\n",
       "    }\n",
       "\n",
       "    .dataframe tbody tr th {\n",
       "        vertical-align: top;\n",
       "    }\n",
       "\n",
       "    .dataframe thead th {\n",
       "        text-align: right;\n",
       "    }\n",
       "</style>\n",
       "<table border=\"1\" class=\"dataframe\">\n",
       "  <thead>\n",
       "    <tr style=\"text-align: right;\">\n",
       "      <th></th>\n",
       "      <th>Date</th>\n",
       "      <th>High</th>\n",
       "      <th>Low</th>\n",
       "      <th>Open</th>\n",
       "      <th>Close</th>\n",
       "      <th>Volume</th>\n",
       "      <th>Adj Close</th>\n",
       "    </tr>\n",
       "  </thead>\n",
       "  <tbody>\n",
       "    <tr>\n",
       "      <th>0</th>\n",
       "      <td>2014-12-31</td>\n",
       "      <td>47.439999</td>\n",
       "      <td>46.450001</td>\n",
       "      <td>46.730000</td>\n",
       "      <td>46.450001</td>\n",
       "      <td>21552500.0</td>\n",
       "      <td>41.700874</td>\n",
       "    </tr>\n",
       "    <tr>\n",
       "      <th>1</th>\n",
       "      <td>2015-01-02</td>\n",
       "      <td>47.419998</td>\n",
       "      <td>46.540001</td>\n",
       "      <td>46.660000</td>\n",
       "      <td>46.759998</td>\n",
       "      <td>27913900.0</td>\n",
       "      <td>41.979183</td>\n",
       "    </tr>\n",
       "    <tr>\n",
       "      <th>2</th>\n",
       "      <td>2015-01-05</td>\n",
       "      <td>46.730000</td>\n",
       "      <td>46.250000</td>\n",
       "      <td>46.369999</td>\n",
       "      <td>46.330002</td>\n",
       "      <td>39673900.0</td>\n",
       "      <td>41.593143</td>\n",
       "    </tr>\n",
       "  </tbody>\n",
       "</table>\n",
       "</div>"
      ],
      "text/plain": [
       "        Date       High        Low       Open      Close      Volume  \\\n",
       "0 2014-12-31  47.439999  46.450001  46.730000  46.450001  21552500.0   \n",
       "1 2015-01-02  47.419998  46.540001  46.660000  46.759998  27913900.0   \n",
       "2 2015-01-05  46.730000  46.250000  46.369999  46.330002  39673900.0   \n",
       "\n",
       "   Adj Close  \n",
       "0  41.700874  \n",
       "1  41.979183  \n",
       "2  41.593143  "
      ]
     },
     "execution_count": 5,
     "metadata": {},
     "output_type": "execute_result"
    }
   ],
   "source": [
    "df1.head(3)"
   ]
  },
  {
   "cell_type": "code",
   "execution_count": 6,
   "metadata": {
    "colab": {},
    "colab_type": "code",
    "id": "V3Fvonq8vIw3"
   },
   "outputs": [],
   "source": [
    "ts = df1['Close'].values"
   ]
  },
  {
   "cell_type": "code",
   "execution_count": 7,
   "metadata": {
    "colab": {
     "base_uri": "https://localhost:8080/",
     "height": 54
    },
    "colab_type": "code",
    "executionInfo": {
     "elapsed": 527,
     "status": "ok",
     "timestamp": 1569053334737,
     "user": {
      "displayName": "佐川史弥",
      "photoUrl": "",
      "userId": "17735252083618003950"
     },
     "user_tz": -540
    },
    "id": "AP_KfERovIw5",
    "outputId": "4ec86e4d-3d6e-4085-d1ee-1809cdb8194f"
   },
   "outputs": [
    {
     "data": {
      "text/plain": [
       "array([ 46.45000076,  46.75999832,  46.33000183, ..., 158.96000671,\n",
       "       157.58999634, 157.69999695])"
      ]
     },
     "execution_count": 7,
     "metadata": {},
     "output_type": "execute_result"
    }
   ],
   "source": [
    "ts"
   ]
  },
  {
   "cell_type": "code",
   "execution_count": 8,
   "metadata": {
    "colab": {
     "base_uri": "https://localhost:8080/",
     "height": 35
    },
    "colab_type": "code",
    "executionInfo": {
     "elapsed": 495,
     "status": "ok",
     "timestamp": 1569053334925,
     "user": {
      "displayName": "佐川史弥",
      "photoUrl": "",
      "userId": "17735252083618003950"
     },
     "user_tz": -540
    },
    "id": "xCB3c7-gvIw7",
    "outputId": "f18ace76-4c4b-4c30-8e85-245829a418a1"
   },
   "outputs": [
    {
     "data": {
      "text/plain": [
       "(1259,)"
      ]
     },
     "execution_count": 8,
     "metadata": {},
     "output_type": "execute_result"
    }
   ],
   "source": [
    "ts.shape"
   ]
  },
  {
   "cell_type": "markdown",
   "metadata": {
    "colab_type": "text",
    "id": "WEITNY1SvIw9"
   },
   "source": [
    "### 教師データの作成\n",
    "\n",
    "時系列解析では、手元にあるデータからいかに素早く教師データを作成できるかがポイントになります。\n",
    "下記の例では翌日の価格が上昇すれば1, 下降もしくは同じであれば0といったようなラベル付けを行います。\n",
    "\n",
    "xとtにまずはリスト形式でデータを格納していきます。"
   ]
  },
  {
   "cell_type": "code",
   "execution_count": 9,
   "metadata": {
    "colab": {},
    "colab_type": "code",
    "id": "AyHkmNlAvIw-"
   },
   "outputs": [],
   "source": [
    "x, t = [], []\n",
    "for i in range(len(ts)-1):\n",
    "    x.append(ts[i])\n",
    "    if ts[i] < ts[i+1]:  # 今日より明日の方がよければ\n",
    "        t.append(1)\n",
    "    else:\n",
    "        t.append(0)"
   ]
  },
  {
   "cell_type": "markdown",
   "metadata": {
    "colab_type": "text",
    "id": "HSw7umf_vIxA"
   },
   "source": [
    "最終的にまとまった結果をNumpyにしておきましょう。"
   ]
  },
  {
   "cell_type": "code",
   "execution_count": 10,
   "metadata": {
    "colab": {},
    "colab_type": "code",
    "id": "1RJyzP8EvIxB"
   },
   "outputs": [],
   "source": [
    "x = np.array(x).reshape(len(x), 1)\n",
    "t = np.array(t)"
   ]
  },
  {
   "cell_type": "code",
   "execution_count": 11,
   "metadata": {
    "colab": {
     "base_uri": "https://localhost:8080/",
     "height": 35
    },
    "colab_type": "code",
    "executionInfo": {
     "elapsed": 362,
     "status": "ok",
     "timestamp": 1569053337371,
     "user": {
      "displayName": "佐川史弥",
      "photoUrl": "",
      "userId": "17735252083618003950"
     },
     "user_tz": -540
    },
    "id": "ILmIAXdAvIxC",
    "outputId": "d60e3654-da06-4041-abab-15ca5f89a199"
   },
   "outputs": [
    {
     "data": {
      "text/plain": [
       "(1258, 1)"
      ]
     },
     "execution_count": 11,
     "metadata": {},
     "output_type": "execute_result"
    }
   ],
   "source": [
    "x.shape"
   ]
  },
  {
   "cell_type": "markdown",
   "metadata": {
    "colab_type": "text",
    "id": "J5ik3E1UvIxE"
   },
   "source": [
    "### データセットの作成と訓練・検証データへ分割"
   ]
  },
  {
   "cell_type": "code",
   "execution_count": 12,
   "metadata": {
    "colab": {
     "base_uri": "https://localhost:8080/",
     "height": 35
    },
    "colab_type": "code",
    "executionInfo": {
     "elapsed": 6599,
     "status": "ok",
     "timestamp": 1569053345545,
     "user": {
      "displayName": "佐川史弥",
      "photoUrl": "",
      "userId": "17735252083618003950"
     },
     "user_tz": -540
    },
    "id": "8Qu16uGTvIxF",
    "outputId": "e1bf9375-5cd2-488e-f752-99a51ef45f56"
   },
   "outputs": [],
   "source": [
    "# try:\n",
    "#   # Colab only\n",
    "#   %tensorflow_version 2.x\n",
    "# except Exception:\n",
    "#     pass\n",
    "\n",
    "# Pythonの挙動を整えるライブラリのインポート\n",
    "from __future__ import absolute_import, division, print_function, unicode_literals\n",
    "\n",
    "# TensorFlow と tf.keras のインポート\n",
    "import tensorflow as tf\n",
    "from tensorflow import keras\n",
    "\n",
    "from tensorflow.keras import models,layers"
   ]
  },
  {
   "cell_type": "markdown",
   "metadata": {
    "colab_type": "text",
    "id": "eL3SmmBUvIxI"
   },
   "source": [
    "訓練と検証データを分割する際に絶対に注意すべき点として、` train_test_split`の引数を`shuffle=False`としておくことです。\n",
    "ランダムに抽出してしまうと、時系列データが切れてしまいます。また、この際に `random_state=0`は必要ありません。"
   ]
  },
  {
   "cell_type": "code",
   "execution_count": 13,
   "metadata": {
    "colab": {},
    "colab_type": "code",
    "id": "b_yNw0GbvIxJ",
    "scrolled": true
   },
   "outputs": [],
   "source": [
    "from sklearn.model_selection import train_test_split\n",
    "\n",
    "# 訓練データと検証データの分割\n",
    "train_x, val_x, train_t, val_t = train_test_split(x, t, test_size=0.3, shuffle=False)"
   ]
  },
  {
   "cell_type": "markdown",
   "metadata": {
    "colab_type": "text",
    "id": "FyJWGesovIxL"
   },
   "source": [
    "では分割したデータを確認しましょう。"
   ]
  },
  {
   "cell_type": "markdown",
   "metadata": {
    "colab_type": "text",
    "id": "XnRkTtSavIxL"
   },
   "source": [
    "### モデルの定義\n",
    "\n",
    "NNのモデルに関しては、これまでと変わりはありません。"
   ]
  },
  {
   "cell_type": "code",
   "execution_count": 14,
   "metadata": {},
   "outputs": [],
   "source": [
    "import os\n",
    "import random\n",
    "\n",
    "\n",
    "def reset_seed(seed=0):\n",
    "\n",
    "    os.environ['PYTHONHASHSEED'] = '0'\n",
    "    random.seed(seed) #　random関数のシードを固定\n",
    "    np.random.seed(seed) #numpyのシードを固定\n",
    "    tf.random.set_seed(seed) #tensorflowのシードを固定"
   ]
  },
  {
   "cell_type": "code",
   "execution_count": 15,
   "metadata": {
    "colab": {},
    "colab_type": "code",
    "id": "6jvHeZkdvIxL"
   },
   "outputs": [],
   "source": [
    "reset_seed(0)\n",
    "\n",
    "model = models.Sequential()\n",
    "\n",
    "model.add(layers.Dense(10, input_shape=(1,), activation='relu'))\n",
    "model.add(layers.Dense(2, activation='softmax'))\n",
    "\n",
    "optimizer = keras.optimizers.SGD(lr=0.01)\n",
    "\n",
    "model.compile(loss='sparse_categorical_crossentropy', optimizer=optimizer, metrics=['accuracy'])"
   ]
  },
  {
   "cell_type": "code",
   "execution_count": 16,
   "metadata": {
    "colab": {
     "base_uri": "https://localhost:8080/",
     "height": 819
    },
    "colab_type": "code",
    "executionInfo": {
     "elapsed": 2269,
     "status": "ok",
     "timestamp": 1569053431071,
     "user": {
      "displayName": "佐川史弥",
      "photoUrl": "",
      "userId": "17735252083618003950"
     },
     "user_tz": -540
    },
    "id": "8PUVZqi4vIxN",
    "outputId": "3a76d099-77f6-4ad5-baa7-7b67b8b0567e"
   },
   "outputs": [
    {
     "name": "stdout",
     "output_type": "stream",
     "text": [
      "Train on 880 samples, validate on 378 samples\n",
      "Epoch 1/20\n",
      "880/880 [==============================] - 1s 867us/sample - loss: 8.5951 - accuracy: 0.4966 - val_loss: 9.2119 - val_accuracy: 0.5741\n",
      "Epoch 2/20\n",
      "880/880 [==============================] - 0s 37us/sample - loss: 1.2019 - accuracy: 0.4966 - val_loss: 1.2456 - val_accuracy: 0.5741\n",
      "Epoch 3/20\n",
      "880/880 [==============================] - 0s 37us/sample - loss: 0.7204 - accuracy: 0.4920 - val_loss: 1.2454 - val_accuracy: 0.5741\n",
      "Epoch 4/20\n",
      "880/880 [==============================] - 0s 37us/sample - loss: 0.7156 - accuracy: 0.4830 - val_loss: 0.8236 - val_accuracy: 0.5741\n",
      "Epoch 5/20\n",
      "880/880 [==============================] - 0s 39us/sample - loss: 0.7013 - accuracy: 0.4920 - val_loss: 0.7305 - val_accuracy: 0.5741\n",
      "Epoch 6/20\n",
      "880/880 [==============================] - 0s 36us/sample - loss: 0.6976 - accuracy: 0.4920 - val_loss: 0.6986 - val_accuracy: 0.5741\n",
      "Epoch 7/20\n",
      "880/880 [==============================] - 0s 38us/sample - loss: 0.6959 - accuracy: 0.4989 - val_loss: 0.6866 - val_accuracy: 0.5741\n",
      "Epoch 8/20\n",
      "880/880 [==============================] - 0s 36us/sample - loss: 0.6950 - accuracy: 0.4989 - val_loss: 0.6829 - val_accuracy: 0.5741\n",
      "Epoch 9/20\n",
      "880/880 [==============================] - 0s 37us/sample - loss: 0.6944 - accuracy: 0.4989 - val_loss: 0.6832 - val_accuracy: 0.5741\n",
      "Epoch 10/20\n",
      "880/880 [==============================] - 0s 38us/sample - loss: 0.6939 - accuracy: 0.4989 - val_loss: 0.6856 - val_accuracy: 0.5741\n",
      "Epoch 11/20\n",
      "880/880 [==============================] - 0s 38us/sample - loss: 0.6937 - accuracy: 0.4989 - val_loss: 0.6891 - val_accuracy: 0.5741\n",
      "Epoch 12/20\n",
      "880/880 [==============================] - 0s 36us/sample - loss: 0.6935 - accuracy: 0.4966 - val_loss: 0.6933 - val_accuracy: 0.4709\n",
      "Epoch 13/20\n",
      "880/880 [==============================] - 0s 37us/sample - loss: 0.6933 - accuracy: 0.5102 - val_loss: 0.6977 - val_accuracy: 0.4259\n",
      "Epoch 14/20\n",
      "880/880 [==============================] - 0s 37us/sample - loss: 0.6932 - accuracy: 0.5102 - val_loss: 0.7023 - val_accuracy: 0.4259\n",
      "Epoch 15/20\n",
      "880/880 [==============================] - 0s 37us/sample - loss: 0.6932 - accuracy: 0.5102 - val_loss: 0.7068 - val_accuracy: 0.4259\n",
      "Epoch 16/20\n",
      "880/880 [==============================] - 0s 36us/sample - loss: 0.6931 - accuracy: 0.5102 - val_loss: 0.7112 - val_accuracy: 0.4259\n",
      "Epoch 17/20\n",
      "880/880 [==============================] - 0s 37us/sample - loss: 0.6931 - accuracy: 0.5102 - val_loss: 0.7153 - val_accuracy: 0.4259\n",
      "Epoch 18/20\n",
      "880/880 [==============================] - 0s 37us/sample - loss: 0.6931 - accuracy: 0.5102 - val_loss: 0.7190 - val_accuracy: 0.4259\n",
      "Epoch 19/20\n",
      "880/880 [==============================] - 0s 46us/sample - loss: 0.6931 - accuracy: 0.5102 - val_loss: 0.7223 - val_accuracy: 0.4259\n",
      "Epoch 20/20\n",
      "880/880 [==============================] - 0s 36us/sample - loss: 0.6932 - accuracy: 0.5102 - val_loss: 0.7251 - val_accuracy: 0.4259\n"
     ]
    }
   ],
   "source": [
    "history = model.fit(train_x, train_t,\n",
    "          batch_size=100,\n",
    "          epochs=20,\n",
    "          verbose=1,\n",
    "          validation_data=(val_x, val_t),shuffle=False)"
   ]
  },
  {
   "cell_type": "code",
   "execution_count": 17,
   "metadata": {
    "colab": {},
    "colab_type": "code",
    "id": "EwuYuby8vIxP"
   },
   "outputs": [],
   "source": [
    "# 学習結果をPandasのDataFrame型で読み込みます。\n",
    "results = pd.DataFrame(history.history)"
   ]
  },
  {
   "cell_type": "code",
   "execution_count": 18,
   "metadata": {
    "colab": {
     "base_uri": "https://localhost:8080/",
     "height": 648
    },
    "colab_type": "code",
    "executionInfo": {
     "elapsed": 475,
     "status": "ok",
     "timestamp": 1569053434551,
     "user": {
      "displayName": "佐川史弥",
      "photoUrl": "",
      "userId": "17735252083618003950"
     },
     "user_tz": -540
    },
    "id": "K4ZWCuVYvIxQ",
    "outputId": "164e0349-35c6-472d-a288-6b651674efbd"
   },
   "outputs": [
    {
     "data": {
      "text/html": [
       "<div>\n",
       "<style scoped>\n",
       "    .dataframe tbody tr th:only-of-type {\n",
       "        vertical-align: middle;\n",
       "    }\n",
       "\n",
       "    .dataframe tbody tr th {\n",
       "        vertical-align: top;\n",
       "    }\n",
       "\n",
       "    .dataframe thead th {\n",
       "        text-align: right;\n",
       "    }\n",
       "</style>\n",
       "<table border=\"1\" class=\"dataframe\">\n",
       "  <thead>\n",
       "    <tr style=\"text-align: right;\">\n",
       "      <th></th>\n",
       "      <th>loss</th>\n",
       "      <th>accuracy</th>\n",
       "      <th>val_loss</th>\n",
       "      <th>val_accuracy</th>\n",
       "    </tr>\n",
       "  </thead>\n",
       "  <tbody>\n",
       "    <tr>\n",
       "      <th>0</th>\n",
       "      <td>8.595129</td>\n",
       "      <td>0.496591</td>\n",
       "      <td>9.211945</td>\n",
       "      <td>0.574074</td>\n",
       "    </tr>\n",
       "    <tr>\n",
       "      <th>1</th>\n",
       "      <td>1.201868</td>\n",
       "      <td>0.496591</td>\n",
       "      <td>1.245622</td>\n",
       "      <td>0.574074</td>\n",
       "    </tr>\n",
       "    <tr>\n",
       "      <th>2</th>\n",
       "      <td>0.720429</td>\n",
       "      <td>0.492045</td>\n",
       "      <td>1.245445</td>\n",
       "      <td>0.574074</td>\n",
       "    </tr>\n",
       "    <tr>\n",
       "      <th>3</th>\n",
       "      <td>0.715603</td>\n",
       "      <td>0.482955</td>\n",
       "      <td>0.823644</td>\n",
       "      <td>0.574074</td>\n",
       "    </tr>\n",
       "    <tr>\n",
       "      <th>4</th>\n",
       "      <td>0.701327</td>\n",
       "      <td>0.492045</td>\n",
       "      <td>0.730455</td>\n",
       "      <td>0.574074</td>\n",
       "    </tr>\n",
       "    <tr>\n",
       "      <th>5</th>\n",
       "      <td>0.697615</td>\n",
       "      <td>0.492045</td>\n",
       "      <td>0.698604</td>\n",
       "      <td>0.574074</td>\n",
       "    </tr>\n",
       "    <tr>\n",
       "      <th>6</th>\n",
       "      <td>0.695921</td>\n",
       "      <td>0.498864</td>\n",
       "      <td>0.686597</td>\n",
       "      <td>0.574074</td>\n",
       "    </tr>\n",
       "    <tr>\n",
       "      <th>7</th>\n",
       "      <td>0.694961</td>\n",
       "      <td>0.498864</td>\n",
       "      <td>0.682882</td>\n",
       "      <td>0.574074</td>\n",
       "    </tr>\n",
       "    <tr>\n",
       "      <th>8</th>\n",
       "      <td>0.694354</td>\n",
       "      <td>0.498864</td>\n",
       "      <td>0.683169</td>\n",
       "      <td>0.574074</td>\n",
       "    </tr>\n",
       "    <tr>\n",
       "      <th>9</th>\n",
       "      <td>0.693945</td>\n",
       "      <td>0.498864</td>\n",
       "      <td>0.685556</td>\n",
       "      <td>0.574074</td>\n",
       "    </tr>\n",
       "    <tr>\n",
       "      <th>10</th>\n",
       "      <td>0.693661</td>\n",
       "      <td>0.498864</td>\n",
       "      <td>0.689095</td>\n",
       "      <td>0.574074</td>\n",
       "    </tr>\n",
       "    <tr>\n",
       "      <th>11</th>\n",
       "      <td>0.693461</td>\n",
       "      <td>0.496591</td>\n",
       "      <td>0.693260</td>\n",
       "      <td>0.470899</td>\n",
       "    </tr>\n",
       "    <tr>\n",
       "      <th>12</th>\n",
       "      <td>0.693320</td>\n",
       "      <td>0.510227</td>\n",
       "      <td>0.697735</td>\n",
       "      <td>0.425926</td>\n",
       "    </tr>\n",
       "    <tr>\n",
       "      <th>13</th>\n",
       "      <td>0.693223</td>\n",
       "      <td>0.510227</td>\n",
       "      <td>0.702312</td>\n",
       "      <td>0.425926</td>\n",
       "    </tr>\n",
       "    <tr>\n",
       "      <th>14</th>\n",
       "      <td>0.693162</td>\n",
       "      <td>0.510227</td>\n",
       "      <td>0.706837</td>\n",
       "      <td>0.425926</td>\n",
       "    </tr>\n",
       "    <tr>\n",
       "      <th>15</th>\n",
       "      <td>0.693127</td>\n",
       "      <td>0.510227</td>\n",
       "      <td>0.711193</td>\n",
       "      <td>0.425926</td>\n",
       "    </tr>\n",
       "    <tr>\n",
       "      <th>16</th>\n",
       "      <td>0.693114</td>\n",
       "      <td>0.510227</td>\n",
       "      <td>0.715280</td>\n",
       "      <td>0.425926</td>\n",
       "    </tr>\n",
       "    <tr>\n",
       "      <th>17</th>\n",
       "      <td>0.693119</td>\n",
       "      <td>0.510227</td>\n",
       "      <td>0.719011</td>\n",
       "      <td>0.425926</td>\n",
       "    </tr>\n",
       "    <tr>\n",
       "      <th>18</th>\n",
       "      <td>0.693137</td>\n",
       "      <td>0.510227</td>\n",
       "      <td>0.722312</td>\n",
       "      <td>0.425926</td>\n",
       "    </tr>\n",
       "    <tr>\n",
       "      <th>19</th>\n",
       "      <td>0.693166</td>\n",
       "      <td>0.510227</td>\n",
       "      <td>0.725116</td>\n",
       "      <td>0.425926</td>\n",
       "    </tr>\n",
       "  </tbody>\n",
       "</table>\n",
       "</div>"
      ],
      "text/plain": [
       "        loss  accuracy  val_loss  val_accuracy\n",
       "0   8.595129  0.496591  9.211945      0.574074\n",
       "1   1.201868  0.496591  1.245622      0.574074\n",
       "2   0.720429  0.492045  1.245445      0.574074\n",
       "3   0.715603  0.482955  0.823644      0.574074\n",
       "4   0.701327  0.492045  0.730455      0.574074\n",
       "5   0.697615  0.492045  0.698604      0.574074\n",
       "6   0.695921  0.498864  0.686597      0.574074\n",
       "7   0.694961  0.498864  0.682882      0.574074\n",
       "8   0.694354  0.498864  0.683169      0.574074\n",
       "9   0.693945  0.498864  0.685556      0.574074\n",
       "10  0.693661  0.498864  0.689095      0.574074\n",
       "11  0.693461  0.496591  0.693260      0.470899\n",
       "12  0.693320  0.510227  0.697735      0.425926\n",
       "13  0.693223  0.510227  0.702312      0.425926\n",
       "14  0.693162  0.510227  0.706837      0.425926\n",
       "15  0.693127  0.510227  0.711193      0.425926\n",
       "16  0.693114  0.510227  0.715280      0.425926\n",
       "17  0.693119  0.510227  0.719011      0.425926\n",
       "18  0.693137  0.510227  0.722312      0.425926\n",
       "19  0.693166  0.510227  0.725116      0.425926"
      ]
     },
     "execution_count": 18,
     "metadata": {},
     "output_type": "execute_result"
    }
   ],
   "source": [
    "results"
   ]
  },
  {
   "cell_type": "code",
   "execution_count": 19,
   "metadata": {
    "colab": {
     "base_uri": "https://localhost:8080/",
     "height": 287
    },
    "colab_type": "code",
    "executionInfo": {
     "elapsed": 842,
     "status": "ok",
     "timestamp": 1569053444740,
     "user": {
      "displayName": "佐川史弥",
      "photoUrl": "",
      "userId": "17735252083618003950"
     },
     "user_tz": -540
    },
    "id": "IUx6VRD9vIxT",
    "outputId": "e132e6d4-5df5-4f86-cbc8-be9e4f7d7e16",
    "scrolled": true
   },
   "outputs": [
    {
     "data": {
      "text/plain": [
       "<matplotlib.axes._subplots.AxesSubplot at 0x7fc44c39ba20>"
      ]
     },
     "execution_count": 19,
     "metadata": {},
     "output_type": "execute_result"
    },
    {
     "data": {
      "image/png": "[encoded data removed]",
      "text/plain": [
       "<Figure size 432x288 with 1 Axes>"
      ]
     },
     "metadata": {
      "needs_background": "light"
     },
     "output_type": "display_data"
    }
   ],
   "source": [
    "# accuracy（精度）を表示\n",
    "results[['accuracy', 'val_accuracy']].plot()"
   ]
  },
  {
   "cell_type": "code",
   "execution_count": 20,
   "metadata": {
    "colab": {
     "base_uri": "https://localhost:8080/",
     "height": 287
    },
    "colab_type": "code",
    "executionInfo": {
     "elapsed": 714,
     "status": "ok",
     "timestamp": 1569053449398,
     "user": {
      "displayName": "佐川史弥",
      "photoUrl": "",
      "userId": "17735252083618003950"
     },
     "user_tz": -540
    },
    "id": "tXIR8USHvIxV",
    "outputId": "87aaa50a-3e43-435f-896f-fac33054819f",
    "scrolled": true
   },
   "outputs": [
    {
     "data": {
      "text/plain": [
       "<matplotlib.axes._subplots.AxesSubplot at 0x7fc44c34a6d8>"
      ]
     },
     "execution_count": 20,
     "metadata": {},
     "output_type": "execute_result"
    },
    {
     "data": {
      "image/png": "[encoded data removed]",
      "text/plain": [
       "<Figure size 432x288 with 1 Axes>"
      ]
     },
     "metadata": {
      "needs_background": "light"
     },
     "output_type": "display_data"
    }
   ],
   "source": [
    "# loss（損失関数）を表示\n",
    "results[['loss', 'val_loss']].plot()"
   ]
  },
  {
   "cell_type": "markdown",
   "metadata": {
    "colab_type": "text",
    "id": "WgeUFZ0mvIxX"
   },
   "source": [
    "全く学習が進んでいません。また最終的なAccuracyは訓練データに対して50%が得られていますが、検証データに対して約45%であるため、確率1/2よりもよくない結果となってしまっています。"
   ]
  },
  {
   "cell_type": "markdown",
   "metadata": {
    "colab_type": "text",
    "id": "pRrXmuRgvIxY"
   },
   "source": [
    "## LSTM（RNN）\n",
    "\n",
    "時系列解析向けのNNでありRNNの一種であるLong-Short Term Memory（LSTM）を使用して結果の改善が見込まれるか試してみましょう。\n",
    "\n",
    "大きな変更点は `LSTM(10, input_shape=(1, 1), activation='relu')`の部分です。\n",
    "これまでは、`Dense(10, input_shape=(1, ), activation='relu')`のように全結合層を設けていましたが、こちらを`LSTM`として定義するだけでLSTMの層になります。\n",
    "１点だけLSTMを使用する際に気をつけるべき点があります。\n",
    "LSTMでは入力が`input_shape=(1, 1)`と二次元になっています。これはデータが二次元配列で入ってくることが前提となっているためです。ですので入力`x`を整形しましょう。"
   ]
  },
  {
   "cell_type": "code",
   "execution_count": 21,
   "metadata": {
    "colab": {},
    "colab_type": "code",
    "id": "-JVS8IrLvIxY"
   },
   "outputs": [],
   "source": [
    "x = np.array(x).reshape(len(x), 1, 1)"
   ]
  },
  {
   "cell_type": "code",
   "execution_count": 22,
   "metadata": {
    "colab": {
     "base_uri": "https://localhost:8080/",
     "height": 35
    },
    "colab_type": "code",
    "executionInfo": {
     "elapsed": 332,
     "status": "ok",
     "timestamp": 1569053486827,
     "user": {
      "displayName": "佐川史弥",
      "photoUrl": "",
      "userId": "17735252083618003950"
     },
     "user_tz": -540
    },
    "id": "AnFvWndMvIxa",
    "outputId": "f6b545e1-1dce-4aa5-c20b-6ee126498b2b"
   },
   "outputs": [
    {
     "data": {
      "text/plain": [
       "(1258, 1, 1)"
      ]
     },
     "execution_count": 22,
     "metadata": {},
     "output_type": "execute_result"
    }
   ],
   "source": [
    "x.shape"
   ]
  },
  {
   "cell_type": "code",
   "execution_count": 23,
   "metadata": {
    "colab": {},
    "colab_type": "code",
    "id": "gOEVOXp0vIxc"
   },
   "outputs": [],
   "source": [
    "# 訓練データと検証データの分割\n",
    "train_x, val_x, train_t, val_t = train_test_split(x, t, test_size=0.3, shuffle=False)"
   ]
  },
  {
   "cell_type": "code",
   "execution_count": 24,
   "metadata": {},
   "outputs": [],
   "source": [
    "import os\n",
    "import random\n",
    "\n",
    "\n",
    "def reset_seed(seed=0):\n",
    "\n",
    "    os.environ['PYTHONHASHSEED'] = '0'\n",
    "    random.seed(seed) #　random関数のシードを固定\n",
    "    np.random.seed(seed) #numpyのシードを固定\n",
    "    tf.random.set_seed(seed) #tensorflowのシードを固定"
   ]
  },
  {
   "cell_type": "code",
   "execution_count": 25,
   "metadata": {
    "colab": {},
    "colab_type": "code",
    "id": "WRBRT4bwvIxd"
   },
   "outputs": [],
   "source": [
    "reset_seed(0)\n",
    "\n",
    "model = models.Sequential()\n",
    "\n",
    "model.add(layers.LSTM(10, input_shape=(1, 1), activation='relu'))\n",
    "model.add(layers.Dense(2, activation='softmax'))\n",
    "\n",
    "optimizer = keras.optimizers.Adam(lr=0.01)\n",
    "\n",
    "model.compile(loss='sparse_categorical_crossentropy', optimizer=optimizer, metrics=['accuracy'])"
   ]
  },
  {
   "cell_type": "code",
   "execution_count": 26,
   "metadata": {
    "colab": {
     "base_uri": "https://localhost:8080/",
     "height": 819
    },
    "colab_type": "code",
    "executionInfo": {
     "elapsed": 2942,
     "status": "ok",
     "timestamp": 1569053517678,
     "user": {
      "displayName": "佐川史弥",
      "photoUrl": "",
      "userId": "17735252083618003950"
     },
     "user_tz": -540
    },
    "id": "LwMkbyeGvIxf",
    "outputId": "9c8b3248-e391-4a3a-ae24-6e183202ab0c"
   },
   "outputs": [
    {
     "name": "stdout",
     "output_type": "stream",
     "text": [
      "Train on 880 samples, validate on 378 samples\n",
      "Epoch 1/20\n",
      "880/880 [==============================] - 2s 2ms/sample - loss: 1.0016 - accuracy: 0.5330 - val_loss: 1.0693 - val_accuracy: 0.5741\n",
      "Epoch 2/20\n",
      "880/880 [==============================] - 0s 55us/sample - loss: 0.7244 - accuracy: 0.4670 - val_loss: 0.6988 - val_accuracy: 0.4259\n",
      "Epoch 3/20\n",
      "880/880 [==============================] - 0s 53us/sample - loss: 0.7038 - accuracy: 0.5159 - val_loss: 0.6908 - val_accuracy: 0.5741\n",
      "Epoch 4/20\n",
      "880/880 [==============================] - 0s 62us/sample - loss: 0.6946 - accuracy: 0.5205 - val_loss: 0.6884 - val_accuracy: 0.5741\n",
      "Epoch 5/20\n",
      "880/880 [==============================] - 0s 53us/sample - loss: 0.6930 - accuracy: 0.5216 - val_loss: 0.6855 - val_accuracy: 0.5741\n",
      "Epoch 6/20\n",
      "880/880 [==============================] - 0s 54us/sample - loss: 0.6925 - accuracy: 0.5114 - val_loss: 0.6843 - val_accuracy: 0.5741\n",
      "Epoch 7/20\n",
      "880/880 [==============================] - 0s 57us/sample - loss: 0.6915 - accuracy: 0.5148 - val_loss: 0.6825 - val_accuracy: 0.5741\n",
      "Epoch 8/20\n",
      "880/880 [==============================] - 0s 52us/sample - loss: 0.6921 - accuracy: 0.5216 - val_loss: 0.6828 - val_accuracy: 0.5741\n",
      "Epoch 9/20\n",
      "880/880 [==============================] - 0s 53us/sample - loss: 0.6921 - accuracy: 0.5205 - val_loss: 0.6833 - val_accuracy: 0.5741\n",
      "Epoch 10/20\n",
      "880/880 [==============================] - 0s 53us/sample - loss: 0.6918 - accuracy: 0.5114 - val_loss: 0.6827 - val_accuracy: 0.5741\n",
      "Epoch 11/20\n",
      "880/880 [==============================] - 0s 54us/sample - loss: 0.6919 - accuracy: 0.5216 - val_loss: 0.6827 - val_accuracy: 0.5741\n",
      "Epoch 12/20\n",
      "880/880 [==============================] - 0s 54us/sample - loss: 0.6920 - accuracy: 0.5216 - val_loss: 0.6828 - val_accuracy: 0.5741\n",
      "Epoch 13/20\n",
      "880/880 [==============================] - 0s 55us/sample - loss: 0.6919 - accuracy: 0.5182 - val_loss: 0.6827 - val_accuracy: 0.5741\n",
      "Epoch 14/20\n",
      "880/880 [==============================] - 0s 56us/sample - loss: 0.6919 - accuracy: 0.5205 - val_loss: 0.6827 - val_accuracy: 0.5741\n",
      "Epoch 15/20\n",
      "880/880 [==============================] - 0s 56us/sample - loss: 0.6919 - accuracy: 0.5182 - val_loss: 0.6827 - val_accuracy: 0.5741\n",
      "Epoch 16/20\n",
      "880/880 [==============================] - 0s 55us/sample - loss: 0.6919 - accuracy: 0.5182 - val_loss: 0.6827 - val_accuracy: 0.5741\n",
      "Epoch 17/20\n",
      "880/880 [==============================] - 0s 53us/sample - loss: 0.6919 - accuracy: 0.5182 - val_loss: 0.6827 - val_accuracy: 0.5741\n",
      "Epoch 18/20\n",
      "880/880 [==============================] - 0s 56us/sample - loss: 0.6919 - accuracy: 0.5170 - val_loss: 0.6827 - val_accuracy: 0.5741\n",
      "Epoch 19/20\n",
      "880/880 [==============================] - 0s 53us/sample - loss: 0.6919 - accuracy: 0.5182 - val_loss: 0.6826 - val_accuracy: 0.5741\n",
      "Epoch 20/20\n",
      "880/880 [==============================] - 0s 54us/sample - loss: 0.6919 - accuracy: 0.5205 - val_loss: 0.6826 - val_accuracy: 0.5741\n"
     ]
    }
   ],
   "source": [
    "history = model.fit(train_x, train_t,\n",
    "          batch_size=100,\n",
    "          epochs=20,\n",
    "          verbose=1,\n",
    "          validation_data=(val_x, val_t), shuffle=False)"
   ]
  },
  {
   "cell_type": "code",
   "execution_count": 27,
   "metadata": {
    "colab": {
     "base_uri": "https://localhost:8080/",
     "height": 287
    },
    "colab_type": "code",
    "executionInfo": {
     "elapsed": 723,
     "status": "ok",
     "timestamp": 1569053521484,
     "user": {
      "displayName": "佐川史弥",
      "photoUrl": "",
      "userId": "17735252083618003950"
     },
     "user_tz": -540
    },
    "id": "bTmi_PL2vIxg",
    "outputId": "bab99356-c835-4ce1-f912-38ae78bee1da"
   },
   "outputs": [
    {
     "data": {
      "text/plain": [
       "<matplotlib.axes._subplots.AxesSubplot at 0x7fc38e570198>"
      ]
     },
     "execution_count": 27,
     "metadata": {},
     "output_type": "execute_result"
    },
    {
     "data": {
      "image/png": "[encoded data removed]",
      "text/plain": [
       "<Figure size 432x288 with 1 Axes>"
      ]
     },
     "metadata": {
      "needs_background": "light"
     },
     "output_type": "display_data"
    }
   ],
   "source": [
    "# 学習結果をPandasのDataFrame型で読み込みます。\n",
    "results = pd.DataFrame(history.history)\n",
    "\n",
    "# loss（損失関数）を表示\n",
    "results[['loss', 'val_loss']].plot()"
   ]
  },
  {
   "cell_type": "code",
   "execution_count": 28,
   "metadata": {
    "colab": {
     "base_uri": "https://localhost:8080/",
     "height": 287
    },
    "colab_type": "code",
    "executionInfo": {
     "elapsed": 721,
     "status": "ok",
     "timestamp": 1569053530884,
     "user": {
      "displayName": "佐川史弥",
      "photoUrl": "",
      "userId": "17735252083618003950"
     },
     "user_tz": -540
    },
    "id": "Wnqn4ZeZvIxk",
    "outputId": "af8e98f1-8b26-4876-ad7a-2d3f4803f49a"
   },
   "outputs": [
    {
     "data": {
      "text/plain": [
       "<matplotlib.axes._subplots.AxesSubplot at 0x7fc38e539ef0>"
      ]
     },
     "execution_count": 28,
     "metadata": {},
     "output_type": "execute_result"
    },
    {
     "data": {
      "image/png": "[encoded data removed]",
      "text/plain": [
       "<Figure size 432x288 with 1 Axes>"
      ]
     },
     "metadata": {
      "needs_background": "light"
     },
     "output_type": "display_data"
    }
   ],
   "source": [
    "# accuracy（精度）を表示\n",
    "results[['accuracy', 'val_accuracy']].plot()"
   ]
  },
  {
   "cell_type": "markdown",
   "metadata": {
    "colab_type": "text",
    "id": "OhtZLWJJvIxm"
   },
   "source": [
    "シンプルなモデルではうまくいかないようでした。   \n",
    "層を深くしたり、ノードの数を調整することによって精度に変化があるのか確認してみましょう。"
   ]
  },
  {
   "cell_type": "markdown",
   "metadata": {
    "colab_type": "text",
    "id": "ioI5MVMkvIxm"
   },
   "source": [
    "## 演習\n",
    "\n",
    "\n",
    "前章で紹介した方法で複数社の株価を取得し、１変数ではなく複数の変数を使用して上下の予測を行うように変更して変化があるか検証しましょう。\n",
    "また、LSTMの層も１層ではなく複数層を保持するとどのように変化するか検証しましょう。\n",
    "\n",
    "さらに発展的な課題としては、LSTMではなくCNNを使用した時系列の解析ができないか検討してみましょう。"
   ]
  }
 ],
 "metadata": {
  "colab": {
   "name": "08_Keras_time_series_classification.ipynb",
   "provenance": []
  },
  "kernelspec": {
   "display_name": "Python 3",
   "language": "python",
   "name": "python3"
  },
  "language_info": {
   "codemirror_mode": {
    "name": "ipython",
    "version": 3
   },
   "file_extension": ".py",
   "mimetype": "text/x-python",
   "name": "python",
   "nbconvert_exporter": "python",
   "pygments_lexer": "ipython3",
   "version": "3.6.9"
  }
 },
 "nbformat": 4,
 "nbformat_minor": 1
}
