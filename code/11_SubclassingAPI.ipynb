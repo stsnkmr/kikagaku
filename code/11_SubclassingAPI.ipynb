{
 "cells": [
  {
   "cell_type": "markdown",
   "metadata": {
    "colab_type": "text",
    "id": "6fjRhm2zQDQJ"
   },
   "source": [
    "## Subclassing API の使い方\n",
    "また TensorFlow2.0 の Keras には Sequential モデルと Subclassing API があります。Seqential API は入力層と出力層が一つの流れで繋がっている（線形スタック）モデルのみ構築できます。それに対して、Subclassing API は線形スタックモデルだけでなく、複数の入力層や出力層があるモデルを構築することも可能です。今回はこの Subclassing API の使い方を紹介します。"
   ]
  },
  {
   "cell_type": "code",
   "execution_count": 1,
   "metadata": {
    "colab": {},
    "colab_type": "code",
    "id": "hNXkZCelQDPD"
   },
   "outputs": [],
   "source": [
    "%matplotlib inline\n",
    "import numpy as np\n",
    "import pandas as pd\n",
    "import matplotlib.pyplot as plt"
   ]
  },
  {
   "cell_type": "code",
   "execution_count": 2,
   "metadata": {
    "colab": {
     "base_uri": "https://localhost:8080/",
     "height": 35
    },
    "colab_type": "code",
    "id": "5zgD36mfQDPG",
    "outputId": "1406a663-7be2-43b2-dcc0-dfd66ee46acb"
   },
   "outputs": [
    {
     "name": "stdout",
     "output_type": "stream",
     "text": [
      "2.1.0\n"
     ]
    }
   ],
   "source": [
    "# Pythonの挙動を整えるライブラリのインポート\n",
    "from __future__ import absolute_import, division, print_function, unicode_literals\n",
    "\n",
    "# TensorFlow と tf.keras のインポート\n",
    "import tensorflow as tf\n",
    "from tensorflow import keras\n",
    "\n",
    "print(tf.__version__)"
   ]
  },
  {
   "cell_type": "code",
   "execution_count": 3,
   "metadata": {
    "colab": {},
    "colab_type": "code",
    "id": "6TEcent1QDPO"
   },
   "outputs": [],
   "source": [
    "from tensorflow.keras.datasets import mnist"
   ]
  },
  {
   "cell_type": "code",
   "execution_count": 4,
   "metadata": {
    "colab": {
     "base_uri": "https://localhost:8080/",
     "height": 54
    },
    "colab_type": "code",
    "id": "R68bsfgxQDPQ",
    "outputId": "68e6da81-5298-4610-cc98-432f8e6ff6a8"
   },
   "outputs": [],
   "source": [
    "train, test = mnist.load_data()"
   ]
  },
  {
   "cell_type": "code",
   "execution_count": 5,
   "metadata": {
    "colab": {},
    "colab_type": "code",
    "id": "qeXpjjgoQDP4"
   },
   "outputs": [],
   "source": [
    "train_x = train[0].reshape(60000, 28, 28, 1) / 255 # 正規化\n",
    "test_x = test[0].reshape(10000, 28, 28, 1) / 255 # 正規化\n",
    "\n",
    "train_t = train[1]\n",
    "test_t = test[1]"
   ]
  },
  {
   "cell_type": "code",
   "execution_count": 6,
   "metadata": {
    "colab": {},
    "colab_type": "code",
    "id": "pSl_yBa5QDQL"
   },
   "outputs": [],
   "source": [
    "from tensorflow.keras.models import Model\n",
    "from tensorflow.keras.layers import Input, Dense, Conv2D, MaxPooling2D, Flatten"
   ]
  },
  {
   "cell_type": "code",
   "execution_count": 7,
   "metadata": {
    "colab": {},
    "colab_type": "code",
    "id": "wg1_2aI_luHl"
   },
   "outputs": [],
   "source": [
    "import os\n",
    "import random\n",
    "\n",
    "def reset_seed(seed=0):\n",
    "    \n",
    "    os.environ['PYTHONHASHSEED'] = '0'\n",
    "    random.seed(seed) #　random関数のシードを固定\n",
    "    np.random.seed(seed) #numpyのシードを固定\n",
    "    tf.random.set_seed(seed) #tensorflowのシードを固定"
   ]
  },
  {
   "cell_type": "code",
   "execution_count": 8,
   "metadata": {
    "colab": {},
    "colab_type": "code",
    "id": "T2ukYegFQDQM"
   },
   "outputs": [],
   "source": [
    "# シードの固定\n",
    "reset_seed(0)\n",
    "\n",
    "class MyModel(Model):\n",
    "  def __init__(self):\n",
    "    super(MyModel, self).__init__()\n",
    "    self.conv1 = Conv2D(32, 3, activation='relu')\n",
    "    self.flatten = Flatten()\n",
    "    self.d1 = Dense(128, activation='relu')\n",
    "    self.d2 = Dense(10, activation='softmax')\n",
    "\n",
    "  def call(self, x):\n",
    "    x = self.conv1(x)\n",
    "    x = self.flatten(x)\n",
    "    x = self.d1(x)\n",
    "    return self.d2(x)\n"
   ]
  },
  {
   "cell_type": "code",
   "execution_count": 9,
   "metadata": {
    "colab": {},
    "colab_type": "code",
    "id": "oQD_dE1evfGD"
   },
   "outputs": [],
   "source": [
    "#インスタンス化\n",
    "model = MyModel()"
   ]
  },
  {
   "cell_type": "code",
   "execution_count": 10,
   "metadata": {
    "colab": {
     "base_uri": "https://localhost:8080/",
     "height": 1000
    },
    "colab_type": "code",
    "id": "W_j2Bj7jQDQN",
    "outputId": "7839cc64-e290-49a0-df38-04fb568b6bcd",
    "scrolled": true
   },
   "outputs": [
    {
     "name": "stdout",
     "output_type": "stream",
     "text": [
      "Train on 60000 samples, validate on 10000 samples\n",
      "Epoch 1/30\n",
      "60000/60000 [==============================] - 7s 114us/sample - loss: 0.8725 - accuracy: 0.7656 - val_loss: 0.3349 - val_accuracy: 0.9032\n",
      "Epoch 2/30\n",
      "60000/60000 [==============================] - 7s 110us/sample - loss: 0.2949 - accuracy: 0.9160 - val_loss: 0.2363 - val_accuracy: 0.9339\n",
      "Epoch 3/30\n",
      "60000/60000 [==============================] - 7s 110us/sample - loss: 0.2115 - accuracy: 0.9395 - val_loss: 0.1797 - val_accuracy: 0.9481\n",
      "Epoch 4/30\n",
      "60000/60000 [==============================] - 7s 111us/sample - loss: 0.1624 - accuracy: 0.9536 - val_loss: 0.1455 - val_accuracy: 0.9582\n",
      "Epoch 5/30\n",
      "60000/60000 [==============================] - 7s 109us/sample - loss: 0.1271 - accuracy: 0.9650 - val_loss: 0.1173 - val_accuracy: 0.9669\n",
      "Epoch 6/30\n",
      "60000/60000 [==============================] - 7s 109us/sample - loss: 0.1024 - accuracy: 0.9720 - val_loss: 0.0989 - val_accuracy: 0.9716\n",
      "Epoch 7/30\n",
      "60000/60000 [==============================] - 7s 109us/sample - loss: 0.0846 - accuracy: 0.9776 - val_loss: 0.0843 - val_accuracy: 0.9756\n",
      "Epoch 8/30\n",
      "60000/60000 [==============================] - 7s 110us/sample - loss: 0.0715 - accuracy: 0.9811 - val_loss: 0.0760 - val_accuracy: 0.9769\n",
      "Epoch 9/30\n",
      "60000/60000 [==============================] - 7s 109us/sample - loss: 0.0606 - accuracy: 0.9841 - val_loss: 0.0689 - val_accuracy: 0.9781\n",
      "Epoch 10/30\n",
      "60000/60000 [==============================] - 7s 109us/sample - loss: 0.0534 - accuracy: 0.9859 - val_loss: 0.0657 - val_accuracy: 0.9786\n",
      "Epoch 11/30\n",
      "60000/60000 [==============================] - 6s 108us/sample - loss: 0.0468 - accuracy: 0.9879 - val_loss: 0.0587 - val_accuracy: 0.9810\n",
      "Epoch 12/30\n",
      "60000/60000 [==============================] - 7s 110us/sample - loss: 0.0418 - accuracy: 0.9893 - val_loss: 0.0582 - val_accuracy: 0.9812\n",
      "Epoch 13/30\n",
      "60000/60000 [==============================] - 7s 109us/sample - loss: 0.0369 - accuracy: 0.9908 - val_loss: 0.0578 - val_accuracy: 0.9816\n",
      "Epoch 14/30\n",
      "60000/60000 [==============================] - 7s 108us/sample - loss: 0.0340 - accuracy: 0.9913 - val_loss: 0.0546 - val_accuracy: 0.9822\n",
      "Epoch 15/30\n",
      "60000/60000 [==============================] - 7s 109us/sample - loss: 0.0303 - accuracy: 0.9928 - val_loss: 0.0548 - val_accuracy: 0.9815\n",
      "Epoch 16/30\n",
      "60000/60000 [==============================] - 7s 109us/sample - loss: 0.0269 - accuracy: 0.9936 - val_loss: 0.0501 - val_accuracy: 0.9824\n",
      "Epoch 17/30\n",
      "60000/60000 [==============================] - 7s 110us/sample - loss: 0.0246 - accuracy: 0.9947 - val_loss: 0.0501 - val_accuracy: 0.9830\n",
      "Epoch 18/30\n",
      "60000/60000 [==============================] - 6s 108us/sample - loss: 0.0225 - accuracy: 0.9949 - val_loss: 0.0499 - val_accuracy: 0.9832\n",
      "Epoch 19/30\n",
      "60000/60000 [==============================] - 7s 109us/sample - loss: 0.0214 - accuracy: 0.9949 - val_loss: 0.0496 - val_accuracy: 0.9833\n",
      "Epoch 20/30\n",
      "60000/60000 [==============================] - 7s 109us/sample - loss: 0.0194 - accuracy: 0.9959 - val_loss: 0.0482 - val_accuracy: 0.9834\n",
      "Epoch 21/30\n",
      "60000/60000 [==============================] - 7s 109us/sample - loss: 0.0172 - accuracy: 0.9965 - val_loss: 0.0487 - val_accuracy: 0.9836\n",
      "Epoch 22/30\n",
      "60000/60000 [==============================] - 7s 109us/sample - loss: 0.0152 - accuracy: 0.9972 - val_loss: 0.0473 - val_accuracy: 0.9841\n",
      "Epoch 23/30\n",
      "60000/60000 [==============================] - 7s 110us/sample - loss: 0.0135 - accuracy: 0.9977 - val_loss: 0.0486 - val_accuracy: 0.9834\n",
      "Epoch 24/30\n",
      "60000/60000 [==============================] - 7s 109us/sample - loss: 0.0122 - accuracy: 0.9981 - val_loss: 0.0484 - val_accuracy: 0.9833\n",
      "Epoch 25/30\n",
      "60000/60000 [==============================] - 7s 110us/sample - loss: 0.0116 - accuracy: 0.9983 - val_loss: 0.0483 - val_accuracy: 0.9839\n",
      "Epoch 26/30\n",
      "60000/60000 [==============================] - 7s 109us/sample - loss: 0.0105 - accuracy: 0.9987 - val_loss: 0.0487 - val_accuracy: 0.9841\n",
      "Epoch 27/30\n",
      "60000/60000 [==============================] - 7s 111us/sample - loss: 0.0098 - accuracy: 0.9987 - val_loss: 0.0497 - val_accuracy: 0.9840\n",
      "Epoch 28/30\n",
      "60000/60000 [==============================] - 7s 110us/sample - loss: 0.0088 - accuracy: 0.9991 - val_loss: 0.0492 - val_accuracy: 0.9833\n",
      "Epoch 29/30\n",
      "60000/60000 [==============================] - 7s 108us/sample - loss: 0.0082 - accuracy: 0.9992 - val_loss: 0.0487 - val_accuracy: 0.9841\n",
      "Epoch 30/30\n",
      "60000/60000 [==============================] - 7s 109us/sample - loss: 0.0076 - accuracy: 0.9992 - val_loss: 0.0493 - val_accuracy: 0.9833\n"
     ]
    }
   ],
   "source": [
    "model.compile(optimizer='adam', loss='sparse_categorical_crossentropy', metrics=['accuracy'])\n",
    "\n",
    "batch_size = 4096\n",
    "epochs = 30\n",
    "\n",
    "history = model.fit(train_x, train_t, batch_size=batch_size, epochs=epochs, verbose=1, validation_data=(test_x, test_t))"
   ]
  },
  {
   "cell_type": "code",
   "execution_count": 11,
   "metadata": {
    "colab": {},
    "colab_type": "code",
    "id": "Wo9OcDOeQDQP"
   },
   "outputs": [],
   "source": [
    "# 学習結果がモデルの中に辞書型で保存されており、それをPandasのDataFrame型で読み込みます。\n",
    "results = pd.DataFrame(history.history)"
   ]
  },
  {
   "cell_type": "code",
   "execution_count": 12,
   "metadata": {
    "colab": {
     "base_uri": "https://localhost:8080/",
     "height": 287
    },
    "colab_type": "code",
    "id": "ViaOy_rfQDQQ",
    "outputId": "2fbd34b0-c837-4eee-c78c-a64413b3ab49"
   },
   "outputs": [
    {
     "data": {
      "text/plain": [
       "<matplotlib.axes._subplots.AxesSubplot at 0x103336210>"
      ]
     },
     "execution_count": 12,
     "metadata": {},
     "output_type": "execute_result"
    },
    {
     "data": {
      "image/png": "[encoded data removed]",
      "text/plain": [
       "<Figure size 432x288 with 1 Axes>"
      ]
     },
     "metadata": {
      "needs_background": "light"
     },
     "output_type": "display_data"
    }
   ],
   "source": [
    "# loss（損失関数）を表示\n",
    "results[['loss', 'val_loss']].plot()"
   ]
  },
  {
   "cell_type": "code",
   "execution_count": 13,
   "metadata": {
    "colab": {
     "base_uri": "https://localhost:8080/",
     "height": 287
    },
    "colab_type": "code",
    "id": "6nHHgQi8QDQS",
    "outputId": "ff7f032c-fd7d-4d4b-f729-d1e27edd5f7f",
    "scrolled": true
   },
   "outputs": [
    {
     "data": {
      "text/plain": [
       "<matplotlib.axes._subplots.AxesSubplot at 0x161baecd0>"
      ]
     },
     "execution_count": 13,
     "metadata": {},
     "output_type": "execute_result"
    },
    {
     "data": {
      "image/png": "[encoded data removed]",
      "text/plain": [
       "<Figure size 432x288 with 1 Axes>"
      ]
     },
     "metadata": {
      "needs_background": "light"
     },
     "output_type": "display_data"
    }
   ],
   "source": [
    "# accuracy（精度）を表示\n",
    "results[['accuracy', 'val_accuracy']].plot()"
   ]
  },
  {
   "cell_type": "markdown",
   "metadata": {
    "colab_type": "text",
    "id": "4BRSTg7jQDQT"
   },
   "source": [
    "こちらのようにうまく学習できていること様子が確認できます。\n",
    "オーバーフィッティングすることもなく、学習できています。"
   ]
  }
 ],
 "metadata": {
  "accelerator": "GPU",
  "colab": {
   "name": "SubclassingAPI.ipynb",
   "provenance": []
  },
  "kernelspec": {
   "display_name": "Python 3",
   "language": "python",
   "name": "python3"
  },
  "language_info": {
   "codemirror_mode": {
    "name": "ipython",
    "version": 3
   },
   "file_extension": ".py",
   "mimetype": "text/x-python",
   "name": "python",
   "nbconvert_exporter": "python",
   "pygments_lexer": "ipython3",
   "version": "3.7.6"
  }
 },
 "nbformat": 4,
 "nbformat_minor": 1
}
