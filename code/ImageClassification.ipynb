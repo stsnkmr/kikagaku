{
 "cells": [
  {
   "cell_type": "markdown",
   "metadata": {},
   "source": [
    "# 画像のクラス分類"
   ]
  },
  {
   "cell_type": "code",
   "execution_count": 1,
   "metadata": {},
   "outputs": [],
   "source": [
    "%matplotlib inline\n",
    "import numpy as np\n",
    "import pandas as pd\n",
    "import matplotlib.pyplot as plt"
   ]
  },
  {
   "cell_type": "code",
   "execution_count": 2,
   "metadata": {},
   "outputs": [
    {
     "name": "stdout",
     "output_type": "stream",
     "text": [
      "2.0.0\n"
     ]
    }
   ],
   "source": [
    "# Pythonの挙動を整えるライブラリのインポート\n",
    "from __future__ import absolute_import, division, print_function, unicode_literals\n",
    "\n",
    "# TensorFlow と tf.keras のインポート\n",
    "import tensorflow as tf\n",
    "from tensorflow import keras\n",
    "\n",
    "print(tf.__version__)"
   ]
  },
  {
   "cell_type": "markdown",
   "metadata": {},
   "source": [
    "## データセットの読み込み"
   ]
  },
  {
   "cell_type": "code",
   "execution_count": 3,
   "metadata": {},
   "outputs": [],
   "source": [
    "from tensorflow.keras.datasets import mnist"
   ]
  },
  {
   "cell_type": "code",
   "execution_count": 4,
   "metadata": {},
   "outputs": [],
   "source": [
    "train, test = mnist.load_data()"
   ]
  },
  {
   "cell_type": "code",
   "execution_count": 7,
   "metadata": {},
   "outputs": [
    {
     "data": {
      "text/plain": [
       "tuple"
      ]
     },
     "execution_count": 7,
     "metadata": {},
     "output_type": "execute_result"
    }
   ],
   "source": [
    "type(train) \n",
    "#>>tuple:書き換え不能なリスト"
   ]
  },
  {
   "cell_type": "code",
   "execution_count": 9,
   "metadata": {},
   "outputs": [
    {
     "data": {
      "text/plain": [
       "array([5, 0, 4, ..., 5, 6, 8], dtype=uint8)"
      ]
     },
     "execution_count": 9,
     "metadata": {},
     "output_type": "execute_result"
    }
   ],
   "source": [
    "train[1]"
   ]
  },
  {
   "cell_type": "code",
   "execution_count": 11,
   "metadata": {},
   "outputs": [
    {
     "data": {
      "text/plain": [
       "(60000,)"
      ]
     },
     "execution_count": 11,
     "metadata": {},
     "output_type": "execute_result"
    }
   ],
   "source": [
    "train[1].shape"
   ]
  },
  {
   "cell_type": "code",
   "execution_count": 13,
   "metadata": {},
   "outputs": [
    {
     "data": {
      "text/plain": [
       "(10000,)"
      ]
     },
     "execution_count": 13,
     "metadata": {},
     "output_type": "execute_result"
    }
   ],
   "source": [
    "test[1].shape"
   ]
  },
  {
   "cell_type": "markdown",
   "metadata": {},
   "source": [
    "- trainはlength2のタプル\n",
    "- train[0]には60000サンプルの画像が入っている\n",
    "- train[1]には60000サンプルのラベル\n",
    "- test[0]には10000サンプルの画像\n",
    "- test[1]には10000サンプルのラベル"
   ]
  },
  {
   "cell_type": "code",
   "execution_count": 14,
   "metadata": {},
   "outputs": [
    {
     "data": {
      "text/plain": [
       "numpy.ndarray"
      ]
     },
     "execution_count": 14,
     "metadata": {},
     "output_type": "execute_result"
    }
   ],
   "source": [
    "type(train[0])"
   ]
  },
  {
   "cell_type": "code",
   "execution_count": 16,
   "metadata": {},
   "outputs": [
    {
     "data": {
      "text/plain": [
       "(28, 28)"
      ]
     },
     "execution_count": 16,
     "metadata": {},
     "output_type": "execute_result"
    }
   ],
   "source": [
    "train[0][0].shape # 0行0列の画像の大きさ28*28"
   ]
  },
  {
   "cell_type": "code",
   "execution_count": 17,
   "metadata": {},
   "outputs": [
    {
     "data": {
      "text/plain": [
       "dtype('uint8')"
      ]
     },
     "execution_count": 17,
     "metadata": {},
     "output_type": "execute_result"
    }
   ],
   "source": [
    "train[0].dtype"
   ]
  },
  {
   "cell_type": "code",
   "execution_count": 22,
   "metadata": {},
   "outputs": [],
   "source": [
    "# 後ほど画像の整形をする必要がある\n",
    "img = train[0][0]"
   ]
  },
  {
   "cell_type": "code",
   "execution_count": 27,
   "metadata": {},
   "outputs": [
    {
     "data": {
      "text/plain": [
       "<matplotlib.image.AxesImage at 0x7f535429fc18>"
      ]
     },
     "execution_count": 27,
     "metadata": {},
     "output_type": "execute_result"
    },
    {
     "data": {
      "image/png": "[encoded data removed]",
      "text/plain": [
       "<Figure size 432x288 with 1 Axes>"
      ]
     },
     "metadata": {
      "needs_background": "light"
     },
     "output_type": "display_data"
    }
   ],
   "source": [
    "plt.gray()\n",
    "plt.imshow(img)"
   ]
  },
  {
   "cell_type": "code",
   "execution_count": 29,
   "metadata": {},
   "outputs": [],
   "source": [
    "#入力データxに関して\n",
    "train_x = train[0].reshape(60000, 28, 28, 1) / 255 # 正規化\n",
    "test_x = test[0].reshape(10000, 28, 28, 1) / 255 # 正規化"
   ]
  },
  {
   "cell_type": "code",
   "execution_count": 30,
   "metadata": {},
   "outputs": [],
   "source": [
    "# 教師データt\n",
    "train_t = train[1]\n",
    "test_t = test[1]"
   ]
  },
  {
   "cell_type": "code",
   "execution_count": 31,
   "metadata": {},
   "outputs": [
    {
     "data": {
      "text/plain": [
       "(28, 28, 1)"
      ]
     },
     "execution_count": 31,
     "metadata": {},
     "output_type": "execute_result"
    }
   ],
   "source": [
    "train_x[1].shape"
   ]
  },
  {
   "cell_type": "markdown",
   "metadata": {},
   "source": [
    "## CNNモデルの定義"
   ]
  },
  {
   "cell_type": "code",
   "execution_count": 32,
   "metadata": {},
   "outputs": [],
   "source": [
    "import os\n",
    "import random\n",
    "\n",
    "def reset_seed(seed=0):\n",
    "\n",
    "    os.environ['PYTHONHASHSEED'] = '0'\n",
    "    random.seed(seed) #　random関数のシードを固定\n",
    "    np.random.seed(seed) #numpyのシードを固定\n",
    "    tf.random.set_seed(seed) #tensorflowのシードを固定"
   ]
  },
  {
   "cell_type": "code",
   "execution_count": 42,
   "metadata": {},
   "outputs": [],
   "source": [
    "from tensorflow.keras import models, layers\n",
    "\n",
    "#シードの固定\n",
    "reset_seed(0)\n",
    "\n",
    "#モデルのインスタンス化\n",
    "model = models.Sequential()\n",
    "\n",
    "#モデルの構築\n",
    "model.add(layers.Conv2D(3, (3, 3), activation='relu', input_shape=(28, 28, 1)))# (目、耳、鼻とかのセット数(3, 3)中間層の数っぽい)\n",
    "#input_shape = 入力のサイズ28*28*1\n",
    "model.add(layers.MaxPooling2D((2, 2)))\n",
    "model.add(layers.Flatten()) #畳み込み槽から全結合層につなぐ時には必ず入れる\n",
    "model.add(layers.Dense(10, activation='softmax')) #出力層\n",
    "\n",
    "#optimizerの設定\n",
    "optimizer = keras.optimizers.Adam(lr=0.01)\n",
    "#モデルのコンパイル\n",
    "model.compile(loss='sparse_categorical_crossentropy', optimizer=optimizer, metrics=['accuracy'])"
   ]
  },
  {
   "cell_type": "code",
   "execution_count": 44,
   "metadata": {},
   "outputs": [
    {
     "name": "stdout",
     "output_type": "stream",
     "text": [
      "Train on 60000 samples, validate on 10000 samples\n",
      "Epoch 1/30\n",
      "60000/60000 [==============================] - 24s 406us/sample - loss: 1.2094 - accuracy: 0.6629 - val_loss: 0.4912 - val_accuracy: 0.8520\n",
      "Epoch 2/30\n",
      "60000/60000 [==============================] - 0s 7us/sample - loss: 0.4374 - accuracy: 0.8662 - val_loss: 0.3546 - val_accuracy: 0.8984\n",
      "Epoch 3/30\n",
      "60000/60000 [==============================] - 0s 7us/sample - loss: 0.3402 - accuracy: 0.8989 - val_loss: 0.3012 - val_accuracy: 0.9128\n",
      "Epoch 4/30\n",
      "60000/60000 [==============================] - 0s 7us/sample - loss: 0.2980 - accuracy: 0.9129 - val_loss: 0.2705 - val_accuracy: 0.9215\n",
      "Epoch 5/30\n",
      "60000/60000 [==============================] - 0s 7us/sample - loss: 0.2730 - accuracy: 0.9197 - val_loss: 0.2478 - val_accuracy: 0.9264\n",
      "Epoch 6/30\n",
      "60000/60000 [==============================] - 0s 7us/sample - loss: 0.2509 - accuracy: 0.9265 - val_loss: 0.2311 - val_accuracy: 0.9307\n",
      "Epoch 7/30\n",
      "60000/60000 [==============================] - 0s 7us/sample - loss: 0.2333 - accuracy: 0.9317 - val_loss: 0.2182 - val_accuracy: 0.9349\n",
      "Epoch 8/30\n",
      "60000/60000 [==============================] - 0s 7us/sample - loss: 0.2180 - accuracy: 0.9366 - val_loss: 0.2091 - val_accuracy: 0.9383\n",
      "Epoch 9/30\n",
      "60000/60000 [==============================] - 0s 7us/sample - loss: 0.2059 - accuracy: 0.9402 - val_loss: 0.1960 - val_accuracy: 0.9412\n",
      "Epoch 10/30\n",
      "60000/60000 [==============================] - 0s 7us/sample - loss: 0.1935 - accuracy: 0.9427 - val_loss: 0.1915 - val_accuracy: 0.9418\n",
      "Epoch 11/30\n",
      "60000/60000 [==============================] - 0s 7us/sample - loss: 0.1853 - accuracy: 0.9455 - val_loss: 0.1813 - val_accuracy: 0.9460\n",
      "Epoch 12/30\n",
      "60000/60000 [==============================] - 0s 7us/sample - loss: 0.1773 - accuracy: 0.9480 - val_loss: 0.1761 - val_accuracy: 0.9484\n",
      "Epoch 13/30\n",
      "60000/60000 [==============================] - 0s 7us/sample - loss: 0.1715 - accuracy: 0.9493 - val_loss: 0.1740 - val_accuracy: 0.9486\n",
      "Epoch 14/30\n",
      "60000/60000 [==============================] - 0s 7us/sample - loss: 0.1662 - accuracy: 0.9509 - val_loss: 0.1672 - val_accuracy: 0.9490\n",
      "Epoch 15/30\n",
      "60000/60000 [==============================] - 0s 7us/sample - loss: 0.1625 - accuracy: 0.9521 - val_loss: 0.1666 - val_accuracy: 0.9498\n",
      "Epoch 16/30\n",
      "60000/60000 [==============================] - 0s 7us/sample - loss: 0.1571 - accuracy: 0.9540 - val_loss: 0.1588 - val_accuracy: 0.9512\n",
      "Epoch 17/30\n",
      "60000/60000 [==============================] - 0s 7us/sample - loss: 0.1515 - accuracy: 0.9554 - val_loss: 0.1585 - val_accuracy: 0.9535\n",
      "Epoch 18/30\n",
      "60000/60000 [==============================] - 0s 7us/sample - loss: 0.1481 - accuracy: 0.9564 - val_loss: 0.1532 - val_accuracy: 0.9544\n",
      "Epoch 19/30\n",
      "60000/60000 [==============================] - 0s 7us/sample - loss: 0.1448 - accuracy: 0.9572 - val_loss: 0.1516 - val_accuracy: 0.9560\n",
      "Epoch 20/30\n",
      "60000/60000 [==============================] - 0s 7us/sample - loss: 0.1432 - accuracy: 0.9577 - val_loss: 0.1533 - val_accuracy: 0.9546\n",
      "Epoch 21/30\n",
      "60000/60000 [==============================] - 0s 7us/sample - loss: 0.1413 - accuracy: 0.9584 - val_loss: 0.1473 - val_accuracy: 0.9554\n",
      "Epoch 22/30\n",
      "60000/60000 [==============================] - 0s 7us/sample - loss: 0.1358 - accuracy: 0.9602 - val_loss: 0.1465 - val_accuracy: 0.9558\n",
      "Epoch 23/30\n",
      "60000/60000 [==============================] - 0s 7us/sample - loss: 0.1337 - accuracy: 0.9607 - val_loss: 0.1429 - val_accuracy: 0.9579\n",
      "Epoch 24/30\n",
      "60000/60000 [==============================] - 0s 7us/sample - loss: 0.1310 - accuracy: 0.9611 - val_loss: 0.1421 - val_accuracy: 0.9578\n",
      "Epoch 25/30\n",
      "60000/60000 [==============================] - 0s 7us/sample - loss: 0.1296 - accuracy: 0.9621 - val_loss: 0.1426 - val_accuracy: 0.9581\n",
      "Epoch 26/30\n",
      "60000/60000 [==============================] - 0s 7us/sample - loss: 0.1260 - accuracy: 0.9629 - val_loss: 0.1390 - val_accuracy: 0.9596\n",
      "Epoch 27/30\n",
      "60000/60000 [==============================] - 0s 7us/sample - loss: 0.1243 - accuracy: 0.9631 - val_loss: 0.1374 - val_accuracy: 0.9587\n",
      "Epoch 28/30\n",
      "60000/60000 [==============================] - 0s 7us/sample - loss: 0.1244 - accuracy: 0.9631 - val_loss: 0.1372 - val_accuracy: 0.9585\n",
      "Epoch 29/30\n",
      "60000/60000 [==============================] - 0s 7us/sample - loss: 0.1196 - accuracy: 0.9650 - val_loss: 0.1319 - val_accuracy: 0.9609\n",
      "Epoch 30/30\n",
      "60000/60000 [==============================] - 0s 7us/sample - loss: 0.1178 - accuracy: 0.9650 - val_loss: 0.1325 - val_accuracy: 0.9613\n"
     ]
    }
   ],
   "source": [
    "# 学習の詳細設定\n",
    "batch_size = 4096\n",
    "epochs = 30\n",
    "\n",
    "history = model.fit(train_x, train_t, \n",
    "                    batch_size=batch_size, epochs=epochs, verbose=1,\n",
    "                    validation_data=(test_x, test_t))\n"
   ]
  },
  {
   "cell_type": "code",
   "execution_count": 45,
   "metadata": {},
   "outputs": [
    {
     "data": {
      "text/plain": [
       "dict"
      ]
     },
     "execution_count": 45,
     "metadata": {},
     "output_type": "execute_result"
    }
   ],
   "source": [
    "type(history.history)"
   ]
  },
  {
   "cell_type": "code",
   "execution_count": 46,
   "metadata": {},
   "outputs": [],
   "source": [
    "results = pd.DataFrame(history.history)"
   ]
  },
  {
   "cell_type": "code",
   "execution_count": 47,
   "metadata": {},
   "outputs": [
    {
     "data": {
      "text/html": [
       "<div>\n",
       "<style scoped>\n",
       "    .dataframe tbody tr th:only-of-type {\n",
       "        vertical-align: middle;\n",
       "    }\n",
       "\n",
       "    .dataframe tbody tr th {\n",
       "        vertical-align: top;\n",
       "    }\n",
       "\n",
       "    .dataframe thead th {\n",
       "        text-align: right;\n",
       "    }\n",
       "</style>\n",
       "<table border=\"1\" class=\"dataframe\">\n",
       "  <thead>\n",
       "    <tr style=\"text-align: right;\">\n",
       "      <th></th>\n",
       "      <th>loss</th>\n",
       "      <th>accuracy</th>\n",
       "      <th>val_loss</th>\n",
       "      <th>val_accuracy</th>\n",
       "    </tr>\n",
       "  </thead>\n",
       "  <tbody>\n",
       "    <tr>\n",
       "      <th>0</th>\n",
       "      <td>1.209383</td>\n",
       "      <td>0.662850</td>\n",
       "      <td>0.491177</td>\n",
       "      <td>0.8520</td>\n",
       "    </tr>\n",
       "    <tr>\n",
       "      <th>1</th>\n",
       "      <td>0.437441</td>\n",
       "      <td>0.866233</td>\n",
       "      <td>0.354573</td>\n",
       "      <td>0.8984</td>\n",
       "    </tr>\n",
       "    <tr>\n",
       "      <th>2</th>\n",
       "      <td>0.340236</td>\n",
       "      <td>0.898883</td>\n",
       "      <td>0.301199</td>\n",
       "      <td>0.9128</td>\n",
       "    </tr>\n",
       "    <tr>\n",
       "      <th>3</th>\n",
       "      <td>0.298017</td>\n",
       "      <td>0.912883</td>\n",
       "      <td>0.270476</td>\n",
       "      <td>0.9215</td>\n",
       "    </tr>\n",
       "    <tr>\n",
       "      <th>4</th>\n",
       "      <td>0.272989</td>\n",
       "      <td>0.919667</td>\n",
       "      <td>0.247761</td>\n",
       "      <td>0.9264</td>\n",
       "    </tr>\n",
       "    <tr>\n",
       "      <th>5</th>\n",
       "      <td>0.250903</td>\n",
       "      <td>0.926550</td>\n",
       "      <td>0.231058</td>\n",
       "      <td>0.9307</td>\n",
       "    </tr>\n",
       "    <tr>\n",
       "      <th>6</th>\n",
       "      <td>0.233299</td>\n",
       "      <td>0.931667</td>\n",
       "      <td>0.218231</td>\n",
       "      <td>0.9349</td>\n",
       "    </tr>\n",
       "    <tr>\n",
       "      <th>7</th>\n",
       "      <td>0.217966</td>\n",
       "      <td>0.936583</td>\n",
       "      <td>0.209138</td>\n",
       "      <td>0.9383</td>\n",
       "    </tr>\n",
       "    <tr>\n",
       "      <th>8</th>\n",
       "      <td>0.205881</td>\n",
       "      <td>0.940167</td>\n",
       "      <td>0.196030</td>\n",
       "      <td>0.9412</td>\n",
       "    </tr>\n",
       "    <tr>\n",
       "      <th>9</th>\n",
       "      <td>0.193541</td>\n",
       "      <td>0.942750</td>\n",
       "      <td>0.191474</td>\n",
       "      <td>0.9418</td>\n",
       "    </tr>\n",
       "    <tr>\n",
       "      <th>10</th>\n",
       "      <td>0.185304</td>\n",
       "      <td>0.945467</td>\n",
       "      <td>0.181332</td>\n",
       "      <td>0.9460</td>\n",
       "    </tr>\n",
       "    <tr>\n",
       "      <th>11</th>\n",
       "      <td>0.177264</td>\n",
       "      <td>0.948033</td>\n",
       "      <td>0.176100</td>\n",
       "      <td>0.9484</td>\n",
       "    </tr>\n",
       "    <tr>\n",
       "      <th>12</th>\n",
       "      <td>0.171490</td>\n",
       "      <td>0.949300</td>\n",
       "      <td>0.174022</td>\n",
       "      <td>0.9486</td>\n",
       "    </tr>\n",
       "    <tr>\n",
       "      <th>13</th>\n",
       "      <td>0.166210</td>\n",
       "      <td>0.950900</td>\n",
       "      <td>0.167179</td>\n",
       "      <td>0.9490</td>\n",
       "    </tr>\n",
       "    <tr>\n",
       "      <th>14</th>\n",
       "      <td>0.162498</td>\n",
       "      <td>0.952100</td>\n",
       "      <td>0.166621</td>\n",
       "      <td>0.9498</td>\n",
       "    </tr>\n",
       "    <tr>\n",
       "      <th>15</th>\n",
       "      <td>0.157118</td>\n",
       "      <td>0.954000</td>\n",
       "      <td>0.158785</td>\n",
       "      <td>0.9512</td>\n",
       "    </tr>\n",
       "    <tr>\n",
       "      <th>16</th>\n",
       "      <td>0.151523</td>\n",
       "      <td>0.955400</td>\n",
       "      <td>0.158540</td>\n",
       "      <td>0.9535</td>\n",
       "    </tr>\n",
       "    <tr>\n",
       "      <th>17</th>\n",
       "      <td>0.148081</td>\n",
       "      <td>0.956450</td>\n",
       "      <td>0.153249</td>\n",
       "      <td>0.9544</td>\n",
       "    </tr>\n",
       "    <tr>\n",
       "      <th>18</th>\n",
       "      <td>0.144835</td>\n",
       "      <td>0.957167</td>\n",
       "      <td>0.151614</td>\n",
       "      <td>0.9560</td>\n",
       "    </tr>\n",
       "    <tr>\n",
       "      <th>19</th>\n",
       "      <td>0.143231</td>\n",
       "      <td>0.957667</td>\n",
       "      <td>0.153285</td>\n",
       "      <td>0.9546</td>\n",
       "    </tr>\n",
       "    <tr>\n",
       "      <th>20</th>\n",
       "      <td>0.141266</td>\n",
       "      <td>0.958350</td>\n",
       "      <td>0.147256</td>\n",
       "      <td>0.9554</td>\n",
       "    </tr>\n",
       "    <tr>\n",
       "      <th>21</th>\n",
       "      <td>0.135823</td>\n",
       "      <td>0.960183</td>\n",
       "      <td>0.146491</td>\n",
       "      <td>0.9558</td>\n",
       "    </tr>\n",
       "    <tr>\n",
       "      <th>22</th>\n",
       "      <td>0.133723</td>\n",
       "      <td>0.960650</td>\n",
       "      <td>0.142884</td>\n",
       "      <td>0.9579</td>\n",
       "    </tr>\n",
       "    <tr>\n",
       "      <th>23</th>\n",
       "      <td>0.131042</td>\n",
       "      <td>0.961117</td>\n",
       "      <td>0.142142</td>\n",
       "      <td>0.9578</td>\n",
       "    </tr>\n",
       "    <tr>\n",
       "      <th>24</th>\n",
       "      <td>0.129590</td>\n",
       "      <td>0.962067</td>\n",
       "      <td>0.142575</td>\n",
       "      <td>0.9581</td>\n",
       "    </tr>\n",
       "    <tr>\n",
       "      <th>25</th>\n",
       "      <td>0.126028</td>\n",
       "      <td>0.962883</td>\n",
       "      <td>0.139003</td>\n",
       "      <td>0.9596</td>\n",
       "    </tr>\n",
       "    <tr>\n",
       "      <th>26</th>\n",
       "      <td>0.124294</td>\n",
       "      <td>0.963100</td>\n",
       "      <td>0.137425</td>\n",
       "      <td>0.9587</td>\n",
       "    </tr>\n",
       "    <tr>\n",
       "      <th>27</th>\n",
       "      <td>0.124448</td>\n",
       "      <td>0.963067</td>\n",
       "      <td>0.137186</td>\n",
       "      <td>0.9585</td>\n",
       "    </tr>\n",
       "    <tr>\n",
       "      <th>28</th>\n",
       "      <td>0.119576</td>\n",
       "      <td>0.964983</td>\n",
       "      <td>0.131874</td>\n",
       "      <td>0.9609</td>\n",
       "    </tr>\n",
       "    <tr>\n",
       "      <th>29</th>\n",
       "      <td>0.117758</td>\n",
       "      <td>0.964950</td>\n",
       "      <td>0.132485</td>\n",
       "      <td>0.9613</td>\n",
       "    </tr>\n",
       "  </tbody>\n",
       "</table>\n",
       "</div>"
      ],
      "text/plain": [
       "        loss  accuracy  val_loss  val_accuracy\n",
       "0   1.209383  0.662850  0.491177        0.8520\n",
       "1   0.437441  0.866233  0.354573        0.8984\n",
       "2   0.340236  0.898883  0.301199        0.9128\n",
       "3   0.298017  0.912883  0.270476        0.9215\n",
       "4   0.272989  0.919667  0.247761        0.9264\n",
       "5   0.250903  0.926550  0.231058        0.9307\n",
       "6   0.233299  0.931667  0.218231        0.9349\n",
       "7   0.217966  0.936583  0.209138        0.9383\n",
       "8   0.205881  0.940167  0.196030        0.9412\n",
       "9   0.193541  0.942750  0.191474        0.9418\n",
       "10  0.185304  0.945467  0.181332        0.9460\n",
       "11  0.177264  0.948033  0.176100        0.9484\n",
       "12  0.171490  0.949300  0.174022        0.9486\n",
       "13  0.166210  0.950900  0.167179        0.9490\n",
       "14  0.162498  0.952100  0.166621        0.9498\n",
       "15  0.157118  0.954000  0.158785        0.9512\n",
       "16  0.151523  0.955400  0.158540        0.9535\n",
       "17  0.148081  0.956450  0.153249        0.9544\n",
       "18  0.144835  0.957167  0.151614        0.9560\n",
       "19  0.143231  0.957667  0.153285        0.9546\n",
       "20  0.141266  0.958350  0.147256        0.9554\n",
       "21  0.135823  0.960183  0.146491        0.9558\n",
       "22  0.133723  0.960650  0.142884        0.9579\n",
       "23  0.131042  0.961117  0.142142        0.9578\n",
       "24  0.129590  0.962067  0.142575        0.9581\n",
       "25  0.126028  0.962883  0.139003        0.9596\n",
       "26  0.124294  0.963100  0.137425        0.9587\n",
       "27  0.124448  0.963067  0.137186        0.9585\n",
       "28  0.119576  0.964983  0.131874        0.9609\n",
       "29  0.117758  0.964950  0.132485        0.9613"
      ]
     },
     "execution_count": 47,
     "metadata": {},
     "output_type": "execute_result"
    }
   ],
   "source": [
    "results"
   ]
  },
  {
   "cell_type": "code",
   "execution_count": 48,
   "metadata": {},
   "outputs": [
    {
     "data": {
      "image/png": "[encoded data removed]",
      "text/plain": [
       "<Figure size 432x288 with 1 Axes>"
      ]
     },
     "metadata": {
      "needs_background": "light"
     },
     "output_type": "display_data"
    }
   ],
   "source": [
    "# loss（損失関数）を表示\n",
    "graph = results[['loss', 'val_loss']].plot()\n",
    "# graph.set_xlim([0,40])\n",
    "# graph.set_ylim([80,100])"
   ]
  },
  {
   "cell_type": "code",
   "execution_count": null,
   "metadata": {},
   "outputs": [],
   "source": []
  }
 ],
 "metadata": {
  "kernelspec": {
   "display_name": "Python 3",
   "language": "python",
   "name": "python3"
  },
  "language_info": {
   "codemirror_mode": {
    "name": "ipython",
    "version": 3
   },
   "file_extension": ".py",
   "mimetype": "text/x-python",
   "name": "python",
   "nbconvert_exporter": "python",
   "pygments_lexer": "ipython3",
   "version": "3.7.6"
  }
 },
 "nbformat": 4,
 "nbformat_minor": 4
}
