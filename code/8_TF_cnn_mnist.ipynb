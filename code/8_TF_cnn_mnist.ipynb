{
 "cells": [
  {
   "cell_type": "markdown",
   "metadata": {
    "colab_type": "text",
    "id": "onuh3zuCQDPC"
   },
   "source": [
    "# 画像のクラス分類１\n",
    "\n",
    "## 問題設定\n",
    "フィルタの概念が理解できたところで、犬や猫をうまく見抜くフィルタの値はいくらでしょうか？\n",
    "この問題が画像処理には常に付きまといます。\n",
    "\n",
    "そこで、Convolutional Neural Network ではこのフィルタの値をパラメータとして最適化することで、どのようなフィルタを設計すればよいのかわからなかった問題設定に対しても機械学習を適用可能にしているというわけです。\n",
    "\n",
    "それでは、サンプルとして非常に有名である`MNIST`という 0～9 までの 10 種類の手書き数字の認識を行ってみましょう。\n"
   ]
  },
  {
   "cell_type": "code",
   "execution_count": 1,
   "metadata": {
    "colab": {},
    "colab_type": "code",
    "id": "hNXkZCelQDPD"
   },
   "outputs": [],
   "source": [
    "%matplotlib inline\n",
    "import numpy as np\n",
    "import pandas as pd\n",
    "import matplotlib.pyplot as plt"
   ]
  },
  {
   "cell_type": "code",
   "execution_count": 2,
   "metadata": {
    "colab": {
     "base_uri": "https://localhost:8080/",
     "height": 35
    },
    "colab_type": "code",
    "executionInfo": {
     "elapsed": 4231,
     "status": "ok",
     "timestamp": 1570777195156,
     "user": {
      "displayName": "佐川史弥",
      "photoUrl": "",
      "userId": "17735252083618003950"
     },
     "user_tz": -540
    },
    "id": "5zgD36mfQDPG",
    "outputId": "3ab71529-ef8d-4d50-e6b6-f639de7fdcaa"
   },
   "outputs": [
    {
     "name": "stdout",
     "output_type": "stream",
     "text": [
      "2.0.0\n"
     ]
    }
   ],
   "source": [
    "# Pythonの挙動を整えるライブラリのインポート\n",
    "from __future__ import absolute_import, division, print_function, unicode_literals\n",
    "\n",
    "# TensorFlow と tf.keras のインポート\n",
    "import tensorflow as tf\n",
    "from tensorflow import keras\n",
    "\n",
    "print(tf.__version__)"
   ]
  },
  {
   "cell_type": "markdown",
   "metadata": {
    "colab_type": "text",
    "id": "_fkmxbW8QDPL"
   },
   "source": [
    "解析環境の確認をしましょう。GPU が使える状態になっていますね。"
   ]
  },
  {
   "cell_type": "code",
   "execution_count": 3,
   "metadata": {
    "colab": {
     "base_uri": "https://localhost:8080/",
     "height": 601
    },
    "colab_type": "code",
    "executionInfo": {
     "elapsed": 5019,
     "status": "ok",
     "timestamp": 1570777196515,
     "user": {
      "displayName": "佐川史弥",
      "photoUrl": "",
      "userId": "17735252083618003950"
     },
     "user_tz": -540
    },
    "id": "fGgA4vsUQDPM",
    "outputId": "ec5e879d-3b08-495b-dce1-46e4d8bb3846"
   },
   "outputs": [
    {
     "name": "stdout",
     "output_type": "stream",
     "text": [
      "[name: \"/device:CPU:0\"\n",
      "device_type: \"CPU\"\n",
      "memory_limit: 268435456\n",
      "locality {\n",
      "}\n",
      "incarnation: 10324610145585885452\n",
      ", name: \"/device:XLA_CPU:0\"\n",
      "device_type: \"XLA_CPU\"\n",
      "memory_limit: 17179869184\n",
      "locality {\n",
      "}\n",
      "incarnation: 8145449667066141968\n",
      "physical_device_desc: \"device: XLA_CPU device\"\n",
      ", name: \"/device:XLA_GPU:0\"\n",
      "device_type: \"XLA_GPU\"\n",
      "memory_limit: 17179869184\n",
      "locality {\n",
      "}\n",
      "incarnation: 14102957516281603353\n",
      "physical_device_desc: \"device: XLA_GPU device\"\n",
      ", name: \"/device:GPU:0\"\n",
      "device_type: \"GPU\"\n",
      "memory_limit: 209125376\n",
      "locality {\n",
      "  bus_id: 1\n",
      "  links {\n",
      "  }\n",
      "}\n",
      "incarnation: 726149974269478232\n",
      "physical_device_desc: \"device: 0, name: Tesla K80, pci bus id: bfde:00:00.0, compute capability: 3.7\"\n",
      "]\n"
     ]
    }
   ],
   "source": [
    "from tensorflow.python.client import device_lib\n",
    "print(device_lib.list_local_devices())"
   ]
  },
  {
   "cell_type": "markdown",
   "metadata": {
    "colab_type": "text",
    "id": "kopF9T8RQDPO"
   },
   "source": [
    "## データセットの読み込み"
   ]
  },
  {
   "cell_type": "code",
   "execution_count": 4,
   "metadata": {
    "colab": {},
    "colab_type": "code",
    "id": "6TEcent1QDPO"
   },
   "outputs": [],
   "source": [
    "from tensorflow.keras.datasets import mnist"
   ]
  },
  {
   "cell_type": "code",
   "execution_count": 5,
   "metadata": {
    "colab": {
     "base_uri": "https://localhost:8080/",
     "height": 74
    },
    "colab_type": "code",
    "executionInfo": {
     "elapsed": 982,
     "status": "ok",
     "timestamp": 1570777198510,
     "user": {
      "displayName": "佐川史弥",
      "photoUrl": "",
      "userId": "17735252083618003950"
     },
     "user_tz": -540
    },
    "id": "R68bsfgxQDPQ",
    "outputId": "34c79679-5051-4849-9e60-62e5da641a11"
   },
   "outputs": [
    {
     "name": "stdout",
     "output_type": "stream",
     "text": [
      "Downloading data from https://storage.googleapis.com/tensorflow/tf-keras-datasets/mnist.npz\n",
      "11493376/11490434 [==============================] - 0s 0us/step\n"
     ]
    }
   ],
   "source": [
    "train, test = mnist.load_data()"
   ]
  },
  {
   "cell_type": "markdown",
   "metadata": {
    "colab_type": "text",
    "id": "3M_4GcW6QDPS"
   },
   "source": [
    "サンプルとしてはデータセットの準備が不要で、CNN のモデル構築の練習になるのですが、最終的に自作のデータセットに対して適用していくことを考えると、どのようなデータセットの形式であれば良いかわからないのは非常にまずいことです。\n",
    "そのため、動くデータセットの形式をまず確認しておきましょう。"
   ]
  },
  {
   "cell_type": "code",
   "execution_count": 6,
   "metadata": {
    "colab": {
     "base_uri": "https://localhost:8080/",
     "height": 35
    },
    "colab_type": "code",
    "executionInfo": {
     "elapsed": 612,
     "status": "ok",
     "timestamp": 1570777198782,
     "user": {
      "displayName": "佐川史弥",
      "photoUrl": "",
      "userId": "17735252083618003950"
     },
     "user_tz": -540
    },
    "id": "Lvxj1LXEQDPT",
    "outputId": "98439194-607a-4301-811a-6980be184ac5",
    "scrolled": true
   },
   "outputs": [
    {
     "data": {
      "text/plain": [
       "tuple"
      ]
     },
     "execution_count": 6,
     "metadata": {},
     "output_type": "execute_result"
    }
   ],
   "source": [
    "type(train)"
   ]
  },
  {
   "cell_type": "code",
   "execution_count": 7,
   "metadata": {
    "colab": {
     "base_uri": "https://localhost:8080/",
     "height": 35
    },
    "colab_type": "code",
    "executionInfo": {
     "elapsed": 375,
     "status": "ok",
     "timestamp": 1570777198783,
     "user": {
      "displayName": "佐川史弥",
      "photoUrl": "",
      "userId": "17735252083618003950"
     },
     "user_tz": -540
    },
    "id": "uKyXG9uXQDPV",
    "outputId": "909c3f6b-dc30-40fb-d6dc-1ba4b42d1239"
   },
   "outputs": [
    {
     "data": {
      "text/plain": [
       "2"
      ]
     },
     "execution_count": 7,
     "metadata": {},
     "output_type": "execute_result"
    }
   ],
   "source": [
    "len(train)"
   ]
  },
  {
   "cell_type": "code",
   "execution_count": 8,
   "metadata": {
    "colab": {
     "base_uri": "https://localhost:8080/",
     "height": 908
    },
    "colab_type": "code",
    "executionInfo": {
     "elapsed": 393,
     "status": "ok",
     "timestamp": 1570777199231,
     "user": {
      "displayName": "佐川史弥",
      "photoUrl": "",
      "userId": "17735252083618003950"
     },
     "user_tz": -540
    },
    "id": "NSHFcv6LQDPW",
    "outputId": "1d5172b4-e1eb-4d60-a783-b956912a869f"
   },
   "outputs": [
    {
     "data": {
      "text/plain": [
       "array([[[0, 0, 0, ..., 0, 0, 0],\n",
       "        [0, 0, 0, ..., 0, 0, 0],\n",
       "        [0, 0, 0, ..., 0, 0, 0],\n",
       "        ...,\n",
       "        [0, 0, 0, ..., 0, 0, 0],\n",
       "        [0, 0, 0, ..., 0, 0, 0],\n",
       "        [0, 0, 0, ..., 0, 0, 0]],\n",
       "\n",
       "       [[0, 0, 0, ..., 0, 0, 0],\n",
       "        [0, 0, 0, ..., 0, 0, 0],\n",
       "        [0, 0, 0, ..., 0, 0, 0],\n",
       "        ...,\n",
       "        [0, 0, 0, ..., 0, 0, 0],\n",
       "        [0, 0, 0, ..., 0, 0, 0],\n",
       "        [0, 0, 0, ..., 0, 0, 0]],\n",
       "\n",
       "       [[0, 0, 0, ..., 0, 0, 0],\n",
       "        [0, 0, 0, ..., 0, 0, 0],\n",
       "        [0, 0, 0, ..., 0, 0, 0],\n",
       "        ...,\n",
       "        [0, 0, 0, ..., 0, 0, 0],\n",
       "        [0, 0, 0, ..., 0, 0, 0],\n",
       "        [0, 0, 0, ..., 0, 0, 0]],\n",
       "\n",
       "       ...,\n",
       "\n",
       "       [[0, 0, 0, ..., 0, 0, 0],\n",
       "        [0, 0, 0, ..., 0, 0, 0],\n",
       "        [0, 0, 0, ..., 0, 0, 0],\n",
       "        ...,\n",
       "        [0, 0, 0, ..., 0, 0, 0],\n",
       "        [0, 0, 0, ..., 0, 0, 0],\n",
       "        [0, 0, 0, ..., 0, 0, 0]],\n",
       "\n",
       "       [[0, 0, 0, ..., 0, 0, 0],\n",
       "        [0, 0, 0, ..., 0, 0, 0],\n",
       "        [0, 0, 0, ..., 0, 0, 0],\n",
       "        ...,\n",
       "        [0, 0, 0, ..., 0, 0, 0],\n",
       "        [0, 0, 0, ..., 0, 0, 0],\n",
       "        [0, 0, 0, ..., 0, 0, 0]],\n",
       "\n",
       "       [[0, 0, 0, ..., 0, 0, 0],\n",
       "        [0, 0, 0, ..., 0, 0, 0],\n",
       "        [0, 0, 0, ..., 0, 0, 0],\n",
       "        ...,\n",
       "        [0, 0, 0, ..., 0, 0, 0],\n",
       "        [0, 0, 0, ..., 0, 0, 0],\n",
       "        [0, 0, 0, ..., 0, 0, 0]]], dtype=uint8)"
      ]
     },
     "execution_count": 8,
     "metadata": {},
     "output_type": "execute_result"
    }
   ],
   "source": [
    "train[0]"
   ]
  },
  {
   "cell_type": "code",
   "execution_count": 9,
   "metadata": {
    "colab": {
     "base_uri": "https://localhost:8080/",
     "height": 35
    },
    "colab_type": "code",
    "executionInfo": {
     "elapsed": 650,
     "status": "ok",
     "timestamp": 1570777202014,
     "user": {
      "displayName": "佐川史弥",
      "photoUrl": "",
      "userId": "17735252083618003950"
     },
     "user_tz": -540
    },
    "id": "hfsSTXlJQDPY",
    "outputId": "75ac66d1-4cd1-487f-c38a-6ad3950ef8c0"
   },
   "outputs": [
    {
     "data": {
      "text/plain": [
       "array([5, 0, 4, ..., 5, 6, 8], dtype=uint8)"
      ]
     },
     "execution_count": 9,
     "metadata": {},
     "output_type": "execute_result"
    }
   ],
   "source": [
    "train[1]"
   ]
  },
  {
   "cell_type": "code",
   "execution_count": 10,
   "metadata": {
    "colab": {
     "base_uri": "https://localhost:8080/",
     "height": 35
    },
    "colab_type": "code",
    "executionInfo": {
     "elapsed": 509,
     "status": "ok",
     "timestamp": 1570777202015,
     "user": {
      "displayName": "佐川史弥",
      "photoUrl": "",
      "userId": "17735252083618003950"
     },
     "user_tz": -540
    },
    "id": "aNbDtwvYQDPa",
    "outputId": "d0000c70-d6b7-4e04-826d-20a73324df0a",
    "scrolled": true
   },
   "outputs": [
    {
     "data": {
      "text/plain": [
       "(60000,)"
      ]
     },
     "execution_count": 10,
     "metadata": {},
     "output_type": "execute_result"
    }
   ],
   "source": [
    "train[1].shape"
   ]
  },
  {
   "cell_type": "code",
   "execution_count": 11,
   "metadata": {
    "colab": {
     "base_uri": "https://localhost:8080/",
     "height": 35
    },
    "colab_type": "code",
    "executionInfo": {
     "elapsed": 363,
     "status": "ok",
     "timestamp": 1570777202015,
     "user": {
      "displayName": "佐川史弥",
      "photoUrl": "",
      "userId": "17735252083618003950"
     },
     "user_tz": -540
    },
    "id": "8wCXWxDEQDPc",
    "outputId": "ddbd8d7b-d4f3-4705-b57d-2584f61af2c2"
   },
   "outputs": [
    {
     "data": {
      "text/plain": [
       "(10000,)"
      ]
     },
     "execution_count": 11,
     "metadata": {},
     "output_type": "execute_result"
    }
   ],
   "source": [
    "test[1].shape"
   ]
  },
  {
   "cell_type": "markdown",
   "metadata": {
    "colab_type": "text",
    "id": "VOyavUvUQDPd"
   },
   "source": [
    "この Keras のデータセットは`（画像、ラベル）`のようにタプル形式で格納されています。\n",
    "\n",
    "- train[0]: 60000サンプルの画像が格納\n",
    "- train[0][0]: １サンプル目の画像（uint8）\n",
    "- train[1]: 60000サンプルのラベルが格納\n",
    "- train[1][1]: １サンプル目のラベル（uint8）\n",
    "\n",
    "サイズ等を確認しておきましょう。"
   ]
  },
  {
   "cell_type": "code",
   "execution_count": 12,
   "metadata": {
    "colab": {
     "base_uri": "https://localhost:8080/",
     "height": 35
    },
    "colab_type": "code",
    "executionInfo": {
     "elapsed": 353,
     "status": "ok",
     "timestamp": 1570777202329,
     "user": {
      "displayName": "佐川史弥",
      "photoUrl": "",
      "userId": "17735252083618003950"
     },
     "user_tz": -540
    },
    "id": "22CcvQipQDPe",
    "outputId": "ea2d005d-a2cd-4211-8209-18fd9479d07c"
   },
   "outputs": [
    {
     "data": {
      "text/plain": [
       "numpy.ndarray"
      ]
     },
     "execution_count": 12,
     "metadata": {},
     "output_type": "execute_result"
    }
   ],
   "source": [
    "type(train[0])"
   ]
  },
  {
   "cell_type": "code",
   "execution_count": 13,
   "metadata": {
    "colab": {
     "base_uri": "https://localhost:8080/",
     "height": 35
    },
    "colab_type": "code",
    "executionInfo": {
     "elapsed": 556,
     "status": "ok",
     "timestamp": 1570777202691,
     "user": {
      "displayName": "佐川史弥",
      "photoUrl": "",
      "userId": "17735252083618003950"
     },
     "user_tz": -540
    },
    "id": "zdk3wW0UQDPl",
    "outputId": "bb5dddfe-d6ac-4006-a19d-f7025c5aeea7"
   },
   "outputs": [
    {
     "data": {
      "text/plain": [
       "(28, 28)"
      ]
     },
     "execution_count": 13,
     "metadata": {},
     "output_type": "execute_result"
    }
   ],
   "source": [
    "train[0][0].shape  # 後述"
   ]
  },
  {
   "cell_type": "code",
   "execution_count": 14,
   "metadata": {
    "colab": {
     "base_uri": "https://localhost:8080/",
     "height": 35
    },
    "colab_type": "code",
    "executionInfo": {
     "elapsed": 637,
     "status": "ok",
     "timestamp": 1570777202947,
     "user": {
      "displayName": "佐川史弥",
      "photoUrl": "",
      "userId": "17735252083618003950"
     },
     "user_tz": -540
    },
    "id": "b6cZDC4BQDPn",
    "outputId": "083d06ff-e393-4b1e-9d7d-29b31ebad0d9"
   },
   "outputs": [
    {
     "data": {
      "text/plain": [
       "dtype('uint8')"
      ]
     },
     "execution_count": 14,
     "metadata": {},
     "output_type": "execute_result"
    }
   ],
   "source": [
    "train[0].dtype"
   ]
  },
  {
   "cell_type": "code",
   "execution_count": 15,
   "metadata": {
    "colab": {
     "base_uri": "https://localhost:8080/",
     "height": 35
    },
    "colab_type": "code",
    "executionInfo": {
     "elapsed": 468,
     "status": "ok",
     "timestamp": 1570777202948,
     "user": {
      "displayName": "佐川史弥",
      "photoUrl": "",
      "userId": "17735252083618003950"
     },
     "user_tz": -540
    },
    "id": "EQWpYSffQDPp",
    "outputId": "07d27d28-c4e4-4290-c097-c92821bbe12e"
   },
   "outputs": [
    {
     "data": {
      "text/plain": [
       "numpy.ndarray"
      ]
     },
     "execution_count": 15,
     "metadata": {},
     "output_type": "execute_result"
    }
   ],
   "source": [
    "type(train[1])"
   ]
  },
  {
   "cell_type": "code",
   "execution_count": 16,
   "metadata": {
    "colab": {
     "base_uri": "https://localhost:8080/",
     "height": 35
    },
    "colab_type": "code",
    "executionInfo": {
     "elapsed": 475,
     "status": "ok",
     "timestamp": 1570777203143,
     "user": {
      "displayName": "佐川史弥",
      "photoUrl": "",
      "userId": "17735252083618003950"
     },
     "user_tz": -540
    },
    "id": "60CkNZtvQDPr",
    "outputId": "53b6c8c1-07ef-41f2-86dd-2b59d18101dd"
   },
   "outputs": [
    {
     "data": {
      "text/plain": [
       "()"
      ]
     },
     "execution_count": 16,
     "metadata": {},
     "output_type": "execute_result"
    }
   ],
   "source": [
    "train[1][1].shape"
   ]
  },
  {
   "cell_type": "code",
   "execution_count": 17,
   "metadata": {
    "colab": {
     "base_uri": "https://localhost:8080/",
     "height": 35
    },
    "colab_type": "code",
    "executionInfo": {
     "elapsed": 501,
     "status": "ok",
     "timestamp": 1570777203356,
     "user": {
      "displayName": "佐川史弥",
      "photoUrl": "",
      "userId": "17735252083618003950"
     },
     "user_tz": -540
    },
    "id": "p8mGhy5lQDPt",
    "outputId": "736a5ca4-14dc-491e-9c3c-ba31476eb579"
   },
   "outputs": [
    {
     "data": {
      "text/plain": [
       "dtype('uint8')"
      ]
     },
     "execution_count": 17,
     "metadata": {},
     "output_type": "execute_result"
    }
   ],
   "source": [
    "train[1].dtype"
   ]
  },
  {
   "cell_type": "markdown",
   "metadata": {
    "colab_type": "text",
    "id": "9AvyOEoeQDPv"
   },
   "source": [
    "ここでわかることとして、画像が( height, width, channel )の順ではなく、( height, width )の順に格納されていることです。\n",
    "\n",
    "CNN で扱う際には、( height, width, channel )順に変換しておかないといけないため、覚えておきましょう。\n",
    "\n",
    "試しに １ 枚目をプロットしてみましょう。"
   ]
  },
  {
   "cell_type": "code",
   "execution_count": 18,
   "metadata": {
    "colab": {},
    "colab_type": "code",
    "id": "z-ePzYAEQDPw"
   },
   "outputs": [],
   "source": [
    "img = train[0][0]"
   ]
  },
  {
   "cell_type": "code",
   "execution_count": 19,
   "metadata": {
    "colab": {
     "base_uri": "https://localhost:8080/",
     "height": 35
    },
    "colab_type": "code",
    "executionInfo": {
     "elapsed": 630,
     "status": "ok",
     "timestamp": 1570777208832,
     "user": {
      "displayName": "佐川史弥",
      "photoUrl": "",
      "userId": "17735252083618003950"
     },
     "user_tz": -540
    },
    "id": "n3CpkNeZQDPz",
    "outputId": "dccde0a7-446d-4a16-e8aa-ba34c2b193a5"
   },
   "outputs": [
    {
     "data": {
      "text/plain": [
       "(28, 28)"
      ]
     },
     "execution_count": 19,
     "metadata": {},
     "output_type": "execute_result"
    }
   ],
   "source": [
    "img.shape"
   ]
  },
  {
   "cell_type": "markdown",
   "metadata": {
    "colab_type": "text",
    "id": "vpsf-FSyQDP2"
   },
   "source": [
    "すでにグレースケールで保存されているのでそのまま表示しましょう。"
   ]
  },
  {
   "cell_type": "code",
   "execution_count": 20,
   "metadata": {
    "colab": {
     "base_uri": "https://localhost:8080/",
     "height": 287
    },
    "colab_type": "code",
    "executionInfo": {
     "elapsed": 588,
     "status": "ok",
     "timestamp": 1570777209269,
     "user": {
      "displayName": "佐川史弥",
      "photoUrl": "",
      "userId": "17735252083618003950"
     },
     "user_tz": -540
    },
    "id": "ljz3Lt1kQDP2",
    "outputId": "e40d4cba-dae9-433f-eb85-dd430951c97f"
   },
   "outputs": [
    {
     "data": {
      "text/plain": [
       "<matplotlib.image.AxesImage at 0x7fa3d4580588>"
      ]
     },
     "execution_count": 20,
     "metadata": {},
     "output_type": "execute_result"
    },
    {
     "data": {
      "image/png": "[encoded data removed]",
      "text/plain": [
       "<Figure size 432x288 with 1 Axes>"
      ]
     },
     "metadata": {
      "needs_background": "light"
     },
     "output_type": "display_data"
    }
   ],
   "source": [
    "plt.gray()\n",
    "plt.imshow(img)"
   ]
  },
  {
   "cell_type": "markdown",
   "metadata": {
    "colab_type": "text",
    "id": "agp34ng2QDP4"
   },
   "source": [
    "こちらのように手書き文字の ５ がデータとして格納されていることがわかりました。\n",
    "データセットの形式を確認しながら試行錯誤する癖をつけておくようにしてください。\n",
    "\n",
    "では、画像のサイズを( height, width )から( height, width, channel )へと変換します。また画像の値を正規化しておきましょう。"
   ]
  },
  {
   "cell_type": "code",
   "execution_count": 21,
   "metadata": {
    "colab": {},
    "colab_type": "code",
    "id": "qeXpjjgoQDP4"
   },
   "outputs": [],
   "source": [
    "train_x = train[0].reshape(60000, 28, 28, 1) / 255 # 正規化\n",
    "test_x = test[0].reshape(10000, 28, 28, 1) / 255 # 正規化"
   ]
  },
  {
   "cell_type": "code",
   "execution_count": 22,
   "metadata": {},
   "outputs": [],
   "source": [
    "train_t = train[1]\n",
    "test_t = test[1]"
   ]
  },
  {
   "cell_type": "code",
   "execution_count": 23,
   "metadata": {
    "colab": {
     "base_uri": "https://localhost:8080/",
     "height": 35
    },
    "colab_type": "code",
    "executionInfo": {
     "elapsed": 625,
     "status": "ok",
     "timestamp": 1570777212787,
     "user": {
      "displayName": "佐川史弥",
      "photoUrl": "",
      "userId": "17735252083618003950"
     },
     "user_tz": -540
    },
    "id": "7NzedgX-QDP6",
    "outputId": "9c3d1a72-cd8d-4fd8-e13a-904d1ec8c347",
    "scrolled": true
   },
   "outputs": [
    {
     "data": {
      "text/plain": [
       "(28, 28, 1)"
      ]
     },
     "execution_count": 23,
     "metadata": {},
     "output_type": "execute_result"
    }
   ],
   "source": [
    "train_x[0].shape"
   ]
  },
  {
   "cell_type": "markdown",
   "metadata": {
    "colab_type": "text",
    "id": "uUR31h4yQDP9"
   },
   "source": [
    "## CNN モデルの定義\n",
    "\n",
    "それでは、画像処理で定番となっている Convolutional Neural Network （ CNN ）の実装を行っていきましょう。\n",
    "\n",
    "まずは、Keras でよく使用するモジュールを読み込んでおきましょう。"
   ]
  },
  {
   "cell_type": "code",
   "execution_count": 24,
   "metadata": {
    "colab": {},
    "colab_type": "code",
    "id": "yuZtgQ3_QDP_"
   },
   "outputs": [],
   "source": [
    "import os\n",
    "import random\n",
    "\n",
    "def reset_seed(seed=0):\n",
    "    \n",
    "    os.environ['PYTHONHASHSEED'] = '0'\n",
    "    random.seed(seed) #　random関数のシードを固定\n",
    "    np.random.seed(seed) #numpyのシードを固定\n",
    "    tf.random.set_seed(seed) #tensorflowのシードを固定"
   ]
  },
  {
   "cell_type": "code",
   "execution_count": 25,
   "metadata": {
    "colab": {},
    "colab_type": "code",
    "id": "hogB87KQQDQA"
   },
   "outputs": [],
   "source": [
    "from tensorflow.keras import models,layers\n",
    "\n",
    "# シードの固定\n",
    "reset_seed(0)\n",
    "\n",
    "# モデルのインスタンス化\n",
    "model = models.Sequential()\n",
    "\n",
    "# モデルの構築\n",
    "model.add(layers.Conv2D(3, (3, 3), activation='relu', input_shape=(28, 28, 1)))\n",
    "model.add(layers.MaxPooling2D((2, 2)))\n",
    "model.add(layers.Flatten()) # 畳み込み層から全結合層へつなぐ時は必ず入れる\n",
    "model.add(layers.Dense(100, activation='relu'))\n",
    "model.add(layers.Dense(10, activation='softmax'))\n",
    "\n",
    "# optimizerの設定\n",
    "optimizer = keras.optimizers.Adam(lr=0.01)\n",
    "\n",
    "# モデルのコンパイル\n",
    "model.compile(loss='sparse_categorical_crossentropy', optimizer=optimizer, metrics=['accuracy'])"
   ]
  },
  {
   "cell_type": "code",
   "execution_count": 26,
   "metadata": {
    "colab": {
     "base_uri": "https://localhost:8080/",
     "height": 1000
    },
    "colab_type": "code",
    "executionInfo": {
     "elapsed": 21142,
     "status": "ok",
     "timestamp": 1570777241112,
     "user": {
      "displayName": "佐川史弥",
      "photoUrl": "",
      "userId": "17735252083618003950"
     },
     "user_tz": -540
    },
    "id": "ooxyKSAAQDQD",
    "outputId": "fd3a346d-6554-4ee2-9970-09988893e0c5",
    "scrolled": true
   },
   "outputs": [
    {
     "name": "stdout",
     "output_type": "stream",
     "text": [
      "Train on 60000 samples, validate on 10000 samples\n",
      "Epoch 1/30\n",
      "60000/60000 [==============================] - 2s 39us/sample - loss: 0.9005 - accuracy: 0.7333 - val_loss: 0.3816 - val_accuracy: 0.8949\n",
      "Epoch 2/30\n",
      "60000/60000 [==============================] - 0s 7us/sample - loss: 0.3285 - accuracy: 0.9054 - val_loss: 0.2628 - val_accuracy: 0.9210\n",
      "Epoch 3/30\n",
      "60000/60000 [==============================] - 0s 7us/sample - loss: 0.2375 - accuracy: 0.9306 - val_loss: 0.2019 - val_accuracy: 0.9367\n",
      "Epoch 4/30\n",
      "60000/60000 [==============================] - 0s 7us/sample - loss: 0.1882 - accuracy: 0.9446 - val_loss: 0.1668 - val_accuracy: 0.9463\n",
      "Epoch 5/30\n",
      "60000/60000 [==============================] - 0s 7us/sample - loss: 0.1561 - accuracy: 0.9531 - val_loss: 0.1437 - val_accuracy: 0.9544\n",
      "Epoch 6/30\n",
      "60000/60000 [==============================] - 0s 7us/sample - loss: 0.1334 - accuracy: 0.9605 - val_loss: 0.1290 - val_accuracy: 0.9590\n",
      "Epoch 7/30\n",
      "60000/60000 [==============================] - 0s 7us/sample - loss: 0.1154 - accuracy: 0.9653 - val_loss: 0.1110 - val_accuracy: 0.9656\n",
      "Epoch 8/30\n",
      "60000/60000 [==============================] - 0s 7us/sample - loss: 0.0984 - accuracy: 0.9703 - val_loss: 0.0991 - val_accuracy: 0.9686\n",
      "Epoch 9/30\n",
      "60000/60000 [==============================] - 0s 7us/sample - loss: 0.0899 - accuracy: 0.9727 - val_loss: 0.1044 - val_accuracy: 0.9670\n",
      "Epoch 10/30\n",
      "60000/60000 [==============================] - 0s 7us/sample - loss: 0.0815 - accuracy: 0.9749 - val_loss: 0.0889 - val_accuracy: 0.9711\n",
      "Epoch 11/30\n",
      "60000/60000 [==============================] - 0s 7us/sample - loss: 0.0767 - accuracy: 0.9761 - val_loss: 0.0855 - val_accuracy: 0.9739\n",
      "Epoch 12/30\n",
      "60000/60000 [==============================] - 0s 7us/sample - loss: 0.0691 - accuracy: 0.9787 - val_loss: 0.0824 - val_accuracy: 0.9740\n",
      "Epoch 13/30\n",
      "60000/60000 [==============================] - 0s 7us/sample - loss: 0.0631 - accuracy: 0.9810 - val_loss: 0.0771 - val_accuracy: 0.9759\n",
      "Epoch 14/30\n",
      "60000/60000 [==============================] - 0s 7us/sample - loss: 0.0548 - accuracy: 0.9833 - val_loss: 0.0769 - val_accuracy: 0.9760\n",
      "Epoch 15/30\n",
      "60000/60000 [==============================] - 0s 7us/sample - loss: 0.0510 - accuracy: 0.9847 - val_loss: 0.0770 - val_accuracy: 0.9768\n",
      "Epoch 16/30\n",
      "60000/60000 [==============================] - 0s 7us/sample - loss: 0.0477 - accuracy: 0.9854 - val_loss: 0.0736 - val_accuracy: 0.9775\n",
      "Epoch 17/30\n",
      "60000/60000 [==============================] - 0s 7us/sample - loss: 0.0457 - accuracy: 0.9858 - val_loss: 0.0741 - val_accuracy: 0.9779\n",
      "Epoch 18/30\n",
      "60000/60000 [==============================] - 0s 7us/sample - loss: 0.0433 - accuracy: 0.9863 - val_loss: 0.0704 - val_accuracy: 0.9786\n",
      "Epoch 19/30\n",
      "60000/60000 [==============================] - 0s 7us/sample - loss: 0.0383 - accuracy: 0.9879 - val_loss: 0.0831 - val_accuracy: 0.9752\n",
      "Epoch 20/30\n",
      "60000/60000 [==============================] - 0s 7us/sample - loss: 0.0378 - accuracy: 0.9879 - val_loss: 0.0724 - val_accuracy: 0.9793\n",
      "Epoch 21/30\n",
      "60000/60000 [==============================] - 0s 7us/sample - loss: 0.0354 - accuracy: 0.9888 - val_loss: 0.0707 - val_accuracy: 0.9785\n",
      "Epoch 22/30\n",
      "60000/60000 [==============================] - 0s 7us/sample - loss: 0.0309 - accuracy: 0.9902 - val_loss: 0.0700 - val_accuracy: 0.9803\n",
      "Epoch 23/30\n",
      "60000/60000 [==============================] - 0s 7us/sample - loss: 0.0277 - accuracy: 0.9916 - val_loss: 0.0687 - val_accuracy: 0.9799\n",
      "Epoch 24/30\n",
      "60000/60000 [==============================] - 0s 7us/sample - loss: 0.0250 - accuracy: 0.9929 - val_loss: 0.0802 - val_accuracy: 0.9767\n",
      "Epoch 25/30\n",
      "60000/60000 [==============================] - 0s 7us/sample - loss: 0.0250 - accuracy: 0.9923 - val_loss: 0.0717 - val_accuracy: 0.9797\n",
      "Epoch 26/30\n",
      "60000/60000 [==============================] - 0s 7us/sample - loss: 0.0218 - accuracy: 0.9936 - val_loss: 0.0703 - val_accuracy: 0.9806\n",
      "Epoch 27/30\n",
      "60000/60000 [==============================] - 0s 7us/sample - loss: 0.0196 - accuracy: 0.9943 - val_loss: 0.0723 - val_accuracy: 0.9802\n",
      "Epoch 28/30\n",
      "60000/60000 [==============================] - 0s 7us/sample - loss: 0.0190 - accuracy: 0.9946 - val_loss: 0.0762 - val_accuracy: 0.9784\n",
      "Epoch 29/30\n",
      "60000/60000 [==============================] - 0s 7us/sample - loss: 0.0177 - accuracy: 0.9948 - val_loss: 0.0751 - val_accuracy: 0.9791\n",
      "Epoch 30/30\n",
      "60000/60000 [==============================] - 0s 7us/sample - loss: 0.0178 - accuracy: 0.9945 - val_loss: 0.0768 - val_accuracy: 0.9791\n"
     ]
    }
   ],
   "source": [
    "# 学習の詳細設定\n",
    "batch_size = 4096\n",
    "epochs = 30\n",
    "\n",
    "# 学習の実行\n",
    "history = model.fit(train_x, train_t, batch_size=batch_size, epochs=epochs, verbose=1, validation_data=(test_x, test_t))"
   ]
  },
  {
   "cell_type": "markdown",
   "metadata": {
    "colab_type": "text",
    "id": "NzSd2QjYQDQE"
   },
   "source": [
    "検証データに関する損失関数の値は0.1  \n",
    "精度は 97% 程度ありますね。"
   ]
  },
  {
   "cell_type": "markdown",
   "metadata": {
    "colab_type": "text",
    "id": "vR0y-AdCQDQU"
   },
   "source": [
    "## 学習済みモデルを保存\n",
    "\n",
    "学習が終わると、学習済みモデルが得られます。前回は HDF 5形式のファイルにモデル全体（構造＋重み＋最適化関数の状態）を保存しました。今回はそれらを個別に保存します。これによって転移学習などに用いるパラメータを簡単に扱えます。"
   ]
  },
  {
   "cell_type": "markdown",
   "metadata": {
    "colab_type": "text",
    "id": "lE-9T5eyQDQW"
   },
   "source": [
    "### モデルのセーブ\n",
    "\n",
    "今回は学習済みモデルを以下の２つ  \n",
    "* アーキテクチャ（構造）\n",
    "* パラメータ（重み）  \n",
    "\n",
    "に分割して保存します。"
   ]
  },
  {
   "cell_type": "markdown",
   "metadata": {
    "colab_type": "text",
    "id": "BXesNYg6QDQW"
   },
   "source": [
    "#### モデルアーキテクチャの保存"
   ]
  },
  {
   "cell_type": "code",
   "execution_count": 27,
   "metadata": {
    "colab": {},
    "colab_type": "code",
    "id": "HeBH7xtQQDQX"
   },
   "outputs": [],
   "source": [
    "# JSON形式で保存\n",
    "json_string = model.to_json()\n",
    "# ファイルを書き出して保存\n",
    "with open('my_model.json','w')as f:\n",
    "  f.write(json_string)"
   ]
  },
  {
   "cell_type": "markdown",
   "metadata": {
    "colab_type": "text",
    "id": "Ynwj2LTRQDQZ"
   },
   "source": [
    "#### モデルパラメータ（重み）の保存"
   ]
  },
  {
   "cell_type": "code",
   "execution_count": 28,
   "metadata": {
    "colab": {},
    "colab_type": "code",
    "id": "vKZGfUxBQDQZ"
   },
   "outputs": [],
   "source": [
    "# HDF5形式のファイル'my_model.h5'を作成し保存\n",
    "model.save_weights('my_model.h5')"
   ]
  },
  {
   "cell_type": "markdown",
   "metadata": {
    "colab_type": "text",
    "id": "4YF4VDCDQDQa"
   },
   "source": [
    "一度作成したモデルを削除します。"
   ]
  },
  {
   "cell_type": "code",
   "execution_count": 29,
   "metadata": {
    "colab": {},
    "colab_type": "code",
    "id": "mkRyjOABQDQb"
   },
   "outputs": [],
   "source": [
    "#モデルの削除\n",
    "del model"
   ]
  },
  {
   "cell_type": "markdown",
   "metadata": {
    "colab_type": "text",
    "id": "FVv8bxcKQDQe"
   },
   "source": [
    "## 学習済みモデルによる推論\n",
    "訓練に使用したデータですが、実際にうまく推論できるかを確認しましょう。\n",
    "\n",
    "では、学習済みモデルのロードから始めていきましょう。\n",
    "\n",
    "### 学習済みモデルのロード\n",
    "\n",
    "まずは学習済みモデルのアーキテクチャを読み込みます。そして、そのモデルに対してパラメータを読み込みます。"
   ]
  },
  {
   "cell_type": "markdown",
   "metadata": {
    "colab_type": "text",
    "id": "HawB28D7QDQe"
   },
   "source": [
    "#### モデルアーキテクチャの読み込み"
   ]
  },
  {
   "cell_type": "code",
   "execution_count": 30,
   "metadata": {
    "colab": {},
    "colab_type": "code",
    "id": "3798CH6kQDQf"
   },
   "outputs": [],
   "source": [
    "from tensorflow.keras.models import model_from_json\n",
    "\n",
    "# JSONからのモデル再構築\n",
    "model = model_from_json(json_string)"
   ]
  },
  {
   "cell_type": "markdown",
   "metadata": {
    "colab_type": "text",
    "id": "F8InXrc-QDQg"
   },
   "source": [
    "#### モデルパラメータ（重み）の読み込み\n",
    "上記で読み込んだモデルアーキテクチャに重みの読み込みを行います。"
   ]
  },
  {
   "cell_type": "code",
   "execution_count": 31,
   "metadata": {
    "colab": {},
    "colab_type": "code",
    "id": "xRcYqW3AQDQg"
   },
   "outputs": [],
   "source": [
    "# パラメータの読み込み\n",
    "model.load_weights('my_model.h5')"
   ]
  },
  {
   "cell_type": "markdown",
   "metadata": {
    "colab_type": "text",
    "id": "LJxOkaQIQDQh"
   },
   "source": [
    "### 推論"
   ]
  },
  {
   "cell_type": "code",
   "execution_count": 32,
   "metadata": {
    "colab": {},
    "colab_type": "code",
    "id": "N62ouWjsQDQh"
   },
   "outputs": [],
   "source": [
    "x = test[0][0]\n",
    "t = test[1][0]"
   ]
  },
  {
   "cell_type": "code",
   "execution_count": 33,
   "metadata": {
    "colab": {
     "base_uri": "https://localhost:8080/",
     "height": 35
    },
    "colab_type": "code",
    "executionInfo": {
     "elapsed": 478,
     "status": "ok",
     "timestamp": 1570777871173,
     "user": {
      "displayName": "佐川史弥",
      "photoUrl": "",
      "userId": "17735252083618003950"
     },
     "user_tz": -540
    },
    "id": "Hd43WkSCQDQi",
    "outputId": "82296604-6233-4078-f4e4-e5b0bd8d823c"
   },
   "outputs": [
    {
     "data": {
      "text/plain": [
       "7"
      ]
     },
     "execution_count": 33,
     "metadata": {},
     "output_type": "execute_result"
    }
   ],
   "source": [
    "t"
   ]
  },
  {
   "cell_type": "code",
   "execution_count": 34,
   "metadata": {
    "colab": {
     "base_uri": "https://localhost:8080/",
     "height": 287
    },
    "colab_type": "code",
    "executionInfo": {
     "elapsed": 824,
     "status": "ok",
     "timestamp": 1570777872481,
     "user": {
      "displayName": "佐川史弥",
      "photoUrl": "",
      "userId": "17735252083618003950"
     },
     "user_tz": -540
    },
    "id": "jwPFaGb5QDQk",
    "outputId": "130584bc-7b9e-4bd0-9b0d-b2d26274cac3"
   },
   "outputs": [
    {
     "data": {
      "text/plain": [
       "<matplotlib.image.AxesImage at 0x7fa45509ab00>"
      ]
     },
     "execution_count": 34,
     "metadata": {},
     "output_type": "execute_result"
    },
    {
     "data": {
      "image/png": "[encoded data removed]",
      "text/plain": [
       "<Figure size 432x288 with 1 Axes>"
      ]
     },
     "metadata": {
      "needs_background": "light"
     },
     "output_type": "display_data"
    }
   ],
   "source": [
    "plt.imshow(x)"
   ]
  },
  {
   "cell_type": "code",
   "execution_count": 35,
   "metadata": {
    "colab": {},
    "colab_type": "code",
    "id": "oblittTfQDQm"
   },
   "outputs": [],
   "source": [
    "x = np.array([test_x[0]])"
   ]
  },
  {
   "cell_type": "code",
   "execution_count": 36,
   "metadata": {
    "colab": {},
    "colab_type": "code",
    "id": "Ser51bQ4QDQn"
   },
   "outputs": [],
   "source": [
    "y = model.predict(x)"
   ]
  },
  {
   "cell_type": "markdown",
   "metadata": {
    "colab_type": "text",
    "id": "y_1J-yjVQDQo"
   },
   "source": [
    "予測値`y`の値を確認してわかる通り、各クラスに属する値の回帰であるため、まだ分類の結果とは言えません。"
   ]
  },
  {
   "cell_type": "code",
   "execution_count": 37,
   "metadata": {
    "colab": {
     "base_uri": "https://localhost:8080/",
     "height": 72
    },
    "colab_type": "code",
    "executionInfo": {
     "elapsed": 497,
     "status": "ok",
     "timestamp": 1570777877192,
     "user": {
      "displayName": "佐川史弥",
      "photoUrl": "",
      "userId": "17735252083618003950"
     },
     "user_tz": -540
    },
    "id": "DCmtQoCbQDQq",
    "outputId": "e8f1c8a6-2626-47fc-f0fc-d2cdda17d576"
   },
   "outputs": [
    {
     "data": {
      "text/plain": [
       "array([[3.3168802e-12, 9.2197139e-09, 1.8594511e-07, 7.5112609e-07,\n",
       "        9.3587193e-14, 2.4308677e-13, 1.4251452e-15, 9.9999893e-01,\n",
       "        7.5916684e-10, 7.1296938e-08]], dtype=float32)"
      ]
     },
     "execution_count": 37,
     "metadata": {},
     "output_type": "execute_result"
    }
   ],
   "source": [
    "y"
   ]
  },
  {
   "cell_type": "code",
   "execution_count": 38,
   "metadata": {
    "colab": {
     "base_uri": "https://localhost:8080/",
     "height": 35
    },
    "colab_type": "code",
    "executionInfo": {
     "elapsed": 509,
     "status": "ok",
     "timestamp": 1570777900624,
     "user": {
      "displayName": "佐川史弥",
      "photoUrl": "",
      "userId": "17735252083618003950"
     },
     "user_tz": -540
    },
    "id": "xr9lWkTHqIeZ",
    "outputId": "a097d8d0-31fc-4250-c3f2-5687f4cd042c"
   },
   "outputs": [
    {
     "data": {
      "text/plain": [
       "0.99999994"
      ]
     },
     "execution_count": 38,
     "metadata": {},
     "output_type": "execute_result"
    }
   ],
   "source": [
    "np.sum(y)"
   ]
  },
  {
   "cell_type": "markdown",
   "metadata": {
    "colab_type": "text",
    "id": "bQWdDLrFQDQu"
   },
   "source": [
    "`np.sum()`で総和を取ると1になっていることが確認できます。\n",
    "\n",
    "最大の値のインデックス番号は `np.argmax()`で取得できます。"
   ]
  },
  {
   "cell_type": "code",
   "execution_count": 39,
   "metadata": {
    "colab": {
     "base_uri": "https://localhost:8080/",
     "height": 35
    },
    "colab_type": "code",
    "executionInfo": {
     "elapsed": 492,
     "status": "ok",
     "timestamp": 1570777926103,
     "user": {
      "displayName": "佐川史弥",
      "photoUrl": "",
      "userId": "17735252083618003950"
     },
     "user_tz": -540
    },
    "id": "FMd3B6xQqMxS",
    "outputId": "0a1de375-44a7-4cc6-afed-2978f03462b5"
   },
   "outputs": [
    {
     "data": {
      "text/plain": [
       "7"
      ]
     },
     "execution_count": 39,
     "metadata": {},
     "output_type": "execute_result"
    }
   ],
   "source": [
    "np.argmax(y)"
   ]
  },
  {
   "cell_type": "markdown",
   "metadata": {
    "colab_type": "text",
    "id": "6oXb-y0sQDQw"
   },
   "source": [
    "要素番号が７と推測されており、教師データの７と一致していて、正しく分類ができていますね。誤差が0ではないので正しく分類できていないケースもあります。"
   ]
  },
  {
   "cell_type": "code",
   "execution_count": 40,
   "metadata": {
    "colab": {
     "base_uri": "https://localhost:8080/",
     "height": 35
    },
    "colab_type": "code",
    "id": "zn3XmF7EQDQw",
    "outputId": "25d9168b-cf43-48f0-8e35-ab5c34974de8"
   },
   "outputs": [
    {
     "data": {
      "text/plain": [
       "4"
      ]
     },
     "execution_count": 40,
     "metadata": {},
     "output_type": "execute_result"
    }
   ],
   "source": [
    "x = test[0][33]\n",
    "t = test[1][33]\n",
    "t"
   ]
  },
  {
   "cell_type": "code",
   "execution_count": 41,
   "metadata": {
    "colab": {
     "base_uri": "https://localhost:8080/",
     "height": 287
    },
    "colab_type": "code",
    "id": "3UViHXvmQDQx",
    "outputId": "f639f0d3-a0d7-4e80-a9e5-d48fdd18b35f"
   },
   "outputs": [
    {
     "data": {
      "text/plain": [
       "<matplotlib.image.AxesImage at 0x7fa454fe3fd0>"
      ]
     },
     "execution_count": 41,
     "metadata": {},
     "output_type": "execute_result"
    },
    {
     "data": {
      "image/png": "[encoded data removed]",
      "text/plain": [
       "<Figure size 432x288 with 1 Axes>"
      ]
     },
     "metadata": {
      "needs_background": "light"
     },
     "output_type": "display_data"
    }
   ],
   "source": [
    "plt.imshow(x)"
   ]
  },
  {
   "cell_type": "code",
   "execution_count": 42,
   "metadata": {
    "colab": {
     "base_uri": "https://localhost:8080/",
     "height": 35
    },
    "colab_type": "code",
    "executionInfo": {
     "elapsed": 500,
     "status": "ok",
     "timestamp": 1570777994437,
     "user": {
      "displayName": "佐川史弥",
      "photoUrl": "",
      "userId": "17735252083618003950"
     },
     "user_tz": -540
    },
    "id": "kxl2j7cCQDQy",
    "outputId": "23c3ea62-ac5e-4420-b1e0-a1a25ed4cbae"
   },
   "outputs": [
    {
     "data": {
      "text/plain": [
       "4"
      ]
     },
     "execution_count": 42,
     "metadata": {},
     "output_type": "execute_result"
    }
   ],
   "source": [
    "x = np.array([test_x[33]])\n",
    "y = model.predict(x)\n",
    "np.argmax(y)"
   ]
  },
  {
   "cell_type": "markdown",
   "metadata": {
    "colab_type": "text",
    "id": "kGZroIVqQDQz"
   },
   "source": [
    "## 演習課題\n",
    "\n",
    "学習済みモデルで得られたフィルタの値を取得し、各画像に対して畳み込み（Convolution）を実行し、数字をうまく分類できるようなフィルタはどのような画像になっているか確かめてみましょう。\n",
    "\n",
    "ヒント：  \n",
    "今回のモデルのパラメータは下記で取得できます。\n",
    "\n",
    "```python\n",
    "W = model.layers[0].get_weights()[0]\n",
    "```"
   ]
  }
 ],
 "metadata": {
  "accelerator": "GPU",
  "colab": {
   "name": "TF_cnn_mnist.ipynb",
   "provenance": [],
   "toc_visible": true
  },
  "kernelspec": {
   "display_name": "Python 3",
   "language": "python",
   "name": "python3"
  },
  "language_info": {
   "codemirror_mode": {
    "name": "ipython",
    "version": 3
   },
   "file_extension": ".py",
   "mimetype": "text/x-python",
   "name": "python",
   "nbconvert_exporter": "python",
   "pygments_lexer": "ipython3",
   "version": "3.6.9"
  }
 },
 "nbformat": 4,
 "nbformat_minor": 1
}
