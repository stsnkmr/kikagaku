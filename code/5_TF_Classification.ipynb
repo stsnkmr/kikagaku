{
 "cells": [
  {
   "cell_type": "markdown",
   "metadata": {
    "colab_type": "text",
    "id": "BUDfb0DClQeA"
   },
   "source": [
    "#  TensorFlow 入門（分類）\n",
    "## TensorFlow とは？\n",
    "\n",
    "![tflogo](images/classification/tf.png)\n",
    "\n",
    "\n",
    "[TensorFlow](https://www.tensorflow.org/)は、Python で使用できるディープラーニングに特化したフレームワークです。こちらは、人間の操作を最小限に抑えたインターフェースで作られ、迅速な解析を可能にすることに重点を置いたライブラリです。\n",
    "Google 社の[TensorFlow](https://www.tensorflow.org/?hl=ja)から使用することができ、昨今話題のエッジコンピューティングなど実用のフェーズとも相性がよく世界的にメジャーなフレームワークとなっています。\n",
    "TensorFlow の魅力は次の 3 点。\n",
    "\n",
    "* 初心者に使いやすい簡単なインターフェースで作られている。  \n",
    "* 高度な実装が可能。\n",
    "* ユーザー数が世界で最も多い。  \n",
    "* CPU と GPU 上でシームレスに動作する。  \n",
    "\n",
    "TensorFlow は高レベル API である **Keras** を用います。  \n",
    "またモデルの構築方法として、  \n",
    "\n",
    "* **Sequential API** を用いる方法  \n",
    "* **Functional API** を用いる方法\n",
    "* **Subclassing**  を用いる方法  \n",
    "\n",
    "があります。Seqential モデルは入力層と出力層が一つの流れで繋がっている（線形スタック）モデルのみ構築できます。それに対して、　FunctionalAPI,Subclassing は線形スタックモデルだけでなく、複数の入力層や出力層があるモデルを構築することもできます。まずはシンプルな使い方の Sequential モデルを用いてニューラルネットワークの設計を行いましょう。\n",
    "\n",
    "\n",
    "##  Keras の基礎\n",
    "### Keras の読み込み\n",
    "\n",
    "それでは **TensorFlow 内部に組み込まれている Keras** を使用して実装を行いましょう。"
   ]
  },
  {
   "cell_type": "code",
   "execution_count": 1,
   "metadata": {
    "colab": {},
    "colab_type": "code",
    "id": "imTv24R8lQeB"
   },
   "outputs": [],
   "source": [
    "# Pythonの挙動を整えるライブラリのインポート\n",
    "from __future__ import absolute_import, division, print_function, unicode_literals\n",
    "\n",
    "# TensorFlow と tf.keras のインポート\n",
    "import tensorflow as tf\n",
    "from tensorflow import keras"
   ]
  },
  {
   "cell_type": "markdown",
   "metadata": {
    "colab_type": "text",
    "id": "8__k_E9UlQeF"
   },
   "source": [
    "ディープラーニングを行う際は GPU の設定が非常に重要です。以下のコードを実行して TensorFlow と GPU がうまくつながっているか確認しておきましょう。"
   ]
  },
  {
   "cell_type": "code",
   "execution_count": 2,
   "metadata": {
    "colab": {
     "base_uri": "https://localhost:8080/",
     "height": 476
    },
    "colab_type": "code",
    "executionInfo": {
     "elapsed": 2868,
     "status": "ok",
     "timestamp": 1568378608392,
     "user": {
      "displayName": "佐川史弥",
      "photoUrl": "",
      "userId": "17735252083618003950"
     },
     "user_tz": -540
    },
    "id": "mJben3bJlQeG",
    "outputId": "a5fe8a6c-1fb1-4d8a-f035-f328c5265269"
   },
   "outputs": [
    {
     "data": {
      "text/plain": [
       "[name: \"/device:CPU:0\"\n",
       " device_type: \"CPU\"\n",
       " memory_limit: 268435456\n",
       " locality {\n",
       " }\n",
       " incarnation: 15322283135157545912, name: \"/device:XLA_CPU:0\"\n",
       " device_type: \"XLA_CPU\"\n",
       " memory_limit: 17179869184\n",
       " locality {\n",
       " }\n",
       " incarnation: 1082564609439954041\n",
       " physical_device_desc: \"device: XLA_CPU device\", name: \"/device:XLA_GPU:0\"\n",
       " device_type: \"XLA_GPU\"\n",
       " memory_limit: 17179869184\n",
       " locality {\n",
       " }\n",
       " incarnation: 23280050378701616\n",
       " physical_device_desc: \"device: XLA_GPU device\", name: \"/device:GPU:0\"\n",
       " device_type: \"GPU\"\n",
       " memory_limit: 11330115994\n",
       " locality {\n",
       "   bus_id: 1\n",
       "   links {\n",
       "   }\n",
       " }\n",
       " incarnation: 16907953149662969404\n",
       " physical_device_desc: \"device: 0, name: Tesla K80, pci bus id: bfde:00:00.0, compute capability: 3.7\"]"
      ]
     },
     "execution_count": 2,
     "metadata": {},
     "output_type": "execute_result"
    }
   ],
   "source": [
    "from tensorflow.python.client import device_lib\n",
    "device_lib.list_local_devices()"
   ]
  },
  {
   "cell_type": "markdown",
   "metadata": {
    "colab_type": "text",
    "id": "Ex-87CwAlQeJ"
   },
   "source": [
    "`/device:GPU:0`という表記からGPUとつながっていれば問題なく接続されています。"
   ]
  },
  {
   "cell_type": "markdown",
   "metadata": {
    "colab_type": "text",
    "id": "QMiHP-f5lQeN"
   },
   "source": [
    "最後に今回使用するKerasのバージョンも確認しておきましょう。再現性を保つためにもバージョンの確認は非常に重要です。"
   ]
  },
  {
   "cell_type": "code",
   "execution_count": 3,
   "metadata": {
    "colab": {
     "base_uri": "https://localhost:8080/",
     "height": 51
    },
    "colab_type": "code",
    "executionInfo": {
     "elapsed": 2860,
     "status": "ok",
     "timestamp": 1568378608393,
     "user": {
      "displayName": "佐川史弥",
      "photoUrl": "",
      "userId": "17735252083618003950"
     },
     "user_tz": -540
    },
    "id": "wL396elqlQeK",
    "outputId": "ee25eccd-4f26-4f60-f12d-a514f4475023",
    "scrolled": true
   },
   "outputs": [
    {
     "name": "stdout",
     "output_type": "stream",
     "text": [
      "2.0.0\n",
      "2.2.4-tf\n"
     ]
    }
   ],
   "source": [
    "print(tf.version.VERSION)\n",
    "print(tf.keras.__version__)"
   ]
  },
  {
   "cell_type": "markdown",
   "metadata": {
    "colab_type": "text",
    "id": "7i-7ljSWlQeQ",
    "scrolled": true
   },
   "source": [
    "## Keras でクラス分類\n",
    "### データの読み込み\n",
    "今回は data フォルダに格納されている wine_class.csv を使用してクラス分類の実装を練習してみましょう。 どのような形式でデータを準備しておくと良いのかといった参考になるため、格納されている生のデータも確認しておきましょう。  \n",
    "\n",
    "今回は CSV ファイルで用意されているため、データの取り扱いは Python のデータ操作で一般的な **Pandas** を使って行いましょう。  "
   ]
  },
  {
   "cell_type": "code",
   "execution_count": 4,
   "metadata": {
    "colab": {},
    "colab_type": "code",
    "id": "VMp1VPx2lQeR"
   },
   "outputs": [],
   "source": [
    "import pandas as pd\n",
    "import numpy as np\n",
    "import matplotlib.pyplot as plt\n",
    "%matplotlib inline"
   ]
  },
  {
   "cell_type": "code",
   "execution_count": 5,
   "metadata": {
    "colab": {},
    "colab_type": "code",
    "id": "fvEchI6ZlQeT"
   },
   "outputs": [],
   "source": [
    "# データの読み込み（df: data frame）\n",
    "df = pd.read_csv('data/wine_class.csv')"
   ]
  },
  {
   "cell_type": "code",
   "execution_count": 6,
   "metadata": {
    "colab": {
     "base_uri": "https://localhost:8080/",
     "height": 159
    },
    "colab_type": "code",
    "executionInfo": {
     "elapsed": 2841,
     "status": "ok",
     "timestamp": 1568378608394,
     "user": {
      "displayName": "佐川史弥",
      "photoUrl": "",
      "userId": "17735252083618003950"
     },
     "user_tz": -540
    },
    "id": "MOO6r0A2lQeV",
    "outputId": "b47aa4ff-eeea-456e-a1e3-172447fd3149",
    "scrolled": true
   },
   "outputs": [
    {
     "data": {
      "text/html": [
       "<div>\n",
       "<style scoped>\n",
       "    .dataframe tbody tr th:only-of-type {\n",
       "        vertical-align: middle;\n",
       "    }\n",
       "\n",
       "    .dataframe tbody tr th {\n",
       "        vertical-align: top;\n",
       "    }\n",
       "\n",
       "    .dataframe thead th {\n",
       "        text-align: right;\n",
       "    }\n",
       "</style>\n",
       "<table border=\"1\" class=\"dataframe\">\n",
       "  <thead>\n",
       "    <tr style=\"text-align: right;\">\n",
       "      <th></th>\n",
       "      <th>Class</th>\n",
       "      <th>Alcohol</th>\n",
       "      <th>Ash</th>\n",
       "      <th>Alcalinity of ash</th>\n",
       "      <th>Magnesium</th>\n",
       "      <th>Total phenols</th>\n",
       "      <th>Flavanoids</th>\n",
       "      <th>Nonflavanoid phenols</th>\n",
       "      <th>Color intensity</th>\n",
       "      <th>Hue</th>\n",
       "      <th>Proline</th>\n",
       "    </tr>\n",
       "  </thead>\n",
       "  <tbody>\n",
       "    <tr>\n",
       "      <th>0</th>\n",
       "      <td>1</td>\n",
       "      <td>14.23</td>\n",
       "      <td>2.43</td>\n",
       "      <td>15.6</td>\n",
       "      <td>127</td>\n",
       "      <td>2.80</td>\n",
       "      <td>3.06</td>\n",
       "      <td>0.28</td>\n",
       "      <td>5.64</td>\n",
       "      <td>1.04</td>\n",
       "      <td>1065</td>\n",
       "    </tr>\n",
       "    <tr>\n",
       "      <th>1</th>\n",
       "      <td>1</td>\n",
       "      <td>13.20</td>\n",
       "      <td>2.14</td>\n",
       "      <td>11.2</td>\n",
       "      <td>100</td>\n",
       "      <td>2.65</td>\n",
       "      <td>2.76</td>\n",
       "      <td>0.26</td>\n",
       "      <td>4.38</td>\n",
       "      <td>1.05</td>\n",
       "      <td>1050</td>\n",
       "    </tr>\n",
       "    <tr>\n",
       "      <th>2</th>\n",
       "      <td>1</td>\n",
       "      <td>13.16</td>\n",
       "      <td>2.67</td>\n",
       "      <td>18.6</td>\n",
       "      <td>101</td>\n",
       "      <td>2.80</td>\n",
       "      <td>3.24</td>\n",
       "      <td>0.30</td>\n",
       "      <td>5.68</td>\n",
       "      <td>1.03</td>\n",
       "      <td>1185</td>\n",
       "    </tr>\n",
       "  </tbody>\n",
       "</table>\n",
       "</div>"
      ],
      "text/plain": [
       "   Class  Alcohol   Ash  Alcalinity of ash  Magnesium  Total phenols  \\\n",
       "0      1    14.23  2.43               15.6        127           2.80   \n",
       "1      1    13.20  2.14               11.2        100           2.65   \n",
       "2      1    13.16  2.67               18.6        101           2.80   \n",
       "\n",
       "   Flavanoids  Nonflavanoid phenols  Color intensity   Hue  Proline  \n",
       "0        3.06                  0.28             5.64  1.04     1065  \n",
       "1        2.76                  0.26             4.38  1.05     1050  \n",
       "2        3.24                  0.30             5.68  1.03     1185  "
      ]
     },
     "execution_count": 6,
     "metadata": {},
     "output_type": "execute_result"
    }
   ],
   "source": [
    "# データの表示（先頭３件）\n",
    "df.head(3)"
   ]
  },
  {
   "cell_type": "markdown",
   "metadata": {},
   "source": [
    "データを見てみると、0 番目のカラムにワインの等級が、1 番目以降のカラムにアルコール等のワインの特徴が入っていることがわかります。  \n",
    "今回はこの**等級を正解データ**として、他の特徴を元に分類を行っていきます。"
   ]
  },
  {
   "cell_type": "markdown",
   "metadata": {
    "colab_type": "text",
    "id": "5rSftXQRlQeX"
   },
   "source": [
    "### 入力変数と教師データ（出力変数）に切り分ける\n",
    "\n",
    "機械学習のプログラミングを行う上での最初のお題として、入力変数と教師データ（出力変数）の切り分けがあります。 こちらは、毎回行うため、スムーズに出来るように練習しておくことをおすすめします。"
   ]
  },
  {
   "cell_type": "code",
   "execution_count": 7,
   "metadata": {
    "colab": {},
    "colab_type": "code",
    "id": "Kn_9t-PjlQeY"
   },
   "outputs": [],
   "source": [
    "# 教師データ（先頭のClass）\n",
    "t = df.iloc[:, 0]\n",
    "\n",
    "# 入力変数（１番目から最後まで）\n",
    "x = df.iloc[:, 1:]"
   ]
  },
  {
   "cell_type": "markdown",
   "metadata": {
    "colab_type": "text",
    "id": "bI7B-IAxlQeZ"
   },
   "source": [
    "こちらのように、正しく切り分けられているかデータの中身を表示して確認しておきましょう。"
   ]
  },
  {
   "cell_type": "code",
   "execution_count": 8,
   "metadata": {
    "colab": {
     "base_uri": "https://localhost:8080/",
     "height": 159
    },
    "colab_type": "code",
    "executionInfo": {
     "elapsed": 2829,
     "status": "ok",
     "timestamp": 1568378608395,
     "user": {
      "displayName": "佐川史弥",
      "photoUrl": "",
      "userId": "17735252083618003950"
     },
     "user_tz": -540
    },
    "id": "virYOMKmlQea",
    "outputId": "dc0a32d4-ae28-494b-94ef-f2ef459314a8"
   },
   "outputs": [
    {
     "data": {
      "text/html": [
       "<div>\n",
       "<style scoped>\n",
       "    .dataframe tbody tr th:only-of-type {\n",
       "        vertical-align: middle;\n",
       "    }\n",
       "\n",
       "    .dataframe tbody tr th {\n",
       "        vertical-align: top;\n",
       "    }\n",
       "\n",
       "    .dataframe thead th {\n",
       "        text-align: right;\n",
       "    }\n",
       "</style>\n",
       "<table border=\"1\" class=\"dataframe\">\n",
       "  <thead>\n",
       "    <tr style=\"text-align: right;\">\n",
       "      <th></th>\n",
       "      <th>Alcohol</th>\n",
       "      <th>Ash</th>\n",
       "      <th>Alcalinity of ash</th>\n",
       "      <th>Magnesium</th>\n",
       "      <th>Total phenols</th>\n",
       "      <th>Flavanoids</th>\n",
       "      <th>Nonflavanoid phenols</th>\n",
       "      <th>Color intensity</th>\n",
       "      <th>Hue</th>\n",
       "      <th>Proline</th>\n",
       "    </tr>\n",
       "  </thead>\n",
       "  <tbody>\n",
       "    <tr>\n",
       "      <th>0</th>\n",
       "      <td>14.23</td>\n",
       "      <td>2.43</td>\n",
       "      <td>15.6</td>\n",
       "      <td>127</td>\n",
       "      <td>2.80</td>\n",
       "      <td>3.06</td>\n",
       "      <td>0.28</td>\n",
       "      <td>5.64</td>\n",
       "      <td>1.04</td>\n",
       "      <td>1065</td>\n",
       "    </tr>\n",
       "    <tr>\n",
       "      <th>1</th>\n",
       "      <td>13.20</td>\n",
       "      <td>2.14</td>\n",
       "      <td>11.2</td>\n",
       "      <td>100</td>\n",
       "      <td>2.65</td>\n",
       "      <td>2.76</td>\n",
       "      <td>0.26</td>\n",
       "      <td>4.38</td>\n",
       "      <td>1.05</td>\n",
       "      <td>1050</td>\n",
       "    </tr>\n",
       "    <tr>\n",
       "      <th>2</th>\n",
       "      <td>13.16</td>\n",
       "      <td>2.67</td>\n",
       "      <td>18.6</td>\n",
       "      <td>101</td>\n",
       "      <td>2.80</td>\n",
       "      <td>3.24</td>\n",
       "      <td>0.30</td>\n",
       "      <td>5.68</td>\n",
       "      <td>1.03</td>\n",
       "      <td>1185</td>\n",
       "    </tr>\n",
       "  </tbody>\n",
       "</table>\n",
       "</div>"
      ],
      "text/plain": [
       "   Alcohol   Ash  Alcalinity of ash  Magnesium  Total phenols  Flavanoids  \\\n",
       "0    14.23  2.43               15.6        127           2.80        3.06   \n",
       "1    13.20  2.14               11.2        100           2.65        2.76   \n",
       "2    13.16  2.67               18.6        101           2.80        3.24   \n",
       "\n",
       "   Nonflavanoid phenols  Color intensity   Hue  Proline  \n",
       "0                  0.28             5.64  1.04     1065  \n",
       "1                  0.26             4.38  1.05     1050  \n",
       "2                  0.30             5.68  1.03     1185  "
      ]
     },
     "execution_count": 8,
     "metadata": {},
     "output_type": "execute_result"
    }
   ],
   "source": [
    "x.head(3)"
   ]
  },
  {
   "cell_type": "code",
   "execution_count": 9,
   "metadata": {
    "colab": {
     "base_uri": "https://localhost:8080/",
     "height": 34
    },
    "colab_type": "code",
    "executionInfo": {
     "elapsed": 2820,
     "status": "ok",
     "timestamp": 1568378608395,
     "user": {
      "displayName": "佐川史弥",
      "photoUrl": "",
      "userId": "17735252083618003950"
     },
     "user_tz": -540
    },
    "id": "Tj6PZvhqlQed",
    "outputId": "7e8e5d03-db96-4b89-c9a7-8b96fa34a445"
   },
   "outputs": [
    {
     "data": {
      "text/plain": [
       "(178, 10)"
      ]
     },
     "execution_count": 9,
     "metadata": {},
     "output_type": "execute_result"
    }
   ],
   "source": [
    "# 表示して確認\n",
    "x.shape"
   ]
  },
  {
   "cell_type": "markdown",
   "metadata": {
    "colab_type": "text",
    "id": "ERC7CAr_lQef"
   },
   "source": [
    "`.shape`を使うことで、サンプル数（今回は178）と入力変数の数（今回は10）を確認することができます。"
   ]
  },
  {
   "cell_type": "markdown",
   "metadata": {
    "colab_type": "text",
    "id": "JhbAlNB_lQef"
   },
   "source": [
    "### Keras で計算できるデータの形式に変換\n",
    "Keras で計算を行うために、下記の ２ 点を満たしているか確認を行っておきましょう。\n",
    "こちらが指定された形式となっていない場合、学習の際にエラーが出てしまいます。\n",
    "\n",
    "- 入力変数や教師データが NumPy で定義されているか\n",
    "- 分類の場合、ラベルが 0 から始まっているか"
   ]
  },
  {
   "cell_type": "markdown",
   "metadata": {
    "colab_type": "text",
    "id": "d3ZHwMzwlQeg"
   },
   "source": [
    "#### NumPy に変換\n",
    "\n",
    "Pandas で読み込んだ場合、Pandas の形式となっています。"
   ]
  },
  {
   "cell_type": "code",
   "execution_count": 10,
   "metadata": {
    "colab": {
     "base_uri": "https://localhost:8080/",
     "height": 34
    },
    "colab_type": "code",
    "executionInfo": {
     "elapsed": 2813,
     "status": "ok",
     "timestamp": 1568378608396,
     "user": {
      "displayName": "佐川史弥",
      "photoUrl": "",
      "userId": "17735252083618003950"
     },
     "user_tz": -540
    },
    "id": "YealnpKplQeg",
    "outputId": "8659f3a1-60c9-4030-b7f7-f1cbe79a68fa"
   },
   "outputs": [
    {
     "data": {
      "text/plain": [
       "pandas.core.frame.DataFrame"
      ]
     },
     "execution_count": 10,
     "metadata": {},
     "output_type": "execute_result"
    }
   ],
   "source": [
    "type(x)"
   ]
  },
  {
   "cell_type": "markdown",
   "metadata": {
    "colab_type": "text",
    "id": "YrXy1sa2lQei"
   },
   "source": [
    "そのため、こちらをNumpyの形式に変換するのは、`.values`とつければOKです。"
   ]
  },
  {
   "cell_type": "code",
   "execution_count": 11,
   "metadata": {
    "colab": {
     "base_uri": "https://localhost:8080/",
     "height": 34
    },
    "colab_type": "code",
    "executionInfo": {
     "elapsed": 2804,
     "status": "ok",
     "timestamp": 1568378608396,
     "user": {
      "displayName": "佐川史弥",
      "photoUrl": "",
      "userId": "17735252083618003950"
     },
     "user_tz": -540
    },
    "id": "dA2tE8rWlQei",
    "outputId": "6a84bdff-e706-4170-cedf-0e72a7a6f20d"
   },
   "outputs": [
    {
     "data": {
      "text/plain": [
       "numpy.ndarray"
      ]
     },
     "execution_count": 11,
     "metadata": {},
     "output_type": "execute_result"
    }
   ],
   "source": [
    "type(x.values)"
   ]
  },
  {
   "cell_type": "markdown",
   "metadata": {
    "colab_type": "text",
    "id": "M4J_WC2llQek"
   },
   "source": [
    "#### 分類で使用するラベルを 0 から始める\n",
    "\n",
    "今回準備されている教師データのラベルを確認してみましょう。\n",
    "`min`と`max`で確認すると良いでしょう。"
   ]
  },
  {
   "cell_type": "code",
   "execution_count": 12,
   "metadata": {
    "colab": {
     "base_uri": "https://localhost:8080/",
     "height": 34
    },
    "colab_type": "code",
    "executionInfo": {
     "elapsed": 2795,
     "status": "ok",
     "timestamp": 1568378608396,
     "user": {
      "displayName": "佐川史弥",
      "photoUrl": "",
      "userId": "17735252083618003950"
     },
     "user_tz": -540
    },
    "id": "dyKK9Y7tlQek",
    "outputId": "d1728e9d-0190-4a5e-a166-1aa5d671daa6"
   },
   "outputs": [
    {
     "data": {
      "text/plain": [
       "1"
      ]
     },
     "execution_count": 12,
     "metadata": {},
     "output_type": "execute_result"
    }
   ],
   "source": [
    "t.min()"
   ]
  },
  {
   "cell_type": "code",
   "execution_count": 13,
   "metadata": {
    "colab": {
     "base_uri": "https://localhost:8080/",
     "height": 34
    },
    "colab_type": "code",
    "executionInfo": {
     "elapsed": 2788,
     "status": "ok",
     "timestamp": 1568378608397,
     "user": {
      "displayName": "佐川史弥",
      "photoUrl": "",
      "userId": "17735252083618003950"
     },
     "user_tz": -540
    },
    "id": "sqWczf8MlQem",
    "outputId": "7b8e56fc-b800-4e05-ac9e-45d0af903df0"
   },
   "outputs": [
    {
     "data": {
      "text/plain": [
       "3"
      ]
     },
     "execution_count": 13,
     "metadata": {},
     "output_type": "execute_result"
    }
   ],
   "source": [
    "t.max()"
   ]
  },
  {
   "cell_type": "markdown",
   "metadata": {
    "colab_type": "text",
    "id": "Xr_2ZmPnlQeo"
   },
   "source": [
    "今回はラベルが`1`から始まって`3`で終わっているため、`1, 2, 3`というラベルが割り振られた 3 クラスの分類であることがわかります。\n",
    "keras の教師データのラベルは 0 から始める必要があるため、`1, 2, 3` → `0, 1, 2` としましょう。\n",
    "\n",
    "NumPy では、全体に対する引き算もサポートしているため、`t-1`とすればラベル全体に 1 が引かれ、`0, 1, 2`となります。"
   ]
  },
  {
   "cell_type": "code",
   "execution_count": 14,
   "metadata": {
    "colab": {},
    "colab_type": "code",
    "id": "EJBX_tO2lQep"
   },
   "outputs": [],
   "source": [
    "# Numpyにデータ型を変換し、ラベルを0から始める\n",
    "t = t.values - 1\n",
    "x = x.values"
   ]
  },
  {
   "cell_type": "code",
   "execution_count": 15,
   "metadata": {
    "colab": {
     "base_uri": "https://localhost:8080/",
     "height": 34
    },
    "colab_type": "code",
    "executionInfo": {
     "elapsed": 3121,
     "status": "ok",
     "timestamp": 1568378608746,
     "user": {
      "displayName": "佐川史弥",
      "photoUrl": "",
      "userId": "17735252083618003950"
     },
     "user_tz": -540
    },
    "id": "DLq0PkeZlQes",
    "outputId": "68a91a9f-a7e9-40e0-9b2f-3b5f7086482f"
   },
   "outputs": [
    {
     "data": {
      "text/plain": [
       "numpy.ndarray"
      ]
     },
     "execution_count": 15,
     "metadata": {},
     "output_type": "execute_result"
    }
   ],
   "source": [
    "type(t)"
   ]
  },
  {
   "cell_type": "code",
   "execution_count": 16,
   "metadata": {
    "colab": {
     "base_uri": "https://localhost:8080/",
     "height": 34
    },
    "colab_type": "code",
    "executionInfo": {
     "elapsed": 3112,
     "status": "ok",
     "timestamp": 1568378608746,
     "user": {
      "displayName": "佐川史弥",
      "photoUrl": "",
      "userId": "17735252083618003950"
     },
     "user_tz": -540
    },
    "id": "2f78sfOzlQeu",
    "outputId": "f2a57038-47b6-4b8e-ca21-91ac8a4637d2"
   },
   "outputs": [
    {
     "data": {
      "text/plain": [
       "numpy.ndarray"
      ]
     },
     "execution_count": 16,
     "metadata": {},
     "output_type": "execute_result"
    }
   ],
   "source": [
    "type(x)"
   ]
  },
  {
   "cell_type": "markdown",
   "metadata": {
    "colab_type": "text",
    "id": "vfokEh1ilQe3"
   },
   "source": [
    "### 訓練データと検証データを分割しよう\n",
    "機械学習には欠かせない訓練データと検証データの分割です。Keras にはデータを分割する関数は用意されていないので、便宜上\n",
    "`scikit-learn`に用意されている`sklearn.model_selection.train_test_split`を使用します。\n",
    "今回が訓練を 70% とし、検証を 30% とします。"
   ]
  },
  {
   "cell_type": "code",
   "execution_count": 17,
   "metadata": {
    "colab": {},
    "colab_type": "code",
    "id": "RYEHYwMqlQe4"
   },
   "outputs": [
    {
     "name": "stderr",
     "output_type": "stream",
     "text": [
      "/usr/local/lib/python3.6/dist-packages/sklearn/model_selection/_split.py:2179: FutureWarning: From version 0.21, test_size will always complement train_size unless both are specified.\n",
      "  FutureWarning)\n"
     ]
    }
   ],
   "source": [
    "from sklearn.model_selection import train_test_split\n",
    "\n",
    "# 訓練データと検証データの分割\n",
    "train_x, val_x, train_t, val_t = train_test_split(x, t, train_size=0.7,random_state=0)"
   ]
  },
  {
   "cell_type": "code",
   "execution_count": 18,
   "metadata": {
    "colab": {
     "base_uri": "https://localhost:8080/",
     "height": 34
    },
    "colab_type": "code",
    "executionInfo": {
     "elapsed": 3464,
     "status": "ok",
     "timestamp": 1568378609145,
     "user": {
      "displayName": "佐川史弥",
      "photoUrl": "",
      "userId": "17735252083618003950"
     },
     "user_tz": -540
    },
    "id": "l3FOkBTulQe5",
    "outputId": "dae7a033-685c-4e06-b114-5739dd362671"
   },
   "outputs": [
    {
     "data": {
      "text/plain": [
       "(124, 10)"
      ]
     },
     "execution_count": 18,
     "metadata": {},
     "output_type": "execute_result"
    }
   ],
   "source": [
    "train_x.shape"
   ]
  },
  {
   "cell_type": "code",
   "execution_count": 19,
   "metadata": {
    "colab": {
     "base_uri": "https://localhost:8080/",
     "height": 34
    },
    "colab_type": "code",
    "executionInfo": {
     "elapsed": 3456,
     "status": "ok",
     "timestamp": 1568378609146,
     "user": {
      "displayName": "佐川史弥",
      "photoUrl": "",
      "userId": "17735252083618003950"
     },
     "user_tz": -540
    },
    "id": "vArjje9ylQe8",
    "outputId": "2beb1916-9b69-4fd1-ea26-19b54fd754d3",
    "scrolled": false
   },
   "outputs": [
    {
     "data": {
      "text/plain": [
       "(124, 54, 124, 54)"
      ]
     },
     "execution_count": 19,
     "metadata": {},
     "output_type": "execute_result"
    }
   ],
   "source": [
    "len(train_x), len(val_x), len(train_t), len(val_t)"
   ]
  },
  {
   "cell_type": "markdown",
   "metadata": {
    "colab_type": "text",
    "id": "LT-96dYxlQfA"
   },
   "source": [
    "### シードの固定\n",
    "はじめに、乱数のシードの固定を行いましょう。こちらの手順によって本来ランダムであるはずの乱数が固定され再現性の確保が可能です。\n",
    "Pythonの乱数、`random`関数、 `numpy`そして`tensorflow`を固定します。"
   ]
  },
  {
   "cell_type": "code",
   "execution_count": 20,
   "metadata": {
    "colab": {},
    "colab_type": "code",
    "id": "Xa8Nc-kVlQfA"
   },
   "outputs": [],
   "source": [
    "import os\n",
    "import random\n",
    "\n",
    "\n",
    "def reset_seed(seed=0):\n",
    "    \n",
    "    os.environ['PYTHONHASHSEED'] = '0'\n",
    "    random.seed(seed) #　random関数のシードを固定\n",
    "    np.random.seed(seed) #numpyのシードを固定\n",
    "    tf.random.set_seed(seed) #tensorflowのシードを固定"
   ]
  },
  {
   "cell_type": "markdown",
   "metadata": {
    "colab_type": "text",
    "id": "HyO6zZ_ZlQe9"
   },
   "source": [
    "### ニューラルネットワークのモデルの定義\n",
    "\n",
    "それでは、今回は Sequential モデルを用いてニューラルネットワークのモデル構築を行います。使い方は以下の通りです。\n",
    "\n",
    "1. `keras.Seqential()`を用意する\n",
    "2. 内部に`keras.layers.層の名前()`を積み重ねて記述する\n",
    "3. `変数 (model)`に渡してインスタンス化を行う\n",
    "\n",
    "この`keras.layers.層の名前()`の部分で全結合層( Dense )や活性化関数( Activation )を追加することとなります。\n",
    "以下のコード、コメントを参考に早速モデルを構築してみましょう。"
   ]
  },
  {
   "cell_type": "code",
   "execution_count": 21,
   "metadata": {
    "colab": {},
    "colab_type": "code",
    "id": "czbVJwYOeCxR"
   },
   "outputs": [],
   "source": [
    "#  シードの固定\n",
    "reset_seed(0)\n",
    "\n",
    "#モデルの構築\n",
    "model = keras.Sequential([\n",
    "    keras.layers.Dense(5, input_shape=(10,)),\n",
    "    keras.layers.Activation('relu'),\n",
    "    keras.layers.Dense(3),\n",
    "    keras.layers.Activation('softmax')\n",
    "])"
   ]
  },
  {
   "cell_type": "markdown",
   "metadata": {},
   "source": [
    "Sequential モデルにはもう一つの記述方法があり、\n",
    "\n",
    "1. モデルをインスタンス化\n",
    "2. モデルの層を追加\n",
    "\n",
    "という手順を踏みます。  \n",
    "先程の方法よりも使用される手法ですので抑えておきましょう。"
   ]
  },
  {
   "cell_type": "code",
   "execution_count": 22,
   "metadata": {
    "colab": {},
    "colab_type": "code",
    "id": "SeNTREDifAoR"
   },
   "outputs": [],
   "source": [
    "from tensorflow.keras import models,layers\n",
    "\n",
    "# シードの固定\n",
    "reset_seed(0)\n",
    "\n",
    "# モデルのインスタンス化\n",
    "model = models.Sequential()\n",
    "\n",
    "# モデルの構築\n",
    "model.add(layers.Dense(5, input_shape=(10,)))\n",
    "model.add(layers.Activation('relu'))\n",
    "model.add(layers.Dense(3)) \n",
    "model.add(keras.layers.Activation('softmax'))"
   ]
  },
  {
   "cell_type": "markdown",
   "metadata": {
    "colab_type": "text",
    "id": "oqMJ02wZlQfD"
   },
   "source": [
    "これが一番基本的な書き方ですが、もう少しブラッシュアップしていきましょう。"
   ]
  },
  {
   "cell_type": "markdown",
   "metadata": {
    "colab_type": "text",
    "id": "KdUFRCeolQfD"
   },
   "source": [
    "活性化関数ですが、Activationレイヤで指定する代わりに、Denseレイヤの中の`activation`という引数に渡しても同じ結果が得られます。また入力変数の数は一番最初に指定したあとは、model側で吸収してくれるため入力をしなくとも構いません。今回はノードの数を簡単に把握することができるため恩恵は少ないですが、画像処理向けのニューラルネットワークであるCNN(Convolutional Neural Network)などではこの機能が活躍します。"
   ]
  },
  {
   "cell_type": "code",
   "execution_count": 23,
   "metadata": {
    "colab": {},
    "colab_type": "code",
    "id": "b_ekAcQC0M1v"
   },
   "outputs": [],
   "source": [
    "# シードの固定\n",
    "reset_seed(0)\n",
    "\n",
    "# モデルのインスタンス化\n",
    "model = models.Sequential()\n",
    "\n",
    "# モデルの構築\n",
    "model.add(layers.Dense(5, activation='relu', input_shape=(10,)))\n",
    "model.add(layers.Dense(3, activation='softmax'))"
   ]
  },
  {
   "cell_type": "markdown",
   "metadata": {
    "colab_type": "text",
    "id": "yhdFln676MBC"
   },
   "source": [
    "### モデルのコンパイル\n",
    "最後にモデルのコンパイル（compile）でいくつか設定を追加します。この作業によって損失関数、オプティマイザ、メトリクスがモデルと結びつき適切な学習が実行できるようになります。\n",
    "* 損失関数( loss function ):平均二乗誤差やクロスエントロピーなど、予測値 y と教師データtの差を算出する関数\n",
    "* オプティマイザ( optimizer )：損失関数を元に重みを更新する方法の設定\n",
    "* メトリクス（ metrics ）: 訓練の進め方などを操作するための指標"
   ]
  },
  {
   "cell_type": "code",
   "execution_count": 24,
   "metadata": {
    "colab": {},
    "colab_type": "code",
    "id": "i1Tm22TP52Km"
   },
   "outputs": [],
   "source": [
    "model.compile(optimizer='SGD',\n",
    "               loss='sparse_categorical_crossentropy',\n",
    "               metrics=['accuracy'])"
   ]
  },
  {
   "cell_type": "markdown",
   "metadata": {
    "colab_type": "text",
    "id": "e_P_KfiClQfF"
   },
   "source": [
    "### 学習の実行\n",
    "最後に`model.fit()`で学習を実行します。`verbose`で学習の詳細表示設定を行います。今回は`1`を指定しているため、1エポックごとにプログレスバーで学習結果の表示が行われます。"
   ]
  },
  {
   "cell_type": "code",
   "execution_count": 25,
   "metadata": {
    "colab": {
     "base_uri": "https://localhost:8080/",
     "height": 1000
    },
    "colab_type": "code",
    "executionInfo": {
     "elapsed": 4927,
     "status": "ok",
     "timestamp": 1568378749592,
     "user": {
      "displayName": "佐川史弥",
      "photoUrl": "",
      "userId": "17735252083618003950"
     },
     "user_tz": -540
    },
    "id": "hvq-KvdSlQfF",
    "outputId": "94ff3963-f445-4653-824f-000d6d0a93e3",
    "scrolled": true
   },
   "outputs": [
    {
     "name": "stdout",
     "output_type": "stream",
     "text": [
      "Train on 124 samples, validate on 54 samples\n",
      "Epoch 1/50\n",
      "124/124 [==============================] - 1s 6ms/sample - loss: 45.9732 - accuracy: 0.3065 - val_loss: 1.0984 - val_accuracy: 0.3519\n",
      "Epoch 2/50\n",
      "124/124 [==============================] - 0s 343us/sample - loss: 1.0984 - accuracy: 0.3790 - val_loss: 1.0972 - val_accuracy: 0.4074\n",
      "Epoch 3/50\n",
      "124/124 [==============================] - 0s 356us/sample - loss: 1.0976 - accuracy: 0.3952 - val_loss: 1.0959 - val_accuracy: 0.4074\n",
      "Epoch 4/50\n",
      "124/124 [==============================] - 0s 363us/sample - loss: 1.0968 - accuracy: 0.3952 - val_loss: 1.0948 - val_accuracy: 0.4074\n",
      "Epoch 5/50\n",
      "124/124 [==============================] - 0s 347us/sample - loss: 1.0962 - accuracy: 0.3952 - val_loss: 1.0940 - val_accuracy: 0.4074\n",
      "Epoch 6/50\n",
      "124/124 [==============================] - 0s 338us/sample - loss: 1.0955 - accuracy: 0.3952 - val_loss: 1.0933 - val_accuracy: 0.4074\n",
      "Epoch 7/50\n",
      "124/124 [==============================] - 0s 326us/sample - loss: 1.0950 - accuracy: 0.3952 - val_loss: 1.0924 - val_accuracy: 0.4074\n",
      "Epoch 8/50\n",
      "124/124 [==============================] - 0s 327us/sample - loss: 1.0946 - accuracy: 0.3952 - val_loss: 1.0918 - val_accuracy: 0.4074\n",
      "Epoch 9/50\n",
      "124/124 [==============================] - 0s 328us/sample - loss: 1.0942 - accuracy: 0.3952 - val_loss: 1.0912 - val_accuracy: 0.4074\n",
      "Epoch 10/50\n",
      "124/124 [==============================] - 0s 327us/sample - loss: 1.0937 - accuracy: 0.3952 - val_loss: 1.0906 - val_accuracy: 0.4074\n",
      "Epoch 11/50\n",
      "124/124 [==============================] - 0s 336us/sample - loss: 1.0933 - accuracy: 0.3952 - val_loss: 1.0901 - val_accuracy: 0.4074\n",
      "Epoch 12/50\n",
      "124/124 [==============================] - 0s 341us/sample - loss: 1.0931 - accuracy: 0.3952 - val_loss: 1.0895 - val_accuracy: 0.4074\n",
      "Epoch 13/50\n",
      "124/124 [==============================] - 0s 348us/sample - loss: 1.0928 - accuracy: 0.3952 - val_loss: 1.0890 - val_accuracy: 0.4074\n",
      "Epoch 14/50\n",
      "124/124 [==============================] - 0s 338us/sample - loss: 1.0923 - accuracy: 0.3952 - val_loss: 1.0884 - val_accuracy: 0.4074\n",
      "Epoch 15/50\n",
      "124/124 [==============================] - 0s 422us/sample - loss: 1.0920 - accuracy: 0.3952 - val_loss: 1.0878 - val_accuracy: 0.4074\n",
      "Epoch 16/50\n",
      "124/124 [==============================] - 0s 343us/sample - loss: 1.0917 - accuracy: 0.3952 - val_loss: 1.0872 - val_accuracy: 0.4074\n",
      "Epoch 17/50\n",
      "124/124 [==============================] - 0s 344us/sample - loss: 1.0915 - accuracy: 0.3952 - val_loss: 1.0866 - val_accuracy: 0.4074\n",
      "Epoch 18/50\n",
      "124/124 [==============================] - 0s 338us/sample - loss: 1.0913 - accuracy: 0.3952 - val_loss: 1.0862 - val_accuracy: 0.4074\n",
      "Epoch 19/50\n",
      "124/124 [==============================] - 0s 329us/sample - loss: 1.0910 - accuracy: 0.3952 - val_loss: 1.0858 - val_accuracy: 0.4074\n",
      "Epoch 20/50\n",
      "124/124 [==============================] - 0s 357us/sample - loss: 1.0907 - accuracy: 0.3952 - val_loss: 1.0854 - val_accuracy: 0.4074\n",
      "Epoch 21/50\n",
      "124/124 [==============================] - 0s 342us/sample - loss: 1.0905 - accuracy: 0.3952 - val_loss: 1.0853 - val_accuracy: 0.4074\n",
      "Epoch 22/50\n",
      "124/124 [==============================] - 0s 320us/sample - loss: 1.0906 - accuracy: 0.3952 - val_loss: 1.0850 - val_accuracy: 0.4074\n",
      "Epoch 23/50\n",
      "124/124 [==============================] - 0s 337us/sample - loss: 1.0904 - accuracy: 0.3952 - val_loss: 1.0849 - val_accuracy: 0.4074\n",
      "Epoch 24/50\n",
      "124/124 [==============================] - 0s 334us/sample - loss: 1.0902 - accuracy: 0.3952 - val_loss: 1.0847 - val_accuracy: 0.4074\n",
      "Epoch 25/50\n",
      "124/124 [==============================] - 0s 345us/sample - loss: 1.0901 - accuracy: 0.3952 - val_loss: 1.0843 - val_accuracy: 0.4074\n",
      "Epoch 26/50\n",
      "124/124 [==============================] - 0s 365us/sample - loss: 1.0901 - accuracy: 0.3952 - val_loss: 1.0841 - val_accuracy: 0.4074\n",
      "Epoch 27/50\n",
      "124/124 [==============================] - 0s 353us/sample - loss: 1.0900 - accuracy: 0.3952 - val_loss: 1.0838 - val_accuracy: 0.4074\n",
      "Epoch 28/50\n",
      "124/124 [==============================] - 0s 328us/sample - loss: 1.0898 - accuracy: 0.3952 - val_loss: 1.0835 - val_accuracy: 0.4074\n",
      "Epoch 29/50\n",
      "124/124 [==============================] - 0s 334us/sample - loss: 1.0899 - accuracy: 0.3952 - val_loss: 1.0835 - val_accuracy: 0.4074\n",
      "Epoch 30/50\n",
      "124/124 [==============================] - 0s 327us/sample - loss: 1.0898 - accuracy: 0.3952 - val_loss: 1.0832 - val_accuracy: 0.4074\n",
      "Epoch 31/50\n",
      "124/124 [==============================] - 0s 340us/sample - loss: 1.0897 - accuracy: 0.3952 - val_loss: 1.0832 - val_accuracy: 0.4074\n",
      "Epoch 32/50\n",
      "124/124 [==============================] - 0s 334us/sample - loss: 1.0897 - accuracy: 0.3952 - val_loss: 1.0831 - val_accuracy: 0.4074\n",
      "Epoch 33/50\n",
      "124/124 [==============================] - 0s 335us/sample - loss: 1.0899 - accuracy: 0.3952 - val_loss: 1.0829 - val_accuracy: 0.4074\n",
      "Epoch 34/50\n",
      "124/124 [==============================] - 0s 350us/sample - loss: 1.0896 - accuracy: 0.3952 - val_loss: 1.0831 - val_accuracy: 0.4074\n",
      "Epoch 35/50\n",
      "124/124 [==============================] - 0s 336us/sample - loss: 1.0897 - accuracy: 0.3952 - val_loss: 1.0832 - val_accuracy: 0.4074\n",
      "Epoch 36/50\n",
      "124/124 [==============================] - 0s 337us/sample - loss: 1.0896 - accuracy: 0.3952 - val_loss: 1.0832 - val_accuracy: 0.4074\n",
      "Epoch 37/50\n",
      "124/124 [==============================] - 0s 359us/sample - loss: 1.0895 - accuracy: 0.3952 - val_loss: 1.0830 - val_accuracy: 0.4074\n",
      "Epoch 38/50\n",
      "124/124 [==============================] - 0s 387us/sample - loss: 1.0894 - accuracy: 0.3952 - val_loss: 1.0830 - val_accuracy: 0.4074\n",
      "Epoch 39/50\n",
      "124/124 [==============================] - 0s 473us/sample - loss: 1.0893 - accuracy: 0.3952 - val_loss: 1.0830 - val_accuracy: 0.4074\n",
      "Epoch 40/50\n",
      "124/124 [==============================] - 0s 347us/sample - loss: 1.0896 - accuracy: 0.3952 - val_loss: 1.0830 - val_accuracy: 0.4074\n",
      "Epoch 41/50\n",
      "124/124 [==============================] - 0s 361us/sample - loss: 1.0894 - accuracy: 0.3952 - val_loss: 1.0829 - val_accuracy: 0.4074\n",
      "Epoch 42/50\n",
      "124/124 [==============================] - 0s 338us/sample - loss: 1.0894 - accuracy: 0.3952 - val_loss: 1.0826 - val_accuracy: 0.4074\n",
      "Epoch 43/50\n",
      "124/124 [==============================] - 0s 369us/sample - loss: 1.0895 - accuracy: 0.3952 - val_loss: 1.0826 - val_accuracy: 0.4074\n",
      "Epoch 44/50\n",
      "124/124 [==============================] - 0s 335us/sample - loss: 1.0894 - accuracy: 0.3952 - val_loss: 1.0826 - val_accuracy: 0.4074\n",
      "Epoch 45/50\n",
      "124/124 [==============================] - 0s 331us/sample - loss: 1.0895 - accuracy: 0.3952 - val_loss: 1.0825 - val_accuracy: 0.4074\n",
      "Epoch 46/50\n",
      "124/124 [==============================] - 0s 328us/sample - loss: 1.0893 - accuracy: 0.3952 - val_loss: 1.0825 - val_accuracy: 0.4074\n",
      "Epoch 47/50\n",
      "124/124 [==============================] - 0s 357us/sample - loss: 1.0893 - accuracy: 0.3952 - val_loss: 1.0824 - val_accuracy: 0.4074\n",
      "Epoch 48/50\n",
      "124/124 [==============================] - 0s 358us/sample - loss: 1.0894 - accuracy: 0.3952 - val_loss: 1.0823 - val_accuracy: 0.4074\n",
      "Epoch 49/50\n",
      "124/124 [==============================] - 0s 354us/sample - loss: 1.0893 - accuracy: 0.3952 - val_loss: 1.0823 - val_accuracy: 0.4074\n",
      "Epoch 50/50\n",
      "124/124 [==============================] - 0s 332us/sample - loss: 1.0893 - accuracy: 0.3952 - val_loss: 1.0822 - val_accuracy: 0.4074\n"
     ]
    }
   ],
   "source": [
    "# モデルの学習\n",
    "history = model.fit(train_x, train_t,\n",
    "          batch_size=10,\n",
    "          epochs=50,\n",
    "          verbose=1,\n",
    "          validation_data=(val_x, val_t))"
   ]
  },
  {
   "cell_type": "markdown",
   "metadata": {
    "colab_type": "text",
    "id": "NWq_SNe9lQfG"
   },
   "source": [
    "loss がまったく下がっておらず学習がうまく進んでいません。"
   ]
  },
  {
   "cell_type": "markdown",
   "metadata": {
    "colab_type": "text",
    "id": "wbQdlDSflQfH"
   },
   "source": [
    "### 結果の確認\n",
    "`pandas`と`matplotlib`を使ってグラフの可視化を行いましょう。\n",
    "では、一度今回のモデルでの学習結果を確認しておきましょう。学習の経過は`history.history`に辞書型で保存されています。"
   ]
  },
  {
   "cell_type": "code",
   "execution_count": 26,
   "metadata": {
    "colab": {
     "base_uri": "https://localhost:8080/",
     "height": 34
    },
    "colab_type": "code",
    "executionInfo": {
     "elapsed": 1060,
     "status": "ok",
     "timestamp": 1568378752752,
     "user": {
      "displayName": "佐川史弥",
      "photoUrl": "",
      "userId": "17735252083618003950"
     },
     "user_tz": -540
    },
    "id": "x-8gAq17lQfH",
    "outputId": "ff83a453-f179-46e1-fd79-20aa3df912ac"
   },
   "outputs": [
    {
     "data": {
      "text/plain": [
       "dict"
      ]
     },
     "execution_count": 26,
     "metadata": {},
     "output_type": "execute_result"
    }
   ],
   "source": [
    "type(history.history)"
   ]
  },
  {
   "cell_type": "code",
   "execution_count": 27,
   "metadata": {
    "colab": {},
    "colab_type": "code",
    "id": "ivQ-cMTplQfI"
   },
   "outputs": [],
   "source": [
    "# 学習結果をPandasのDataFrame型で読み込みます。\n",
    "results = pd.DataFrame(history.history)"
   ]
  },
  {
   "cell_type": "code",
   "execution_count": 28,
   "metadata": {
    "colab": {
     "base_uri": "https://localhost:8080/",
     "height": 1000
    },
    "colab_type": "code",
    "executionInfo": {
     "elapsed": 873,
     "status": "ok",
     "timestamp": 1568378755119,
     "user": {
      "displayName": "佐川史弥",
      "photoUrl": "",
      "userId": "17735252083618003950"
     },
     "user_tz": -540
    },
    "id": "F57gLB4alQfK",
    "outputId": "bb1fc129-ff8f-45ec-d36f-01e18bf70831",
    "scrolled": true
   },
   "outputs": [
    {
     "data": {
      "text/html": [
       "<div>\n",
       "<style scoped>\n",
       "    .dataframe tbody tr th:only-of-type {\n",
       "        vertical-align: middle;\n",
       "    }\n",
       "\n",
       "    .dataframe tbody tr th {\n",
       "        vertical-align: top;\n",
       "    }\n",
       "\n",
       "    .dataframe thead th {\n",
       "        text-align: right;\n",
       "    }\n",
       "</style>\n",
       "<table border=\"1\" class=\"dataframe\">\n",
       "  <thead>\n",
       "    <tr style=\"text-align: right;\">\n",
       "      <th></th>\n",
       "      <th>loss</th>\n",
       "      <th>accuracy</th>\n",
       "      <th>val_loss</th>\n",
       "      <th>val_accuracy</th>\n",
       "    </tr>\n",
       "  </thead>\n",
       "  <tbody>\n",
       "    <tr>\n",
       "      <th>0</th>\n",
       "      <td>45.973190</td>\n",
       "      <td>0.306452</td>\n",
       "      <td>1.098359</td>\n",
       "      <td>0.351852</td>\n",
       "    </tr>\n",
       "    <tr>\n",
       "      <th>1</th>\n",
       "      <td>1.098381</td>\n",
       "      <td>0.379032</td>\n",
       "      <td>1.097174</td>\n",
       "      <td>0.407407</td>\n",
       "    </tr>\n",
       "    <tr>\n",
       "      <th>2</th>\n",
       "      <td>1.097566</td>\n",
       "      <td>0.395161</td>\n",
       "      <td>1.095909</td>\n",
       "      <td>0.407407</td>\n",
       "    </tr>\n",
       "    <tr>\n",
       "      <th>3</th>\n",
       "      <td>1.096760</td>\n",
       "      <td>0.395161</td>\n",
       "      <td>1.094845</td>\n",
       "      <td>0.407407</td>\n",
       "    </tr>\n",
       "    <tr>\n",
       "      <th>4</th>\n",
       "      <td>1.096191</td>\n",
       "      <td>0.395161</td>\n",
       "      <td>1.093989</td>\n",
       "      <td>0.407407</td>\n",
       "    </tr>\n",
       "    <tr>\n",
       "      <th>5</th>\n",
       "      <td>1.095486</td>\n",
       "      <td>0.395161</td>\n",
       "      <td>1.093260</td>\n",
       "      <td>0.407407</td>\n",
       "    </tr>\n",
       "    <tr>\n",
       "      <th>6</th>\n",
       "      <td>1.095025</td>\n",
       "      <td>0.395161</td>\n",
       "      <td>1.092378</td>\n",
       "      <td>0.407407</td>\n",
       "    </tr>\n",
       "    <tr>\n",
       "      <th>7</th>\n",
       "      <td>1.094615</td>\n",
       "      <td>0.395161</td>\n",
       "      <td>1.091834</td>\n",
       "      <td>0.407407</td>\n",
       "    </tr>\n",
       "    <tr>\n",
       "      <th>8</th>\n",
       "      <td>1.094192</td>\n",
       "      <td>0.395161</td>\n",
       "      <td>1.091170</td>\n",
       "      <td>0.407407</td>\n",
       "    </tr>\n",
       "    <tr>\n",
       "      <th>9</th>\n",
       "      <td>1.093663</td>\n",
       "      <td>0.395161</td>\n",
       "      <td>1.090551</td>\n",
       "      <td>0.407407</td>\n",
       "    </tr>\n",
       "    <tr>\n",
       "      <th>10</th>\n",
       "      <td>1.093324</td>\n",
       "      <td>0.395161</td>\n",
       "      <td>1.090124</td>\n",
       "      <td>0.407407</td>\n",
       "    </tr>\n",
       "    <tr>\n",
       "      <th>11</th>\n",
       "      <td>1.093086</td>\n",
       "      <td>0.395161</td>\n",
       "      <td>1.089545</td>\n",
       "      <td>0.407407</td>\n",
       "    </tr>\n",
       "    <tr>\n",
       "      <th>12</th>\n",
       "      <td>1.092808</td>\n",
       "      <td>0.395161</td>\n",
       "      <td>1.089008</td>\n",
       "      <td>0.407407</td>\n",
       "    </tr>\n",
       "    <tr>\n",
       "      <th>13</th>\n",
       "      <td>1.092345</td>\n",
       "      <td>0.395161</td>\n",
       "      <td>1.088359</td>\n",
       "      <td>0.407407</td>\n",
       "    </tr>\n",
       "    <tr>\n",
       "      <th>14</th>\n",
       "      <td>1.091962</td>\n",
       "      <td>0.395161</td>\n",
       "      <td>1.087750</td>\n",
       "      <td>0.407407</td>\n",
       "    </tr>\n",
       "    <tr>\n",
       "      <th>15</th>\n",
       "      <td>1.091707</td>\n",
       "      <td>0.395161</td>\n",
       "      <td>1.087185</td>\n",
       "      <td>0.407407</td>\n",
       "    </tr>\n",
       "    <tr>\n",
       "      <th>16</th>\n",
       "      <td>1.091484</td>\n",
       "      <td>0.395161</td>\n",
       "      <td>1.086635</td>\n",
       "      <td>0.407407</td>\n",
       "    </tr>\n",
       "    <tr>\n",
       "      <th>17</th>\n",
       "      <td>1.091290</td>\n",
       "      <td>0.395161</td>\n",
       "      <td>1.086151</td>\n",
       "      <td>0.407407</td>\n",
       "    </tr>\n",
       "    <tr>\n",
       "      <th>18</th>\n",
       "      <td>1.091015</td>\n",
       "      <td>0.395161</td>\n",
       "      <td>1.085829</td>\n",
       "      <td>0.407407</td>\n",
       "    </tr>\n",
       "    <tr>\n",
       "      <th>19</th>\n",
       "      <td>1.090696</td>\n",
       "      <td>0.395161</td>\n",
       "      <td>1.085379</td>\n",
       "      <td>0.407407</td>\n",
       "    </tr>\n",
       "    <tr>\n",
       "      <th>20</th>\n",
       "      <td>1.090451</td>\n",
       "      <td>0.395161</td>\n",
       "      <td>1.085257</td>\n",
       "      <td>0.407407</td>\n",
       "    </tr>\n",
       "    <tr>\n",
       "      <th>21</th>\n",
       "      <td>1.090564</td>\n",
       "      <td>0.395161</td>\n",
       "      <td>1.085000</td>\n",
       "      <td>0.407407</td>\n",
       "    </tr>\n",
       "    <tr>\n",
       "      <th>22</th>\n",
       "      <td>1.090357</td>\n",
       "      <td>0.395161</td>\n",
       "      <td>1.084899</td>\n",
       "      <td>0.407407</td>\n",
       "    </tr>\n",
       "    <tr>\n",
       "      <th>23</th>\n",
       "      <td>1.090216</td>\n",
       "      <td>0.395161</td>\n",
       "      <td>1.084665</td>\n",
       "      <td>0.407407</td>\n",
       "    </tr>\n",
       "    <tr>\n",
       "      <th>24</th>\n",
       "      <td>1.090098</td>\n",
       "      <td>0.395161</td>\n",
       "      <td>1.084321</td>\n",
       "      <td>0.407407</td>\n",
       "    </tr>\n",
       "    <tr>\n",
       "      <th>25</th>\n",
       "      <td>1.090082</td>\n",
       "      <td>0.395161</td>\n",
       "      <td>1.084122</td>\n",
       "      <td>0.407407</td>\n",
       "    </tr>\n",
       "    <tr>\n",
       "      <th>26</th>\n",
       "      <td>1.090032</td>\n",
       "      <td>0.395161</td>\n",
       "      <td>1.083800</td>\n",
       "      <td>0.407407</td>\n",
       "    </tr>\n",
       "    <tr>\n",
       "      <th>27</th>\n",
       "      <td>1.089821</td>\n",
       "      <td>0.395161</td>\n",
       "      <td>1.083518</td>\n",
       "      <td>0.407407</td>\n",
       "    </tr>\n",
       "    <tr>\n",
       "      <th>28</th>\n",
       "      <td>1.089934</td>\n",
       "      <td>0.395161</td>\n",
       "      <td>1.083491</td>\n",
       "      <td>0.407407</td>\n",
       "    </tr>\n",
       "    <tr>\n",
       "      <th>29</th>\n",
       "      <td>1.089820</td>\n",
       "      <td>0.395161</td>\n",
       "      <td>1.083221</td>\n",
       "      <td>0.407407</td>\n",
       "    </tr>\n",
       "    <tr>\n",
       "      <th>30</th>\n",
       "      <td>1.089734</td>\n",
       "      <td>0.395161</td>\n",
       "      <td>1.083204</td>\n",
       "      <td>0.407407</td>\n",
       "    </tr>\n",
       "    <tr>\n",
       "      <th>31</th>\n",
       "      <td>1.089732</td>\n",
       "      <td>0.395161</td>\n",
       "      <td>1.083076</td>\n",
       "      <td>0.407407</td>\n",
       "    </tr>\n",
       "    <tr>\n",
       "      <th>32</th>\n",
       "      <td>1.089854</td>\n",
       "      <td>0.395161</td>\n",
       "      <td>1.082946</td>\n",
       "      <td>0.407407</td>\n",
       "    </tr>\n",
       "    <tr>\n",
       "      <th>33</th>\n",
       "      <td>1.089586</td>\n",
       "      <td>0.395161</td>\n",
       "      <td>1.083066</td>\n",
       "      <td>0.407407</td>\n",
       "    </tr>\n",
       "    <tr>\n",
       "      <th>34</th>\n",
       "      <td>1.089667</td>\n",
       "      <td>0.395161</td>\n",
       "      <td>1.083185</td>\n",
       "      <td>0.407407</td>\n",
       "    </tr>\n",
       "    <tr>\n",
       "      <th>35</th>\n",
       "      <td>1.089634</td>\n",
       "      <td>0.395161</td>\n",
       "      <td>1.083187</td>\n",
       "      <td>0.407407</td>\n",
       "    </tr>\n",
       "    <tr>\n",
       "      <th>36</th>\n",
       "      <td>1.089535</td>\n",
       "      <td>0.395161</td>\n",
       "      <td>1.082953</td>\n",
       "      <td>0.407407</td>\n",
       "    </tr>\n",
       "    <tr>\n",
       "      <th>37</th>\n",
       "      <td>1.089428</td>\n",
       "      <td>0.395161</td>\n",
       "      <td>1.082972</td>\n",
       "      <td>0.407407</td>\n",
       "    </tr>\n",
       "    <tr>\n",
       "      <th>38</th>\n",
       "      <td>1.089309</td>\n",
       "      <td>0.395161</td>\n",
       "      <td>1.082974</td>\n",
       "      <td>0.407407</td>\n",
       "    </tr>\n",
       "    <tr>\n",
       "      <th>39</th>\n",
       "      <td>1.089572</td>\n",
       "      <td>0.395161</td>\n",
       "      <td>1.082978</td>\n",
       "      <td>0.407407</td>\n",
       "    </tr>\n",
       "    <tr>\n",
       "      <th>40</th>\n",
       "      <td>1.089429</td>\n",
       "      <td>0.395161</td>\n",
       "      <td>1.082871</td>\n",
       "      <td>0.407407</td>\n",
       "    </tr>\n",
       "    <tr>\n",
       "      <th>41</th>\n",
       "      <td>1.089375</td>\n",
       "      <td>0.395161</td>\n",
       "      <td>1.082647</td>\n",
       "      <td>0.407407</td>\n",
       "    </tr>\n",
       "    <tr>\n",
       "      <th>42</th>\n",
       "      <td>1.089509</td>\n",
       "      <td>0.395161</td>\n",
       "      <td>1.082561</td>\n",
       "      <td>0.407407</td>\n",
       "    </tr>\n",
       "    <tr>\n",
       "      <th>43</th>\n",
       "      <td>1.089351</td>\n",
       "      <td>0.395161</td>\n",
       "      <td>1.082582</td>\n",
       "      <td>0.407407</td>\n",
       "    </tr>\n",
       "    <tr>\n",
       "      <th>44</th>\n",
       "      <td>1.089503</td>\n",
       "      <td>0.395161</td>\n",
       "      <td>1.082492</td>\n",
       "      <td>0.407407</td>\n",
       "    </tr>\n",
       "    <tr>\n",
       "      <th>45</th>\n",
       "      <td>1.089276</td>\n",
       "      <td>0.395161</td>\n",
       "      <td>1.082520</td>\n",
       "      <td>0.407407</td>\n",
       "    </tr>\n",
       "    <tr>\n",
       "      <th>46</th>\n",
       "      <td>1.089341</td>\n",
       "      <td>0.395161</td>\n",
       "      <td>1.082405</td>\n",
       "      <td>0.407407</td>\n",
       "    </tr>\n",
       "    <tr>\n",
       "      <th>47</th>\n",
       "      <td>1.089366</td>\n",
       "      <td>0.395161</td>\n",
       "      <td>1.082337</td>\n",
       "      <td>0.407407</td>\n",
       "    </tr>\n",
       "    <tr>\n",
       "      <th>48</th>\n",
       "      <td>1.089296</td>\n",
       "      <td>0.395161</td>\n",
       "      <td>1.082284</td>\n",
       "      <td>0.407407</td>\n",
       "    </tr>\n",
       "    <tr>\n",
       "      <th>49</th>\n",
       "      <td>1.089265</td>\n",
       "      <td>0.395161</td>\n",
       "      <td>1.082237</td>\n",
       "      <td>0.407407</td>\n",
       "    </tr>\n",
       "  </tbody>\n",
       "</table>\n",
       "</div>"
      ],
      "text/plain": [
       "         loss  accuracy  val_loss  val_accuracy\n",
       "0   45.973190  0.306452  1.098359      0.351852\n",
       "1    1.098381  0.379032  1.097174      0.407407\n",
       "2    1.097566  0.395161  1.095909      0.407407\n",
       "3    1.096760  0.395161  1.094845      0.407407\n",
       "4    1.096191  0.395161  1.093989      0.407407\n",
       "5    1.095486  0.395161  1.093260      0.407407\n",
       "6    1.095025  0.395161  1.092378      0.407407\n",
       "7    1.094615  0.395161  1.091834      0.407407\n",
       "8    1.094192  0.395161  1.091170      0.407407\n",
       "9    1.093663  0.395161  1.090551      0.407407\n",
       "10   1.093324  0.395161  1.090124      0.407407\n",
       "11   1.093086  0.395161  1.089545      0.407407\n",
       "12   1.092808  0.395161  1.089008      0.407407\n",
       "13   1.092345  0.395161  1.088359      0.407407\n",
       "14   1.091962  0.395161  1.087750      0.407407\n",
       "15   1.091707  0.395161  1.087185      0.407407\n",
       "16   1.091484  0.395161  1.086635      0.407407\n",
       "17   1.091290  0.395161  1.086151      0.407407\n",
       "18   1.091015  0.395161  1.085829      0.407407\n",
       "19   1.090696  0.395161  1.085379      0.407407\n",
       "20   1.090451  0.395161  1.085257      0.407407\n",
       "21   1.090564  0.395161  1.085000      0.407407\n",
       "22   1.090357  0.395161  1.084899      0.407407\n",
       "23   1.090216  0.395161  1.084665      0.407407\n",
       "24   1.090098  0.395161  1.084321      0.407407\n",
       "25   1.090082  0.395161  1.084122      0.407407\n",
       "26   1.090032  0.395161  1.083800      0.407407\n",
       "27   1.089821  0.395161  1.083518      0.407407\n",
       "28   1.089934  0.395161  1.083491      0.407407\n",
       "29   1.089820  0.395161  1.083221      0.407407\n",
       "30   1.089734  0.395161  1.083204      0.407407\n",
       "31   1.089732  0.395161  1.083076      0.407407\n",
       "32   1.089854  0.395161  1.082946      0.407407\n",
       "33   1.089586  0.395161  1.083066      0.407407\n",
       "34   1.089667  0.395161  1.083185      0.407407\n",
       "35   1.089634  0.395161  1.083187      0.407407\n",
       "36   1.089535  0.395161  1.082953      0.407407\n",
       "37   1.089428  0.395161  1.082972      0.407407\n",
       "38   1.089309  0.395161  1.082974      0.407407\n",
       "39   1.089572  0.395161  1.082978      0.407407\n",
       "40   1.089429  0.395161  1.082871      0.407407\n",
       "41   1.089375  0.395161  1.082647      0.407407\n",
       "42   1.089509  0.395161  1.082561      0.407407\n",
       "43   1.089351  0.395161  1.082582      0.407407\n",
       "44   1.089503  0.395161  1.082492      0.407407\n",
       "45   1.089276  0.395161  1.082520      0.407407\n",
       "46   1.089341  0.395161  1.082405      0.407407\n",
       "47   1.089366  0.395161  1.082337      0.407407\n",
       "48   1.089296  0.395161  1.082284      0.407407\n",
       "49   1.089265  0.395161  1.082237      0.407407"
      ]
     },
     "execution_count": 28,
     "metadata": {},
     "output_type": "execute_result"
    }
   ],
   "source": [
    "# 結果の確認\n",
    "results"
   ]
  },
  {
   "cell_type": "markdown",
   "metadata": {
    "colab_type": "text",
    "id": "eVygt7sYlQfL"
   },
   "source": [
    "Pandas の機能を使って、数値だけでなく可視化も行いましょう。 Pandas のデータフレーム型に用意されている`.plot()`では、Maptlotlib をベースにしており、グラフの表示ができます。またブラウザ外に画像が表示されるケースがあるため、インラインモード（Jupyter Notebook上で表示）に設定しておきましょう。"
   ]
  },
  {
   "cell_type": "code",
   "execution_count": 29,
   "metadata": {
    "colab": {
     "base_uri": "https://localhost:8080/",
     "height": 286
    },
    "colab_type": "code",
    "executionInfo": {
     "elapsed": 895,
     "status": "ok",
     "timestamp": 1568378757248,
     "user": {
      "displayName": "佐川史弥",
      "photoUrl": "",
      "userId": "17735252083618003950"
     },
     "user_tz": -540
    },
    "id": "vbE7JBrYlQfM",
    "outputId": "22ec3c59-0eb6-4ab3-8090-26f139b01dd3",
    "scrolled": true
   },
   "outputs": [
    {
     "data": {
      "text/plain": [
       "<matplotlib.axes._subplots.AxesSubplot at 0x7f9368031fd0>"
      ]
     },
     "execution_count": 29,
     "metadata": {},
     "output_type": "execute_result"
    },
    {
     "data": {
      "image/png": "[encoded data removed]",
      "text/plain": [
       "<Figure size 432x288 with 1 Axes>"
      ]
     },
     "metadata": {
      "needs_background": "light"
     },
     "output_type": "display_data"
    }
   ],
   "source": [
    "# accuracy（精度）を表示\n",
    "results[['accuracy', 'val_accuracy']].plot()"
   ]
  },
  {
   "cell_type": "code",
   "execution_count": 30,
   "metadata": {
    "colab": {
     "base_uri": "https://localhost:8080/",
     "height": 286
    },
    "colab_type": "code",
    "executionInfo": {
     "elapsed": 1965,
     "status": "ok",
     "timestamp": 1568378759007,
     "user": {
      "displayName": "佐川史弥",
      "photoUrl": "",
      "userId": "17735252083618003950"
     },
     "user_tz": -540
    },
    "id": "if3s0HeilQfP",
    "outputId": "a34b7b6a-b586-401b-a901-c80801769d55"
   },
   "outputs": [
    {
     "data": {
      "text/plain": [
       "<matplotlib.axes._subplots.AxesSubplot at 0x7f9360139198>"
      ]
     },
     "execution_count": 30,
     "metadata": {},
     "output_type": "execute_result"
    },
    {
     "data": {
      "image/png": "[encoded data removed]",
      "text/plain": [
       "<Figure size 432x288 with 1 Axes>"
      ]
     },
     "metadata": {
      "needs_background": "light"
     },
     "output_type": "display_data"
    }
   ],
   "source": [
    "# loss（損失関数）を表示\n",
    "results[['loss', 'val_loss']].plot()"
   ]
  },
  {
   "cell_type": "markdown",
   "metadata": {
    "colab_type": "text",
    "id": "WTbkJk_LlQfQ"
   },
   "source": [
    "こちらのデータを見ると、**訓練データよりも検証データが高い精度を記録している**ことがわかります。  \n",
    "これは通常ありえないことであるため、残念ながら今回出来上がったモデルはあまり良いモデルではないと言えそうです。"
   ]
  },
  {
   "cell_type": "markdown",
   "metadata": {
    "colab_type": "text",
    "id": "wa5wuWB_lQfR"
   },
   "source": [
    "### 実践のヒント\n",
    "\n",
    "今回は一通りの流れを説明しましたが、まだ高い精度を得ることは出来ていません。\n",
    "ここからは試行錯誤の段階になるのですが、まずいちばん手っ取り早く精度を上げることが出来る方法として、**BatchNormalization** が挙げられます。\n",
    "\n",
    "実装としては、各バッチ毎に、平均と標準偏差を定めて正規化を行うといった非常に簡単な手法なのですが、これを使用することによって、各変数間のスケールによる差を吸収できます。\n",
    "\n",
    "それでは、BatchNormazliation がある場合で試してみましょう。\n",
    "\n",
    "宣言していたニューラルネットワークのモデルを以下のように変更して、もう一度学習を行います。"
   ]
  },
  {
   "cell_type": "code",
   "execution_count": 31,
   "metadata": {
    "colab": {
     "base_uri": "https://localhost:8080/",
     "height": 1000
    },
    "colab_type": "code",
    "executionInfo": {
     "elapsed": 5607,
     "status": "ok",
     "timestamp": 1568378948522,
     "user": {
      "displayName": "佐川史弥",
      "photoUrl": "",
      "userId": "17735252083618003950"
     },
     "user_tz": -540
    },
    "id": "R9Aq4mNllQfR",
    "outputId": "42354b45-f3a8-41b4-ea44-85905c9b230b"
   },
   "outputs": [
    {
     "name": "stdout",
     "output_type": "stream",
     "text": [
      "Train on 124 samples, validate on 54 samples\n",
      "Epoch 1/50\n",
      "124/124 [==============================] - 1s 5ms/sample - loss: 1.1446 - accuracy: 0.3468 - val_loss: 1.1996 - val_accuracy: 0.3519\n",
      "Epoch 2/50\n",
      "124/124 [==============================] - 0s 397us/sample - loss: 1.1326 - accuracy: 0.3871 - val_loss: 1.1995 - val_accuracy: 0.3519\n",
      "Epoch 3/50\n",
      "124/124 [==============================] - 0s 362us/sample - loss: 1.1257 - accuracy: 0.4032 - val_loss: 1.1985 - val_accuracy: 0.3519\n",
      "Epoch 4/50\n",
      "124/124 [==============================] - 0s 371us/sample - loss: 1.1193 - accuracy: 0.3952 - val_loss: 1.1950 - val_accuracy: 0.3519\n",
      "Epoch 5/50\n",
      "124/124 [==============================] - 0s 365us/sample - loss: 1.1171 - accuracy: 0.4194 - val_loss: 1.1869 - val_accuracy: 0.3519\n",
      "Epoch 6/50\n",
      "124/124 [==============================] - 0s 379us/sample - loss: 1.1077 - accuracy: 0.5161 - val_loss: 1.1727 - val_accuracy: 0.3519\n",
      "Epoch 7/50\n",
      "124/124 [==============================] - 0s 360us/sample - loss: 1.1038 - accuracy: 0.5645 - val_loss: 1.1518 - val_accuracy: 0.3519\n",
      "Epoch 8/50\n",
      "124/124 [==============================] - 0s 358us/sample - loss: 1.0906 - accuracy: 0.5968 - val_loss: 1.1257 - val_accuracy: 0.3519\n",
      "Epoch 9/50\n",
      "124/124 [==============================] - 0s 374us/sample - loss: 1.0875 - accuracy: 0.5726 - val_loss: 1.0986 - val_accuracy: 0.3519\n",
      "Epoch 10/50\n",
      "124/124 [==============================] - 0s 367us/sample - loss: 1.0778 - accuracy: 0.6129 - val_loss: 1.0728 - val_accuracy: 0.3519\n",
      "Epoch 11/50\n",
      "124/124 [==============================] - 0s 400us/sample - loss: 1.0797 - accuracy: 0.6452 - val_loss: 1.0499 - val_accuracy: 0.3519\n",
      "Epoch 12/50\n",
      "124/124 [==============================] - 0s 413us/sample - loss: 1.0618 - accuracy: 0.6210 - val_loss: 1.0328 - val_accuracy: 0.3704\n",
      "Epoch 13/50\n",
      "124/124 [==============================] - 0s 364us/sample - loss: 1.0504 - accuracy: 0.6855 - val_loss: 1.0193 - val_accuracy: 0.4074\n",
      "Epoch 14/50\n",
      "124/124 [==============================] - 0s 371us/sample - loss: 1.0374 - accuracy: 0.6613 - val_loss: 1.0069 - val_accuracy: 0.4259\n",
      "Epoch 15/50\n",
      "124/124 [==============================] - 0s 364us/sample - loss: 1.0432 - accuracy: 0.6613 - val_loss: 0.9955 - val_accuracy: 0.4630\n",
      "Epoch 16/50\n",
      "124/124 [==============================] - 0s 397us/sample - loss: 1.0362 - accuracy: 0.6532 - val_loss: 0.9849 - val_accuracy: 0.5000\n",
      "Epoch 17/50\n",
      "124/124 [==============================] - 0s 374us/sample - loss: 1.0306 - accuracy: 0.6855 - val_loss: 0.9749 - val_accuracy: 0.6111\n",
      "Epoch 18/50\n",
      "124/124 [==============================] - 0s 372us/sample - loss: 1.0171 - accuracy: 0.6532 - val_loss: 0.9654 - val_accuracy: 0.7037\n",
      "Epoch 19/50\n",
      "124/124 [==============================] - 0s 366us/sample - loss: 1.0118 - accuracy: 0.7016 - val_loss: 0.9563 - val_accuracy: 0.7222\n",
      "Epoch 20/50\n",
      "124/124 [==============================] - 0s 373us/sample - loss: 0.9973 - accuracy: 0.7258 - val_loss: 0.9471 - val_accuracy: 0.7593\n",
      "Epoch 21/50\n",
      "124/124 [==============================] - 0s 438us/sample - loss: 0.9902 - accuracy: 0.7097 - val_loss: 0.9375 - val_accuracy: 0.7593\n",
      "Epoch 22/50\n",
      "124/124 [==============================] - 0s 405us/sample - loss: 0.9826 - accuracy: 0.7097 - val_loss: 0.9288 - val_accuracy: 0.7593\n",
      "Epoch 23/50\n",
      "124/124 [==============================] - 0s 368us/sample - loss: 0.9671 - accuracy: 0.7661 - val_loss: 0.9205 - val_accuracy: 0.7778\n",
      "Epoch 24/50\n",
      "124/124 [==============================] - 0s 369us/sample - loss: 0.9655 - accuracy: 0.7661 - val_loss: 0.9118 - val_accuracy: 0.7778\n",
      "Epoch 25/50\n",
      "124/124 [==============================] - 0s 370us/sample - loss: 0.9475 - accuracy: 0.7742 - val_loss: 0.9027 - val_accuracy: 0.8148\n",
      "Epoch 26/50\n",
      "124/124 [==============================] - 0s 375us/sample - loss: 0.9410 - accuracy: 0.7984 - val_loss: 0.8946 - val_accuracy: 0.8333\n",
      "Epoch 27/50\n",
      "124/124 [==============================] - 0s 386us/sample - loss: 0.9486 - accuracy: 0.7661 - val_loss: 0.8859 - val_accuracy: 0.8519\n",
      "Epoch 28/50\n",
      "124/124 [==============================] - 0s 370us/sample - loss: 0.9360 - accuracy: 0.7742 - val_loss: 0.8785 - val_accuracy: 0.8889\n",
      "Epoch 29/50\n",
      "124/124 [==============================] - 0s 382us/sample - loss: 0.9226 - accuracy: 0.8548 - val_loss: 0.8699 - val_accuracy: 0.8889\n",
      "Epoch 30/50\n",
      "124/124 [==============================] - 0s 404us/sample - loss: 0.9056 - accuracy: 0.8629 - val_loss: 0.8608 - val_accuracy: 0.8889\n",
      "Epoch 31/50\n",
      "124/124 [==============================] - 0s 382us/sample - loss: 0.9040 - accuracy: 0.8629 - val_loss: 0.8523 - val_accuracy: 0.9074\n",
      "Epoch 32/50\n",
      "124/124 [==============================] - 0s 370us/sample - loss: 0.9038 - accuracy: 0.8548 - val_loss: 0.8434 - val_accuracy: 0.9444\n",
      "Epoch 33/50\n",
      "124/124 [==============================] - 0s 381us/sample - loss: 0.8884 - accuracy: 0.8629 - val_loss: 0.8346 - val_accuracy: 0.9444\n",
      "Epoch 34/50\n",
      "124/124 [==============================] - 0s 386us/sample - loss: 0.8846 - accuracy: 0.8629 - val_loss: 0.8262 - val_accuracy: 0.9444\n",
      "Epoch 35/50\n",
      "124/124 [==============================] - 0s 380us/sample - loss: 0.8645 - accuracy: 0.8790 - val_loss: 0.8178 - val_accuracy: 0.9444\n",
      "Epoch 36/50\n",
      "124/124 [==============================] - 0s 377us/sample - loss: 0.8619 - accuracy: 0.9113 - val_loss: 0.8094 - val_accuracy: 0.9815\n",
      "Epoch 37/50\n",
      "124/124 [==============================] - 0s 398us/sample - loss: 0.8491 - accuracy: 0.9032 - val_loss: 0.8017 - val_accuracy: 0.9815\n",
      "Epoch 38/50\n",
      "124/124 [==============================] - 0s 366us/sample - loss: 0.8458 - accuracy: 0.9032 - val_loss: 0.7938 - val_accuracy: 0.9815\n",
      "Epoch 39/50\n",
      "124/124 [==============================] - 0s 385us/sample - loss: 0.8444 - accuracy: 0.9032 - val_loss: 0.7858 - val_accuracy: 0.9815\n",
      "Epoch 40/50\n",
      "124/124 [==============================] - 0s 402us/sample - loss: 0.8339 - accuracy: 0.8871 - val_loss: 0.7788 - val_accuracy: 1.0000\n",
      "Epoch 41/50\n",
      "124/124 [==============================] - 0s 362us/sample - loss: 0.8176 - accuracy: 0.9194 - val_loss: 0.7711 - val_accuracy: 1.0000\n",
      "Epoch 42/50\n",
      "124/124 [==============================] - 0s 369us/sample - loss: 0.8122 - accuracy: 0.9597 - val_loss: 0.7636 - val_accuracy: 1.0000\n",
      "Epoch 43/50\n",
      "124/124 [==============================] - 0s 370us/sample - loss: 0.8201 - accuracy: 0.9274 - val_loss: 0.7567 - val_accuracy: 1.0000\n",
      "Epoch 44/50\n",
      "124/124 [==============================] - 0s 368us/sample - loss: 0.8167 - accuracy: 0.9113 - val_loss: 0.7500 - val_accuracy: 1.0000\n",
      "Epoch 45/50\n",
      "124/124 [==============================] - 0s 363us/sample - loss: 0.8145 - accuracy: 0.9194 - val_loss: 0.7429 - val_accuracy: 1.0000\n",
      "Epoch 46/50\n",
      "124/124 [==============================] - 0s 360us/sample - loss: 0.7932 - accuracy: 0.9113 - val_loss: 0.7369 - val_accuracy: 1.0000\n",
      "Epoch 47/50\n",
      "124/124 [==============================] - 0s 366us/sample - loss: 0.7812 - accuracy: 0.9274 - val_loss: 0.7312 - val_accuracy: 0.9815\n",
      "Epoch 48/50\n",
      "124/124 [==============================] - 0s 371us/sample - loss: 0.7910 - accuracy: 0.8790 - val_loss: 0.7257 - val_accuracy: 0.9815\n",
      "Epoch 49/50\n",
      "124/124 [==============================] - 0s 373us/sample - loss: 0.7759 - accuracy: 0.9194 - val_loss: 0.7206 - val_accuracy: 0.9815\n",
      "Epoch 50/50\n",
      "124/124 [==============================] - 0s 391us/sample - loss: 0.7805 - accuracy: 0.9194 - val_loss: 0.7149 - val_accuracy: 0.9815\n"
     ]
    }
   ],
   "source": [
    "#  シードの固定\n",
    "reset_seed(1)\n",
    "\n",
    "# モデルのインスタンス化\n",
    "model = models.Sequential()\n",
    "\n",
    "# モデルの構築\n",
    "model.add(layers.BatchNormalization(input_shape=(10,)))\n",
    "model.add(layers.Dense(5, activation='relu', input_shape=(10,)))\n",
    "model.add(layers.Dense(3, activation='softmax'))\n",
    "model.add(layers.Activation('softmax')) \n",
    "\n",
    "# モデルのコンパイル\n",
    "model.compile(optimizer='SGD',\n",
    "               loss='sparse_categorical_crossentropy',\n",
    "               metrics=['accuracy'])\n",
    "\n",
    "# モデルの学習\n",
    "history = model.fit(train_x, train_t,\n",
    "          batch_size=10,\n",
    "          epochs=50,\n",
    "          verbose=1,\n",
    "          validation_data=(val_x, val_t))"
   ]
  },
  {
   "cell_type": "code",
   "execution_count": 32,
   "metadata": {
    "colab": {
     "base_uri": "https://localhost:8080/",
     "height": 286
    },
    "colab_type": "code",
    "executionInfo": {
     "elapsed": 982,
     "status": "ok",
     "timestamp": 1568378952454,
     "user": {
      "displayName": "佐川史弥",
      "photoUrl": "",
      "userId": "17735252083618003950"
     },
     "user_tz": -540
    },
    "id": "R1GhqJf4lQfS",
    "outputId": "a2db0492-e77d-4751-9c86-e1fd0afe3a56"
   },
   "outputs": [
    {
     "data": {
      "text/plain": [
       "<matplotlib.axes._subplots.AxesSubplot at 0x7f93600d37b8>"
      ]
     },
     "execution_count": 32,
     "metadata": {},
     "output_type": "execute_result"
    },
    {
     "data": {
      "image/png": "[encoded data removed]",
      "text/plain": [
       "<Figure size 432x288 with 1 Axes>"
      ]
     },
     "metadata": {
      "needs_background": "light"
     },
     "output_type": "display_data"
    }
   ],
   "source": [
    "# 学習結果をPandasのDataFrame型で読み込みます。\n",
    "results = pd.DataFrame(history.history)\n",
    "\n",
    "# accuracy（精度）を表示\n",
    "results[['accuracy', 'val_accuracy']].plot()"
   ]
  },
  {
   "cell_type": "code",
   "execution_count": 33,
   "metadata": {
    "colab": {
     "base_uri": "https://localhost:8080/",
     "height": 286
    },
    "colab_type": "code",
    "executionInfo": {
     "elapsed": 1610,
     "status": "ok",
     "timestamp": 1568378955042,
     "user": {
      "displayName": "佐川史弥",
      "photoUrl": "",
      "userId": "17735252083618003950"
     },
     "user_tz": -540
    },
    "id": "wvCF2u4DlQfU",
    "outputId": "4e1e29c5-97bf-462f-df08-ecc4d272cc8d",
    "scrolled": true
   },
   "outputs": [
    {
     "data": {
      "text/plain": [
       "<matplotlib.axes._subplots.AxesSubplot at 0x7f93312500f0>"
      ]
     },
     "execution_count": 33,
     "metadata": {},
     "output_type": "execute_result"
    },
    {
     "data": {
      "image/png": "[encoded data removed]",
      "text/plain": [
       "<Figure size 432x288 with 1 Axes>"
      ]
     },
     "metadata": {
      "needs_background": "light"
     },
     "output_type": "display_data"
    }
   ],
   "source": [
    "# loss（損失関数）を表示\n",
    "results[['loss', 'val_loss']].plot()"
   ]
  },
  {
   "cell_type": "markdown",
   "metadata": {
    "colab_type": "text",
    "id": "fhtrujYVlQfW"
   },
   "source": [
    "上記のように Accuracy の値がぐっと良くなっていれば成功です。\n",
    "\n",
    "このように、ディープラーニングでは、BatchNormalization を含めた細かなポイントがあったりするため、調べながら進めてみてください。Keras では、ほとんどの機能がすでに実装されているため、上記のコードのように少し付け加えるだけでその効果を検証でき非常に便利です。"
   ]
  },
  {
   "cell_type": "markdown",
   "metadata": {
    "colab_type": "text",
    "id": "LD05rJQ8lQfW"
   },
   "source": [
    "## 学習済みモデルを保存\n",
    "\n",
    "学習が終わると、学習済みモデルが得られます。 Keras ではモデル全体（構造＋重み＋最適化関数の状態）の保存が可能です。\n",
    "\n",
    "Keras に準備されている`model.save(filepath)`を使用すれば HDF5 ファイルにモデルを保存できます。\n",
    "\n",
    "**補足説明**  \n",
    "HDF5 (Hierarchical Data Format 5)とは、フォルダとファイルを一括で（ファイルの形式問わず）保存したファイル形式です。"
   ]
  },
  {
   "cell_type": "code",
   "execution_count": 34,
   "metadata": {
    "colab": {},
    "colab_type": "code",
    "id": "cijcWKjqlQfW"
   },
   "outputs": [],
   "source": [
    "model.save('wine.h5')"
   ]
  },
  {
   "cell_type": "markdown",
   "metadata": {
    "colab_type": "text",
    "id": "ob9UCjoZlQfY"
   },
   "source": [
    "こちらで models のフォルダ内に `wine.h5` というファイルができていれば学習済みモデルの保存が完了です。\n",
    "\n",
    "では現在残っているモデルを削除します。"
   ]
  },
  {
   "cell_type": "code",
   "execution_count": 35,
   "metadata": {
    "colab": {},
    "colab_type": "code",
    "id": "S33krJ7rlQfY"
   },
   "outputs": [],
   "source": [
    "del model"
   ]
  },
  {
   "cell_type": "markdown",
   "metadata": {
    "colab_type": "text",
    "id": "mEhrPxuYlQfZ"
   },
   "source": [
    "## 学習済みモデルを使用した推論"
   ]
  },
  {
   "cell_type": "markdown",
   "metadata": {
    "colab_type": "text",
    "id": "r3ZQIJ3-lQfZ"
   },
   "source": [
    "### 学習済みモデルのロード\n",
    "\n",
    "学習済みモデルは`keras.models.load_model(filepath)`を用いて再インスタンス化できます。モデルがすでに一度コンパイルされている場合、`load_model`は、学習時の設定を利用して、コンパイルを行います。"
   ]
  },
  {
   "cell_type": "code",
   "execution_count": 36,
   "metadata": {
    "colab": {
     "base_uri": "https://localhost:8080/",
     "height": 88
    },
    "colab_type": "code",
    "executionInfo": {
     "elapsed": 1377,
     "status": "ok",
     "timestamp": 1568378965171,
     "user": {
      "displayName": "佐川史弥",
      "photoUrl": "",
      "userId": "17735252083618003950"
     },
     "user_tz": -540
    },
    "id": "0GoJcWPOlQfa",
    "outputId": "6f015ca0-9146-4f2b-ce10-42db22c6e8c0"
   },
   "outputs": [],
   "source": [
    "from tensorflow.keras.models import load_model\n",
    "\n",
    "# モデルの読み込み\n",
    "model = load_model('wine.h5')"
   ]
  },
  {
   "cell_type": "markdown",
   "metadata": {
    "colab_type": "text",
    "id": "sE3TUi3IlQfc"
   },
   "source": [
    "### 予測値の計算\n",
    "\n",
    "今回は一番最初のサンプルに対する予測値を計算してみましょう。"
   ]
  },
  {
   "cell_type": "code",
   "execution_count": 37,
   "metadata": {
    "colab": {},
    "colab_type": "code",
    "id": "PTI3x7sqlQfc"
   },
   "outputs": [],
   "source": [
    "x_new = train_x[0]"
   ]
  },
  {
   "cell_type": "code",
   "execution_count": 38,
   "metadata": {
    "colab": {
     "base_uri": "https://localhost:8080/",
     "height": 34
    },
    "colab_type": "code",
    "executionInfo": {
     "elapsed": 651,
     "status": "ok",
     "timestamp": 1568378967120,
     "user": {
      "displayName": "佐川史弥",
      "photoUrl": "",
      "userId": "17735252083618003950"
     },
     "user_tz": -540
    },
    "id": "QkdRNqTclQfe",
    "outputId": "63caa32c-b8c2-412c-9b2f-d127c0e13ac1"
   },
   "outputs": [
    {
     "data": {
      "text/plain": [
       "(10,)"
      ]
     },
     "execution_count": 38,
     "metadata": {},
     "output_type": "execute_result"
    }
   ],
   "source": [
    "x_new.shape"
   ]
  },
  {
   "cell_type": "code",
   "execution_count": 39,
   "metadata": {
    "colab": {
     "base_uri": "https://localhost:8080/",
     "height": 327
    },
    "colab_type": "code",
    "executionInfo": {
     "elapsed": 1383,
     "status": "error",
     "timestamp": 1568378968054,
     "user": {
      "displayName": "佐川史弥",
      "photoUrl": "",
      "userId": "17735252083618003950"
     },
     "user_tz": -540
    },
    "id": "Gtz6Eh8ElQff",
    "outputId": "9d12208c-9165-4690-f4b2-be433709edc3"
   },
   "outputs": [
    {
     "ename": "ValueError",
     "evalue": "Error when checking input: expected batch_normalization_input to have shape (10,) but got array with shape (1,)",
     "output_type": "error",
     "traceback": [
      "\u001b[0;31m---------------------------------------------------------------------------\u001b[0m",
      "\u001b[0;31mValueError\u001b[0m                                Traceback (most recent call last)",
      "\u001b[0;32m<ipython-input-39-045fe73b77d6>\u001b[0m in \u001b[0;36m<module>\u001b[0;34m\u001b[0m\n\u001b[1;32m      1\u001b[0m \u001b[0;31m# 予測値の計算\u001b[0m\u001b[0;34m\u001b[0m\u001b[0;34m\u001b[0m\u001b[0;34m\u001b[0m\u001b[0m\n\u001b[0;32m----> 2\u001b[0;31m \u001b[0my\u001b[0m \u001b[0;34m=\u001b[0m \u001b[0mmodel\u001b[0m\u001b[0;34m.\u001b[0m\u001b[0mpredict\u001b[0m\u001b[0;34m(\u001b[0m\u001b[0mx_new\u001b[0m\u001b[0;34m)\u001b[0m\u001b[0;34m\u001b[0m\u001b[0;34m\u001b[0m\u001b[0m\n\u001b[0m",
      "\u001b[0;32m/usr/local/lib/python3.6/dist-packages/tensorflow_core/python/keras/engine/training.py\u001b[0m in \u001b[0;36mpredict\u001b[0;34m(self, x, batch_size, verbose, steps, callbacks, max_queue_size, workers, use_multiprocessing)\u001b[0m\n\u001b[1;32m    907\u001b[0m         \u001b[0mmax_queue_size\u001b[0m\u001b[0;34m=\u001b[0m\u001b[0mmax_queue_size\u001b[0m\u001b[0;34m,\u001b[0m\u001b[0;34m\u001b[0m\u001b[0;34m\u001b[0m\u001b[0m\n\u001b[1;32m    908\u001b[0m         \u001b[0mworkers\u001b[0m\u001b[0;34m=\u001b[0m\u001b[0mworkers\u001b[0m\u001b[0;34m,\u001b[0m\u001b[0;34m\u001b[0m\u001b[0;34m\u001b[0m\u001b[0m\n\u001b[0;32m--> 909\u001b[0;31m         use_multiprocessing=use_multiprocessing)\n\u001b[0m\u001b[1;32m    910\u001b[0m \u001b[0;34m\u001b[0m\u001b[0m\n\u001b[1;32m    911\u001b[0m   \u001b[0;32mdef\u001b[0m \u001b[0mreset_metrics\u001b[0m\u001b[0;34m(\u001b[0m\u001b[0mself\u001b[0m\u001b[0;34m)\u001b[0m\u001b[0;34m:\u001b[0m\u001b[0;34m\u001b[0m\u001b[0;34m\u001b[0m\u001b[0m\n",
      "\u001b[0;32m/usr/local/lib/python3.6/dist-packages/tensorflow_core/python/keras/engine/training_v2.py\u001b[0m in \u001b[0;36mpredict\u001b[0;34m(self, model, x, batch_size, verbose, steps, callbacks, **kwargs)\u001b[0m\n\u001b[1;32m    460\u001b[0m     return self._model_iteration(\n\u001b[1;32m    461\u001b[0m         \u001b[0mmodel\u001b[0m\u001b[0;34m,\u001b[0m \u001b[0mModeKeys\u001b[0m\u001b[0;34m.\u001b[0m\u001b[0mPREDICT\u001b[0m\u001b[0;34m,\u001b[0m \u001b[0mx\u001b[0m\u001b[0;34m=\u001b[0m\u001b[0mx\u001b[0m\u001b[0;34m,\u001b[0m \u001b[0mbatch_size\u001b[0m\u001b[0;34m=\u001b[0m\u001b[0mbatch_size\u001b[0m\u001b[0;34m,\u001b[0m \u001b[0mverbose\u001b[0m\u001b[0;34m=\u001b[0m\u001b[0mverbose\u001b[0m\u001b[0;34m,\u001b[0m\u001b[0;34m\u001b[0m\u001b[0;34m\u001b[0m\u001b[0m\n\u001b[0;32m--> 462\u001b[0;31m         steps=steps, callbacks=callbacks, **kwargs)\n\u001b[0m\u001b[1;32m    463\u001b[0m \u001b[0;34m\u001b[0m\u001b[0m\n\u001b[1;32m    464\u001b[0m \u001b[0;34m\u001b[0m\u001b[0m\n",
      "\u001b[0;32m/usr/local/lib/python3.6/dist-packages/tensorflow_core/python/keras/engine/training_v2.py\u001b[0m in \u001b[0;36m_model_iteration\u001b[0;34m(self, model, mode, x, y, batch_size, verbose, sample_weight, steps, callbacks, **kwargs)\u001b[0m\n\u001b[1;32m    394\u001b[0m           \u001b[0msample_weights\u001b[0m\u001b[0;34m=\u001b[0m\u001b[0msample_weight\u001b[0m\u001b[0;34m,\u001b[0m\u001b[0;34m\u001b[0m\u001b[0;34m\u001b[0m\u001b[0m\n\u001b[1;32m    395\u001b[0m           \u001b[0msteps\u001b[0m\u001b[0;34m=\u001b[0m\u001b[0msteps\u001b[0m\u001b[0;34m,\u001b[0m\u001b[0;34m\u001b[0m\u001b[0;34m\u001b[0m\u001b[0m\n\u001b[0;32m--> 396\u001b[0;31m           distribution_strategy=strategy)\n\u001b[0m\u001b[1;32m    397\u001b[0m       \u001b[0mtotal_samples\u001b[0m \u001b[0;34m=\u001b[0m \u001b[0m_get_total_number_of_samples\u001b[0m\u001b[0;34m(\u001b[0m\u001b[0madapter\u001b[0m\u001b[0;34m)\u001b[0m\u001b[0;34m\u001b[0m\u001b[0;34m\u001b[0m\u001b[0m\n\u001b[1;32m    398\u001b[0m       \u001b[0muse_sample\u001b[0m \u001b[0;34m=\u001b[0m \u001b[0mtotal_samples\u001b[0m \u001b[0;32mis\u001b[0m \u001b[0;32mnot\u001b[0m \u001b[0;32mNone\u001b[0m\u001b[0;34m\u001b[0m\u001b[0;34m\u001b[0m\u001b[0m\n",
      "\u001b[0;32m/usr/local/lib/python3.6/dist-packages/tensorflow_core/python/keras/engine/training_v2.py\u001b[0m in \u001b[0;36m_process_inputs\u001b[0;34m(model, x, y, batch_size, epochs, sample_weights, class_weights, shuffle, steps, distribution_strategy, max_queue_size, workers, use_multiprocessing)\u001b[0m\n\u001b[1;32m    592\u001b[0m         \u001b[0mbatch_size\u001b[0m\u001b[0;34m=\u001b[0m\u001b[0mbatch_size\u001b[0m\u001b[0;34m,\u001b[0m\u001b[0;34m\u001b[0m\u001b[0;34m\u001b[0m\u001b[0m\n\u001b[1;32m    593\u001b[0m         \u001b[0mcheck_steps\u001b[0m\u001b[0;34m=\u001b[0m\u001b[0;32mFalse\u001b[0m\u001b[0;34m,\u001b[0m\u001b[0;34m\u001b[0m\u001b[0;34m\u001b[0m\u001b[0m\n\u001b[0;32m--> 594\u001b[0;31m         steps=steps)\n\u001b[0m\u001b[1;32m    595\u001b[0m   adapter = adapter_cls(\n\u001b[1;32m    596\u001b[0m       \u001b[0mx\u001b[0m\u001b[0;34m,\u001b[0m\u001b[0;34m\u001b[0m\u001b[0;34m\u001b[0m\u001b[0m\n",
      "\u001b[0;32m/usr/local/lib/python3.6/dist-packages/tensorflow_core/python/keras/engine/training.py\u001b[0m in \u001b[0;36m_standardize_user_data\u001b[0;34m(self, x, y, sample_weight, class_weight, batch_size, check_steps, steps_name, steps, validation_split, shuffle, extract_tensors_from_dataset)\u001b[0m\n\u001b[1;32m   2470\u001b[0m           \u001b[0mfeed_input_shapes\u001b[0m\u001b[0;34m,\u001b[0m\u001b[0;34m\u001b[0m\u001b[0;34m\u001b[0m\u001b[0m\n\u001b[1;32m   2471\u001b[0m           \u001b[0mcheck_batch_axis\u001b[0m\u001b[0;34m=\u001b[0m\u001b[0;32mFalse\u001b[0m\u001b[0;34m,\u001b[0m  \u001b[0;31m# Don't enforce the batch size.\u001b[0m\u001b[0;34m\u001b[0m\u001b[0;34m\u001b[0m\u001b[0m\n\u001b[0;32m-> 2472\u001b[0;31m           exception_prefix='input')\n\u001b[0m\u001b[1;32m   2473\u001b[0m \u001b[0;34m\u001b[0m\u001b[0m\n\u001b[1;32m   2474\u001b[0m     \u001b[0;31m# Get typespecs for the input data and sanitize it if necessary.\u001b[0m\u001b[0;34m\u001b[0m\u001b[0;34m\u001b[0m\u001b[0;34m\u001b[0m\u001b[0m\n",
      "\u001b[0;32m/usr/local/lib/python3.6/dist-packages/tensorflow_core/python/keras/engine/training_utils.py\u001b[0m in \u001b[0;36mstandardize_input_data\u001b[0;34m(data, names, shapes, check_batch_axis, exception_prefix)\u001b[0m\n\u001b[1;32m    572\u001b[0m                              \u001b[0;34m': expected '\u001b[0m \u001b[0;34m+\u001b[0m \u001b[0mnames\u001b[0m\u001b[0;34m[\u001b[0m\u001b[0mi\u001b[0m\u001b[0;34m]\u001b[0m \u001b[0;34m+\u001b[0m \u001b[0;34m' to have shape '\u001b[0m \u001b[0;34m+\u001b[0m\u001b[0;34m\u001b[0m\u001b[0;34m\u001b[0m\u001b[0m\n\u001b[1;32m    573\u001b[0m                              \u001b[0mstr\u001b[0m\u001b[0;34m(\u001b[0m\u001b[0mshape\u001b[0m\u001b[0;34m)\u001b[0m \u001b[0;34m+\u001b[0m \u001b[0;34m' but got array with shape '\u001b[0m \u001b[0;34m+\u001b[0m\u001b[0;34m\u001b[0m\u001b[0;34m\u001b[0m\u001b[0m\n\u001b[0;32m--> 574\u001b[0;31m                              str(data_shape))\n\u001b[0m\u001b[1;32m    575\u001b[0m   \u001b[0;32mreturn\u001b[0m \u001b[0mdata\u001b[0m\u001b[0;34m\u001b[0m\u001b[0;34m\u001b[0m\u001b[0m\n\u001b[1;32m    576\u001b[0m \u001b[0;34m\u001b[0m\u001b[0m\n",
      "\u001b[0;31mValueError\u001b[0m: Error when checking input: expected batch_normalization_input to have shape (10,) but got array with shape (1,)"
     ]
    }
   ],
   "source": [
    "# 予測値の計算\n",
    "y = model.predict(x_new)"
   ]
  },
  {
   "cell_type": "markdown",
   "metadata": {
    "colab_type": "text",
    "id": "e557d58slQfg"
   },
   "source": [
    "推論で使用する際には、`(バッチサイズ, 入力変数の数)` という形式となっていないとエラーが起きます。\n",
    "今回であれば、`(1, 10)`が望ましいデータの形といえます。"
   ]
  },
  {
   "cell_type": "code",
   "execution_count": 40,
   "metadata": {
    "colab": {},
    "colab_type": "code",
    "id": "3yXozlv0lQfh"
   },
   "outputs": [],
   "source": [
    "x_new = x_new[np.newaxis]"
   ]
  },
  {
   "cell_type": "code",
   "execution_count": 41,
   "metadata": {
    "colab": {
     "base_uri": "https://localhost:8080/",
     "height": 34
    },
    "colab_type": "code",
    "executionInfo": {
     "elapsed": 1799,
     "status": "ok",
     "timestamp": 1568378969679,
     "user": {
      "displayName": "佐川史弥",
      "photoUrl": "",
      "userId": "17735252083618003950"
     },
     "user_tz": -540
    },
    "id": "2qyepN84lQfk",
    "outputId": "f3d66566-9ade-46c5-c693-290ef5399a7b"
   },
   "outputs": [
    {
     "data": {
      "text/plain": [
       "(1, 10)"
      ]
     },
     "execution_count": 41,
     "metadata": {},
     "output_type": "execute_result"
    }
   ],
   "source": [
    "x_new.shape"
   ]
  },
  {
   "cell_type": "code",
   "execution_count": 42,
   "metadata": {
    "colab": {
     "base_uri": "https://localhost:8080/",
     "height": 34
    },
    "colab_type": "code",
    "executionInfo": {
     "elapsed": 1355,
     "status": "ok",
     "timestamp": 1568378969680,
     "user": {
      "displayName": "佐川史弥",
      "photoUrl": "",
      "userId": "17735252083618003950"
     },
     "user_tz": -540
    },
    "id": "jp67Zv6NlQfl",
    "outputId": "f32fba19-20bc-4719-ed6b-bb68b883c372"
   },
   "outputs": [
    {
     "data": {
      "text/plain": [
       "0"
      ]
     },
     "execution_count": 42,
     "metadata": {},
     "output_type": "execute_result"
    }
   ],
   "source": [
    "# 予測値の計算\n",
    "y = model.predict(x_new)\n",
    "np.argmax(y)"
   ]
  },
  {
   "cell_type": "markdown",
   "metadata": {
    "colab_type": "text",
    "id": "NMWLOvWUlX5S"
   },
   "source": [
    "このように学習済みモデルを使用して推論を実行できました。"
   ]
  }
 ],
 "metadata": {
  "accelerator": "GPU",
  "colab": {
   "name": "03_Keras_Classification.ipynb",
   "provenance": [],
   "version": "0.3.2"
  },
  "kernelspec": {
   "display_name": "Python 3",
   "language": "python",
   "name": "python3"
  },
  "language_info": {
   "codemirror_mode": {
    "name": "ipython",
    "version": 3
   },
   "file_extension": ".py",
   "mimetype": "text/x-python",
   "name": "python",
   "nbconvert_exporter": "python",
   "pygments_lexer": "ipython3",
   "version": "3.6.9"
  }
 },
 "nbformat": 4,
 "nbformat_minor": 1
}
