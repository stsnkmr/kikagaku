{
 "cells": [
  {
   "cell_type": "markdown",
   "metadata": {
    "colab_type": "text",
    "id": "K6f837w8u-ym"
   },
   "source": [
    "# 時系列解析の基礎\n",
    "\n",
    "時系列解析向けに**Recurrent Neural Network**が有名ですが、まずは時系列データの取り扱いを含めて、習得していきましょう。"
   ]
  },
  {
   "cell_type": "code",
   "execution_count": 1,
   "metadata": {
    "colab": {},
    "colab_type": "code",
    "id": "8QfPmoQau-yn"
   },
   "outputs": [],
   "source": [
    "%matplotlib inline\n",
    "import numpy as np\n",
    "import pandas as pd\n",
    "import matplotlib.pyplot as plt"
   ]
  },
  {
   "cell_type": "markdown",
   "metadata": {
    "colab_type": "text",
    "id": "HomnUmvMu-yq"
   },
   "source": [
    "## データの取得"
   ]
  },
  {
   "cell_type": "markdown",
   "metadata": {
    "colab_type": "text",
    "id": "CpcrILmru-yq"
   },
   "source": [
    "実データとして取得しやすい時系列データは `pandas-datareader` を使うと便利です。"
   ]
  },
  {
   "cell_type": "code",
   "execution_count": 2,
   "metadata": {
    "colab": {},
    "colab_type": "code",
    "id": "VtCXiDBCu-ys"
   },
   "outputs": [],
   "source": [
    "from pandas_datareader.yahoo.daily import YahooDailyReader\n",
    "import datetime"
   ]
  },
  {
   "cell_type": "markdown",
   "metadata": {
    "colab_type": "text",
    "id": "qvajW1Tnu-yu"
   },
   "source": [
    "取得する最初の日と最後の日を決めておきます。"
   ]
  },
  {
   "cell_type": "code",
   "execution_count": 3,
   "metadata": {
    "colab": {},
    "colab_type": "code",
    "id": "xDPQO4jbu-yu"
   },
   "outputs": [],
   "source": [
    "date_st = datetime.datetime(2014, 1, 1)\n",
    "date_fn = datetime.datetime(2019,7,1)"
   ]
  },
  {
   "cell_type": "markdown",
   "metadata": {
    "colab_type": "text",
    "id": "Zis96-IAu-yw"
   },
   "source": [
    "yahooから、例えばMicrosoft(MSFT)の株価を取得してみましょう。\n",
    "アメリカのサイトであるため、単位はドルとなっています。"
   ]
  },
  {
   "cell_type": "code",
   "execution_count": 4,
   "metadata": {
    "colab": {},
    "colab_type": "code",
    "id": "_B5S0QoXu-yw"
   },
   "outputs": [],
   "source": [
    "df1 = YahooDailyReader('MSFT', date_st, date_fn).read()"
   ]
  },
  {
   "cell_type": "markdown",
   "metadata": {
    "colab_type": "text",
    "id": "uT3jU1ZVu-yy"
   },
   "source": [
    "取得できたデータを見てみましょう。"
   ]
  },
  {
   "cell_type": "code",
   "execution_count": 5,
   "metadata": {
    "colab": {
     "base_uri": "https://localhost:8080/",
     "height": 228
    },
    "colab_type": "code",
    "executionInfo": {
     "elapsed": 1090,
     "status": "ok",
     "timestamp": 1569561885512,
     "user": {
      "displayName": "佐川史弥",
      "photoUrl": "",
      "userId": "17735252083618003950"
     },
     "user_tz": -540
    },
    "id": "Ltfz-zS9u-yy",
    "outputId": "3ec9d7af-ecd4-48ff-fa68-427e68381701"
   },
   "outputs": [
    {
     "data": {
      "text/html": [
       "<div>\n",
       "<style scoped>\n",
       "    .dataframe tbody tr th:only-of-type {\n",
       "        vertical-align: middle;\n",
       "    }\n",
       "\n",
       "    .dataframe tbody tr th {\n",
       "        vertical-align: top;\n",
       "    }\n",
       "\n",
       "    .dataframe thead th {\n",
       "        text-align: right;\n",
       "    }\n",
       "</style>\n",
       "<table border=\"1\" class=\"dataframe\">\n",
       "  <thead>\n",
       "    <tr style=\"text-align: right;\">\n",
       "      <th></th>\n",
       "      <th>High</th>\n",
       "      <th>Low</th>\n",
       "      <th>Open</th>\n",
       "      <th>Close</th>\n",
       "      <th>Volume</th>\n",
       "      <th>Adj Close</th>\n",
       "    </tr>\n",
       "    <tr>\n",
       "      <th>Date</th>\n",
       "      <th></th>\n",
       "      <th></th>\n",
       "      <th></th>\n",
       "      <th></th>\n",
       "      <th></th>\n",
       "      <th></th>\n",
       "    </tr>\n",
       "  </thead>\n",
       "  <tbody>\n",
       "    <tr>\n",
       "      <th>2013-12-31</th>\n",
       "      <td>37.580002</td>\n",
       "      <td>37.220001</td>\n",
       "      <td>37.400002</td>\n",
       "      <td>37.410000</td>\n",
       "      <td>17503500.0</td>\n",
       "      <td>32.690006</td>\n",
       "    </tr>\n",
       "    <tr>\n",
       "      <th>2014-01-02</th>\n",
       "      <td>37.400002</td>\n",
       "      <td>37.099998</td>\n",
       "      <td>37.349998</td>\n",
       "      <td>37.160000</td>\n",
       "      <td>30632200.0</td>\n",
       "      <td>32.471554</td>\n",
       "    </tr>\n",
       "    <tr>\n",
       "      <th>2014-01-03</th>\n",
       "      <td>37.220001</td>\n",
       "      <td>36.599998</td>\n",
       "      <td>37.200001</td>\n",
       "      <td>36.910000</td>\n",
       "      <td>31134800.0</td>\n",
       "      <td>32.253098</td>\n",
       "    </tr>\n",
       "    <tr>\n",
       "      <th>2014-01-06</th>\n",
       "      <td>36.889999</td>\n",
       "      <td>36.110001</td>\n",
       "      <td>36.849998</td>\n",
       "      <td>36.130001</td>\n",
       "      <td>43603700.0</td>\n",
       "      <td>31.571505</td>\n",
       "    </tr>\n",
       "    <tr>\n",
       "      <th>2014-01-07</th>\n",
       "      <td>36.490002</td>\n",
       "      <td>36.209999</td>\n",
       "      <td>36.330002</td>\n",
       "      <td>36.410000</td>\n",
       "      <td>35802800.0</td>\n",
       "      <td>31.816179</td>\n",
       "    </tr>\n",
       "  </tbody>\n",
       "</table>\n",
       "</div>"
      ],
      "text/plain": [
       "                 High        Low       Open      Close      Volume  Adj Close\n",
       "Date                                                                         \n",
       "2013-12-31  37.580002  37.220001  37.400002  37.410000  17503500.0  32.690006\n",
       "2014-01-02  37.400002  37.099998  37.349998  37.160000  30632200.0  32.471554\n",
       "2014-01-03  37.220001  36.599998  37.200001  36.910000  31134800.0  32.253098\n",
       "2014-01-06  36.889999  36.110001  36.849998  36.130001  43603700.0  31.571505\n",
       "2014-01-07  36.490002  36.209999  36.330002  36.410000  35802800.0  31.816179"
      ]
     },
     "execution_count": 5,
     "metadata": {},
     "output_type": "execute_result"
    }
   ],
   "source": [
    "df1.head()"
   ]
  },
  {
   "cell_type": "markdown",
   "metadata": {
    "colab_type": "text",
    "id": "s6OwV40Bu-y1"
   },
   "source": [
    "また、複数の会社から取得する場合は、それぞれデータフレームを読み込み `pd.concat()` を使用して結合させます。"
   ]
  },
  {
   "cell_type": "code",
   "execution_count": 6,
   "metadata": {
    "colab": {},
    "colab_type": "code",
    "id": "Cz5WBDL0u-y1"
   },
   "outputs": [],
   "source": [
    "symbols = ['AAPL', 'MSFT', 'GOOGL']"
   ]
  },
  {
   "cell_type": "code",
   "execution_count": 7,
   "metadata": {
    "colab": {},
    "colab_type": "code",
    "id": "jBInFjR1u-y3"
   },
   "outputs": [],
   "source": [
    "dfs = [YahooDailyReader(symbol, date_st, date_fn).read() for symbol in symbols]"
   ]
  },
  {
   "cell_type": "code",
   "execution_count": 8,
   "metadata": {
    "colab": {},
    "colab_type": "code",
    "id": "jo3flmG-u-y5"
   },
   "outputs": [],
   "source": [
    "df2 = pd.concat(dfs, axis=0, keys=symbols).unstack(0)"
   ]
  },
  {
   "cell_type": "code",
   "execution_count": 9,
   "metadata": {
    "colab": {
     "base_uri": "https://localhost:8080/",
     "height": 365
    },
    "colab_type": "code",
    "executionInfo": {
     "elapsed": 3238,
     "status": "ok",
     "timestamp": 1569561891396,
     "user": {
      "displayName": "佐川史弥",
      "photoUrl": "",
      "userId": "17735252083618003950"
     },
     "user_tz": -540
    },
    "id": "scBdiGequ-y6",
    "outputId": "14fa4289-613a-4911-c737-5b9ab56771cf"
   },
   "outputs": [
    {
     "data": {
      "text/html": [
       "<div>\n",
       "<style scoped>\n",
       "    .dataframe tbody tr th:only-of-type {\n",
       "        vertical-align: middle;\n",
       "    }\n",
       "\n",
       "    .dataframe tbody tr th {\n",
       "        vertical-align: top;\n",
       "    }\n",
       "\n",
       "    .dataframe thead tr th {\n",
       "        text-align: left;\n",
       "    }\n",
       "\n",
       "    .dataframe thead tr:last-of-type th {\n",
       "        text-align: right;\n",
       "    }\n",
       "</style>\n",
       "<table border=\"1\" class=\"dataframe\">\n",
       "  <thead>\n",
       "    <tr>\n",
       "      <th></th>\n",
       "      <th colspan=\"3\" halign=\"left\">High</th>\n",
       "      <th colspan=\"3\" halign=\"left\">Low</th>\n",
       "      <th colspan=\"3\" halign=\"left\">Open</th>\n",
       "      <th colspan=\"3\" halign=\"left\">Close</th>\n",
       "      <th colspan=\"3\" halign=\"left\">Volume</th>\n",
       "      <th colspan=\"3\" halign=\"left\">Adj Close</th>\n",
       "    </tr>\n",
       "    <tr>\n",
       "      <th></th>\n",
       "      <th>AAPL</th>\n",
       "      <th>MSFT</th>\n",
       "      <th>GOOGL</th>\n",
       "      <th>AAPL</th>\n",
       "      <th>MSFT</th>\n",
       "      <th>GOOGL</th>\n",
       "      <th>AAPL</th>\n",
       "      <th>MSFT</th>\n",
       "      <th>GOOGL</th>\n",
       "      <th>AAPL</th>\n",
       "      <th>MSFT</th>\n",
       "      <th>GOOGL</th>\n",
       "      <th>AAPL</th>\n",
       "      <th>MSFT</th>\n",
       "      <th>GOOGL</th>\n",
       "      <th>AAPL</th>\n",
       "      <th>MSFT</th>\n",
       "      <th>GOOGL</th>\n",
       "    </tr>\n",
       "    <tr>\n",
       "      <th>Date</th>\n",
       "      <th></th>\n",
       "      <th></th>\n",
       "      <th></th>\n",
       "      <th></th>\n",
       "      <th></th>\n",
       "      <th></th>\n",
       "      <th></th>\n",
       "      <th></th>\n",
       "      <th></th>\n",
       "      <th></th>\n",
       "      <th></th>\n",
       "      <th></th>\n",
       "      <th></th>\n",
       "      <th></th>\n",
       "      <th></th>\n",
       "      <th></th>\n",
       "      <th></th>\n",
       "      <th></th>\n",
       "    </tr>\n",
       "  </thead>\n",
       "  <tbody>\n",
       "    <tr>\n",
       "      <th>2013-12-31</th>\n",
       "      <td>80.182854</td>\n",
       "      <td>37.580002</td>\n",
       "      <td>561.061035</td>\n",
       "      <td>79.142860</td>\n",
       "      <td>37.220001</td>\n",
       "      <td>553.683655</td>\n",
       "      <td>79.167145</td>\n",
       "      <td>37.400002</td>\n",
       "      <td>556.676697</td>\n",
       "      <td>80.145714</td>\n",
       "      <td>37.410000</td>\n",
       "      <td>560.915894</td>\n",
       "      <td>55771100.0</td>\n",
       "      <td>17503500.0</td>\n",
       "      <td>2713000.0</td>\n",
       "      <td>72.121513</td>\n",
       "      <td>32.690006</td>\n",
       "      <td>560.915894</td>\n",
       "    </tr>\n",
       "    <tr>\n",
       "      <th>2014-01-02</th>\n",
       "      <td>79.575714</td>\n",
       "      <td>37.400002</td>\n",
       "      <td>559.434448</td>\n",
       "      <td>78.860001</td>\n",
       "      <td>37.099998</td>\n",
       "      <td>554.684692</td>\n",
       "      <td>79.382858</td>\n",
       "      <td>37.349998</td>\n",
       "      <td>558.288269</td>\n",
       "      <td>79.018570</td>\n",
       "      <td>37.160000</td>\n",
       "      <td>557.117126</td>\n",
       "      <td>58671200.0</td>\n",
       "      <td>30632200.0</td>\n",
       "      <td>3639100.0</td>\n",
       "      <td>71.107201</td>\n",
       "      <td>32.471554</td>\n",
       "      <td>557.117126</td>\n",
       "    </tr>\n",
       "    <tr>\n",
       "      <th>2014-01-03</th>\n",
       "      <td>79.099998</td>\n",
       "      <td>37.220001</td>\n",
       "      <td>559.024048</td>\n",
       "      <td>77.204285</td>\n",
       "      <td>36.599998</td>\n",
       "      <td>553.018005</td>\n",
       "      <td>78.980003</td>\n",
       "      <td>37.200001</td>\n",
       "      <td>558.058044</td>\n",
       "      <td>77.282860</td>\n",
       "      <td>36.910000</td>\n",
       "      <td>553.053040</td>\n",
       "      <td>98116900.0</td>\n",
       "      <td>31134800.0</td>\n",
       "      <td>3330000.0</td>\n",
       "      <td>69.545288</td>\n",
       "      <td>32.253098</td>\n",
       "      <td>553.053040</td>\n",
       "    </tr>\n",
       "    <tr>\n",
       "      <th>2014-01-06</th>\n",
       "      <td>78.114288</td>\n",
       "      <td>36.889999</td>\n",
       "      <td>559.989990</td>\n",
       "      <td>76.228569</td>\n",
       "      <td>36.110001</td>\n",
       "      <td>553.773804</td>\n",
       "      <td>76.778572</td>\n",
       "      <td>36.849998</td>\n",
       "      <td>557.062073</td>\n",
       "      <td>77.704285</td>\n",
       "      <td>36.130001</td>\n",
       "      <td>559.219238</td>\n",
       "      <td>103152700.0</td>\n",
       "      <td>43603700.0</td>\n",
       "      <td>3535000.0</td>\n",
       "      <td>69.924515</td>\n",
       "      <td>31.571505</td>\n",
       "      <td>559.219238</td>\n",
       "    </tr>\n",
       "    <tr>\n",
       "      <th>2014-01-07</th>\n",
       "      <td>77.994286</td>\n",
       "      <td>36.490002</td>\n",
       "      <td>570.415405</td>\n",
       "      <td>76.845711</td>\n",
       "      <td>36.209999</td>\n",
       "      <td>561.141113</td>\n",
       "      <td>77.760002</td>\n",
       "      <td>36.330002</td>\n",
       "      <td>563.063049</td>\n",
       "      <td>77.148575</td>\n",
       "      <td>36.410000</td>\n",
       "      <td>570.000000</td>\n",
       "      <td>79302300.0</td>\n",
       "      <td>35802800.0</td>\n",
       "      <td>5100000.0</td>\n",
       "      <td>69.424438</td>\n",
       "      <td>31.816179</td>\n",
       "      <td>570.000000</td>\n",
       "    </tr>\n",
       "  </tbody>\n",
       "</table>\n",
       "</div>"
      ],
      "text/plain": [
       "                 High                               Low             \\\n",
       "                 AAPL       MSFT       GOOGL       AAPL       MSFT   \n",
       "Date                                                                 \n",
       "2013-12-31  80.182854  37.580002  561.061035  79.142860  37.220001   \n",
       "2014-01-02  79.575714  37.400002  559.434448  78.860001  37.099998   \n",
       "2014-01-03  79.099998  37.220001  559.024048  77.204285  36.599998   \n",
       "2014-01-06  78.114288  36.889999  559.989990  76.228569  36.110001   \n",
       "2014-01-07  77.994286  36.490002  570.415405  76.845711  36.209999   \n",
       "\n",
       "                             Open                             Close  \\\n",
       "                 GOOGL       AAPL       MSFT       GOOGL       AAPL   \n",
       "Date                                                                  \n",
       "2013-12-31  553.683655  79.167145  37.400002  556.676697  80.145714   \n",
       "2014-01-02  554.684692  79.382858  37.349998  558.288269  79.018570   \n",
       "2014-01-03  553.018005  78.980003  37.200001  558.058044  77.282860   \n",
       "2014-01-06  553.773804  76.778572  36.849998  557.062073  77.704285   \n",
       "2014-01-07  561.141113  77.760002  36.330002  563.063049  77.148575   \n",
       "\n",
       "                                        Volume                         \\\n",
       "                 MSFT       GOOGL         AAPL        MSFT      GOOGL   \n",
       "Date                                                                    \n",
       "2013-12-31  37.410000  560.915894   55771100.0  17503500.0  2713000.0   \n",
       "2014-01-02  37.160000  557.117126   58671200.0  30632200.0  3639100.0   \n",
       "2014-01-03  36.910000  553.053040   98116900.0  31134800.0  3330000.0   \n",
       "2014-01-06  36.130001  559.219238  103152700.0  43603700.0  3535000.0   \n",
       "2014-01-07  36.410000  570.000000   79302300.0  35802800.0  5100000.0   \n",
       "\n",
       "            Adj Close                         \n",
       "                 AAPL       MSFT       GOOGL  \n",
       "Date                                          \n",
       "2013-12-31  72.121513  32.690006  560.915894  \n",
       "2014-01-02  71.107201  32.471554  557.117126  \n",
       "2014-01-03  69.545288  32.253098  553.053040  \n",
       "2014-01-06  69.924515  31.571505  559.219238  \n",
       "2014-01-07  69.424438  31.816179  570.000000  "
      ]
     },
     "execution_count": 9,
     "metadata": {},
     "output_type": "execute_result"
    }
   ],
   "source": [
    "df2.head()"
   ]
  },
  {
   "cell_type": "code",
   "execution_count": 10,
   "metadata": {
    "colab": {
     "base_uri": "https://localhost:8080/",
     "height": 365
    },
    "colab_type": "code",
    "executionInfo": {
     "elapsed": 3202,
     "status": "ok",
     "timestamp": 1569561891397,
     "user": {
      "displayName": "佐川史弥",
      "photoUrl": "",
      "userId": "17735252083618003950"
     },
     "user_tz": -540
    },
    "id": "c7dwcMqCu-y-",
    "outputId": "358d7257-487b-4058-f670-64c69a7a9039"
   },
   "outputs": [
    {
     "data": {
      "text/html": [
       "<div>\n",
       "<style scoped>\n",
       "    .dataframe tbody tr th:only-of-type {\n",
       "        vertical-align: middle;\n",
       "    }\n",
       "\n",
       "    .dataframe tbody tr th {\n",
       "        vertical-align: top;\n",
       "    }\n",
       "\n",
       "    .dataframe thead tr th {\n",
       "        text-align: left;\n",
       "    }\n",
       "\n",
       "    .dataframe thead tr:last-of-type th {\n",
       "        text-align: right;\n",
       "    }\n",
       "</style>\n",
       "<table border=\"1\" class=\"dataframe\">\n",
       "  <thead>\n",
       "    <tr>\n",
       "      <th></th>\n",
       "      <th colspan=\"3\" halign=\"left\">High</th>\n",
       "      <th colspan=\"3\" halign=\"left\">Low</th>\n",
       "      <th colspan=\"3\" halign=\"left\">Open</th>\n",
       "      <th colspan=\"3\" halign=\"left\">Close</th>\n",
       "      <th colspan=\"3\" halign=\"left\">Volume</th>\n",
       "      <th colspan=\"3\" halign=\"left\">Adj Close</th>\n",
       "    </tr>\n",
       "    <tr>\n",
       "      <th></th>\n",
       "      <th>AAPL</th>\n",
       "      <th>MSFT</th>\n",
       "      <th>GOOGL</th>\n",
       "      <th>AAPL</th>\n",
       "      <th>MSFT</th>\n",
       "      <th>GOOGL</th>\n",
       "      <th>AAPL</th>\n",
       "      <th>MSFT</th>\n",
       "      <th>GOOGL</th>\n",
       "      <th>AAPL</th>\n",
       "      <th>MSFT</th>\n",
       "      <th>GOOGL</th>\n",
       "      <th>AAPL</th>\n",
       "      <th>MSFT</th>\n",
       "      <th>GOOGL</th>\n",
       "      <th>AAPL</th>\n",
       "      <th>MSFT</th>\n",
       "      <th>GOOGL</th>\n",
       "    </tr>\n",
       "    <tr>\n",
       "      <th>Date</th>\n",
       "      <th></th>\n",
       "      <th></th>\n",
       "      <th></th>\n",
       "      <th></th>\n",
       "      <th></th>\n",
       "      <th></th>\n",
       "      <th></th>\n",
       "      <th></th>\n",
       "      <th></th>\n",
       "      <th></th>\n",
       "      <th></th>\n",
       "      <th></th>\n",
       "      <th></th>\n",
       "      <th></th>\n",
       "      <th></th>\n",
       "      <th></th>\n",
       "      <th></th>\n",
       "      <th></th>\n",
       "    </tr>\n",
       "  </thead>\n",
       "  <tbody>\n",
       "    <tr>\n",
       "      <th>2019-06-25</th>\n",
       "      <td>199.259995</td>\n",
       "      <td>137.589996</td>\n",
       "      <td>1115.699951</td>\n",
       "      <td>195.289993</td>\n",
       "      <td>132.729996</td>\n",
       "      <td>1084.599976</td>\n",
       "      <td>198.429993</td>\n",
       "      <td>137.250000</td>\n",
       "      <td>1115.079956</td>\n",
       "      <td>195.570007</td>\n",
       "      <td>133.429993</td>\n",
       "      <td>1087.579956</td>\n",
       "      <td>21070300.0</td>\n",
       "      <td>33327400.0</td>\n",
       "      <td>1582200.0</td>\n",
       "      <td>194.246582</td>\n",
       "      <td>132.536163</td>\n",
       "      <td>1087.579956</td>\n",
       "    </tr>\n",
       "    <tr>\n",
       "      <th>2019-06-26</th>\n",
       "      <td>200.990005</td>\n",
       "      <td>135.740005</td>\n",
       "      <td>1095.119995</td>\n",
       "      <td>197.350006</td>\n",
       "      <td>133.600006</td>\n",
       "      <td>1073.689941</td>\n",
       "      <td>197.770004</td>\n",
       "      <td>134.350006</td>\n",
       "      <td>1091.000000</td>\n",
       "      <td>199.800003</td>\n",
       "      <td>133.929993</td>\n",
       "      <td>1080.319946</td>\n",
       "      <td>26067500.0</td>\n",
       "      <td>23657700.0</td>\n",
       "      <td>1734900.0</td>\n",
       "      <td>198.447952</td>\n",
       "      <td>133.032822</td>\n",
       "      <td>1080.319946</td>\n",
       "    </tr>\n",
       "    <tr>\n",
       "      <th>2019-06-27</th>\n",
       "      <td>201.570007</td>\n",
       "      <td>134.710007</td>\n",
       "      <td>1088.459961</td>\n",
       "      <td>199.570007</td>\n",
       "      <td>133.509995</td>\n",
       "      <td>1075.849976</td>\n",
       "      <td>200.289993</td>\n",
       "      <td>134.139999</td>\n",
       "      <td>1086.750000</td>\n",
       "      <td>199.740005</td>\n",
       "      <td>134.149994</td>\n",
       "      <td>1076.630005</td>\n",
       "      <td>20899700.0</td>\n",
       "      <td>16557500.0</td>\n",
       "      <td>1203900.0</td>\n",
       "      <td>198.388367</td>\n",
       "      <td>133.251343</td>\n",
       "      <td>1076.630005</td>\n",
       "    </tr>\n",
       "    <tr>\n",
       "      <th>2019-06-28</th>\n",
       "      <td>199.500000</td>\n",
       "      <td>134.600006</td>\n",
       "      <td>1082.800049</td>\n",
       "      <td>197.050003</td>\n",
       "      <td>133.160004</td>\n",
       "      <td>1073.800049</td>\n",
       "      <td>198.679993</td>\n",
       "      <td>134.570007</td>\n",
       "      <td>1077.229980</td>\n",
       "      <td>197.919998</td>\n",
       "      <td>133.960007</td>\n",
       "      <td>1082.800049</td>\n",
       "      <td>31110600.0</td>\n",
       "      <td>30043000.0</td>\n",
       "      <td>1683600.0</td>\n",
       "      <td>196.580658</td>\n",
       "      <td>133.062622</td>\n",
       "      <td>1082.800049</td>\n",
       "    </tr>\n",
       "    <tr>\n",
       "      <th>2019-07-01</th>\n",
       "      <td>204.490005</td>\n",
       "      <td>136.699997</td>\n",
       "      <td>1108.589966</td>\n",
       "      <td>200.649994</td>\n",
       "      <td>134.970001</td>\n",
       "      <td>1095.329956</td>\n",
       "      <td>203.169998</td>\n",
       "      <td>136.630005</td>\n",
       "      <td>1101.040039</td>\n",
       "      <td>201.550003</td>\n",
       "      <td>135.679993</td>\n",
       "      <td>1100.000000</td>\n",
       "      <td>27316700.0</td>\n",
       "      <td>22654200.0</td>\n",
       "      <td>1459800.0</td>\n",
       "      <td>200.186111</td>\n",
       "      <td>134.771103</td>\n",
       "      <td>1100.000000</td>\n",
       "    </tr>\n",
       "  </tbody>\n",
       "</table>\n",
       "</div>"
      ],
      "text/plain": [
       "                  High                                  Low              \\\n",
       "                  AAPL        MSFT        GOOGL        AAPL        MSFT   \n",
       "Date                                                                      \n",
       "2019-06-25  199.259995  137.589996  1115.699951  195.289993  132.729996   \n",
       "2019-06-26  200.990005  135.740005  1095.119995  197.350006  133.600006   \n",
       "2019-06-27  201.570007  134.710007  1088.459961  199.570007  133.509995   \n",
       "2019-06-28  199.500000  134.600006  1082.800049  197.050003  133.160004   \n",
       "2019-07-01  204.490005  136.699997  1108.589966  200.649994  134.970001   \n",
       "\n",
       "                               Open                                Close  \\\n",
       "                  GOOGL        AAPL        MSFT        GOOGL        AAPL   \n",
       "Date                                                                       \n",
       "2019-06-25  1084.599976  198.429993  137.250000  1115.079956  195.570007   \n",
       "2019-06-26  1073.689941  197.770004  134.350006  1091.000000  199.800003   \n",
       "2019-06-27  1075.849976  200.289993  134.139999  1086.750000  199.740005   \n",
       "2019-06-28  1073.800049  198.679993  134.570007  1077.229980  197.919998   \n",
       "2019-07-01  1095.329956  203.169998  136.630005  1101.040039  201.550003   \n",
       "\n",
       "                                         Volume                         \\\n",
       "                  MSFT        GOOGL        AAPL        MSFT      GOOGL   \n",
       "Date                                                                     \n",
       "2019-06-25  133.429993  1087.579956  21070300.0  33327400.0  1582200.0   \n",
       "2019-06-26  133.929993  1080.319946  26067500.0  23657700.0  1734900.0   \n",
       "2019-06-27  134.149994  1076.630005  20899700.0  16557500.0  1203900.0   \n",
       "2019-06-28  133.960007  1082.800049  31110600.0  30043000.0  1683600.0   \n",
       "2019-07-01  135.679993  1100.000000  27316700.0  22654200.0  1459800.0   \n",
       "\n",
       "             Adj Close                           \n",
       "                  AAPL        MSFT        GOOGL  \n",
       "Date                                             \n",
       "2019-06-25  194.246582  132.536163  1087.579956  \n",
       "2019-06-26  198.447952  133.032822  1080.319946  \n",
       "2019-06-27  198.388367  133.251343  1076.630005  \n",
       "2019-06-28  196.580658  133.062622  1082.800049  \n",
       "2019-07-01  200.186111  134.771103  1100.000000  "
      ]
     },
     "execution_count": 10,
     "metadata": {},
     "output_type": "execute_result"
    }
   ],
   "source": [
    "df2.tail()"
   ]
  },
  {
   "cell_type": "markdown",
   "metadata": {
    "colab_type": "text",
    "id": "Qf0cH6Fru-zA"
   },
   "source": [
    "こちらのように、先頭（`.head`）の5件では確認できなかったため、末尾（`.tail`）の５件を表示することで確認できます。"
   ]
  },
  {
   "cell_type": "markdown",
   "metadata": {
    "colab_type": "text",
    "id": "x2M73IP0u-zA"
   },
   "source": [
    "## 時系列データのプロット\n",
    "\n",
    "PandasのDataFrame型で定義されている場合、簡単にプロットすることができます。"
   ]
  },
  {
   "cell_type": "code",
   "execution_count": 11,
   "metadata": {
    "colab": {
     "base_uri": "https://localhost:8080/",
     "height": 35
    },
    "colab_type": "code",
    "executionInfo": {
     "elapsed": 3094,
     "status": "ok",
     "timestamp": 1569561891397,
     "user": {
      "displayName": "佐川史弥",
      "photoUrl": "",
      "userId": "17735252083618003950"
     },
     "user_tz": -540
    },
    "id": "7ESW1GTpu-zB",
    "outputId": "506595db-a401-48f1-be9a-3c728112ecdd"
   },
   "outputs": [
    {
     "data": {
      "text/plain": [
       "pandas.core.frame.DataFrame"
      ]
     },
     "execution_count": 11,
     "metadata": {},
     "output_type": "execute_result"
    }
   ],
   "source": [
    "type(df2)"
   ]
  },
  {
   "cell_type": "code",
   "execution_count": 12,
   "metadata": {
    "colab": {
     "base_uri": "https://localhost:8080/",
     "height": 291
    },
    "colab_type": "code",
    "executionInfo": {
     "elapsed": 4193,
     "status": "ok",
     "timestamp": 1569561892532,
     "user": {
      "displayName": "佐川史弥",
      "photoUrl": "",
      "userId": "17735252083618003950"
     },
     "user_tz": -540
    },
    "id": "0T2kzvxau-zD",
    "outputId": "39afe9b9-639f-4afb-8fae-bbfc87c482bc"
   },
   "outputs": [
    {
     "data": {
      "text/plain": [
       "<matplotlib.axes._subplots.AxesSubplot at 0x7f8ed543fc18>"
      ]
     },
     "execution_count": 12,
     "metadata": {},
     "output_type": "execute_result"
    },
    {
     "data": {
      "image/png": "[encoded data removed]",
      "text/plain": [
       "<Figure size 432x288 with 1 Axes>"
      ]
     },
     "metadata": {
      "needs_background": "light"
     },
     "output_type": "display_data"
    }
   ],
   "source": [
    "# 終値（Close）を可視化\n",
    "df2['Close'].plot()"
   ]
  },
  {
   "cell_type": "markdown",
   "metadata": {
    "colab_type": "text",
    "id": "zG0TeAbpu-zF"
   },
   "source": [
    "## トレンド抽出\n",
    "Facebookが公開しているProphetという時系列解析向けのライブラリを使用します。\n",
    "こちらは非常に手軽にトレンドの抽出や未来の値を予測できるため、まず簡単に使用するのであればこちらがおすすめです。"
   ]
  },
  {
   "cell_type": "code",
   "execution_count": 13,
   "metadata": {
    "colab": {},
    "colab_type": "code",
    "id": "jD3XYUpbu-zF"
   },
   "outputs": [],
   "source": [
    "from fbprophet import Prophet"
   ]
  },
  {
   "cell_type": "code",
   "execution_count": 14,
   "metadata": {
    "colab": {},
    "colab_type": "code",
    "id": "7fTewIqWu-zH"
   },
   "outputs": [],
   "source": [
    "model = Prophet()"
   ]
  },
  {
   "cell_type": "code",
   "execution_count": 15,
   "metadata": {
    "colab": {
     "base_uri": "https://localhost:8080/",
     "height": 168
    },
    "colab_type": "code",
    "executionInfo": {
     "elapsed": 6158,
     "status": "ok",
     "timestamp": 1569561894641,
     "user": {
      "displayName": "佐川史弥",
      "photoUrl": "",
      "userId": "17735252083618003950"
     },
     "user_tz": -540
    },
    "id": "323Sie8Ju-zI",
    "outputId": "e9d92cac-d7de-499b-9fa7-0d3d0ec9cd32"
   },
   "outputs": [
    {
     "data": {
      "text/html": [
       "<div>\n",
       "<style scoped>\n",
       "    .dataframe tbody tr th:only-of-type {\n",
       "        vertical-align: middle;\n",
       "    }\n",
       "\n",
       "    .dataframe tbody tr th {\n",
       "        vertical-align: top;\n",
       "    }\n",
       "\n",
       "    .dataframe thead th {\n",
       "        text-align: right;\n",
       "    }\n",
       "</style>\n",
       "<table border=\"1\" class=\"dataframe\">\n",
       "  <thead>\n",
       "    <tr style=\"text-align: right;\">\n",
       "      <th></th>\n",
       "      <th>High</th>\n",
       "      <th>Low</th>\n",
       "      <th>Open</th>\n",
       "      <th>Close</th>\n",
       "      <th>Volume</th>\n",
       "      <th>Adj Close</th>\n",
       "    </tr>\n",
       "    <tr>\n",
       "      <th>Date</th>\n",
       "      <th></th>\n",
       "      <th></th>\n",
       "      <th></th>\n",
       "      <th></th>\n",
       "      <th></th>\n",
       "      <th></th>\n",
       "    </tr>\n",
       "  </thead>\n",
       "  <tbody>\n",
       "    <tr>\n",
       "      <th>2013-12-31</th>\n",
       "      <td>37.580002</td>\n",
       "      <td>37.220001</td>\n",
       "      <td>37.400002</td>\n",
       "      <td>37.41</td>\n",
       "      <td>17503500.0</td>\n",
       "      <td>32.690006</td>\n",
       "    </tr>\n",
       "    <tr>\n",
       "      <th>2014-01-02</th>\n",
       "      <td>37.400002</td>\n",
       "      <td>37.099998</td>\n",
       "      <td>37.349998</td>\n",
       "      <td>37.16</td>\n",
       "      <td>30632200.0</td>\n",
       "      <td>32.471554</td>\n",
       "    </tr>\n",
       "    <tr>\n",
       "      <th>2014-01-03</th>\n",
       "      <td>37.220001</td>\n",
       "      <td>36.599998</td>\n",
       "      <td>37.200001</td>\n",
       "      <td>36.91</td>\n",
       "      <td>31134800.0</td>\n",
       "      <td>32.253098</td>\n",
       "    </tr>\n",
       "  </tbody>\n",
       "</table>\n",
       "</div>"
      ],
      "text/plain": [
       "                 High        Low       Open  Close      Volume  Adj Close\n",
       "Date                                                                     \n",
       "2013-12-31  37.580002  37.220001  37.400002  37.41  17503500.0  32.690006\n",
       "2014-01-02  37.400002  37.099998  37.349998  37.16  30632200.0  32.471554\n",
       "2014-01-03  37.220001  36.599998  37.200001  36.91  31134800.0  32.253098"
      ]
     },
     "execution_count": 15,
     "metadata": {},
     "output_type": "execute_result"
    }
   ],
   "source": [
    "df1.head(3)"
   ]
  },
  {
   "cell_type": "code",
   "execution_count": 16,
   "metadata": {
    "colab": {
     "base_uri": "https://localhost:8080/",
     "height": 138
    },
    "colab_type": "code",
    "executionInfo": {
     "elapsed": 6116,
     "status": "ok",
     "timestamp": 1569561894641,
     "user": {
      "displayName": "佐川史弥",
      "photoUrl": "",
      "userId": "17735252083618003950"
     },
     "user_tz": -540
    },
    "id": "VownkJSbu-zK",
    "outputId": "7b89a74e-e2b3-435f-c003-ffb02551fd63"
   },
   "outputs": [
    {
     "data": {
      "text/html": [
       "<div>\n",
       "<style scoped>\n",
       "    .dataframe tbody tr th:only-of-type {\n",
       "        vertical-align: middle;\n",
       "    }\n",
       "\n",
       "    .dataframe tbody tr th {\n",
       "        vertical-align: top;\n",
       "    }\n",
       "\n",
       "    .dataframe thead th {\n",
       "        text-align: right;\n",
       "    }\n",
       "</style>\n",
       "<table border=\"1\" class=\"dataframe\">\n",
       "  <thead>\n",
       "    <tr style=\"text-align: right;\">\n",
       "      <th></th>\n",
       "      <th>Date</th>\n",
       "      <th>High</th>\n",
       "      <th>Low</th>\n",
       "      <th>Open</th>\n",
       "      <th>Close</th>\n",
       "      <th>Volume</th>\n",
       "      <th>Adj Close</th>\n",
       "    </tr>\n",
       "  </thead>\n",
       "  <tbody>\n",
       "    <tr>\n",
       "      <th>0</th>\n",
       "      <td>2013-12-31</td>\n",
       "      <td>37.580002</td>\n",
       "      <td>37.220001</td>\n",
       "      <td>37.400002</td>\n",
       "      <td>37.41</td>\n",
       "      <td>17503500.0</td>\n",
       "      <td>32.690006</td>\n",
       "    </tr>\n",
       "    <tr>\n",
       "      <th>1</th>\n",
       "      <td>2014-01-02</td>\n",
       "      <td>37.400002</td>\n",
       "      <td>37.099998</td>\n",
       "      <td>37.349998</td>\n",
       "      <td>37.16</td>\n",
       "      <td>30632200.0</td>\n",
       "      <td>32.471554</td>\n",
       "    </tr>\n",
       "    <tr>\n",
       "      <th>2</th>\n",
       "      <td>2014-01-03</td>\n",
       "      <td>37.220001</td>\n",
       "      <td>36.599998</td>\n",
       "      <td>37.200001</td>\n",
       "      <td>36.91</td>\n",
       "      <td>31134800.0</td>\n",
       "      <td>32.253098</td>\n",
       "    </tr>\n",
       "  </tbody>\n",
       "</table>\n",
       "</div>"
      ],
      "text/plain": [
       "        Date       High        Low       Open  Close      Volume  Adj Close\n",
       "0 2013-12-31  37.580002  37.220001  37.400002  37.41  17503500.0  32.690006\n",
       "1 2014-01-02  37.400002  37.099998  37.349998  37.16  30632200.0  32.471554\n",
       "2 2014-01-03  37.220001  36.599998  37.200001  36.91  31134800.0  32.253098"
      ]
     },
     "execution_count": 16,
     "metadata": {},
     "output_type": "execute_result"
    }
   ],
   "source": [
    "df1.reset_index().head(3)"
   ]
  },
  {
   "cell_type": "code",
   "execution_count": 17,
   "metadata": {
    "colab": {
     "base_uri": "https://localhost:8080/",
     "height": 138
    },
    "colab_type": "code",
    "executionInfo": {
     "elapsed": 6076,
     "status": "ok",
     "timestamp": 1569561894642,
     "user": {
      "displayName": "佐川史弥",
      "photoUrl": "",
      "userId": "17735252083618003950"
     },
     "user_tz": -540
    },
    "id": "ntrtelZhu-zN",
    "outputId": "5bc53053-8b36-499d-bb37-acaf22fc217b"
   },
   "outputs": [
    {
     "data": {
      "text/html": [
       "<div>\n",
       "<style scoped>\n",
       "    .dataframe tbody tr th:only-of-type {\n",
       "        vertical-align: middle;\n",
       "    }\n",
       "\n",
       "    .dataframe tbody tr th {\n",
       "        vertical-align: top;\n",
       "    }\n",
       "\n",
       "    .dataframe thead th {\n",
       "        text-align: right;\n",
       "    }\n",
       "</style>\n",
       "<table border=\"1\" class=\"dataframe\">\n",
       "  <thead>\n",
       "    <tr style=\"text-align: right;\">\n",
       "      <th></th>\n",
       "      <th>ds</th>\n",
       "      <th>High</th>\n",
       "      <th>Low</th>\n",
       "      <th>Open</th>\n",
       "      <th>y</th>\n",
       "      <th>Volume</th>\n",
       "      <th>Adj Close</th>\n",
       "    </tr>\n",
       "  </thead>\n",
       "  <tbody>\n",
       "    <tr>\n",
       "      <th>0</th>\n",
       "      <td>2013-12-31</td>\n",
       "      <td>37.580002</td>\n",
       "      <td>37.220001</td>\n",
       "      <td>37.400002</td>\n",
       "      <td>37.41</td>\n",
       "      <td>17503500.0</td>\n",
       "      <td>32.690006</td>\n",
       "    </tr>\n",
       "    <tr>\n",
       "      <th>1</th>\n",
       "      <td>2014-01-02</td>\n",
       "      <td>37.400002</td>\n",
       "      <td>37.099998</td>\n",
       "      <td>37.349998</td>\n",
       "      <td>37.16</td>\n",
       "      <td>30632200.0</td>\n",
       "      <td>32.471554</td>\n",
       "    </tr>\n",
       "    <tr>\n",
       "      <th>2</th>\n",
       "      <td>2014-01-03</td>\n",
       "      <td>37.220001</td>\n",
       "      <td>36.599998</td>\n",
       "      <td>37.200001</td>\n",
       "      <td>36.91</td>\n",
       "      <td>31134800.0</td>\n",
       "      <td>32.253098</td>\n",
       "    </tr>\n",
       "  </tbody>\n",
       "</table>\n",
       "</div>"
      ],
      "text/plain": [
       "          ds       High        Low       Open      y      Volume  Adj Close\n",
       "0 2013-12-31  37.580002  37.220001  37.400002  37.41  17503500.0  32.690006\n",
       "1 2014-01-02  37.400002  37.099998  37.349998  37.16  30632200.0  32.471554\n",
       "2 2014-01-03  37.220001  36.599998  37.200001  36.91  31134800.0  32.253098"
      ]
     },
     "execution_count": 17,
     "metadata": {},
     "output_type": "execute_result"
    }
   ],
   "source": [
    "data = df1.reset_index().rename(columns={'Date': 'ds', 'Close': 'y'})\n",
    "data.head(3)"
   ]
  },
  {
   "cell_type": "code",
   "execution_count": 18,
   "metadata": {
    "colab": {
     "base_uri": "https://localhost:8080/",
     "height": 92
    },
    "colab_type": "code",
    "executionInfo": {
     "elapsed": 8176,
     "status": "ok",
     "timestamp": 1569561896782,
     "user": {
      "displayName": "佐川史弥",
      "photoUrl": "",
      "userId": "17735252083618003950"
     },
     "user_tz": -540
    },
    "id": "OKQxiPiRu-zQ",
    "outputId": "394db827-5296-4864-c6ca-3bc0cc60edd6"
   },
   "outputs": [
    {
     "name": "stderr",
     "output_type": "stream",
     "text": [
      "INFO:fbprophet:Disabling daily seasonality. Run prophet with daily_seasonality=True to override this.\n"
     ]
    },
    {
     "data": {
      "text/plain": [
       "<fbprophet.forecaster.Prophet at 0x7f8ed54b2c50>"
      ]
     },
     "execution_count": 18,
     "metadata": {},
     "output_type": "execute_result"
    }
   ],
   "source": [
    "model.fit(data)"
   ]
  },
  {
   "cell_type": "code",
   "execution_count": 19,
   "metadata": {
    "colab": {},
    "colab_type": "code",
    "id": "x-J7Gdbpu-zS"
   },
   "outputs": [],
   "source": [
    "future = model.make_future_dataframe(periods=365)"
   ]
  },
  {
   "cell_type": "code",
   "execution_count": 20,
   "metadata": {
    "colab": {},
    "colab_type": "code",
    "id": "NTk002ONu-zU"
   },
   "outputs": [],
   "source": [
    "forecast = model.predict(future)"
   ]
  },
  {
   "cell_type": "code",
   "execution_count": 21,
   "metadata": {
    "colab": {
     "base_uri": "https://localhost:8080/",
     "height": 305
    },
    "colab_type": "code",
    "executionInfo": {
     "elapsed": 14596,
     "status": "ok",
     "timestamp": 1569561903328,
     "user": {
      "displayName": "佐川史弥",
      "photoUrl": "",
      "userId": "17735252083618003950"
     },
     "user_tz": -540
    },
    "id": "ovjkAKf0u-zV",
    "outputId": "eee21aa3-1c8b-4e2d-dd04-b3620e6dc714"
   },
   "outputs": [
    {
     "data": {
      "text/html": [
       "<div>\n",
       "<style scoped>\n",
       "    .dataframe tbody tr th:only-of-type {\n",
       "        vertical-align: middle;\n",
       "    }\n",
       "\n",
       "    .dataframe tbody tr th {\n",
       "        vertical-align: top;\n",
       "    }\n",
       "\n",
       "    .dataframe thead th {\n",
       "        text-align: right;\n",
       "    }\n",
       "</style>\n",
       "<table border=\"1\" class=\"dataframe\">\n",
       "  <thead>\n",
       "    <tr style=\"text-align: right;\">\n",
       "      <th></th>\n",
       "      <th>ds</th>\n",
       "      <th>trend</th>\n",
       "      <th>yhat_lower</th>\n",
       "      <th>yhat_upper</th>\n",
       "      <th>trend_lower</th>\n",
       "      <th>trend_upper</th>\n",
       "      <th>additive_terms</th>\n",
       "      <th>additive_terms_lower</th>\n",
       "      <th>additive_terms_upper</th>\n",
       "      <th>weekly</th>\n",
       "      <th>weekly_lower</th>\n",
       "      <th>weekly_upper</th>\n",
       "      <th>yearly</th>\n",
       "      <th>yearly_lower</th>\n",
       "      <th>yearly_upper</th>\n",
       "      <th>multiplicative_terms</th>\n",
       "      <th>multiplicative_terms_lower</th>\n",
       "      <th>multiplicative_terms_upper</th>\n",
       "      <th>yhat</th>\n",
       "    </tr>\n",
       "  </thead>\n",
       "  <tbody>\n",
       "    <tr>\n",
       "      <th>0</th>\n",
       "      <td>2013-12-31</td>\n",
       "      <td>41.857780</td>\n",
       "      <td>34.362387</td>\n",
       "      <td>40.066956</td>\n",
       "      <td>41.857780</td>\n",
       "      <td>41.857780</td>\n",
       "      <td>-4.582490</td>\n",
       "      <td>-4.582490</td>\n",
       "      <td>-4.582490</td>\n",
       "      <td>1.025269</td>\n",
       "      <td>1.025269</td>\n",
       "      <td>1.025269</td>\n",
       "      <td>-5.607758</td>\n",
       "      <td>-5.607758</td>\n",
       "      <td>-5.607758</td>\n",
       "      <td>0.0</td>\n",
       "      <td>0.0</td>\n",
       "      <td>0.0</td>\n",
       "      <td>37.275291</td>\n",
       "    </tr>\n",
       "    <tr>\n",
       "      <th>1</th>\n",
       "      <td>2014-01-02</td>\n",
       "      <td>41.805823</td>\n",
       "      <td>34.270505</td>\n",
       "      <td>39.622047</td>\n",
       "      <td>41.805823</td>\n",
       "      <td>41.805823</td>\n",
       "      <td>-4.743177</td>\n",
       "      <td>-4.743177</td>\n",
       "      <td>-4.743177</td>\n",
       "      <td>0.996081</td>\n",
       "      <td>0.996081</td>\n",
       "      <td>0.996081</td>\n",
       "      <td>-5.739258</td>\n",
       "      <td>-5.739258</td>\n",
       "      <td>-5.739258</td>\n",
       "      <td>0.0</td>\n",
       "      <td>0.0</td>\n",
       "      <td>0.0</td>\n",
       "      <td>37.062646</td>\n",
       "    </tr>\n",
       "    <tr>\n",
       "      <th>2</th>\n",
       "      <td>2014-01-03</td>\n",
       "      <td>41.779844</td>\n",
       "      <td>34.328377</td>\n",
       "      <td>39.910786</td>\n",
       "      <td>41.779844</td>\n",
       "      <td>41.779844</td>\n",
       "      <td>-4.684596</td>\n",
       "      <td>-4.684596</td>\n",
       "      <td>-4.684596</td>\n",
       "      <td>1.092374</td>\n",
       "      <td>1.092374</td>\n",
       "      <td>1.092374</td>\n",
       "      <td>-5.776970</td>\n",
       "      <td>-5.776970</td>\n",
       "      <td>-5.776970</td>\n",
       "      <td>0.0</td>\n",
       "      <td>0.0</td>\n",
       "      <td>0.0</td>\n",
       "      <td>37.095249</td>\n",
       "    </tr>\n",
       "    <tr>\n",
       "      <th>3</th>\n",
       "      <td>2014-01-06</td>\n",
       "      <td>41.701908</td>\n",
       "      <td>34.065661</td>\n",
       "      <td>39.776060</td>\n",
       "      <td>41.701908</td>\n",
       "      <td>41.701908</td>\n",
       "      <td>-4.834598</td>\n",
       "      <td>-4.834598</td>\n",
       "      <td>-4.834598</td>\n",
       "      <td>0.952604</td>\n",
       "      <td>0.952604</td>\n",
       "      <td>0.952604</td>\n",
       "      <td>-5.787202</td>\n",
       "      <td>-5.787202</td>\n",
       "      <td>-5.787202</td>\n",
       "      <td>0.0</td>\n",
       "      <td>0.0</td>\n",
       "      <td>0.0</td>\n",
       "      <td>36.867310</td>\n",
       "    </tr>\n",
       "    <tr>\n",
       "      <th>4</th>\n",
       "      <td>2014-01-07</td>\n",
       "      <td>41.675929</td>\n",
       "      <td>34.130947</td>\n",
       "      <td>39.857514</td>\n",
       "      <td>41.675929</td>\n",
       "      <td>41.675929</td>\n",
       "      <td>-4.735842</td>\n",
       "      <td>-4.735842</td>\n",
       "      <td>-4.735842</td>\n",
       "      <td>1.025269</td>\n",
       "      <td>1.025269</td>\n",
       "      <td>1.025269</td>\n",
       "      <td>-5.761111</td>\n",
       "      <td>-5.761111</td>\n",
       "      <td>-5.761111</td>\n",
       "      <td>0.0</td>\n",
       "      <td>0.0</td>\n",
       "      <td>0.0</td>\n",
       "      <td>36.940087</td>\n",
       "    </tr>\n",
       "  </tbody>\n",
       "</table>\n",
       "</div>"
      ],
      "text/plain": [
       "          ds      trend  yhat_lower  yhat_upper  trend_lower  trend_upper  \\\n",
       "0 2013-12-31  41.857780   34.362387   40.066956    41.857780    41.857780   \n",
       "1 2014-01-02  41.805823   34.270505   39.622047    41.805823    41.805823   \n",
       "2 2014-01-03  41.779844   34.328377   39.910786    41.779844    41.779844   \n",
       "3 2014-01-06  41.701908   34.065661   39.776060    41.701908    41.701908   \n",
       "4 2014-01-07  41.675929   34.130947   39.857514    41.675929    41.675929   \n",
       "\n",
       "   additive_terms  additive_terms_lower  additive_terms_upper    weekly  \\\n",
       "0       -4.582490             -4.582490             -4.582490  1.025269   \n",
       "1       -4.743177             -4.743177             -4.743177  0.996081   \n",
       "2       -4.684596             -4.684596             -4.684596  1.092374   \n",
       "3       -4.834598             -4.834598             -4.834598  0.952604   \n",
       "4       -4.735842             -4.735842             -4.735842  1.025269   \n",
       "\n",
       "   weekly_lower  weekly_upper    yearly  yearly_lower  yearly_upper  \\\n",
       "0      1.025269      1.025269 -5.607758     -5.607758     -5.607758   \n",
       "1      0.996081      0.996081 -5.739258     -5.739258     -5.739258   \n",
       "2      1.092374      1.092374 -5.776970     -5.776970     -5.776970   \n",
       "3      0.952604      0.952604 -5.787202     -5.787202     -5.787202   \n",
       "4      1.025269      1.025269 -5.761111     -5.761111     -5.761111   \n",
       "\n",
       "   multiplicative_terms  multiplicative_terms_lower  \\\n",
       "0                   0.0                         0.0   \n",
       "1                   0.0                         0.0   \n",
       "2                   0.0                         0.0   \n",
       "3                   0.0                         0.0   \n",
       "4                   0.0                         0.0   \n",
       "\n",
       "   multiplicative_terms_upper       yhat  \n",
       "0                         0.0  37.275291  \n",
       "1                         0.0  37.062646  \n",
       "2                         0.0  37.095249  \n",
       "3                         0.0  36.867310  \n",
       "4                         0.0  36.940087  "
      ]
     },
     "execution_count": 21,
     "metadata": {},
     "output_type": "execute_result"
    }
   ],
   "source": [
    "forecast.head()"
   ]
  },
  {
   "cell_type": "code",
   "execution_count": 22,
   "metadata": {
    "colab": {
     "base_uri": "https://localhost:8080/",
     "height": 461
    },
    "colab_type": "code",
    "executionInfo": {
     "elapsed": 15223,
     "status": "ok",
     "timestamp": 1569561903995,
     "user": {
      "displayName": "佐川史弥",
      "photoUrl": "",
      "userId": "17735252083618003950"
     },
     "user_tz": -540
    },
    "id": "S4lt4z_wu-zW",
    "outputId": "ec51acb1-a9ce-442c-cb31-3cd660e866aa"
   },
   "outputs": [
    {
     "data": {
      "image/png": "[encoded data removed]",
      "text/plain": [
       "<Figure size 720x432 with 1 Axes>"
      ]
     },
     "metadata": {},
     "output_type": "display_data"
    }
   ],
   "source": [
    "model.plot(forecast)\n",
    "plt.show()"
   ]
  },
  {
   "cell_type": "code",
   "execution_count": 23,
   "metadata": {
    "colab": {
     "base_uri": "https://localhost:8080/",
     "height": 677
    },
    "colab_type": "code",
    "executionInfo": {
     "elapsed": 16595,
     "status": "ok",
     "timestamp": 1569561905405,
     "user": {
      "displayName": "佐川史弥",
      "photoUrl": "",
      "userId": "17735252083618003950"
     },
     "user_tz": -540
    },
    "id": "Mtb10w4Du-zY",
    "outputId": "475be706-3a68-48d8-8db4-bf3aca776c52"
   },
   "outputs": [
    {
     "data": {
      "image/png": "[encoded data removed]",
      "text/plain": [
       "<Figure size 648x648 with 3 Axes>"
      ]
     },
     "metadata": {},
     "output_type": "display_data"
    }
   ],
   "source": [
    "# トレンド性と周期性の抽出\n",
    "model.plot_components(forecast)\n",
    "plt.show()"
   ]
  }
 ],
 "metadata": {
  "accelerator": "GPU",
  "colab": {
   "name": "07_Keras_time_series.ipynb",
   "provenance": []
  },
  "kernelspec": {
   "display_name": "Python 3",
   "language": "python",
   "name": "python3"
  },
  "language_info": {
   "codemirror_mode": {
    "name": "ipython",
    "version": 3
   },
   "file_extension": ".py",
   "mimetype": "text/x-python",
   "name": "python",
   "nbconvert_exporter": "python",
   "pygments_lexer": "ipython3",
   "version": "3.6.9"
  }
 },
 "nbformat": 4,
 "nbformat_minor": 1
}
