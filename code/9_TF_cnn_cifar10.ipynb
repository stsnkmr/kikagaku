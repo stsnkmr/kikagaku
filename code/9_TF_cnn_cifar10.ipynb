{
 "cells": [
  {
   "cell_type": "markdown",
   "metadata": {
    "colab_type": "text",
    "id": "5CjRdGpf4bn5"
   },
   "source": [
    "# 画像のクラス分類２\n",
    "\n",
    "今回はMNISTよりも難易度の高いCifar10とよばれる１０種類の画像分類を行いましょう。\n",
    "\n",
    "ここでは、どのようなモデルの設計にすると精度が上がるのかといった検証を行っていただきます。"
   ]
  },
  {
   "cell_type": "markdown",
   "metadata": {
    "colab_type": "text",
    "id": "iRg1X-ve4bn6"
   },
   "source": [
    "## 必要なモジュールの読み込み\n",
    "\n",
    "numpyなどのライブラリやkerasでよく使うものは最初の段階で読み込んでおくと良いでしょう。"
   ]
  },
  {
   "cell_type": "code",
   "execution_count": 1,
   "metadata": {
    "colab": {},
    "colab_type": "code",
    "id": "zKupveGa4bn7"
   },
   "outputs": [],
   "source": [
    "%matplotlib inline\n",
    "import numpy as np\n",
    "import pandas as pd\n",
    "import matplotlib.pyplot as plt\n",
    "import random "
   ]
  },
  {
   "cell_type": "code",
   "execution_count": 2,
   "metadata": {
    "colab": {
     "base_uri": "https://localhost:8080/",
     "height": 35
    },
    "colab_type": "code",
    "executionInfo": {
     "elapsed": 4781,
     "status": "ok",
     "timestamp": 1569051674395,
     "user": {
      "displayName": "佐川史弥",
      "photoUrl": "",
      "userId": "17735252083618003950"
     },
     "user_tz": -540
    },
    "id": "SXVqNLPx4bn-",
    "outputId": "47bd555d-c37b-46ed-ecd5-76b1835a830d"
   },
   "outputs": [
    {
     "name": "stdout",
     "output_type": "stream",
     "text": [
      "2.0.0\n"
     ]
    }
   ],
   "source": [
    "# Pythonの挙動を整えるライブラリのインポート\n",
    "from __future__ import absolute_import, division, print_function, unicode_literals\n",
    "\n",
    "# TensorFlow と tf.keras のインポート\n",
    "import tensorflow as tf\n",
    "from tensorflow import keras\n",
    "\n",
    "print(tf.__version__)"
   ]
  },
  {
   "cell_type": "markdown",
   "metadata": {
    "colab_type": "text",
    "id": "sjg6v5wt4boB"
   },
   "source": [
    "## データセットの準備\n",
    "cifar10と呼ばれる有名なデータセットはkeras側ですでに用意されているため、今回はこちらを使いましょう。\n",
    "こちらでは、kerasで使用できるデータセットの形式で最初から読み込むことができるため、モデル構築の練習に専念することができます。"
   ]
  },
  {
   "cell_type": "code",
   "execution_count": 3,
   "metadata": {
    "colab": {},
    "colab_type": "code",
    "id": "N9Bps-aL4boB",
    "scrolled": true
   },
   "outputs": [],
   "source": [
    "from tensorflow.keras.datasets import cifar10"
   ]
  },
  {
   "cell_type": "code",
   "execution_count": 4,
   "metadata": {
    "colab": {
     "base_uri": "https://localhost:8080/",
     "height": 54
    },
    "colab_type": "code",
    "executionInfo": {
     "elapsed": 18173,
     "status": "ok",
     "timestamp": 1569052139380,
     "user": {
      "displayName": "佐川史弥",
      "photoUrl": "",
      "userId": "17735252083618003950"
     },
     "user_tz": -540
    },
    "id": "Rs8df7FL4boD",
    "outputId": "4eae00d5-5a15-47d1-9e1a-c57a269e2d10",
    "scrolled": true
   },
   "outputs": [],
   "source": [
    "(train_x, train_t), (test_x, test_t) = cifar10.load_data()"
   ]
  },
  {
   "cell_type": "code",
   "execution_count": 5,
   "metadata": {
    "colab": {
     "base_uri": "https://localhost:8080/",
     "height": 35
    },
    "colab_type": "code",
    "executionInfo": {
     "elapsed": 14382,
     "status": "ok",
     "timestamp": 1569052139381,
     "user": {
      "displayName": "佐川史弥",
      "photoUrl": "",
      "userId": "17735252083618003950"
     },
     "user_tz": -540
    },
    "id": "J5VguozV4boF",
    "outputId": "26bf6494-5315-4500-9454-f6fc88bb35cb"
   },
   "outputs": [
    {
     "data": {
      "text/plain": [
       "50000"
      ]
     },
     "execution_count": 5,
     "metadata": {},
     "output_type": "execute_result"
    }
   ],
   "source": [
    "len(train_x)"
   ]
  },
  {
   "cell_type": "code",
   "execution_count": 6,
   "metadata": {
    "colab": {
     "base_uri": "https://localhost:8080/",
     "height": 35
    },
    "colab_type": "code",
    "executionInfo": {
     "elapsed": 14042,
     "status": "ok",
     "timestamp": 1569052139381,
     "user": {
      "displayName": "佐川史弥",
      "photoUrl": "",
      "userId": "17735252083618003950"
     },
     "user_tz": -540
    },
    "id": "OXhDktCs4boI",
    "outputId": "4da3f920-2112-4a19-8f30-057c3076fb67",
    "scrolled": false
   },
   "outputs": [
    {
     "data": {
      "text/plain": [
       "10000"
      ]
     },
     "execution_count": 6,
     "metadata": {},
     "output_type": "execute_result"
    }
   ],
   "source": [
    "len(test_x)"
   ]
  },
  {
   "cell_type": "markdown",
   "metadata": {
    "colab_type": "text",
    "id": "tnrMefNh4boJ"
   },
   "source": [
    "## データセットの確認\n",
    "どのようなデータを使用しているのかを確認しておく癖をつけておきましょう。"
   ]
  },
  {
   "cell_type": "code",
   "execution_count": 7,
   "metadata": {
    "colab": {
     "base_uri": "https://localhost:8080/",
     "height": 35
    },
    "colab_type": "code",
    "executionInfo": {
     "elapsed": 10885,
     "status": "ok",
     "timestamp": 1569052139382,
     "user": {
      "displayName": "佐川史弥",
      "photoUrl": "",
      "userId": "17735252083618003950"
     },
     "user_tz": -540
    },
    "id": "BzvxbyV54boK",
    "outputId": "783cc19f-6799-4b77-86bf-2a32691a58e4"
   },
   "outputs": [
    {
     "data": {
      "text/plain": [
       "(50000, 32, 32, 3)"
      ]
     },
     "execution_count": 7,
     "metadata": {},
     "output_type": "execute_result"
    }
   ],
   "source": [
    "train_x.shape"
   ]
  },
  {
   "cell_type": "code",
   "execution_count": 8,
   "metadata": {
    "colab": {
     "base_uri": "https://localhost:8080/",
     "height": 35
    },
    "colab_type": "code",
    "executionInfo": {
     "elapsed": 10328,
     "status": "ok",
     "timestamp": 1569052139383,
     "user": {
      "displayName": "佐川史弥",
      "photoUrl": "",
      "userId": "17735252083618003950"
     },
     "user_tz": -540
    },
    "id": "qInscDgB4boM",
    "outputId": "d94b415a-3ac9-4010-8f91-31ff4a6bc11c"
   },
   "outputs": [
    {
     "data": {
      "text/plain": [
       "numpy.ndarray"
      ]
     },
     "execution_count": 8,
     "metadata": {},
     "output_type": "execute_result"
    }
   ],
   "source": [
    "type(train_x)"
   ]
  },
  {
   "cell_type": "code",
   "execution_count": 9,
   "metadata": {
    "colab": {
     "base_uri": "https://localhost:8080/",
     "height": 35
    },
    "colab_type": "code",
    "executionInfo": {
     "elapsed": 9972,
     "status": "ok",
     "timestamp": 1569052139384,
     "user": {
      "displayName": "佐川史弥",
      "photoUrl": "",
      "userId": "17735252083618003950"
     },
     "user_tz": -540
    },
    "id": "P7Yutsa-4boN",
    "outputId": "5988afd0-9607-473f-cae5-427ed5012f74",
    "scrolled": true
   },
   "outputs": [
    {
     "data": {
      "text/plain": [
       "dtype('uint8')"
      ]
     },
     "execution_count": 9,
     "metadata": {},
     "output_type": "execute_result"
    }
   ],
   "source": [
    "train_x.dtype"
   ]
  },
  {
   "cell_type": "markdown",
   "metadata": {
    "colab_type": "text",
    "id": "SPzjolpY4boQ"
   },
   "source": [
    "このようにtrain_xには画像が入っています。  \n",
    "実際にプロットして確認してみましょう。少しわかりにくいですが、こちらはカエルです。"
   ]
  },
  {
   "cell_type": "code",
   "execution_count": 10,
   "metadata": {
    "colab": {
     "base_uri": "https://localhost:8080/",
     "height": 287
    },
    "colab_type": "code",
    "executionInfo": {
     "elapsed": 9126,
     "status": "ok",
     "timestamp": 1569052139384,
     "user": {
      "displayName": "佐川史弥",
      "photoUrl": "",
      "userId": "17735252083618003950"
     },
     "user_tz": -540
    },
    "id": "Pr6_Kk9G4boQ",
    "outputId": "a2ca4f4f-7588-47d0-e72d-baf6e0bb20f7",
    "scrolled": true
   },
   "outputs": [
    {
     "data": {
      "text/plain": [
       "<matplotlib.image.AxesImage at 0x7f188f2de400>"
      ]
     },
     "execution_count": 10,
     "metadata": {},
     "output_type": "execute_result"
    },
    {
     "data": {
      "image/png": "[encoded data removed]",
      "text/plain": [
       "<Figure size 432x288 with 1 Axes>"
      ]
     },
     "metadata": {
      "needs_background": "light"
     },
     "output_type": "display_data"
    }
   ],
   "source": [
    "plt.imshow(train_x[0])"
   ]
  },
  {
   "cell_type": "markdown",
   "metadata": {
    "colab_type": "text",
    "id": "70RqLf-a4boT"
   },
   "source": [
    "train_tも確認しましょう。"
   ]
  },
  {
   "cell_type": "code",
   "execution_count": 11,
   "metadata": {
    "colab": {
     "base_uri": "https://localhost:8080/",
     "height": 35
    },
    "colab_type": "code",
    "executionInfo": {
     "elapsed": 5989,
     "status": "ok",
     "timestamp": 1569052139385,
     "user": {
      "displayName": "佐川史弥",
      "photoUrl": "",
      "userId": "17735252083618003950"
     },
     "user_tz": -540
    },
    "id": "fk_BYjbG4boT",
    "outputId": "ee1b4366-ce6d-4c7c-ff62-7a8ed38b60d4"
   },
   "outputs": [
    {
     "data": {
      "text/plain": [
       "(50000, 1)"
      ]
     },
     "execution_count": 11,
     "metadata": {},
     "output_type": "execute_result"
    }
   ],
   "source": [
    "train_t.shape"
   ]
  },
  {
   "cell_type": "code",
   "execution_count": 12,
   "metadata": {
    "colab": {
     "base_uri": "https://localhost:8080/",
     "height": 35
    },
    "colab_type": "code",
    "executionInfo": {
     "elapsed": 5843,
     "status": "ok",
     "timestamp": 1569052139385,
     "user": {
      "displayName": "佐川史弥",
      "photoUrl": "",
      "userId": "17735252083618003950"
     },
     "user_tz": -540
    },
    "id": "wFusmyUw4boV",
    "outputId": "3287e440-b5b4-4337-ab23-2085d011527a"
   },
   "outputs": [
    {
     "data": {
      "text/plain": [
       "numpy.ndarray"
      ]
     },
     "execution_count": 12,
     "metadata": {},
     "output_type": "execute_result"
    }
   ],
   "source": [
    "type(train_t)"
   ]
  },
  {
   "cell_type": "code",
   "execution_count": 13,
   "metadata": {
    "colab": {
     "base_uri": "https://localhost:8080/",
     "height": 35
    },
    "colab_type": "code",
    "executionInfo": {
     "elapsed": 5662,
     "status": "ok",
     "timestamp": 1569052139386,
     "user": {
      "displayName": "佐川史弥",
      "photoUrl": "",
      "userId": "17735252083618003950"
     },
     "user_tz": -540
    },
    "id": "8C61-II_4boW",
    "outputId": "8d62d640-fd7c-490e-f57f-9d40efee6edb",
    "scrolled": true
   },
   "outputs": [
    {
     "data": {
      "text/plain": [
       "dtype('uint8')"
      ]
     },
     "execution_count": 13,
     "metadata": {},
     "output_type": "execute_result"
    }
   ],
   "source": [
    "train_t.dtype"
   ]
  },
  {
   "cell_type": "code",
   "execution_count": 14,
   "metadata": {
    "colab": {
     "base_uri": "https://localhost:8080/",
     "height": 35
    },
    "colab_type": "code",
    "executionInfo": {
     "elapsed": 5487,
     "status": "ok",
     "timestamp": 1569052139386,
     "user": {
      "displayName": "佐川史弥",
      "photoUrl": "",
      "userId": "17735252083618003950"
     },
     "user_tz": -540
    },
    "id": "LJ4q-yU54boY",
    "outputId": "b12584c4-85fa-4305-f14e-fecf5c525e6a"
   },
   "outputs": [
    {
     "data": {
      "text/plain": [
       "array([6], dtype=uint8)"
      ]
     },
     "execution_count": 14,
     "metadata": {},
     "output_type": "execute_result"
    }
   ],
   "source": [
    "train_t[0]"
   ]
  },
  {
   "cell_type": "code",
   "execution_count": 15,
   "metadata": {
    "colab": {
     "base_uri": "https://localhost:8080/",
     "height": 35
    },
    "colab_type": "code",
    "executionInfo": {
     "elapsed": 5268,
     "status": "ok",
     "timestamp": 1569052139387,
     "user": {
      "displayName": "佐川史弥",
      "photoUrl": "",
      "userId": "17735252083618003950"
     },
     "user_tz": -540
    },
    "id": "QITxi2_-4boa",
    "outputId": "a0ec5ab3-a919-4d3e-dbba-a94f1fa0a9a2",
    "scrolled": true
   },
   "outputs": [
    {
     "data": {
      "text/plain": [
       "(50000, 1)"
      ]
     },
     "execution_count": 15,
     "metadata": {},
     "output_type": "execute_result"
    }
   ],
   "source": [
    "train_t.shape"
   ]
  },
  {
   "cell_type": "markdown",
   "metadata": {
    "colab_type": "text",
    "id": "xPex1GtF4bob"
   },
   "source": [
    "こちらのようにtrain_tはラベルであることがわかります。"
   ]
  },
  {
   "cell_type": "markdown",
   "metadata": {
    "colab_type": "text",
    "id": "9XAV73oQ4boc"
   },
   "source": [
    "### データの整形\n",
    "入力データの正規化と教師データのone-hotベクトル化を行いましょう。"
   ]
  },
  {
   "cell_type": "code",
   "execution_count": 16,
   "metadata": {
    "colab": {},
    "colab_type": "code",
    "id": "NmBrBn0a4boc"
   },
   "outputs": [],
   "source": [
    "from tensorflow.keras.utils import to_categorical\n",
    "\n",
    "# 特徴量の正規化\n",
    "train_x = train_x / 255\n",
    "test_x = test_x / 255\n",
    "\n",
    "# クラスラベルのone-hotベクトル化\n",
    "num_classes = 10\n",
    "train_t = to_categorical(train_t, num_classes)\n",
    "test_t =  to_categorical(test_t, num_classes)"
   ]
  },
  {
   "cell_type": "markdown",
   "metadata": {
    "colab_type": "text",
    "id": "Zus-IMZO4boe"
   },
   "source": [
    "##  モデルの定義\n",
    "今回はVGG16と呼ばれるImageNetのコンペティションで良い成績を上げた画像向けのCNNモデルを定義していきます。"
   ]
  },
  {
   "cell_type": "markdown",
   "metadata": {
    "colab_type": "text",
    "id": "sGb8maCg4bog"
   },
   "source": [
    "## シードの固定"
   ]
  },
  {
   "cell_type": "code",
   "execution_count": 17,
   "metadata": {
    "colab": {},
    "colab_type": "code",
    "id": "XAVhEDtT4boj"
   },
   "outputs": [],
   "source": [
    "import os\n",
    "import random\n",
    "\n",
    "def reset_seed(seed=0):\n",
    "    \n",
    "    os.environ['PYTHONHASHSEED'] = '0'\n",
    "    random.seed(seed) #　random関数のシードを固定\n",
    "    np.random.seed(seed) #numpyのシードを固定\n",
    "    tf.random.set_seed(seed) #tensorflowのシードを固定"
   ]
  },
  {
   "cell_type": "markdown",
   "metadata": {
    "colab_type": "text",
    "id": "Cb-QrlL3zKTf"
   },
   "source": [
    "## CNNモデルの定義"
   ]
  },
  {
   "cell_type": "code",
   "execution_count": 18,
   "metadata": {
    "colab": {},
    "colab_type": "code",
    "id": "eSFMEobs4boe"
   },
   "outputs": [],
   "source": [
    "# 必要なモジュールのインポート\n",
    "from tensorflow.keras import models,layers"
   ]
  },
  {
   "cell_type": "code",
   "execution_count": 19,
   "metadata": {
    "colab": {},
    "colab_type": "code",
    "id": "Y7U9LHIw4bom"
   },
   "outputs": [],
   "source": [
    "# シードの固定  => cuDNNの固定は？？\n",
    "np.random.seed(0)\n",
    "\n",
    "model = models.Sequential()\n",
    "\n",
    "model.add(layers.Conv2D(128, (3, 3), activation='relu', padding='same', input_shape=(32, 32, 3)))\n",
    "model.add(layers.BatchNormalization())\n",
    "model.add(layers.Dropout(0.4))\n",
    "model.add(layers.Conv2D(128, (3, 3), activation='relu', padding='same'))\n",
    "model.add(layers.BatchNormalization())\n",
    "model.add(layers.MaxPooling2D((2, 2), strides=(2, 2)))\n",
    "\n",
    "model.add(layers.Conv2D(256, (3, 3), activation='relu', padding='same'))\n",
    "model.add(layers.BatchNormalization())\n",
    "model.add(layers.Dropout(0.4))\n",
    "model.add(layers.Conv2D(256, (3, 3), activation='relu', padding='same'))\n",
    "model.add(layers.BatchNormalization())\n",
    "model.add(layers.Dropout(0.4))\n",
    "model.add(layers.Conv2D(256, (3, 3), activation='relu', padding='same'))\n",
    "model.add(layers.BatchNormalization())\n",
    "model.add(layers.MaxPooling2D((2, 2), strides=(2, 2)))\n",
    "\n",
    "model.add(layers.Conv2D(512, (3, 3), activation='relu', padding='same'))\n",
    "model.add(layers.BatchNormalization())\n",
    "model.add(layers.Dropout(0.4))\n",
    "model.add(layers.Conv2D(512, (3, 3), activation='relu', padding='same'))\n",
    "model.add(layers.BatchNormalization())\n",
    "model.add(layers.Dropout(0.4))\n",
    "model.add(layers.Conv2D(512, (3, 3), activation='relu', padding='same'))\n",
    "model.add(layers.BatchNormalization())\n",
    "model.add(layers.MaxPooling2D((2, 2), strides=(2, 2)))\n",
    "\n",
    "model.add(layers.Conv2D(512, (3, 3), activation='relu', padding='same'))\n",
    "model.add(layers.BatchNormalization())\n",
    "model.add(layers.Dropout(0.4))\n",
    "model.add(layers.Conv2D(512, (3, 3), activation='relu', padding='same'))\n",
    "model.add(layers.BatchNormalization())\n",
    "model.add(layers.Dropout(0.4))\n",
    "model.add(layers.Conv2D(512, (3, 3), activation='relu', padding='same'))\n",
    "model.add(layers.BatchNormalization())\n",
    "model.add(layers.MaxPooling2D((2, 2), strides=(2, 2)))\n",
    "\n",
    "model.add(layers.Flatten())\n",
    "model.add(layers.Dropout(0.5))\n",
    "model.add(layers.Dense(4096, activation='relu'))\n",
    "model.add(layers.BatchNormalization())\n",
    "model.add(layers.Dropout(0.5))\n",
    "model.add(layers.Dense(10, activation='softmax'))"
   ]
  },
  {
   "cell_type": "code",
   "execution_count": 20,
   "metadata": {
    "colab": {},
    "colab_type": "code",
    "id": "rRnYfaYF4boo"
   },
   "outputs": [],
   "source": [
    "model.compile(loss=keras.losses.categorical_crossentropy,\n",
    "              optimizer=keras.optimizers.SGD(),\n",
    "              metrics=['accuracy'])"
   ]
  },
  {
   "cell_type": "code",
   "execution_count": 21,
   "metadata": {
    "colab": {
     "base_uri": "https://localhost:8080/",
     "height": 1000
    },
    "colab_type": "code",
    "executionInfo": {
     "elapsed": 2324886,
     "status": "ok",
     "timestamp": 1569054946824,
     "user": {
      "displayName": "佐川史弥",
      "photoUrl": "",
      "userId": "17735252083618003950"
     },
     "user_tz": -540
    },
    "id": "lKi438h14bop",
    "outputId": "e38fad7a-c51b-40b4-a901-7f0941ed8269",
    "scrolled": true
   },
   "outputs": [
    {
     "name": "stdout",
     "output_type": "stream",
     "text": [
      "Train on 50000 samples, validate on 10000 samples\n",
      "Epoch 1/50\n",
      "50000/50000 [==============================] - 138s 3ms/sample - loss: 3.2402 - accuracy: 0.1428 - val_loss: 2.3286 - val_accuracy: 0.1000\n",
      "Epoch 2/50\n",
      "50000/50000 [==============================] - 97s 2ms/sample - loss: 2.6259 - accuracy: 0.2028 - val_loss: 2.3810 - val_accuracy: 0.1233\n",
      "Epoch 3/50\n",
      "50000/50000 [==============================] - 97s 2ms/sample - loss: 2.3315 - accuracy: 0.2458 - val_loss: 2.3722 - val_accuracy: 0.0993\n",
      "Epoch 4/50\n",
      "50000/50000 [==============================] - 97s 2ms/sample - loss: 2.1830 - accuracy: 0.2769 - val_loss: 2.3318 - val_accuracy: 0.1003\n",
      "Epoch 5/50\n",
      "50000/50000 [==============================] - 97s 2ms/sample - loss: 2.0526 - accuracy: 0.2968 - val_loss: 2.4554 - val_accuracy: 0.1018\n",
      "Epoch 6/50\n",
      "50000/50000 [==============================] - 97s 2ms/sample - loss: 1.9733 - accuracy: 0.3211 - val_loss: 2.7911 - val_accuracy: 0.1157\n",
      "Epoch 7/50\n",
      "50000/50000 [==============================] - 97s 2ms/sample - loss: 1.9041 - accuracy: 0.3379 - val_loss: 3.1631 - val_accuracy: 0.1288\n",
      "Epoch 8/50\n",
      "50000/50000 [==============================] - 96s 2ms/sample - loss: 1.8501 - accuracy: 0.3588 - val_loss: 3.2530 - val_accuracy: 0.1642\n",
      "Epoch 9/50\n",
      "50000/50000 [==============================] - 96s 2ms/sample - loss: 1.7905 - accuracy: 0.3769 - val_loss: 3.4129 - val_accuracy: 0.1744\n",
      "Epoch 10/50\n",
      "50000/50000 [==============================] - 96s 2ms/sample - loss: 1.7511 - accuracy: 0.3891 - val_loss: 3.1675 - val_accuracy: 0.1550\n",
      "Epoch 11/50\n",
      "50000/50000 [==============================] - 96s 2ms/sample - loss: 1.7016 - accuracy: 0.4051 - val_loss: 3.0965 - val_accuracy: 0.2031\n",
      "Epoch 12/50\n",
      "50000/50000 [==============================] - 97s 2ms/sample - loss: 1.6706 - accuracy: 0.4180 - val_loss: 2.9662 - val_accuracy: 0.2167\n",
      "Epoch 13/50\n",
      "50000/50000 [==============================] - 97s 2ms/sample - loss: 1.6448 - accuracy: 0.4263 - val_loss: 2.7964 - val_accuracy: 0.2317\n",
      "Epoch 14/50\n",
      "50000/50000 [==============================] - 96s 2ms/sample - loss: 1.6132 - accuracy: 0.4399 - val_loss: 3.0913 - val_accuracy: 0.2166\n",
      "Epoch 15/50\n",
      "50000/50000 [==============================] - 97s 2ms/sample - loss: 1.5802 - accuracy: 0.4489 - val_loss: 2.7137 - val_accuracy: 0.2555\n",
      "Epoch 16/50\n",
      "50000/50000 [==============================] - 96s 2ms/sample - loss: 1.5476 - accuracy: 0.4584 - val_loss: 3.0438 - val_accuracy: 0.2657\n",
      "Epoch 17/50\n",
      "50000/50000 [==============================] - 96s 2ms/sample - loss: 1.5273 - accuracy: 0.4670 - val_loss: 2.1737 - val_accuracy: 0.3300\n",
      "Epoch 18/50\n",
      "50000/50000 [==============================] - 97s 2ms/sample - loss: 1.5016 - accuracy: 0.4786 - val_loss: 2.3875 - val_accuracy: 0.3030\n",
      "Epoch 19/50\n",
      "50000/50000 [==============================] - 97s 2ms/sample - loss: 1.4752 - accuracy: 0.4894 - val_loss: 2.1119 - val_accuracy: 0.3703\n",
      "Epoch 20/50\n",
      "50000/50000 [==============================] - 97s 2ms/sample - loss: 1.4469 - accuracy: 0.5003 - val_loss: 2.6473 - val_accuracy: 0.2927\n",
      "Epoch 21/50\n",
      "50000/50000 [==============================] - 96s 2ms/sample - loss: 1.4221 - accuracy: 0.5054 - val_loss: 2.8120 - val_accuracy: 0.2845\n",
      "Epoch 22/50\n",
      "50000/50000 [==============================] - 96s 2ms/sample - loss: 1.4009 - accuracy: 0.5143 - val_loss: 2.7747 - val_accuracy: 0.3191\n",
      "Epoch 23/50\n",
      "50000/50000 [==============================] - 97s 2ms/sample - loss: 1.3719 - accuracy: 0.5241 - val_loss: 2.8206 - val_accuracy: 0.2921\n",
      "Epoch 24/50\n",
      "50000/50000 [==============================] - 96s 2ms/sample - loss: 1.3417 - accuracy: 0.5325 - val_loss: 2.4395 - val_accuracy: 0.3729\n",
      "Epoch 25/50\n",
      "50000/50000 [==============================] - 97s 2ms/sample - loss: 1.3303 - accuracy: 0.5398 - val_loss: 2.1345 - val_accuracy: 0.4086\n",
      "Epoch 26/50\n",
      "50000/50000 [==============================] - 96s 2ms/sample - loss: 1.3146 - accuracy: 0.5459 - val_loss: 1.5600 - val_accuracy: 0.4732\n",
      "Epoch 27/50\n",
      "50000/50000 [==============================] - 96s 2ms/sample - loss: 1.2992 - accuracy: 0.5557 - val_loss: 1.8631 - val_accuracy: 0.4653\n",
      "Epoch 28/50\n",
      "50000/50000 [==============================] - 96s 2ms/sample - loss: 1.2704 - accuracy: 0.5637 - val_loss: 2.2065 - val_accuracy: 0.4137\n",
      "Epoch 29/50\n",
      "50000/50000 [==============================] - 96s 2ms/sample - loss: 1.2580 - accuracy: 0.5644 - val_loss: 2.0738 - val_accuracy: 0.4228\n",
      "Epoch 30/50\n",
      "50000/50000 [==============================] - 96s 2ms/sample - loss: 1.2346 - accuracy: 0.5754 - val_loss: 1.7930 - val_accuracy: 0.4479\n",
      "Epoch 31/50\n",
      "50000/50000 [==============================] - 96s 2ms/sample - loss: 1.2221 - accuracy: 0.5796 - val_loss: 1.7739 - val_accuracy: 0.4485\n",
      "Epoch 32/50\n",
      "50000/50000 [==============================] - 97s 2ms/sample - loss: 1.2064 - accuracy: 0.5846 - val_loss: 1.9779 - val_accuracy: 0.4572\n",
      "Epoch 33/50\n",
      "50000/50000 [==============================] - 97s 2ms/sample - loss: 1.1932 - accuracy: 0.5893 - val_loss: 1.9722 - val_accuracy: 0.4444\n",
      "Epoch 34/50\n",
      "50000/50000 [==============================] - 96s 2ms/sample - loss: 1.1860 - accuracy: 0.5968 - val_loss: 2.2421 - val_accuracy: 0.4233\n",
      "Epoch 35/50\n",
      "50000/50000 [==============================] - 97s 2ms/sample - loss: 1.1722 - accuracy: 0.6001 - val_loss: 2.0867 - val_accuracy: 0.4357\n",
      "Epoch 36/50\n",
      "50000/50000 [==============================] - 96s 2ms/sample - loss: 1.1488 - accuracy: 0.6061 - val_loss: 2.4544 - val_accuracy: 0.3985\n",
      "Epoch 37/50\n",
      "50000/50000 [==============================] - 97s 2ms/sample - loss: 1.1354 - accuracy: 0.6115 - val_loss: 2.0317 - val_accuracy: 0.4376\n",
      "Epoch 38/50\n",
      "50000/50000 [==============================] - 96s 2ms/sample - loss: 1.1110 - accuracy: 0.6165 - val_loss: 1.8746 - val_accuracy: 0.4594\n",
      "Epoch 39/50\n",
      "50000/50000 [==============================] - 96s 2ms/sample - loss: 1.1134 - accuracy: 0.6177 - val_loss: 2.0671 - val_accuracy: 0.4493\n",
      "Epoch 40/50\n",
      "50000/50000 [==============================] - 97s 2ms/sample - loss: 1.0999 - accuracy: 0.6261 - val_loss: 1.9660 - val_accuracy: 0.4984\n",
      "Epoch 41/50\n",
      "50000/50000 [==============================] - 96s 2ms/sample - loss: 1.0800 - accuracy: 0.6297 - val_loss: 2.3800 - val_accuracy: 0.4474\n",
      "Epoch 42/50\n",
      "50000/50000 [==============================] - 97s 2ms/sample - loss: 1.0682 - accuracy: 0.6355 - val_loss: 2.0024 - val_accuracy: 0.4554\n",
      "Epoch 43/50\n",
      "50000/50000 [==============================] - 97s 2ms/sample - loss: 1.0588 - accuracy: 0.6341 - val_loss: 2.5059 - val_accuracy: 0.4173\n",
      "Epoch 44/50\n",
      "50000/50000 [==============================] - 96s 2ms/sample - loss: 1.0520 - accuracy: 0.6407 - val_loss: 1.8676 - val_accuracy: 0.4764\n",
      "Epoch 45/50\n",
      "50000/50000 [==============================] - 96s 2ms/sample - loss: 1.0345 - accuracy: 0.6472 - val_loss: 2.2033 - val_accuracy: 0.4671\n",
      "Epoch 46/50\n",
      "50000/50000 [==============================] - 97s 2ms/sample - loss: 1.0316 - accuracy: 0.6477 - val_loss: 1.8936 - val_accuracy: 0.4740\n",
      "Epoch 47/50\n",
      "50000/50000 [==============================] - 96s 2ms/sample - loss: 1.0174 - accuracy: 0.6491 - val_loss: 2.2807 - val_accuracy: 0.4630\n",
      "Epoch 48/50\n",
      "50000/50000 [==============================] - 96s 2ms/sample - loss: 1.0094 - accuracy: 0.6546 - val_loss: 1.9695 - val_accuracy: 0.5255\n",
      "Epoch 49/50\n",
      "50000/50000 [==============================] - 97s 2ms/sample - loss: 1.0029 - accuracy: 0.6575 - val_loss: 2.1883 - val_accuracy: 0.4799\n",
      "Epoch 50/50\n",
      "50000/50000 [==============================] - 97s 2ms/sample - loss: 0.9957 - accuracy: 0.6573 - val_loss: 2.0386 - val_accuracy: 0.4421\n"
     ]
    },
    {
     "data": {
      "text/plain": [
       "<tensorflow.python.keras.callbacks.History at 0x7f17ec21cf60>"
      ]
     },
     "execution_count": 21,
     "metadata": {},
     "output_type": "execute_result"
    }
   ],
   "source": [
    "epoch = 50\n",
    "batchsize = 1024\n",
    "\n",
    "# 学習\n",
    "model.fit(train_x, train_t,\n",
    "          batch_size=batchsize,\n",
    "          epochs=epoch,\n",
    "          verbose=1,\n",
    "          validation_data=(test_x, test_t))"
   ]
  },
  {
   "cell_type": "code",
   "execution_count": 22,
   "metadata": {
    "colab": {
     "base_uri": "https://localhost:8080/",
     "height": 287
    },
    "colab_type": "code",
    "executionInfo": {
     "elapsed": 1801,
     "status": "ok",
     "timestamp": 1569054948651,
     "user": {
      "displayName": "佐川史弥",
      "photoUrl": "",
      "userId": "17735252083618003950"
     },
     "user_tz": -540
    },
    "id": "uUV6-IUW4bor",
    "outputId": "8cf76a3f-9f71-43e6-ac55-55c866485bfa"
   },
   "outputs": [
    {
     "data": {
      "text/plain": [
       "<matplotlib.axes._subplots.AxesSubplot at 0x7f19092c0240>"
      ]
     },
     "execution_count": 22,
     "metadata": {},
     "output_type": "execute_result"
    },
    {
     "data": {
      "image/png": "[encoded data removed]",
      "text/plain": [
       "<Figure size 432x288 with 1 Axes>"
      ]
     },
     "metadata": {
      "needs_background": "light"
     },
     "output_type": "display_data"
    }
   ],
   "source": [
    "# 学習結果をPandasのDataFrame型で読み込みます。\n",
    "results = pd.DataFrame(model.history.history)\n",
    "\n",
    "# loss（損失関数）を表示\n",
    "results[['loss', 'val_loss']].plot()"
   ]
  },
  {
   "cell_type": "code",
   "execution_count": 23,
   "metadata": {
    "colab": {
     "base_uri": "https://localhost:8080/",
     "height": 287
    },
    "colab_type": "code",
    "executionInfo": {
     "elapsed": 2376,
     "status": "ok",
     "timestamp": 1569054949239,
     "user": {
      "displayName": "佐川史弥",
      "photoUrl": "",
      "userId": "17735252083618003950"
     },
     "user_tz": -540
    },
    "id": "sQjs9_nB4bow",
    "outputId": "22dc48e4-2869-4c79-c0ba-c2d7042c5915",
    "scrolled": true
   },
   "outputs": [
    {
     "data": {
      "text/plain": [
       "<matplotlib.axes._subplots.AxesSubplot at 0x7f18ecefa908>"
      ]
     },
     "execution_count": 23,
     "metadata": {},
     "output_type": "execute_result"
    },
    {
     "data": {
      "image/png": "[encoded data removed]",
      "text/plain": [
       "<Figure size 432x288 with 1 Axes>"
      ]
     },
     "metadata": {
      "needs_background": "light"
     },
     "output_type": "display_data"
    }
   ],
   "source": [
    "# accuracy（精度）を表示\n",
    "results[['accuracy', 'val_accuracy']].plot()"
   ]
  }
 ],
 "metadata": {
  "accelerator": "GPU",
  "colab": {
   "name": "06_Keras_cnn_cifar10.ipynb",
   "provenance": []
  },
  "kernelspec": {
   "display_name": "Python 3",
   "language": "python",
   "name": "python3"
  },
  "language_info": {
   "codemirror_mode": {
    "name": "ipython",
    "version": 3
   },
   "file_extension": ".py",
   "mimetype": "text/x-python",
   "name": "python",
   "nbconvert_exporter": "python",
   "pygments_lexer": "ipython3",
   "version": "3.6.9"
  }
 },
 "nbformat": 4,
 "nbformat_minor": 1
}
