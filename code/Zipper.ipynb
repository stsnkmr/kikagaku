{
 "cells": [
  {
   "cell_type": "code",
   "execution_count": 6,
   "metadata": {},
   "outputs": [
    {
     "name": "stdout",
     "output_type": "stream",
     "text": [
      "folder: data\n",
      "subfolders: ['cat', 'dog']\n",
      "files: ['wine_class.csv', '_DS_Store', '.DS_Store', 'housing.csv', 'sample.png', 'text.zip']\n",
      "folder: data/cat\n",
      "subfolders: []\n",
      "files: ['115.jpg', '262.jpg', '94.jpg', '13.jpg', '3.jpg', '146.jpg', '128.jpg', '53.jpg', '16.jpg', '310.jpg', '144.jpg', '91.jpg', '90.jpg', '302.jpg', '224.jpg', '275.jpg', '69.jpg', '99.jpg', '290.jpg', '119.jpg', '134.jpg', '103.jpg', '277.jpg', '280.jpg', '52.jpg', '48.jpg', '75.jpg', '21.jpg', '153.jpg', '117.jpg', '131.jpg', '256.jpg', '105.jpg', '179.jpg', '55.jpg', '170.jpg', '162.jpg', '231.jpg', '5.jpg', '33.jpg', '111.jpg', '254.jpg', '311.jpg', '76.jpg', '59.jpg', '142.jpg', '242.jpg', '198.jpg', '220.jpg', '89.jpg', '39.jpg', '241.jpg', '18.jpg', '270.jpg', '143.jpg', '106.jpg', '104.jpg', '158.jpg', '267.jpg', '252.jpg', '181.jpg', '125.jpg', '11.jpg', '10.jpg', '135.jpg', '257.jpg', '166.jpg', '182.jpg', '190.jpg', '222.jpg', '161.jpg', '197.jpg', '229.jpg', '80.jpg', '279.jpg', '2.jpg', '45.jpg', '195.jpg', '34.jpg', '200.jpg', '38.jpg', '155.jpg', '114.jpg', '122.jpg', '304.jpg', '49.jpg', '58.jpg', '6.jpg', '123.jpg', '84.jpg', '133.jpg', '176.jpg', '37.jpg', '109.jpg', '8.jpg', '116.jpg', '92.jpg', '62.jpg', '121.jpg', '240.jpg', '36.jpg', '66.jpg', '68.jpg', '126.jpg', '72.jpg', '71.jpg', '30.jpg', '100.jpg', '248.jpg', '79.jpg', '154.jpg', '255.jpg', '174.jpg', '0.jpg', '191.jpg', '61.jpg', '78.jpg', '56.jpg', '225.jpg', '82.jpg', '132.jpg', '288.jpg', '118.jpg', '73.jpg', '282.jpg', '112.jpg', '147.jpg', '171.jpg', '70.jpg', '43.jpg', '269.jpg', '81.jpg', '88.jpg', '296.jpg', '145.jpg', '97.jpg', '20.jpg', '139.jpg', '19.jpg', '189.jpg', '233.jpg', '284.jpg', '272.jpg', '173.jpg', '141.jpg', '260.jpg', '175.jpg', '208.jpg', '192.jpg', '14.jpg', '110.jpg', '107.jpg', '251.jpg', '31.jpg', '24.jpg', '40.jpg', '205.jpg', '140.jpg', '44.jpg', '57.jpg', '184.jpg', '12.jpg', '177.jpg', '265.jpg', '127.jpg', '150.jpg', '237.jpg', '137.jpg', '7.jpg', '95.jpg', '165.jpg', '167.jpg', '273.jpg', '209.jpg', '211.jpg', '228.jpg', '1.jpg', '213.jpg', '285.jpg', '54.jpg', '28.jpg', '42.jpg', '113.jpg', '235.jpg', '258.jpg', '263.jpg', '32.jpg', '85.jpg', '207.jpg', '50.jpg', '102.jpg', '152.jpg', '93.jpg', '163.jpg', '227.jpg', '86.jpg', '22.jpg', '15.jpg', '238.jpg', '17.jpg', '249.jpg', '120.jpg', '297.jpg', '312.jpg', '108.jpg', '67.jpg', '234.jpg', '4.jpg', '306.jpg', '65.jpg', '87.jpg', '83.jpg', '41.jpg', '169.jpg', '188.jpg', '283.jpg', '26.jpg', '230.jpg', '278.jpg', '259.jpg', '232.jpg', '159.jpg', '25.jpg', '130.jpg', '223.jpg', '151.jpg', '138.jpg', '129.jpg', '74.jpg', '307.jpg', '98.jpg', '47.jpg', '136.jpg', '247.jpg', '35.jpg', '264.jpg', '293.jpg', '261.jpg', '185.jpg', '60.jpg', '124.jpg', '148.jpg', '46.jpg', '9.jpg', '193.jpg', '183.jpg', '236.jpg', '63.jpg', '219.jpg', '96.jpg']\n",
      "folder: data/dog\n",
      "subfolders: []\n",
      "files: ['308.jpg', '376.jpg', '180.jpg', '353.jpg', '194.jpg', '13.jpg', '343.jpg', '3.jpg', '146.jpg', '53.jpg', '396.jpg', '16.jpg', '310.jpg', '144.jpg', '91.jpg', '90.jpg', '69.jpg', '77.jpg', '290.jpg', '390.jpg', '321.jpg', '27.jpg', '277.jpg', '318.jpg', '75.jpg', '21.jpg', '153.jpg', '179.jpg', '55.jpg', '5.jpg', '244.jpg', '33.jpg', '206.jpg', '254.jpg', '76.jpg', '59.jpg', '142.jpg', '242.jpg', '198.jpg', '220.jpg', '89.jpg', '39.jpg', '241.jpg', '18.jpg', '252.jpg', '125.jpg', '164.jpg', '253.jpg', '317.jpg', '429.jpg', '257.jpg', '166.jpg', '190.jpg', '222.jpg', '403.jpg', '229.jpg', '80.jpg', '279.jpg', '2.jpg', '45.jpg', '195.jpg', '199.jpg', '358.jpg', '34.jpg', '200.jpg', '38.jpg', '212.jpg', '218.jpg', '365.jpg', '49.jpg', '350.jpg', '368.jpg', '58.jpg', '6.jpg', '123.jpg', '84.jpg', '133.jpg', '332.jpg', '37.jpg', '221.jpg', '109.jpg', '245.jpg', '419.jpg', '8.jpg', '439.jpg', '92.jpg', '215.jpg', '240.jpg', '425.jpg', '36.jpg', '66.jpg', '319.jpg', '68.jpg', '126.jpg', '29.jpg', '72.jpg', '71.jpg', '30.jpg', '373.jpg', '428.jpg', '154.jpg', '255.jpg', '174.jpg', '0.jpg', '341.jpg', '191.jpg', '61.jpg', '78.jpg', '56.jpg', '225.jpg', '366.jpg', '357.jpg', '298.jpg', '132.jpg', '73.jpg', '147.jpg', '171.jpg', '295.jpg', '70.jpg', '43.jpg', '294.jpg', '423.jpg', '88.jpg', '296.jpg', '145.jpg', '20.jpg', '217.jpg', '139.jpg', '19.jpg', '430.jpg', '443.jpg', '187.jpg', '189.jpg', '233.jpg', '354.jpg', '414.jpg', '369.jpg', '432.jpg', '260.jpg', '175.jpg', '208.jpg', '292.jpg', '337.jpg', '192.jpg', '14.jpg', '303.jpg', '31.jpg', '24.jpg', '40.jpg', '205.jpg', '140.jpg', '44.jpg', '57.jpg', '184.jpg', '12.jpg', '172.jpg', '409.jpg', '445.jpg', '216.jpg', '177.jpg', '386.jpg', '342.jpg', '150.jpg', '237.jpg', '7.jpg', '165.jpg', '167.jpg', '273.jpg', '209.jpg', '393.jpg', '211.jpg', '250.jpg', '64.jpg', '1.jpg', '322.jpg', '213.jpg', '285.jpg', '54.jpg', '391.jpg', '28.jpg', '42.jpg', '399.jpg', '32.jpg', '85.jpg', '50.jpg', '246.jpg', '152.jpg', '163.jpg', '227.jpg', '411.jpg', '405.jpg', '377.jpg', '86.jpg', '408.jpg', '22.jpg', '15.jpg', '17.jpg', '249.jpg', '196.jpg', '316.jpg', '234.jpg', '281.jpg', '4.jpg', '306.jpg', '380.jpg', '364.jpg', '23.jpg', '339.jpg', '83.jpg', '41.jpg', '226.jpg', '329.jpg', '188.jpg', '283.jpg', '201.jpg', '26.jpg', '230.jpg', '346.jpg', '441.jpg', '259.jpg', '232.jpg', '291.jpg', '25.jpg', '309.jpg', '130.jpg', '387.jpg', '395.jpg', '149.jpg', '223.jpg', '210.jpg', '138.jpg', '202.jpg', '129.jpg', '433.jpg', '435.jpg', '379.jpg', '328.jpg', '47.jpg', '247.jpg', '35.jpg', '293.jpg', '60.jpg', '124.jpg', '323.jpg', '148.jpg', '46.jpg', '9.jpg', '183.jpg', '236.jpg', '63.jpg']\n"
     ]
    }
   ],
   "source": [
    "import os\n",
    "for folder, subfolders, files in os.walk('data'):\n",
    "    print('folder: {}'.format(folder))\n",
    "    print('subfolders: {}'.format(subfolders))\n",
    "    print('files: {}'.format(files))"
   ]
  },
  {
   "cell_type": "code",
   "execution_count": 7,
   "metadata": {},
   "outputs": [
    {
     "ename": "FileNotFoundError",
     "evalue": "[Errno 2] No such file or directory: 'wine_class.csv'",
     "output_type": "error",
     "traceback": [
      "\u001b[0;31m---------------------------------------------------------------------------\u001b[0m",
      "\u001b[0;31mFileNotFoundError\u001b[0m                         Traceback (most recent call last)",
      "\u001b[0;32m<ipython-input-7-f879442fd652>\u001b[0m in \u001b[0;36m<module>\u001b[0;34m\u001b[0m\n\u001b[1;32m      4\u001b[0m         \u001b[0mmyzip\u001b[0m\u001b[0;34m.\u001b[0m\u001b[0mwrite\u001b[0m\u001b[0;34m(\u001b[0m\u001b[0mfolder\u001b[0m\u001b[0;34m)\u001b[0m\u001b[0;34m\u001b[0m\u001b[0;34m\u001b[0m\u001b[0m\n\u001b[1;32m      5\u001b[0m         \u001b[0;32mfor\u001b[0m \u001b[0mfile\u001b[0m \u001b[0;32min\u001b[0m \u001b[0mfiles\u001b[0m\u001b[0;34m:\u001b[0m\u001b[0;34m\u001b[0m\u001b[0;34m\u001b[0m\u001b[0m\n\u001b[0;32m----> 6\u001b[0;31m             \u001b[0mmyzip\u001b[0m\u001b[0;34m.\u001b[0m\u001b[0mwrite\u001b[0m\u001b[0;34m(\u001b[0m\u001b[0mfile\u001b[0m\u001b[0;34m)\u001b[0m\u001b[0;34m\u001b[0m\u001b[0;34m\u001b[0m\u001b[0m\n\u001b[0m",
      "\u001b[0;32m/usr/lib/python3.6/zipfile.py\u001b[0m in \u001b[0;36mwrite\u001b[0;34m(self, filename, arcname, compress_type)\u001b[0m\n\u001b[1;32m   1615\u001b[0m             )\n\u001b[1;32m   1616\u001b[0m \u001b[0;34m\u001b[0m\u001b[0m\n\u001b[0;32m-> 1617\u001b[0;31m         \u001b[0mzinfo\u001b[0m \u001b[0;34m=\u001b[0m \u001b[0mZipInfo\u001b[0m\u001b[0;34m.\u001b[0m\u001b[0mfrom_file\u001b[0m\u001b[0;34m(\u001b[0m\u001b[0mfilename\u001b[0m\u001b[0;34m,\u001b[0m \u001b[0marcname\u001b[0m\u001b[0;34m)\u001b[0m\u001b[0;34m\u001b[0m\u001b[0;34m\u001b[0m\u001b[0m\n\u001b[0m\u001b[1;32m   1618\u001b[0m \u001b[0;34m\u001b[0m\u001b[0m\n\u001b[1;32m   1619\u001b[0m         \u001b[0;32mif\u001b[0m \u001b[0mzinfo\u001b[0m\u001b[0;34m.\u001b[0m\u001b[0mis_dir\u001b[0m\u001b[0;34m(\u001b[0m\u001b[0;34m)\u001b[0m\u001b[0;34m:\u001b[0m\u001b[0;34m\u001b[0m\u001b[0;34m\u001b[0m\u001b[0m\n",
      "\u001b[0;32m/usr/lib/python3.6/zipfile.py\u001b[0m in \u001b[0;36mfrom_file\u001b[0;34m(cls, filename, arcname)\u001b[0m\n\u001b[1;32m    505\u001b[0m         \u001b[0;32mif\u001b[0m \u001b[0misinstance\u001b[0m\u001b[0;34m(\u001b[0m\u001b[0mfilename\u001b[0m\u001b[0;34m,\u001b[0m \u001b[0mos\u001b[0m\u001b[0;34m.\u001b[0m\u001b[0mPathLike\u001b[0m\u001b[0;34m)\u001b[0m\u001b[0;34m:\u001b[0m\u001b[0;34m\u001b[0m\u001b[0;34m\u001b[0m\u001b[0m\n\u001b[1;32m    506\u001b[0m             \u001b[0mfilename\u001b[0m \u001b[0;34m=\u001b[0m \u001b[0mos\u001b[0m\u001b[0;34m.\u001b[0m\u001b[0mfspath\u001b[0m\u001b[0;34m(\u001b[0m\u001b[0mfilename\u001b[0m\u001b[0;34m)\u001b[0m\u001b[0;34m\u001b[0m\u001b[0;34m\u001b[0m\u001b[0m\n\u001b[0;32m--> 507\u001b[0;31m         \u001b[0mst\u001b[0m \u001b[0;34m=\u001b[0m \u001b[0mos\u001b[0m\u001b[0;34m.\u001b[0m\u001b[0mstat\u001b[0m\u001b[0;34m(\u001b[0m\u001b[0mfilename\u001b[0m\u001b[0;34m)\u001b[0m\u001b[0;34m\u001b[0m\u001b[0;34m\u001b[0m\u001b[0m\n\u001b[0m\u001b[1;32m    508\u001b[0m         \u001b[0misdir\u001b[0m \u001b[0;34m=\u001b[0m \u001b[0mstat\u001b[0m\u001b[0;34m.\u001b[0m\u001b[0mS_ISDIR\u001b[0m\u001b[0;34m(\u001b[0m\u001b[0mst\u001b[0m\u001b[0;34m.\u001b[0m\u001b[0mst_mode\u001b[0m\u001b[0;34m)\u001b[0m\u001b[0;34m\u001b[0m\u001b[0;34m\u001b[0m\u001b[0m\n\u001b[1;32m    509\u001b[0m         \u001b[0mmtime\u001b[0m \u001b[0;34m=\u001b[0m \u001b[0mtime\u001b[0m\u001b[0;34m.\u001b[0m\u001b[0mlocaltime\u001b[0m\u001b[0;34m(\u001b[0m\u001b[0mst\u001b[0m\u001b[0;34m.\u001b[0m\u001b[0mst_mtime\u001b[0m\u001b[0;34m)\u001b[0m\u001b[0;34m\u001b[0m\u001b[0;34m\u001b[0m\u001b[0m\n",
      "\u001b[0;31mFileNotFoundError\u001b[0m: [Errno 2] No such file or directory: 'wine_class.csv'"
     ]
    }
   ],
   "source": [
    "import os, zipfile\n",
    "with zipfile.ZipFile('data.zip','w') as myzip:\n",
    "    for folder, subfolders, files in os.walk('data'):\n",
    "        myzip.write(folder)\n",
    "        for file in files:\n",
    "            myzip.write(file)"
   ]
  },
  {
   "cell_type": "code",
   "execution_count": null,
   "metadata": {},
   "outputs": [],
   "source": []
  }
 ],
 "metadata": {
  "kernelspec": {
   "display_name": "Python 3",
   "language": "python",
   "name": "python3"
  },
  "language_info": {
   "codemirror_mode": {
    "name": "ipython",
    "version": 3
   },
   "file_extension": ".py",
   "mimetype": "text/x-python",
   "name": "python",
   "nbconvert_exporter": "python",
   "pygments_lexer": "ipython3",
   "version": "3.6.9"
  }
 },
 "nbformat": 4,
 "nbformat_minor": 2
}
