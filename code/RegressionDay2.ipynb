{
 "cells": [
  {
   "cell_type": "code",
   "execution_count": 1,
   "metadata": {},
   "outputs": [],
   "source": [
    "#必要なモジュールのインポート\n",
    "import numpy as np\n",
    "import pandas as pd\n",
    "import matplotlib.pyplot as plt\n",
    "%matplotlib inline"
   ]
  },
  {
   "cell_type": "code",
   "execution_count": 2,
   "metadata": {},
   "outputs": [],
   "source": [
    "#CSVファイルの読み込み\n",
    "df = pd.read_csv('data/housing.csv')"
   ]
  },
  {
   "cell_type": "code",
   "execution_count": 18,
   "metadata": {},
   "outputs": [
    {
     "data": {
      "text/html": [
       "<div>\n",
       "<style scoped>\n",
       "    .dataframe tbody tr th:only-of-type {\n",
       "        vertical-align: middle;\n",
       "    }\n",
       "\n",
       "    .dataframe tbody tr th {\n",
       "        vertical-align: top;\n",
       "    }\n",
       "\n",
       "    .dataframe thead th {\n",
       "        text-align: right;\n",
       "    }\n",
       "</style>\n",
       "<table border=\"1\" class=\"dataframe\">\n",
       "  <thead>\n",
       "    <tr style=\"text-align: right;\">\n",
       "      <th></th>\n",
       "      <th>x1</th>\n",
       "      <th>x2</th>\n",
       "      <th>x3</th>\n",
       "      <th>x4</th>\n",
       "      <th>x5</th>\n",
       "      <th>x6</th>\n",
       "      <th>x7</th>\n",
       "      <th>x8</th>\n",
       "      <th>x9</th>\n",
       "      <th>x10</th>\n",
       "      <th>x11</th>\n",
       "      <th>x12</th>\n",
       "      <th>x13</th>\n",
       "      <th>y</th>\n",
       "    </tr>\n",
       "  </thead>\n",
       "  <tbody>\n",
       "    <tr>\n",
       "      <th>0</th>\n",
       "      <td>0.00632</td>\n",
       "      <td>18.0</td>\n",
       "      <td>2.31</td>\n",
       "      <td>0</td>\n",
       "      <td>0.538</td>\n",
       "      <td>6.575</td>\n",
       "      <td>65.2</td>\n",
       "      <td>4.0900</td>\n",
       "      <td>1</td>\n",
       "      <td>296</td>\n",
       "      <td>15.3</td>\n",
       "      <td>396.90</td>\n",
       "      <td>4.98</td>\n",
       "      <td>24.0</td>\n",
       "    </tr>\n",
       "    <tr>\n",
       "      <th>1</th>\n",
       "      <td>0.02731</td>\n",
       "      <td>0.0</td>\n",
       "      <td>7.07</td>\n",
       "      <td>0</td>\n",
       "      <td>0.469</td>\n",
       "      <td>6.421</td>\n",
       "      <td>78.9</td>\n",
       "      <td>4.9671</td>\n",
       "      <td>2</td>\n",
       "      <td>242</td>\n",
       "      <td>17.8</td>\n",
       "      <td>396.90</td>\n",
       "      <td>9.14</td>\n",
       "      <td>21.6</td>\n",
       "    </tr>\n",
       "    <tr>\n",
       "      <th>2</th>\n",
       "      <td>0.02729</td>\n",
       "      <td>0.0</td>\n",
       "      <td>7.07</td>\n",
       "      <td>0</td>\n",
       "      <td>0.469</td>\n",
       "      <td>7.185</td>\n",
       "      <td>61.1</td>\n",
       "      <td>4.9671</td>\n",
       "      <td>2</td>\n",
       "      <td>242</td>\n",
       "      <td>17.8</td>\n",
       "      <td>392.83</td>\n",
       "      <td>4.03</td>\n",
       "      <td>34.7</td>\n",
       "    </tr>\n",
       "    <tr>\n",
       "      <th>3</th>\n",
       "      <td>0.03237</td>\n",
       "      <td>0.0</td>\n",
       "      <td>2.18</td>\n",
       "      <td>0</td>\n",
       "      <td>0.458</td>\n",
       "      <td>6.998</td>\n",
       "      <td>45.8</td>\n",
       "      <td>6.0622</td>\n",
       "      <td>3</td>\n",
       "      <td>222</td>\n",
       "      <td>18.7</td>\n",
       "      <td>394.63</td>\n",
       "      <td>2.94</td>\n",
       "      <td>33.4</td>\n",
       "    </tr>\n",
       "    <tr>\n",
       "      <th>4</th>\n",
       "      <td>0.06905</td>\n",
       "      <td>0.0</td>\n",
       "      <td>2.18</td>\n",
       "      <td>0</td>\n",
       "      <td>0.458</td>\n",
       "      <td>7.147</td>\n",
       "      <td>54.2</td>\n",
       "      <td>6.0622</td>\n",
       "      <td>3</td>\n",
       "      <td>222</td>\n",
       "      <td>18.7</td>\n",
       "      <td>396.90</td>\n",
       "      <td>5.33</td>\n",
       "      <td>36.2</td>\n",
       "    </tr>\n",
       "  </tbody>\n",
       "</table>\n",
       "</div>"
      ],
      "text/plain": [
       "        x1    x2    x3  x4     x5     x6    x7      x8  x9  x10   x11     x12  \\\n",
       "0  0.00632  18.0  2.31   0  0.538  6.575  65.2  4.0900   1  296  15.3  396.90   \n",
       "1  0.02731   0.0  7.07   0  0.469  6.421  78.9  4.9671   2  242  17.8  396.90   \n",
       "2  0.02729   0.0  7.07   0  0.469  7.185  61.1  4.9671   2  242  17.8  392.83   \n",
       "3  0.03237   0.0  2.18   0  0.458  6.998  45.8  6.0622   3  222  18.7  394.63   \n",
       "4  0.06905   0.0  2.18   0  0.458  7.147  54.2  6.0622   3  222  18.7  396.90   \n",
       "\n",
       "    x13     y  \n",
       "0  4.98  24.0  \n",
       "1  9.14  21.6  \n",
       "2  4.03  34.7  \n",
       "3  2.94  33.4  \n",
       "4  5.33  36.2  "
      ]
     },
     "execution_count": 18,
     "metadata": {},
     "output_type": "execute_result"
    }
   ],
   "source": [
    "df.head()"
   ]
  },
  {
   "cell_type": "code",
   "execution_count": 23,
   "metadata": {},
   "outputs": [
    {
     "data": {
      "text/plain": [
       "dtype('float64')"
      ]
     },
     "execution_count": 23,
     "metadata": {},
     "output_type": "execute_result"
    }
   ],
   "source": [
    "df['x13'].dtype"
   ]
  },
  {
   "cell_type": "code",
   "execution_count": 4,
   "metadata": {},
   "outputs": [],
   "source": [
    "#入力データの切り分け\n",
    "#numpy型への変換\n",
    "t = df.iloc[:,-1].values\n",
    "x = df.iloc[:, :-1].values"
   ]
  },
  {
   "cell_type": "code",
   "execution_count": 12,
   "metadata": {},
   "outputs": [
    {
     "data": {
      "text/plain": [
       "((506, 13), (506,))"
      ]
     },
     "execution_count": 12,
     "metadata": {},
     "output_type": "execute_result"
    }
   ],
   "source": [
    "x.shape,t.shape"
   ]
  },
  {
   "cell_type": "code",
   "execution_count": 16,
   "metadata": {},
   "outputs": [
    {
     "ename": "TypeError",
     "evalue": "'numpy.ndarray' object is not callable",
     "output_type": "error",
     "traceback": [
      "\u001b[0;31m---------------------------------------------------------------------------\u001b[0m",
      "\u001b[0;31mTypeError\u001b[0m                                 Traceback (most recent call last)",
      "\u001b[0;32m<ipython-input-16-ffd468957fe0>\u001b[0m in \u001b[0;36m<module>\u001b[0;34m\u001b[0m\n\u001b[0;32m----> 1\u001b[0;31m \u001b[0mx\u001b[0m\u001b[0;34m(\u001b[0m\u001b[0;34m'x1'\u001b[0m\u001b[0;34m)\u001b[0m\u001b[0;34m.\u001b[0m\u001b[0mdtype\u001b[0m\u001b[0;34m\u001b[0m\u001b[0;34m\u001b[0m\u001b[0m\n\u001b[0m",
      "\u001b[0;31mTypeError\u001b[0m: 'numpy.ndarray' object is not callable"
     ]
    }
   ],
   "source": []
  },
  {
   "cell_type": "code",
   "execution_count": 6,
   "metadata": {},
   "outputs": [],
   "source": [
    "#検証データと訓練データに切り分け"
   ]
  },
  {
   "cell_type": "code",
   "execution_count": 7,
   "metadata": {},
   "outputs": [],
   "source": [
    "from sklearn.model_selection import train_test_split"
   ]
  },
  {
   "cell_type": "code",
   "execution_count": 8,
   "metadata": {},
   "outputs": [],
   "source": [
    "# 訓練データと検証データに切り分け\n",
    "train_x, val_x, train_t, val_t = train_test_split(x, t, train_size=0.7, random_state=0)"
   ]
  },
  {
   "cell_type": "code",
   "execution_count": 9,
   "metadata": {},
   "outputs": [
    {
     "data": {
      "text/plain": [
       "(354, 13)"
      ]
     },
     "execution_count": 9,
     "metadata": {},
     "output_type": "execute_result"
    }
   ],
   "source": [
    "train_x.shape"
   ]
  },
  {
   "cell_type": "code",
   "execution_count": 10,
   "metadata": {},
   "outputs": [
    {
     "data": {
      "text/plain": [
       "(152, 13)"
      ]
     },
     "execution_count": 10,
     "metadata": {},
     "output_type": "execute_result"
    }
   ],
   "source": [
    "val_x.shape"
   ]
  },
  {
   "cell_type": "code",
   "execution_count": 11,
   "metadata": {},
   "outputs": [],
   "source": [
    "# シードの固定\n",
    "import os\n",
    "import random\n",
    "\n",
    "def reset_seed(seed=0):\n",
    "\n",
    "    os.environ['PYTHONHASHSEED'] = '0'\n",
    "    random.seed(seed) #　random関数のシードを固定\n",
    "    np.random.seed(seed) #numpyのシードを固定\n",
    "    tf.random.set_seed(seed) #tensorflowのシードを固定"
   ]
  },
  {
   "cell_type": "markdown",
   "metadata": {},
   "source": [
    "# モデルの構築\n",
    "- Pythonの挙動を整えるライブラリのインポート\n",
    "- シードの固定\n",
    "- NNモデルの定義"
   ]
  },
  {
   "cell_type": "code",
   "execution_count": 59,
   "metadata": {},
   "outputs": [],
   "source": [
    "from __future__ import absolute_import, division, print_function, unicode_literals\n",
    "\n",
    "import tensorflow as tf\n",
    "from tensorflow import keras"
   ]
  },
  {
   "cell_type": "code",
   "execution_count": 77,
   "metadata": {},
   "outputs": [],
   "source": [
    "from tensorflow.keras import models,layers\n",
    "\n",
    "#  シードの固定\n",
    "reset_seed(0)\n",
    "\n",
    "# モデルのインスタンス化\n",
    "model = models.Sequential()\n",
    "\n",
    "#モデルの構築\n",
    "model.add(layers.BatchNormalization(input_shape=(13,)))\n",
    "model.add(layers.Dense(7, activation='relu', input_shape=(13,)))\n",
    "model.add(layers.Dense(1))\n",
    "\n",
    "#最適化手法の設定\n",
    "#optimizer = keras.optimizers.SGD(0.1)\n",
    "optimizer = keras.optimizers.Adam(lr=0.001, beta_1=0.9, beta_2=0.999, epsilon=None, decay=0.0, amsgrad=False)\n",
    "# optimizer = keras.optimizers.Adagrad(lr=0.01, epsilon=None, decay=0.0)\n",
    "# optimizer = keras.optimizers.Nadam(lr=0.002, beta_1=0.9, beta_2=0.999, epsilon=None, schedule_decay=0.004)\n",
    "\n",
    "#モデルのコンパイル\n",
    "model.compile(loss='mean_squared_error', optimizer=optimizer) #ここでオプティマイザと損失関数"
   ]
  },
  {
   "cell_type": "code",
   "execution_count": 78,
   "metadata": {},
   "outputs": [
    {
     "name": "stdout",
     "output_type": "stream",
     "text": [
      "Train on 354 samples, validate on 152 samples\n",
      "Epoch 1/50\n",
      "354/354 [==============================] - 1s 2ms/sample - loss: 570.9477 - val_loss: 354.2208\n",
      "Epoch 2/50\n",
      "354/354 [==============================] - 0s 290us/sample - loss: 544.2708 - val_loss: 377.3573\n",
      "Epoch 3/50\n",
      "354/354 [==============================] - 0s 298us/sample - loss: 516.8750 - val_loss: 387.0255\n",
      "Epoch 4/50\n",
      "354/354 [==============================] - 0s 294us/sample - loss: 484.4964 - val_loss: 381.2223\n",
      "Epoch 5/50\n",
      "354/354 [==============================] - 0s 307us/sample - loss: 445.0161 - val_loss: 361.7312\n",
      "Epoch 6/50\n",
      "354/354 [==============================] - 0s 294us/sample - loss: 396.5114 - val_loss: 329.1298\n",
      "Epoch 7/50\n",
      "354/354 [==============================] - 0s 296us/sample - loss: 349.3084 - val_loss: 287.7573\n",
      "Epoch 8/50\n",
      "354/354 [==============================] - 0s 297us/sample - loss: 291.6637 - val_loss: 241.3681\n",
      "Epoch 9/50\n",
      "354/354 [==============================] - 0s 287us/sample - loss: 251.0199 - val_loss: 201.2768\n",
      "Epoch 10/50\n",
      "354/354 [==============================] - 0s 309us/sample - loss: 203.1731 - val_loss: 167.6893\n",
      "Epoch 11/50\n",
      "354/354 [==============================] - 0s 355us/sample - loss: 176.0373 - val_loss: 141.1754\n",
      "Epoch 12/50\n",
      "354/354 [==============================] - 0s 284us/sample - loss: 148.8228 - val_loss: 125.2137\n",
      "Epoch 13/50\n",
      "354/354 [==============================] - 0s 287us/sample - loss: 137.3102 - val_loss: 112.7784\n",
      "Epoch 14/50\n",
      "354/354 [==============================] - 0s 285us/sample - loss: 117.6914 - val_loss: 102.9305\n",
      "Epoch 15/50\n",
      "354/354 [==============================] - 0s 288us/sample - loss: 114.1034 - val_loss: 94.5894\n",
      "Epoch 16/50\n",
      "354/354 [==============================] - 0s 285us/sample - loss: 112.6371 - val_loss: 87.0192\n",
      "Epoch 17/50\n",
      "354/354 [==============================] - 0s 296us/sample - loss: 90.1996 - val_loss: 80.1423\n",
      "Epoch 18/50\n",
      "354/354 [==============================] - 0s 292us/sample - loss: 81.8754 - val_loss: 73.8225\n",
      "Epoch 19/50\n",
      "354/354 [==============================] - 0s 289us/sample - loss: 78.7500 - val_loss: 68.4284\n",
      "Epoch 20/50\n",
      "354/354 [==============================] - 0s 299us/sample - loss: 69.7321 - val_loss: 63.6397\n",
      "Epoch 21/50\n",
      "354/354 [==============================] - 0s 288us/sample - loss: 69.4164 - val_loss: 59.6423\n",
      "Epoch 22/50\n",
      "354/354 [==============================] - 0s 284us/sample - loss: 62.5970 - val_loss: 56.8671\n",
      "Epoch 23/50\n",
      "354/354 [==============================] - 0s 288us/sample - loss: 58.1357 - val_loss: 54.2465\n",
      "Epoch 24/50\n",
      "354/354 [==============================] - 0s 292us/sample - loss: 54.7687 - val_loss: 52.3011\n",
      "Epoch 25/50\n",
      "354/354 [==============================] - 0s 301us/sample - loss: 48.6551 - val_loss: 50.7133\n",
      "Epoch 26/50\n",
      "354/354 [==============================] - 0s 294us/sample - loss: 50.3400 - val_loss: 48.8296\n",
      "Epoch 27/50\n",
      "354/354 [==============================] - 0s 301us/sample - loss: 53.9595 - val_loss: 47.7464\n",
      "Epoch 28/50\n",
      "354/354 [==============================] - 0s 284us/sample - loss: 45.8738 - val_loss: 46.5705\n",
      "Epoch 29/50\n",
      "354/354 [==============================] - 0s 288us/sample - loss: 48.9493 - val_loss: 45.8002\n",
      "Epoch 30/50\n",
      "354/354 [==============================] - 0s 294us/sample - loss: 45.2910 - val_loss: 45.0107\n",
      "Epoch 31/50\n",
      "354/354 [==============================] - 0s 289us/sample - loss: 46.8804 - val_loss: 44.5373\n",
      "Epoch 32/50\n",
      "354/354 [==============================] - 0s 301us/sample - loss: 47.5983 - val_loss: 43.8286\n",
      "Epoch 33/50\n",
      "354/354 [==============================] - 0s 293us/sample - loss: 39.4750 - val_loss: 43.4631\n",
      "Epoch 34/50\n",
      "354/354 [==============================] - 0s 287us/sample - loss: 44.4025 - val_loss: 42.3543\n",
      "Epoch 35/50\n",
      "354/354 [==============================] - 0s 298us/sample - loss: 41.8656 - val_loss: 42.1436\n",
      "Epoch 36/50\n",
      "354/354 [==============================] - 0s 289us/sample - loss: 38.4930 - val_loss: 41.8991\n",
      "Epoch 37/50\n",
      "354/354 [==============================] - 0s 287us/sample - loss: 45.4076 - val_loss: 40.8974\n",
      "Epoch 38/50\n",
      "354/354 [==============================] - 0s 289us/sample - loss: 34.5114 - val_loss: 40.6972\n",
      "Epoch 39/50\n",
      "354/354 [==============================] - 0s 287us/sample - loss: 44.7450 - val_loss: 39.8690\n",
      "Epoch 40/50\n",
      "354/354 [==============================] - 0s 290us/sample - loss: 39.7906 - val_loss: 39.5045\n",
      "Epoch 41/50\n",
      "354/354 [==============================] - 0s 287us/sample - loss: 36.2376 - val_loss: 38.8350\n",
      "Epoch 42/50\n",
      "354/354 [==============================] - 0s 284us/sample - loss: 33.8394 - val_loss: 38.6240\n",
      "Epoch 43/50\n",
      "354/354 [==============================] - 0s 292us/sample - loss: 34.9773 - val_loss: 38.3515\n",
      "Epoch 44/50\n",
      "354/354 [==============================] - 0s 285us/sample - loss: 35.8781 - val_loss: 37.8222\n",
      "Epoch 45/50\n",
      "354/354 [==============================] - 0s 299us/sample - loss: 36.2800 - val_loss: 37.4213\n",
      "Epoch 46/50\n",
      "354/354 [==============================] - 0s 284us/sample - loss: 39.6484 - val_loss: 36.8773\n",
      "Epoch 47/50\n",
      "354/354 [==============================] - 0s 298us/sample - loss: 36.0747 - val_loss: 36.5765\n",
      "Epoch 48/50\n",
      "354/354 [==============================] - 0s 289us/sample - loss: 37.5103 - val_loss: 36.4857\n",
      "Epoch 49/50\n",
      "354/354 [==============================] - 0s 285us/sample - loss: 35.7290 - val_loss: 35.7460\n",
      "Epoch 50/50\n",
      "354/354 [==============================] - 0s 293us/sample - loss: 35.4394 - val_loss: 35.5368\n"
     ]
    }
   ],
   "source": [
    "history = model.fit(train_x, train_t,\n",
    "                    batch_size=10,\n",
    "                    epochs=50, #epochs←sに注意\n",
    "                    verbose=1,  #ログを見せるかどうか\n",
    "                    validation_data=(val_x, val_t))"
   ]
  },
  {
   "cell_type": "code",
   "execution_count": 80,
   "metadata": {},
   "outputs": [
    {
     "data": {
      "text/plain": [
       "dict"
      ]
     },
     "execution_count": 80,
     "metadata": {},
     "output_type": "execute_result"
    }
   ],
   "source": [
    "# loss が下がっていない\n",
    "type(history.history)"
   ]
  },
  {
   "cell_type": "code",
   "execution_count": 81,
   "metadata": {},
   "outputs": [],
   "source": [
    "results = pd.DataFrame(history.history)"
   ]
  },
  {
   "cell_type": "code",
   "execution_count": 82,
   "metadata": {},
   "outputs": [
    {
     "data": {
      "text/html": [
       "<div>\n",
       "<style scoped>\n",
       "    .dataframe tbody tr th:only-of-type {\n",
       "        vertical-align: middle;\n",
       "    }\n",
       "\n",
       "    .dataframe tbody tr th {\n",
       "        vertical-align: top;\n",
       "    }\n",
       "\n",
       "    .dataframe thead th {\n",
       "        text-align: right;\n",
       "    }\n",
       "</style>\n",
       "<table border=\"1\" class=\"dataframe\">\n",
       "  <thead>\n",
       "    <tr style=\"text-align: right;\">\n",
       "      <th></th>\n",
       "      <th>loss</th>\n",
       "      <th>val_loss</th>\n",
       "    </tr>\n",
       "  </thead>\n",
       "  <tbody>\n",
       "    <tr>\n",
       "      <th>0</th>\n",
       "      <td>570.947658</td>\n",
       "      <td>354.220772</td>\n",
       "    </tr>\n",
       "    <tr>\n",
       "      <th>1</th>\n",
       "      <td>544.270785</td>\n",
       "      <td>377.357279</td>\n",
       "    </tr>\n",
       "    <tr>\n",
       "      <th>2</th>\n",
       "      <td>516.874982</td>\n",
       "      <td>387.025518</td>\n",
       "    </tr>\n",
       "    <tr>\n",
       "      <th>3</th>\n",
       "      <td>484.496428</td>\n",
       "      <td>381.222349</td>\n",
       "    </tr>\n",
       "    <tr>\n",
       "      <th>4</th>\n",
       "      <td>445.016058</td>\n",
       "      <td>361.731239</td>\n",
       "    </tr>\n",
       "    <tr>\n",
       "      <th>5</th>\n",
       "      <td>396.511354</td>\n",
       "      <td>329.129759</td>\n",
       "    </tr>\n",
       "    <tr>\n",
       "      <th>6</th>\n",
       "      <td>349.308377</td>\n",
       "      <td>287.757266</td>\n",
       "    </tr>\n",
       "    <tr>\n",
       "      <th>7</th>\n",
       "      <td>291.663676</td>\n",
       "      <td>241.368110</td>\n",
       "    </tr>\n",
       "    <tr>\n",
       "      <th>8</th>\n",
       "      <td>251.019919</td>\n",
       "      <td>201.276769</td>\n",
       "    </tr>\n",
       "    <tr>\n",
       "      <th>9</th>\n",
       "      <td>203.173147</td>\n",
       "      <td>167.689349</td>\n",
       "    </tr>\n",
       "    <tr>\n",
       "      <th>10</th>\n",
       "      <td>176.037320</td>\n",
       "      <td>141.175438</td>\n",
       "    </tr>\n",
       "    <tr>\n",
       "      <th>11</th>\n",
       "      <td>148.822786</td>\n",
       "      <td>125.213724</td>\n",
       "    </tr>\n",
       "    <tr>\n",
       "      <th>12</th>\n",
       "      <td>137.310191</td>\n",
       "      <td>112.778367</td>\n",
       "    </tr>\n",
       "    <tr>\n",
       "      <th>13</th>\n",
       "      <td>117.691365</td>\n",
       "      <td>102.930544</td>\n",
       "    </tr>\n",
       "    <tr>\n",
       "      <th>14</th>\n",
       "      <td>114.103390</td>\n",
       "      <td>94.589448</td>\n",
       "    </tr>\n",
       "    <tr>\n",
       "      <th>15</th>\n",
       "      <td>112.637118</td>\n",
       "      <td>87.019171</td>\n",
       "    </tr>\n",
       "    <tr>\n",
       "      <th>16</th>\n",
       "      <td>90.199644</td>\n",
       "      <td>80.142317</td>\n",
       "    </tr>\n",
       "    <tr>\n",
       "      <th>17</th>\n",
       "      <td>81.875369</td>\n",
       "      <td>73.822477</td>\n",
       "    </tr>\n",
       "    <tr>\n",
       "      <th>18</th>\n",
       "      <td>78.750036</td>\n",
       "      <td>68.428352</td>\n",
       "    </tr>\n",
       "    <tr>\n",
       "      <th>19</th>\n",
       "      <td>69.732139</td>\n",
       "      <td>63.639726</td>\n",
       "    </tr>\n",
       "    <tr>\n",
       "      <th>20</th>\n",
       "      <td>69.416379</td>\n",
       "      <td>59.642252</td>\n",
       "    </tr>\n",
       "    <tr>\n",
       "      <th>21</th>\n",
       "      <td>62.597011</td>\n",
       "      <td>56.867091</td>\n",
       "    </tr>\n",
       "    <tr>\n",
       "      <th>22</th>\n",
       "      <td>58.135684</td>\n",
       "      <td>54.246520</td>\n",
       "    </tr>\n",
       "    <tr>\n",
       "      <th>23</th>\n",
       "      <td>54.768695</td>\n",
       "      <td>52.301062</td>\n",
       "    </tr>\n",
       "    <tr>\n",
       "      <th>24</th>\n",
       "      <td>48.655074</td>\n",
       "      <td>50.713317</td>\n",
       "    </tr>\n",
       "    <tr>\n",
       "      <th>25</th>\n",
       "      <td>50.339977</td>\n",
       "      <td>48.829563</td>\n",
       "    </tr>\n",
       "    <tr>\n",
       "      <th>26</th>\n",
       "      <td>53.959546</td>\n",
       "      <td>47.746363</td>\n",
       "    </tr>\n",
       "    <tr>\n",
       "      <th>27</th>\n",
       "      <td>45.873844</td>\n",
       "      <td>46.570474</td>\n",
       "    </tr>\n",
       "    <tr>\n",
       "      <th>28</th>\n",
       "      <td>48.949326</td>\n",
       "      <td>45.800211</td>\n",
       "    </tr>\n",
       "    <tr>\n",
       "      <th>29</th>\n",
       "      <td>45.291045</td>\n",
       "      <td>45.010673</td>\n",
       "    </tr>\n",
       "    <tr>\n",
       "      <th>30</th>\n",
       "      <td>46.880445</td>\n",
       "      <td>44.537303</td>\n",
       "    </tr>\n",
       "    <tr>\n",
       "      <th>31</th>\n",
       "      <td>47.598318</td>\n",
       "      <td>43.828619</td>\n",
       "    </tr>\n",
       "    <tr>\n",
       "      <th>32</th>\n",
       "      <td>39.474982</td>\n",
       "      <td>43.463051</td>\n",
       "    </tr>\n",
       "    <tr>\n",
       "      <th>33</th>\n",
       "      <td>44.402489</td>\n",
       "      <td>42.354275</td>\n",
       "    </tr>\n",
       "    <tr>\n",
       "      <th>34</th>\n",
       "      <td>41.865577</td>\n",
       "      <td>42.143591</td>\n",
       "    </tr>\n",
       "    <tr>\n",
       "      <th>35</th>\n",
       "      <td>38.493037</td>\n",
       "      <td>41.899136</td>\n",
       "    </tr>\n",
       "    <tr>\n",
       "      <th>36</th>\n",
       "      <td>45.407564</td>\n",
       "      <td>40.897418</td>\n",
       "    </tr>\n",
       "    <tr>\n",
       "      <th>37</th>\n",
       "      <td>34.511416</td>\n",
       "      <td>40.697178</td>\n",
       "    </tr>\n",
       "    <tr>\n",
       "      <th>38</th>\n",
       "      <td>44.744990</td>\n",
       "      <td>39.869037</td>\n",
       "    </tr>\n",
       "    <tr>\n",
       "      <th>39</th>\n",
       "      <td>39.790584</td>\n",
       "      <td>39.504531</td>\n",
       "    </tr>\n",
       "    <tr>\n",
       "      <th>40</th>\n",
       "      <td>36.237583</td>\n",
       "      <td>38.834998</td>\n",
       "    </tr>\n",
       "    <tr>\n",
       "      <th>41</th>\n",
       "      <td>33.839374</td>\n",
       "      <td>38.623956</td>\n",
       "    </tr>\n",
       "    <tr>\n",
       "      <th>42</th>\n",
       "      <td>34.977303</td>\n",
       "      <td>38.351506</td>\n",
       "    </tr>\n",
       "    <tr>\n",
       "      <th>43</th>\n",
       "      <td>35.878128</td>\n",
       "      <td>37.822189</td>\n",
       "    </tr>\n",
       "    <tr>\n",
       "      <th>44</th>\n",
       "      <td>36.280033</td>\n",
       "      <td>37.421258</td>\n",
       "    </tr>\n",
       "    <tr>\n",
       "      <th>45</th>\n",
       "      <td>39.648420</td>\n",
       "      <td>36.877287</td>\n",
       "    </tr>\n",
       "    <tr>\n",
       "      <th>46</th>\n",
       "      <td>36.074717</td>\n",
       "      <td>36.576458</td>\n",
       "    </tr>\n",
       "    <tr>\n",
       "      <th>47</th>\n",
       "      <td>37.510309</td>\n",
       "      <td>36.485683</td>\n",
       "    </tr>\n",
       "    <tr>\n",
       "      <th>48</th>\n",
       "      <td>35.728980</td>\n",
       "      <td>35.746050</td>\n",
       "    </tr>\n",
       "    <tr>\n",
       "      <th>49</th>\n",
       "      <td>35.439396</td>\n",
       "      <td>35.536820</td>\n",
       "    </tr>\n",
       "  </tbody>\n",
       "</table>\n",
       "</div>"
      ],
      "text/plain": [
       "          loss    val_loss\n",
       "0   570.947658  354.220772\n",
       "1   544.270785  377.357279\n",
       "2   516.874982  387.025518\n",
       "3   484.496428  381.222349\n",
       "4   445.016058  361.731239\n",
       "5   396.511354  329.129759\n",
       "6   349.308377  287.757266\n",
       "7   291.663676  241.368110\n",
       "8   251.019919  201.276769\n",
       "9   203.173147  167.689349\n",
       "10  176.037320  141.175438\n",
       "11  148.822786  125.213724\n",
       "12  137.310191  112.778367\n",
       "13  117.691365  102.930544\n",
       "14  114.103390   94.589448\n",
       "15  112.637118   87.019171\n",
       "16   90.199644   80.142317\n",
       "17   81.875369   73.822477\n",
       "18   78.750036   68.428352\n",
       "19   69.732139   63.639726\n",
       "20   69.416379   59.642252\n",
       "21   62.597011   56.867091\n",
       "22   58.135684   54.246520\n",
       "23   54.768695   52.301062\n",
       "24   48.655074   50.713317\n",
       "25   50.339977   48.829563\n",
       "26   53.959546   47.746363\n",
       "27   45.873844   46.570474\n",
       "28   48.949326   45.800211\n",
       "29   45.291045   45.010673\n",
       "30   46.880445   44.537303\n",
       "31   47.598318   43.828619\n",
       "32   39.474982   43.463051\n",
       "33   44.402489   42.354275\n",
       "34   41.865577   42.143591\n",
       "35   38.493037   41.899136\n",
       "36   45.407564   40.897418\n",
       "37   34.511416   40.697178\n",
       "38   44.744990   39.869037\n",
       "39   39.790584   39.504531\n",
       "40   36.237583   38.834998\n",
       "41   33.839374   38.623956\n",
       "42   34.977303   38.351506\n",
       "43   35.878128   37.822189\n",
       "44   36.280033   37.421258\n",
       "45   39.648420   36.877287\n",
       "46   36.074717   36.576458\n",
       "47   37.510309   36.485683\n",
       "48   35.728980   35.746050\n",
       "49   35.439396   35.536820"
      ]
     },
     "execution_count": 82,
     "metadata": {},
     "output_type": "execute_result"
    }
   ],
   "source": [
    "results"
   ]
  },
  {
   "cell_type": "code",
   "execution_count": 83,
   "metadata": {},
   "outputs": [
    {
     "data": {
      "image/png": "[encoded data removed]",
      "text/plain": [
       "<Figure size 432x288 with 1 Axes>"
      ]
     },
     "metadata": {
      "needs_background": "light"
     },
     "output_type": "display_data"
    }
   ],
   "source": [
    "\n",
    "# loss（損失関数）を表示\n",
    "graph = results[['loss', 'val_loss']].plot()\n",
    "# graph.set_xlim([0,40])\n",
    "# graph.set_ylim([80,100])"
   ]
  },
  {
   "cell_type": "code",
   "execution_count": 84,
   "metadata": {},
   "outputs": [
    {
     "data": {
      "text/plain": [
       "5.961276728688686"
      ]
     },
     "execution_count": 84,
     "metadata": {},
     "output_type": "execute_result"
    }
   ],
   "source": [
    "#最終誤差のオリジナルスケールでの表示\n",
    "np.sqrt(results.iloc[-1,1])"
   ]
  },
  {
   "cell_type": "markdown",
   "metadata": {},
   "source": [
    "### 演習\n",
    "- 最適化手法を変更するなどして、工程のモデルの精度を向上させる。\n",
    "- 代表的最適化手法\n",
    "   - SGD\n",
    "   - Adam"
   ]
  },
  {
   "cell_type": "code",
   "execution_count": null,
   "metadata": {},
   "outputs": [],
   "source": []
  }
 ],
 "metadata": {
  "kernelspec": {
   "display_name": "Python 3",
   "language": "python",
   "name": "python3"
  },
  "language_info": {
   "codemirror_mode": {
    "name": "ipython",
    "version": 3
   },
   "file_extension": ".py",
   "mimetype": "text/x-python",
   "name": "python",
   "nbconvert_exporter": "python",
   "pygments_lexer": "ipython3",
   "version": "3.7.3"
  }
 },
 "nbformat": 4,
 "nbformat_minor": 2
}
