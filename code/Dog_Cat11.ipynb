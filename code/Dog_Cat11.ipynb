{
 "cells": [
  {
   "cell_type": "markdown",
   "metadata": {},
   "source": [
    "# 犬猫分類"
   ]
  },
  {
   "cell_type": "markdown",
   "metadata": {},
   "source": [
    "- 注意点\n",
    "    - E資格を受験される方は精度６５％以上を出してください    \n",
    "    - 要提出\n"
   ]
  },
  {
   "cell_type": "markdown",
   "metadata": {},
   "source": [
    "data フォルダに格納されている dog と cat の２クラスの画像を分類するモデルを作成せよ。\n",
    "\n",
    "サンプル数\n",
    "dog:250枚\n",
    "cat:250枚\n",
    "\n",
    "訓練データ:全体の 70% をランダムに（seed=0）\n",
    "\n",
    "Accuracy が Validation のデータに対して 65% 得られていること"
   ]
  },
  {
   "cell_type": "code",
   "execution_count": 1,
   "metadata": {},
   "outputs": [],
   "source": [
    "#　警告メッセージを出させないためのコマンド\n",
    "import warnings\n",
    "warnings.filterwarnings('ignore')"
   ]
  },
  {
   "cell_type": "code",
   "execution_count": 2,
   "metadata": {},
   "outputs": [],
   "source": [
    "# ファイルにアクセスするためのモジュールをインポート\n",
    "from glob import glob"
   ]
  },
  {
   "cell_type": "code",
   "execution_count": 3,
   "metadata": {},
   "outputs": [
    {
     "data": {
      "text/plain": [
       "['data/dog/308.jpg',\n",
       " 'data/dog/376.jpg',\n",
       " 'data/dog/180.jpg',\n",
       " 'data/dog/353.jpg',\n",
       " 'data/dog/194.jpg',\n",
       " 'data/dog/13.jpg',\n",
       " 'data/dog/343.jpg',\n",
       " 'data/dog/3.jpg',\n",
       " 'data/dog/146.jpg',\n",
       " 'data/dog/53.jpg',\n",
       " 'data/dog/396.jpg',\n",
       " 'data/dog/16.jpg',\n",
       " 'data/dog/310.jpg',\n",
       " 'data/dog/144.jpg',\n",
       " 'data/dog/91.jpg',\n",
       " 'data/dog/90.jpg',\n",
       " 'data/dog/69.jpg',\n",
       " 'data/dog/77.jpg',\n",
       " 'data/dog/290.jpg',\n",
       " 'data/dog/390.jpg',\n",
       " 'data/dog/321.jpg',\n",
       " 'data/dog/27.jpg',\n",
       " 'data/dog/277.jpg',\n",
       " 'data/dog/318.jpg',\n",
       " 'data/dog/75.jpg',\n",
       " 'data/dog/21.jpg',\n",
       " 'data/dog/153.jpg',\n",
       " 'data/dog/179.jpg',\n",
       " 'data/dog/55.jpg',\n",
       " 'data/dog/5.jpg',\n",
       " 'data/dog/244.jpg',\n",
       " 'data/dog/33.jpg',\n",
       " 'data/dog/206.jpg',\n",
       " 'data/dog/254.jpg',\n",
       " 'data/dog/76.jpg',\n",
       " 'data/dog/59.jpg',\n",
       " 'data/dog/142.jpg',\n",
       " 'data/dog/242.jpg',\n",
       " 'data/dog/198.jpg',\n",
       " 'data/dog/220.jpg',\n",
       " 'data/dog/89.jpg',\n",
       " 'data/dog/39.jpg',\n",
       " 'data/dog/241.jpg',\n",
       " 'data/dog/18.jpg',\n",
       " 'data/dog/252.jpg',\n",
       " 'data/dog/125.jpg',\n",
       " 'data/dog/164.jpg',\n",
       " 'data/dog/253.jpg',\n",
       " 'data/dog/317.jpg',\n",
       " 'data/dog/429.jpg',\n",
       " 'data/dog/257.jpg',\n",
       " 'data/dog/166.jpg',\n",
       " 'data/dog/190.jpg',\n",
       " 'data/dog/222.jpg',\n",
       " 'data/dog/403.jpg',\n",
       " 'data/dog/229.jpg',\n",
       " 'data/dog/80.jpg',\n",
       " 'data/dog/279.jpg',\n",
       " 'data/dog/2.jpg',\n",
       " 'data/dog/45.jpg',\n",
       " 'data/dog/195.jpg',\n",
       " 'data/dog/199.jpg',\n",
       " 'data/dog/358.jpg',\n",
       " 'data/dog/34.jpg',\n",
       " 'data/dog/200.jpg',\n",
       " 'data/dog/38.jpg',\n",
       " 'data/dog/212.jpg',\n",
       " 'data/dog/218.jpg',\n",
       " 'data/dog/365.jpg',\n",
       " 'data/dog/49.jpg',\n",
       " 'data/dog/350.jpg',\n",
       " 'data/dog/368.jpg',\n",
       " 'data/dog/58.jpg',\n",
       " 'data/dog/6.jpg',\n",
       " 'data/dog/123.jpg',\n",
       " 'data/dog/84.jpg',\n",
       " 'data/dog/133.jpg',\n",
       " 'data/dog/332.jpg',\n",
       " 'data/dog/37.jpg',\n",
       " 'data/dog/221.jpg',\n",
       " 'data/dog/109.jpg',\n",
       " 'data/dog/245.jpg',\n",
       " 'data/dog/419.jpg',\n",
       " 'data/dog/8.jpg',\n",
       " 'data/dog/439.jpg',\n",
       " 'data/dog/92.jpg',\n",
       " 'data/dog/215.jpg',\n",
       " 'data/dog/240.jpg',\n",
       " 'data/dog/425.jpg',\n",
       " 'data/dog/36.jpg',\n",
       " 'data/dog/66.jpg',\n",
       " 'data/dog/319.jpg',\n",
       " 'data/dog/68.jpg',\n",
       " 'data/dog/126.jpg',\n",
       " 'data/dog/29.jpg',\n",
       " 'data/dog/72.jpg',\n",
       " 'data/dog/71.jpg',\n",
       " 'data/dog/30.jpg',\n",
       " 'data/dog/373.jpg',\n",
       " 'data/dog/428.jpg',\n",
       " 'data/dog/154.jpg',\n",
       " 'data/dog/255.jpg',\n",
       " 'data/dog/174.jpg',\n",
       " 'data/dog/0.jpg',\n",
       " 'data/dog/341.jpg',\n",
       " 'data/dog/191.jpg',\n",
       " 'data/dog/61.jpg',\n",
       " 'data/dog/78.jpg',\n",
       " 'data/dog/56.jpg',\n",
       " 'data/dog/225.jpg',\n",
       " 'data/dog/366.jpg',\n",
       " 'data/dog/357.jpg',\n",
       " 'data/dog/298.jpg',\n",
       " 'data/dog/132.jpg',\n",
       " 'data/dog/73.jpg',\n",
       " 'data/dog/147.jpg',\n",
       " 'data/dog/171.jpg',\n",
       " 'data/dog/295.jpg',\n",
       " 'data/dog/70.jpg',\n",
       " 'data/dog/43.jpg',\n",
       " 'data/dog/294.jpg',\n",
       " 'data/dog/423.jpg',\n",
       " 'data/dog/88.jpg',\n",
       " 'data/dog/296.jpg',\n",
       " 'data/dog/145.jpg',\n",
       " 'data/dog/20.jpg',\n",
       " 'data/dog/217.jpg',\n",
       " 'data/dog/139.jpg',\n",
       " 'data/dog/19.jpg',\n",
       " 'data/dog/430.jpg',\n",
       " 'data/dog/443.jpg',\n",
       " 'data/dog/187.jpg',\n",
       " 'data/dog/189.jpg',\n",
       " 'data/dog/233.jpg',\n",
       " 'data/dog/354.jpg',\n",
       " 'data/dog/414.jpg',\n",
       " 'data/dog/369.jpg',\n",
       " 'data/dog/432.jpg',\n",
       " 'data/dog/260.jpg',\n",
       " 'data/dog/175.jpg',\n",
       " 'data/dog/208.jpg',\n",
       " 'data/dog/292.jpg',\n",
       " 'data/dog/337.jpg',\n",
       " 'data/dog/192.jpg',\n",
       " 'data/dog/14.jpg',\n",
       " 'data/dog/303.jpg',\n",
       " 'data/dog/31.jpg',\n",
       " 'data/dog/24.jpg',\n",
       " 'data/dog/40.jpg',\n",
       " 'data/dog/205.jpg',\n",
       " 'data/dog/140.jpg',\n",
       " 'data/dog/44.jpg',\n",
       " 'data/dog/57.jpg',\n",
       " 'data/dog/184.jpg',\n",
       " 'data/dog/12.jpg',\n",
       " 'data/dog/172.jpg',\n",
       " 'data/dog/409.jpg',\n",
       " 'data/dog/445.jpg',\n",
       " 'data/dog/216.jpg',\n",
       " 'data/dog/177.jpg',\n",
       " 'data/dog/386.jpg',\n",
       " 'data/dog/342.jpg',\n",
       " 'data/dog/150.jpg',\n",
       " 'data/dog/237.jpg',\n",
       " 'data/dog/7.jpg',\n",
       " 'data/dog/165.jpg',\n",
       " 'data/dog/167.jpg',\n",
       " 'data/dog/273.jpg',\n",
       " 'data/dog/209.jpg',\n",
       " 'data/dog/393.jpg',\n",
       " 'data/dog/211.jpg',\n",
       " 'data/dog/250.jpg',\n",
       " 'data/dog/64.jpg',\n",
       " 'data/dog/1.jpg',\n",
       " 'data/dog/322.jpg',\n",
       " 'data/dog/213.jpg',\n",
       " 'data/dog/285.jpg',\n",
       " 'data/dog/54.jpg',\n",
       " 'data/dog/391.jpg',\n",
       " 'data/dog/28.jpg',\n",
       " 'data/dog/42.jpg',\n",
       " 'data/dog/399.jpg',\n",
       " 'data/dog/32.jpg',\n",
       " 'data/dog/85.jpg',\n",
       " 'data/dog/50.jpg',\n",
       " 'data/dog/246.jpg',\n",
       " 'data/dog/152.jpg',\n",
       " 'data/dog/163.jpg',\n",
       " 'data/dog/227.jpg',\n",
       " 'data/dog/411.jpg',\n",
       " 'data/dog/405.jpg',\n",
       " 'data/dog/377.jpg',\n",
       " 'data/dog/86.jpg',\n",
       " 'data/dog/408.jpg',\n",
       " 'data/dog/22.jpg',\n",
       " 'data/dog/15.jpg',\n",
       " 'data/dog/17.jpg',\n",
       " 'data/dog/249.jpg',\n",
       " 'data/dog/196.jpg',\n",
       " 'data/dog/316.jpg',\n",
       " 'data/dog/234.jpg',\n",
       " 'data/dog/281.jpg',\n",
       " 'data/dog/4.jpg',\n",
       " 'data/dog/306.jpg',\n",
       " 'data/dog/380.jpg',\n",
       " 'data/dog/364.jpg',\n",
       " 'data/dog/23.jpg',\n",
       " 'data/dog/339.jpg',\n",
       " 'data/dog/83.jpg',\n",
       " 'data/dog/41.jpg',\n",
       " 'data/dog/226.jpg',\n",
       " 'data/dog/329.jpg',\n",
       " 'data/dog/188.jpg',\n",
       " 'data/dog/283.jpg',\n",
       " 'data/dog/201.jpg',\n",
       " 'data/dog/26.jpg',\n",
       " 'data/dog/230.jpg',\n",
       " 'data/dog/346.jpg',\n",
       " 'data/dog/441.jpg',\n",
       " 'data/dog/259.jpg',\n",
       " 'data/dog/232.jpg',\n",
       " 'data/dog/291.jpg',\n",
       " 'data/dog/25.jpg',\n",
       " 'data/dog/309.jpg',\n",
       " 'data/dog/130.jpg',\n",
       " 'data/dog/387.jpg',\n",
       " 'data/dog/395.jpg',\n",
       " 'data/dog/149.jpg',\n",
       " 'data/dog/223.jpg',\n",
       " 'data/dog/210.jpg',\n",
       " 'data/dog/138.jpg',\n",
       " 'data/dog/202.jpg',\n",
       " 'data/dog/129.jpg',\n",
       " 'data/dog/433.jpg',\n",
       " 'data/dog/435.jpg',\n",
       " 'data/dog/379.jpg',\n",
       " 'data/dog/328.jpg',\n",
       " 'data/dog/47.jpg',\n",
       " 'data/dog/247.jpg',\n",
       " 'data/dog/35.jpg',\n",
       " 'data/dog/293.jpg',\n",
       " 'data/dog/60.jpg',\n",
       " 'data/dog/124.jpg',\n",
       " 'data/dog/323.jpg',\n",
       " 'data/dog/148.jpg',\n",
       " 'data/dog/46.jpg',\n",
       " 'data/dog/9.jpg',\n",
       " 'data/dog/183.jpg',\n",
       " 'data/dog/236.jpg',\n",
       " 'data/dog/63.jpg']"
      ]
     },
     "execution_count": 3,
     "metadata": {},
     "output_type": "execute_result"
    }
   ],
   "source": [
    "# 犬の画像にアクセスするパスを取得\n",
    "dog_filepaths = glob('data/dog/*.jpg')\n",
    "dog_filepaths"
   ]
  },
  {
   "cell_type": "code",
   "execution_count": 4,
   "metadata": {},
   "outputs": [
    {
     "data": {
      "text/plain": [
       "['data/cat/115.jpg',\n",
       " 'data/cat/262.jpg',\n",
       " 'data/cat/94.jpg',\n",
       " 'data/cat/13.jpg',\n",
       " 'data/cat/3.jpg',\n",
       " 'data/cat/146.jpg',\n",
       " 'data/cat/128.jpg',\n",
       " 'data/cat/53.jpg',\n",
       " 'data/cat/16.jpg',\n",
       " 'data/cat/310.jpg',\n",
       " 'data/cat/144.jpg',\n",
       " 'data/cat/91.jpg',\n",
       " 'data/cat/90.jpg',\n",
       " 'data/cat/302.jpg',\n",
       " 'data/cat/224.jpg',\n",
       " 'data/cat/275.jpg',\n",
       " 'data/cat/69.jpg',\n",
       " 'data/cat/99.jpg',\n",
       " 'data/cat/290.jpg',\n",
       " 'data/cat/119.jpg',\n",
       " 'data/cat/134.jpg',\n",
       " 'data/cat/103.jpg',\n",
       " 'data/cat/277.jpg',\n",
       " 'data/cat/280.jpg',\n",
       " 'data/cat/52.jpg',\n",
       " 'data/cat/48.jpg',\n",
       " 'data/cat/75.jpg',\n",
       " 'data/cat/21.jpg',\n",
       " 'data/cat/153.jpg',\n",
       " 'data/cat/117.jpg',\n",
       " 'data/cat/131.jpg',\n",
       " 'data/cat/256.jpg',\n",
       " 'data/cat/105.jpg',\n",
       " 'data/cat/179.jpg',\n",
       " 'data/cat/55.jpg',\n",
       " 'data/cat/170.jpg',\n",
       " 'data/cat/162.jpg',\n",
       " 'data/cat/231.jpg',\n",
       " 'data/cat/5.jpg',\n",
       " 'data/cat/33.jpg',\n",
       " 'data/cat/111.jpg',\n",
       " 'data/cat/254.jpg',\n",
       " 'data/cat/311.jpg',\n",
       " 'data/cat/76.jpg',\n",
       " 'data/cat/59.jpg',\n",
       " 'data/cat/142.jpg',\n",
       " 'data/cat/242.jpg',\n",
       " 'data/cat/198.jpg',\n",
       " 'data/cat/220.jpg',\n",
       " 'data/cat/89.jpg',\n",
       " 'data/cat/39.jpg',\n",
       " 'data/cat/241.jpg',\n",
       " 'data/cat/18.jpg',\n",
       " 'data/cat/270.jpg',\n",
       " 'data/cat/143.jpg',\n",
       " 'data/cat/106.jpg',\n",
       " 'data/cat/104.jpg',\n",
       " 'data/cat/158.jpg',\n",
       " 'data/cat/267.jpg',\n",
       " 'data/cat/252.jpg',\n",
       " 'data/cat/181.jpg',\n",
       " 'data/cat/125.jpg',\n",
       " 'data/cat/11.jpg',\n",
       " 'data/cat/10.jpg',\n",
       " 'data/cat/135.jpg',\n",
       " 'data/cat/257.jpg',\n",
       " 'data/cat/166.jpg',\n",
       " 'data/cat/182.jpg',\n",
       " 'data/cat/190.jpg',\n",
       " 'data/cat/222.jpg',\n",
       " 'data/cat/161.jpg',\n",
       " 'data/cat/197.jpg',\n",
       " 'data/cat/229.jpg',\n",
       " 'data/cat/80.jpg',\n",
       " 'data/cat/279.jpg',\n",
       " 'data/cat/2.jpg',\n",
       " 'data/cat/45.jpg',\n",
       " 'data/cat/195.jpg',\n",
       " 'data/cat/34.jpg',\n",
       " 'data/cat/200.jpg',\n",
       " 'data/cat/38.jpg',\n",
       " 'data/cat/155.jpg',\n",
       " 'data/cat/114.jpg',\n",
       " 'data/cat/122.jpg',\n",
       " 'data/cat/304.jpg',\n",
       " 'data/cat/49.jpg',\n",
       " 'data/cat/58.jpg',\n",
       " 'data/cat/6.jpg',\n",
       " 'data/cat/123.jpg',\n",
       " 'data/cat/84.jpg',\n",
       " 'data/cat/133.jpg',\n",
       " 'data/cat/176.jpg',\n",
       " 'data/cat/37.jpg',\n",
       " 'data/cat/109.jpg',\n",
       " 'data/cat/8.jpg',\n",
       " 'data/cat/116.jpg',\n",
       " 'data/cat/92.jpg',\n",
       " 'data/cat/62.jpg',\n",
       " 'data/cat/121.jpg',\n",
       " 'data/cat/240.jpg',\n",
       " 'data/cat/36.jpg',\n",
       " 'data/cat/66.jpg',\n",
       " 'data/cat/68.jpg',\n",
       " 'data/cat/126.jpg',\n",
       " 'data/cat/72.jpg',\n",
       " 'data/cat/71.jpg',\n",
       " 'data/cat/30.jpg',\n",
       " 'data/cat/100.jpg',\n",
       " 'data/cat/248.jpg',\n",
       " 'data/cat/79.jpg',\n",
       " 'data/cat/154.jpg',\n",
       " 'data/cat/255.jpg',\n",
       " 'data/cat/174.jpg',\n",
       " 'data/cat/0.jpg',\n",
       " 'data/cat/191.jpg',\n",
       " 'data/cat/61.jpg',\n",
       " 'data/cat/78.jpg',\n",
       " 'data/cat/56.jpg',\n",
       " 'data/cat/225.jpg',\n",
       " 'data/cat/82.jpg',\n",
       " 'data/cat/132.jpg',\n",
       " 'data/cat/288.jpg',\n",
       " 'data/cat/118.jpg',\n",
       " 'data/cat/73.jpg',\n",
       " 'data/cat/282.jpg',\n",
       " 'data/cat/112.jpg',\n",
       " 'data/cat/147.jpg',\n",
       " 'data/cat/171.jpg',\n",
       " 'data/cat/70.jpg',\n",
       " 'data/cat/43.jpg',\n",
       " 'data/cat/269.jpg',\n",
       " 'data/cat/81.jpg',\n",
       " 'data/cat/88.jpg',\n",
       " 'data/cat/296.jpg',\n",
       " 'data/cat/145.jpg',\n",
       " 'data/cat/97.jpg',\n",
       " 'data/cat/20.jpg',\n",
       " 'data/cat/139.jpg',\n",
       " 'data/cat/19.jpg',\n",
       " 'data/cat/189.jpg',\n",
       " 'data/cat/233.jpg',\n",
       " 'data/cat/284.jpg',\n",
       " 'data/cat/272.jpg',\n",
       " 'data/cat/173.jpg',\n",
       " 'data/cat/141.jpg',\n",
       " 'data/cat/260.jpg',\n",
       " 'data/cat/175.jpg',\n",
       " 'data/cat/208.jpg',\n",
       " 'data/cat/192.jpg',\n",
       " 'data/cat/14.jpg',\n",
       " 'data/cat/110.jpg',\n",
       " 'data/cat/107.jpg',\n",
       " 'data/cat/251.jpg',\n",
       " 'data/cat/31.jpg',\n",
       " 'data/cat/24.jpg',\n",
       " 'data/cat/40.jpg',\n",
       " 'data/cat/205.jpg',\n",
       " 'data/cat/140.jpg',\n",
       " 'data/cat/44.jpg',\n",
       " 'data/cat/57.jpg',\n",
       " 'data/cat/184.jpg',\n",
       " 'data/cat/12.jpg',\n",
       " 'data/cat/177.jpg',\n",
       " 'data/cat/265.jpg',\n",
       " 'data/cat/127.jpg',\n",
       " 'data/cat/150.jpg',\n",
       " 'data/cat/237.jpg',\n",
       " 'data/cat/137.jpg',\n",
       " 'data/cat/7.jpg',\n",
       " 'data/cat/95.jpg',\n",
       " 'data/cat/165.jpg',\n",
       " 'data/cat/167.jpg',\n",
       " 'data/cat/273.jpg',\n",
       " 'data/cat/209.jpg',\n",
       " 'data/cat/211.jpg',\n",
       " 'data/cat/228.jpg',\n",
       " 'data/cat/1.jpg',\n",
       " 'data/cat/213.jpg',\n",
       " 'data/cat/285.jpg',\n",
       " 'data/cat/54.jpg',\n",
       " 'data/cat/28.jpg',\n",
       " 'data/cat/42.jpg',\n",
       " 'data/cat/113.jpg',\n",
       " 'data/cat/235.jpg',\n",
       " 'data/cat/258.jpg',\n",
       " 'data/cat/263.jpg',\n",
       " 'data/cat/32.jpg',\n",
       " 'data/cat/85.jpg',\n",
       " 'data/cat/207.jpg',\n",
       " 'data/cat/50.jpg',\n",
       " 'data/cat/102.jpg',\n",
       " 'data/cat/152.jpg',\n",
       " 'data/cat/93.jpg',\n",
       " 'data/cat/163.jpg',\n",
       " 'data/cat/227.jpg',\n",
       " 'data/cat/86.jpg',\n",
       " 'data/cat/22.jpg',\n",
       " 'data/cat/15.jpg',\n",
       " 'data/cat/238.jpg',\n",
       " 'data/cat/17.jpg',\n",
       " 'data/cat/249.jpg',\n",
       " 'data/cat/120.jpg',\n",
       " 'data/cat/297.jpg',\n",
       " 'data/cat/312.jpg',\n",
       " 'data/cat/108.jpg',\n",
       " 'data/cat/67.jpg',\n",
       " 'data/cat/234.jpg',\n",
       " 'data/cat/4.jpg',\n",
       " 'data/cat/306.jpg',\n",
       " 'data/cat/65.jpg',\n",
       " 'data/cat/87.jpg',\n",
       " 'data/cat/83.jpg',\n",
       " 'data/cat/41.jpg',\n",
       " 'data/cat/169.jpg',\n",
       " 'data/cat/188.jpg',\n",
       " 'data/cat/283.jpg',\n",
       " 'data/cat/26.jpg',\n",
       " 'data/cat/230.jpg',\n",
       " 'data/cat/278.jpg',\n",
       " 'data/cat/259.jpg',\n",
       " 'data/cat/232.jpg',\n",
       " 'data/cat/159.jpg',\n",
       " 'data/cat/25.jpg',\n",
       " 'data/cat/130.jpg',\n",
       " 'data/cat/223.jpg',\n",
       " 'data/cat/151.jpg',\n",
       " 'data/cat/138.jpg',\n",
       " 'data/cat/129.jpg',\n",
       " 'data/cat/74.jpg',\n",
       " 'data/cat/307.jpg',\n",
       " 'data/cat/98.jpg',\n",
       " 'data/cat/47.jpg',\n",
       " 'data/cat/136.jpg',\n",
       " 'data/cat/247.jpg',\n",
       " 'data/cat/35.jpg',\n",
       " 'data/cat/264.jpg',\n",
       " 'data/cat/293.jpg',\n",
       " 'data/cat/261.jpg',\n",
       " 'data/cat/185.jpg',\n",
       " 'data/cat/60.jpg',\n",
       " 'data/cat/124.jpg',\n",
       " 'data/cat/148.jpg',\n",
       " 'data/cat/46.jpg',\n",
       " 'data/cat/9.jpg',\n",
       " 'data/cat/193.jpg',\n",
       " 'data/cat/183.jpg',\n",
       " 'data/cat/236.jpg',\n",
       " 'data/cat/63.jpg',\n",
       " 'data/cat/219.jpg',\n",
       " 'data/cat/96.jpg']"
      ]
     },
     "execution_count": 4,
     "metadata": {},
     "output_type": "execute_result"
    }
   ],
   "source": [
    "# 猫の画像にアクセスするパスを取得\n",
    "cat_filepaths = glob('data/cat/*.jpg')\n",
    "cat_filepaths"
   ]
  },
  {
   "cell_type": "code",
   "execution_count": 5,
   "metadata": {},
   "outputs": [],
   "source": [
    "# 必要なモジュールのインポート\n",
    "from PIL import Image\n",
    "%matplotlib inline\n",
    "import numpy as np\n",
    "import pandas as pd\n",
    "import matplotlib.pyplot as plt"
   ]
  },
  {
   "cell_type": "code",
   "execution_count": 6,
   "metadata": {},
   "outputs": [
    {
     "name": "stdout",
     "output_type": "stream",
     "text": [
      "2.0.0\n"
     ]
    }
   ],
   "source": [
    "# Pythonの挙動を整えるライブラリのインポート\n",
    "from __future__ import absolute_import, division, print_function, unicode_literals\n",
    "\n",
    "#TensorFlowとKerasのインポート\n",
    "import tensorflow as tf\n",
    "from tensorflow import keras\n",
    "print(tf.__version__)"
   ]
  },
  {
   "cell_type": "markdown",
   "metadata": {},
   "source": [
    "#### 実装の手順\n",
    "*データの準備*  \n",
    "0. 前準備:画像データのパスをすべて取得して、リストに格納する（繰り返し処理のため） \n",
    "1. 画像データの読込  \n",
    "2. 教師データの用意  \n",
    "\n",
    "*モデルの構築*\n",
    "- CNNの構築\n",
    "- Conv + Poolingの回数を変えてみるなど\n",
    "\n",
    "*モデルの学習*\n"
   ]
  },
  {
   "cell_type": "markdown",
   "metadata": {},
   "source": [
    "#### 演習のヒント\n",
    "- Pillowで読み込んだ画像はnumpyに変換する必要がある。\n",
    "- 犬の教師データには0を、猫の教師データには1をラベルづけする。\n",
    "- 空のリストを、入力データ用と教師データ用に準備。\n",
    "- 各フォルダから、画像データと取得し、上で準備した入力データのリストに格納。\n",
    "- 教師データのリストに決めた値を格納（犬は0, 猫は１）する。\n",
    "- for文を使って、２５０枚の画像リストとそれに対応する教師データを準備する。\n",
    "- モデルの構築、学習、可視化は今までと同じ手順（CNNを使います）。\n"
   ]
  },
  {
   "cell_type": "code",
   "execution_count": 7,
   "metadata": {},
   "outputs": [
    {
     "data": {
      "text/plain": [
       "'data/dog/308.jpg'"
      ]
     },
     "execution_count": 7,
     "metadata": {},
     "output_type": "execute_result"
    }
   ],
   "source": [
    "# まずは１枚目の犬の画像にアクセスできることを確認していきます\n",
    "dog_filepath = dog_filepaths[0]\n",
    "dog_filepath"
   ]
  },
  {
   "cell_type": "code",
   "execution_count": 8,
   "metadata": {},
   "outputs": [],
   "source": [
    "#画像を変数に格納して、numpyに変換\n",
    "img = Image.open(dog_filepath)\n",
    "img = np.array(img)"
   ]
  },
  {
   "cell_type": "code",
   "execution_count": 9,
   "metadata": {},
   "outputs": [
    {
     "data": {
      "text/plain": [
       "numpy.ndarray"
      ]
     },
     "execution_count": 9,
     "metadata": {},
     "output_type": "execute_result"
    }
   ],
   "source": [
    "type(img)"
   ]
  },
  {
   "cell_type": "code",
   "execution_count": 10,
   "metadata": {},
   "outputs": [
    {
     "data": {
      "text/plain": [
       "(224, 224, 3)"
      ]
     },
     "execution_count": 10,
     "metadata": {},
     "output_type": "execute_result"
    }
   ],
   "source": [
    "#画像のサイズを確認\n",
    "# 224行、２２４列、３チャネルの画像データです！\n",
    "img.shape"
   ]
  },
  {
   "cell_type": "code",
   "execution_count": 11,
   "metadata": {},
   "outputs": [],
   "source": [
    "#犬のラベルを０として、教師データを作成\n",
    "# 0という値を_tに入れています\n",
    "_t = np.array(0)"
   ]
  },
  {
   "cell_type": "code",
   "execution_count": 12,
   "metadata": {},
   "outputs": [],
   "source": [
    "# 画像が確認できて、教師データができたら、リストに格納して１セットにする。\n",
    "# 入力データx,教師データｔ\n",
    "x, t = [], []\n",
    "x.append(img)\n",
    "t.append(_t)"
   ]
  },
  {
   "cell_type": "code",
   "execution_count": 13,
   "metadata": {},
   "outputs": [
    {
     "data": {
      "text/plain": [
       "(1, 1)"
      ]
     },
     "execution_count": 13,
     "metadata": {},
     "output_type": "execute_result"
    }
   ],
   "source": [
    "#要素数を確認して、各リストに画像と教師データが格納できたことを確認しましょう\n",
    "len(x), len(t)"
   ]
  },
  {
   "cell_type": "markdown",
   "metadata": {},
   "source": [
    "#### ここまでで、１枚の画像と教師データのセットが完成しました。\n",
    "- これを犬と猫それぞれfor文で繰り返し処理してあげると、２５０枚の画像のリストとラベルが完成します。"
   ]
  },
  {
   "cell_type": "code",
   "execution_count": 14,
   "metadata": {},
   "outputs": [],
   "source": [
    "#for文を用いて、すべての画像をxのリストに、対応する教師データをtのリストに格納する\n",
    "x, t =[], []\n",
    "\n",
    "for dog_filepath in dog_filepaths:\n",
    "    img = Image.open(dog_filepath)\n",
    "    img = np.array(img)\n",
    "    x.append(img)\n",
    "    t.append(0)\n",
    "\n",
    "for cat_filepath in cat_filepaths:\n",
    "    img = Image.open(cat_filepath)\n",
    "    img = np.array(img)\n",
    "    x.append(img)\n",
    "    t.append(1)"
   ]
  },
  {
   "cell_type": "code",
   "execution_count": 15,
   "metadata": {},
   "outputs": [
    {
     "data": {
      "text/plain": [
       "list"
      ]
     },
     "execution_count": 15,
     "metadata": {},
     "output_type": "execute_result"
    }
   ],
   "source": [
    "type(x)"
   ]
  },
  {
   "cell_type": "code",
   "execution_count": 16,
   "metadata": {},
   "outputs": [
    {
     "data": {
      "text/plain": [
       "array([[[252, 255, 250],\n",
       "        [252, 255, 250],\n",
       "        [252, 255, 250],\n",
       "        ...,\n",
       "        [ 23,  22,  18],\n",
       "        [ 24,  23,  19],\n",
       "        [ 24,  23,  19]],\n",
       "\n",
       "       [[252, 255, 251],\n",
       "        [252, 255, 251],\n",
       "        [252, 255, 251],\n",
       "        ...,\n",
       "        [ 21,  20,  16],\n",
       "        [ 22,  21,  17],\n",
       "        [ 22,  21,  17]],\n",
       "\n",
       "       [[254, 255, 253],\n",
       "        [254, 255, 253],\n",
       "        [254, 255, 253],\n",
       "        ...,\n",
       "        [ 18,  17,  13],\n",
       "        [ 20,  19,  15],\n",
       "        [ 20,  19,  15]],\n",
       "\n",
       "       ...,\n",
       "\n",
       "       [[ 80,  78,  81],\n",
       "        [ 80,  78,  81],\n",
       "        [ 79,  77,  80],\n",
       "        ...,\n",
       "        [ 79,  77,  78],\n",
       "        [ 81,  79,  80],\n",
       "        [ 84,  82,  83]],\n",
       "\n",
       "       [[ 75,  73,  76],\n",
       "        [ 79,  77,  80],\n",
       "        [ 79,  77,  80],\n",
       "        ...,\n",
       "        [ 77,  75,  76],\n",
       "        [ 78,  76,  77],\n",
       "        [ 79,  77,  78]],\n",
       "\n",
       "       [[ 70,  68,  71],\n",
       "        [ 76,  74,  77],\n",
       "        [ 79,  77,  80],\n",
       "        ...,\n",
       "        [ 78,  76,  77],\n",
       "        [ 76,  74,  75],\n",
       "        [ 74,  72,  73]]], dtype=uint8)"
      ]
     },
     "execution_count": 16,
     "metadata": {},
     "output_type": "execute_result"
    }
   ],
   "source": [
    "x[0]"
   ]
  },
  {
   "cell_type": "code",
   "execution_count": 17,
   "metadata": {},
   "outputs": [
    {
     "data": {
      "text/plain": [
       "numpy.ndarray"
      ]
     },
     "execution_count": 17,
     "metadata": {},
     "output_type": "execute_result"
    }
   ],
   "source": [
    "type(np.array(x))"
   ]
  },
  {
   "cell_type": "code",
   "execution_count": 18,
   "metadata": {},
   "outputs": [],
   "source": [
    "#ndarrayに変換\n",
    "x = np.array(x)\n",
    "t = np.array(t)"
   ]
  },
  {
   "cell_type": "code",
   "execution_count": 19,
   "metadata": {},
   "outputs": [
    {
     "data": {
      "text/plain": [
       "(500, 224, 224, 3)"
      ]
     },
     "execution_count": 19,
     "metadata": {},
     "output_type": "execute_result"
    }
   ],
   "source": [
    "x.shape"
   ]
  },
  {
   "cell_type": "code",
   "execution_count": 20,
   "metadata": {},
   "outputs": [
    {
     "data": {
      "text/plain": [
       "(500,)"
      ]
     },
     "execution_count": 20,
     "metadata": {},
     "output_type": "execute_result"
    }
   ],
   "source": [
    "t.shape"
   ]
  },
  {
   "cell_type": "markdown",
   "metadata": {},
   "source": [
    "## 訓練データと検証データに分割\n",
    "- 訓練データ７割\n",
    "- train_x, val_xについて正規化（/255）をする"
   ]
  },
  {
   "cell_type": "code",
   "execution_count": 21,
   "metadata": {},
   "outputs": [],
   "source": [
    "from sklearn.model_selection import train_test_split\n",
    "\n",
    "train_x, val_x, train_t, val_t = train_test_split(x, t, test_size=0.3, random_state=0)"
   ]
  },
  {
   "cell_type": "code",
   "execution_count": 22,
   "metadata": {},
   "outputs": [],
   "source": [
    "train_x = train_x/255\n",
    "val_x = val_x/255"
   ]
  },
  {
   "cell_type": "markdown",
   "metadata": {},
   "source": [
    "### モデルの構築"
   ]
  },
  {
   "cell_type": "code",
   "execution_count": 23,
   "metadata": {},
   "outputs": [],
   "source": [
    "import os\n",
    "import random\n",
    "\n",
    "\n",
    "def reset_seed(seed=0):\n",
    "\n",
    "    os.environ['PYTHONHASHSEED'] = '0'\n",
    "    random.seed(seed) #　random関数のシードを固定\n",
    "    np.random.seed(seed) #numpyのシードを固定\n",
    "    tf.random.set_seed(seed) #tensorflowのシードを固定"
   ]
  },
  {
   "cell_type": "code",
   "execution_count": 24,
   "metadata": {},
   "outputs": [],
   "source": [
    "from tensorflow.keras import models, layers"
   ]
  },
  {
   "cell_type": "code",
   "execution_count": 25,
   "metadata": {},
   "outputs": [],
   "source": [
    "# シードの固定\n",
    "reset_seed(0)\n",
    "\n",
    "# モデルのインスタンス化\n",
    "model = models.Sequential()\n",
    "\n",
    "# モデルの構築\n",
    "model.add(layers.Conv2D(3, (3, 3), activation='relu', input_shape=(224, 224, 3), padding='same'))\n",
    "model.add(layers.BatchNormalization())\n",
    "model.add(layers.MaxPooling2D((2, 2)))\n",
    "model.add(layers.Conv2D(3, (3, 3), activation='relu', padding='same'))\n",
    "model.add(layers.BatchNormalization())\n",
    "model.add(layers.MaxPooling2D((2, 2)))\n",
    "model.add(layers.Conv2D(12, (3, 3), activation='relu', padding='same'))\n",
    "model.add(layers.BatchNormalization())\n",
    "model.add(layers.MaxPooling2D((2, 2)))\n",
    "model.add(layers.Conv2D(12, (3, 3), activation='relu', padding='same'))\n",
    "model.add(layers.BatchNormalization())\n",
    "model.add(layers.MaxPooling2D((2, 2)))\n",
    "model.add(layers.Conv2D(12, (3, 3), activation='relu', padding='same'))\n",
    "model.add(layers.BatchNormalization())\n",
    "model.add(layers.MaxPooling2D((2, 2)))\n",
    "\n",
    "\n",
    "model.add(layers.Flatten()) #ピクセルのフラット化。畳み込み層から全結合層へつなぐときに必ず入れる。\n",
    "model.add(layers.Dense(8, activation='relu'))\n",
    "model.add(layers.BatchNormalization())\n",
    "model.add(layers.Dense(5, activation='relu'))\n",
    "model.add(layers.BatchNormalization())\n",
    "model.add(layers.Dense(2, activation='softmax'))\n",
    "\n",
    "# optimizer の設定\n",
    "optimizer = keras.optimizers.Adam(lr=0.005)\n",
    "\n",
    "#モデルのコンパイル\n",
    "model.compile(loss='sparse_categorical_crossentropy', optimizer=optimizer, metrics=['accuracy'])"
   ]
  },
  {
   "cell_type": "code",
   "execution_count": 26,
   "metadata": {},
   "outputs": [
    {
     "name": "stdout",
     "output_type": "stream",
     "text": [
      "Train on 350 samples, validate on 150 samples\n",
      "Epoch 1/30\n",
      "350/350 [==============================] - 4s 11ms/sample - loss: 0.7690 - accuracy: 0.5600 - val_loss: 0.6946 - val_accuracy: 0.5133\n",
      "Epoch 2/30\n",
      "350/350 [==============================] - 1s 2ms/sample - loss: 0.6060 - accuracy: 0.6629 - val_loss: 0.6886 - val_accuracy: 0.5200\n",
      "Epoch 3/30\n",
      "350/350 [==============================] - 1s 2ms/sample - loss: 0.5389 - accuracy: 0.7343 - val_loss: 0.6924 - val_accuracy: 0.5133\n",
      "Epoch 4/30\n",
      "350/350 [==============================] - 1s 2ms/sample - loss: 0.4873 - accuracy: 0.7629 - val_loss: 0.7155 - val_accuracy: 0.5067\n",
      "Epoch 5/30\n",
      "350/350 [==============================] - 1s 2ms/sample - loss: 0.4133 - accuracy: 0.8200 - val_loss: 0.7403 - val_accuracy: 0.5067\n",
      "Epoch 6/30\n",
      "350/350 [==============================] - 1s 2ms/sample - loss: 0.4162 - accuracy: 0.8200 - val_loss: 0.7644 - val_accuracy: 0.5000\n",
      "Epoch 7/30\n",
      "350/350 [==============================] - 1s 2ms/sample - loss: 0.4014 - accuracy: 0.8343 - val_loss: 0.9333 - val_accuracy: 0.5133\n",
      "Epoch 8/30\n",
      "350/350 [==============================] - 1s 2ms/sample - loss: 0.3095 - accuracy: 0.8971 - val_loss: 0.9736 - val_accuracy: 0.4867\n",
      "Epoch 9/30\n",
      "350/350 [==============================] - 1s 2ms/sample - loss: 0.3472 - accuracy: 0.8771 - val_loss: 0.9336 - val_accuracy: 0.5200\n",
      "Epoch 10/30\n",
      "350/350 [==============================] - 1s 2ms/sample - loss: 0.2358 - accuracy: 0.9086 - val_loss: 1.4571 - val_accuracy: 0.5200\n",
      "Epoch 11/30\n",
      "350/350 [==============================] - 1s 2ms/sample - loss: 0.2333 - accuracy: 0.9171 - val_loss: 1.4659 - val_accuracy: 0.5133\n",
      "Epoch 12/30\n",
      "350/350 [==============================] - 1s 2ms/sample - loss: 0.1833 - accuracy: 0.9286 - val_loss: 1.9490 - val_accuracy: 0.5133\n",
      "Epoch 13/30\n",
      "350/350 [==============================] - 1s 2ms/sample - loss: 0.2631 - accuracy: 0.8857 - val_loss: 0.8944 - val_accuracy: 0.6067\n",
      "Epoch 14/30\n",
      "350/350 [==============================] - 1s 2ms/sample - loss: 0.2948 - accuracy: 0.8857 - val_loss: 0.8939 - val_accuracy: 0.6400\n",
      "Epoch 15/30\n",
      "350/350 [==============================] - 1s 2ms/sample - loss: 0.2856 - accuracy: 0.8686 - val_loss: 0.9027 - val_accuracy: 0.6067\n",
      "Epoch 16/30\n",
      "350/350 [==============================] - 1s 2ms/sample - loss: 0.2790 - accuracy: 0.8857 - val_loss: 1.3236 - val_accuracy: 0.5933\n",
      "Epoch 17/30\n",
      "350/350 [==============================] - 1s 2ms/sample - loss: 0.2383 - accuracy: 0.9057 - val_loss: 1.0677 - val_accuracy: 0.6400\n",
      "Epoch 18/30\n",
      "350/350 [==============================] - 1s 2ms/sample - loss: 0.1165 - accuracy: 0.9686 - val_loss: 1.1520 - val_accuracy: 0.6333\n",
      "Epoch 19/30\n",
      "350/350 [==============================] - 1s 2ms/sample - loss: 0.1086 - accuracy: 0.9686 - val_loss: 1.1546 - val_accuracy: 0.6067\n",
      "Epoch 20/30\n",
      "350/350 [==============================] - 1s 2ms/sample - loss: 0.1062 - accuracy: 0.9657 - val_loss: 1.1714 - val_accuracy: 0.6333\n",
      "Epoch 21/30\n",
      "350/350 [==============================] - 1s 2ms/sample - loss: 0.1346 - accuracy: 0.9486 - val_loss: 1.3177 - val_accuracy: 0.6200\n",
      "Epoch 22/30\n",
      "350/350 [==============================] - 1s 2ms/sample - loss: 0.1429 - accuracy: 0.9400 - val_loss: 1.1296 - val_accuracy: 0.6200\n",
      "Epoch 23/30\n",
      "350/350 [==============================] - 1s 2ms/sample - loss: 0.1448 - accuracy: 0.9486 - val_loss: 0.9661 - val_accuracy: 0.6800\n",
      "Epoch 24/30\n",
      "350/350 [==============================] - 1s 2ms/sample - loss: 0.0710 - accuracy: 0.9800 - val_loss: 1.0814 - val_accuracy: 0.6867\n",
      "Epoch 25/30\n",
      "350/350 [==============================] - 1s 2ms/sample - loss: 0.1021 - accuracy: 0.9714 - val_loss: 1.0993 - val_accuracy: 0.6467\n",
      "Epoch 26/30\n",
      "350/350 [==============================] - 1s 2ms/sample - loss: 0.1661 - accuracy: 0.9400 - val_loss: 1.0376 - val_accuracy: 0.6400\n",
      "Epoch 27/30\n",
      "350/350 [==============================] - 1s 2ms/sample - loss: 0.3219 - accuracy: 0.8714 - val_loss: 1.2529 - val_accuracy: 0.5867\n",
      "Epoch 28/30\n",
      "350/350 [==============================] - 1s 2ms/sample - loss: 0.2373 - accuracy: 0.9143 - val_loss: 1.0769 - val_accuracy: 0.6733\n",
      "Epoch 29/30\n",
      "350/350 [==============================] - 1s 2ms/sample - loss: 0.1427 - accuracy: 0.9514 - val_loss: 1.3535 - val_accuracy: 0.6467\n",
      "Epoch 30/30\n",
      "350/350 [==============================] - 1s 2ms/sample - loss: 0.1284 - accuracy: 0.9514 - val_loss: 1.1690 - val_accuracy: 0.6533\n"
     ]
    }
   ],
   "source": [
    "#学習の詳細設定\n",
    "batch_size=16\n",
    "epochs=30\n",
    "\n",
    "#学習の実行\n",
    "hist = model.fit(train_x, train_t, batch_size=batch_size, epochs=epochs, verbose=1, validation_data=(val_x, val_t))"
   ]
  },
  {
   "cell_type": "code",
   "execution_count": 27,
   "metadata": {},
   "outputs": [],
   "source": [
    "results = pd.DataFrame(hist.history)"
   ]
  },
  {
   "cell_type": "code",
   "execution_count": 28,
   "metadata": {},
   "outputs": [
    {
     "data": {
      "text/plain": [
       "<matplotlib.axes._subplots.AxesSubplot at 0x7f55f0214470>"
      ]
     },
     "execution_count": 28,
     "metadata": {},
     "output_type": "execute_result"
    },
    {
     "data": {
      "image/png": "[encoded data removed]",
      "text/plain": [
       "<Figure size 432x288 with 1 Axes>"
      ]
     },
     "metadata": {
      "needs_background": "light"
     },
     "output_type": "display_data"
    }
   ],
   "source": [
    "results[['accuracy', 'val_accuracy']].plot()"
   ]
  },
  {
   "cell_type": "code",
   "execution_count": null,
   "metadata": {},
   "outputs": [],
   "source": []
  },
  {
   "cell_type": "code",
   "execution_count": null,
   "metadata": {},
   "outputs": [],
   "source": []
  }
 ],
 "metadata": {
  "kernelspec": {
   "display_name": "Python 3",
   "language": "python",
   "name": "python3"
  },
  "language_info": {
   "codemirror_mode": {
    "name": "ipython",
    "version": 3
   },
   "file_extension": ".py",
   "mimetype": "text/x-python",
   "name": "python",
   "nbconvert_exporter": "python",
   "pygments_lexer": "ipython3",
   "version": "3.7.6"
  }
 },
 "nbformat": 4,
 "nbformat_minor": 4
}
